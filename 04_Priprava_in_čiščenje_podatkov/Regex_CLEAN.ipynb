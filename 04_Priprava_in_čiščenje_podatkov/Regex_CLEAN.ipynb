{
 "cells": [
  {
   "cell_type": "markdown",
   "id": "69294d6d",
   "metadata": {},
   "source": [
    "# Regex in Pandas"
   ]
  },
  {
   "cell_type": "code",
   "execution_count": 2,
   "id": "117ac322",
   "metadata": {},
   "outputs": [],
   "source": [
    "import re"
   ]
  },
  {
   "cell_type": "code",
   "execution_count": 3,
   "id": "61362037",
   "metadata": {},
   "outputs": [
    {
     "name": "stdout",
     "output_type": "stream",
     "text": [
      "<re.Match object; span=(1, 4), match='and'>\n"
     ]
    }
   ],
   "source": [
    "pattern = \"and\"\n",
    "text = \"hand\"\n",
    "\n",
    "m = re.search(pattern, text)\n",
    "print(m)"
   ]
  },
  {
   "cell_type": "code",
   "execution_count": 4,
   "id": "5084efd1",
   "metadata": {},
   "outputs": [
    {
     "name": "stdout",
     "output_type": "stream",
     "text": [
      "None\n"
     ]
    }
   ],
   "source": [
    "pattern = \"on\"\n",
    "text = \"hand\"\n",
    "\n",
    "m = re.search(pattern, text)\n",
    "print(m)"
   ]
  },
  {
   "cell_type": "markdown",
   "id": "fb0a5733",
   "metadata": {},
   "source": [
    "---"
   ]
  },
  {
   "cell_type": "markdown",
   "id": "88faa27f",
   "metadata": {},
   "source": [
    "# Dataset"
   ]
  },
  {
   "cell_type": "markdown",
   "id": "47a62dca",
   "metadata": {},
   "source": [
    "<div class=\"\">\n",
    "\n",
    "Za dataset bomo uporabili [Hacker News stories](https://www.kaggle.com/hacker-news/hacker-news-posts), ki vsebuje informacije o člankih iz različnih spletnih portalov, od septembra 2015 do septembra 2016. Stolpci so sledeči:   \n",
    "* `id`: id od članka\n",
    "* `title`: naslov članka\n",
    "* `url`: url članka\n",
    "* `num_points`: število upvotov\n",
    "* `num_comments`: število komentarjev na članku\n",
    "* `author`: usernam osebe, ki je spisala članek\n",
    "* `created_at`: datetime, kdaj je bil članek objavljen (Eastern Time in US)\n",
    "</div>"
   ]
  },
  {
   "cell_type": "code",
   "execution_count": 5,
   "id": "fa1c2bda",
   "metadata": {},
   "outputs": [],
   "source": [
    "import pandas as pd"
   ]
  },
  {
   "cell_type": "code",
   "execution_count": 7,
   "id": "c5c49ba1",
   "metadata": {},
   "outputs": [
    {
     "name": "stdout",
     "output_type": "stream",
     "text": [
      "<class 'pandas.core.frame.DataFrame'>\n",
      "RangeIndex: 20099 entries, 0 to 20098\n",
      "Data columns (total 7 columns):\n",
      " #   Column        Non-Null Count  Dtype \n",
      "---  ------        --------------  ----- \n",
      " 0   id            20099 non-null  int64 \n",
      " 1   title         20099 non-null  object\n",
      " 2   url           17659 non-null  object\n",
      " 3   num_points    20099 non-null  int64 \n",
      " 4   num_comments  20099 non-null  int64 \n",
      " 5   author        20099 non-null  object\n",
      " 6   created_at    20099 non-null  object\n",
      "dtypes: int64(3), object(4)\n",
      "memory usage: 1.1+ MB\n",
      "None\n"
     ]
    },
    {
     "data": {
      "text/html": [
       "<div>\n",
       "<style scoped>\n",
       "    .dataframe tbody tr th:only-of-type {\n",
       "        vertical-align: middle;\n",
       "    }\n",
       "\n",
       "    .dataframe tbody tr th {\n",
       "        vertical-align: top;\n",
       "    }\n",
       "\n",
       "    .dataframe thead th {\n",
       "        text-align: right;\n",
       "    }\n",
       "</style>\n",
       "<table border=\"1\" class=\"dataframe\">\n",
       "  <thead>\n",
       "    <tr style=\"text-align: right;\">\n",
       "      <th></th>\n",
       "      <th>id</th>\n",
       "      <th>title</th>\n",
       "      <th>url</th>\n",
       "      <th>num_points</th>\n",
       "      <th>num_comments</th>\n",
       "      <th>author</th>\n",
       "      <th>created_at</th>\n",
       "    </tr>\n",
       "  </thead>\n",
       "  <tbody>\n",
       "    <tr>\n",
       "      <th>0</th>\n",
       "      <td>12224879</td>\n",
       "      <td>Interactive Dynamic Video</td>\n",
       "      <td>http://www.interactivedynamicvideo.com/</td>\n",
       "      <td>386</td>\n",
       "      <td>52</td>\n",
       "      <td>ne0phyte</td>\n",
       "      <td>8/4/2016 11:52</td>\n",
       "    </tr>\n",
       "    <tr>\n",
       "      <th>1</th>\n",
       "      <td>11964716</td>\n",
       "      <td>Florida DJs May Face Felony for April Fools' W...</td>\n",
       "      <td>http://www.thewire.com/entertainment/2013/04/f...</td>\n",
       "      <td>2</td>\n",
       "      <td>1</td>\n",
       "      <td>vezycash</td>\n",
       "      <td>6/23/2016 22:20</td>\n",
       "    </tr>\n",
       "    <tr>\n",
       "      <th>2</th>\n",
       "      <td>11919867</td>\n",
       "      <td>Technology ventures: From Idea to Enterprise</td>\n",
       "      <td>https://www.amazon.com/Technology-Ventures-Ent...</td>\n",
       "      <td>3</td>\n",
       "      <td>1</td>\n",
       "      <td>hswarna</td>\n",
       "      <td>6/17/2016 0:01</td>\n",
       "    </tr>\n",
       "    <tr>\n",
       "      <th>3</th>\n",
       "      <td>10301696</td>\n",
       "      <td>Note by Note: The Making of Steinway L1037 (2007)</td>\n",
       "      <td>http://www.nytimes.com/2007/11/07/movies/07ste...</td>\n",
       "      <td>8</td>\n",
       "      <td>2</td>\n",
       "      <td>walterbell</td>\n",
       "      <td>9/30/2015 4:12</td>\n",
       "    </tr>\n",
       "    <tr>\n",
       "      <th>4</th>\n",
       "      <td>10482257</td>\n",
       "      <td>Title II kills investment? Comcast and other I...</td>\n",
       "      <td>http://arstechnica.com/business/2015/10/comcas...</td>\n",
       "      <td>53</td>\n",
       "      <td>22</td>\n",
       "      <td>Deinos</td>\n",
       "      <td>10/31/2015 9:48</td>\n",
       "    </tr>\n",
       "  </tbody>\n",
       "</table>\n",
       "</div>"
      ],
      "text/plain": [
       "         id                                              title  \\\n",
       "0  12224879                          Interactive Dynamic Video   \n",
       "1  11964716  Florida DJs May Face Felony for April Fools' W...   \n",
       "2  11919867       Technology ventures: From Idea to Enterprise   \n",
       "3  10301696  Note by Note: The Making of Steinway L1037 (2007)   \n",
       "4  10482257  Title II kills investment? Comcast and other I...   \n",
       "\n",
       "                                                 url  num_points  \\\n",
       "0            http://www.interactivedynamicvideo.com/         386   \n",
       "1  http://www.thewire.com/entertainment/2013/04/f...           2   \n",
       "2  https://www.amazon.com/Technology-Ventures-Ent...           3   \n",
       "3  http://www.nytimes.com/2007/11/07/movies/07ste...           8   \n",
       "4  http://arstechnica.com/business/2015/10/comcas...          53   \n",
       "\n",
       "   num_comments      author       created_at  \n",
       "0            52    ne0phyte   8/4/2016 11:52  \n",
       "1             1    vezycash  6/23/2016 22:20  \n",
       "2             1     hswarna   6/17/2016 0:01  \n",
       "3             2  walterbell   9/30/2015 4:12  \n",
       "4            22      Deinos  10/31/2015 9:48  "
      ]
     },
     "execution_count": 7,
     "metadata": {},
     "output_type": "execute_result"
    }
   ],
   "source": [
    "hn = pd.read_csv('data/hacker_news.csv')\n",
    "print(hn.info())\n",
    "hn.head()"
   ]
  },
  {
   "cell_type": "markdown",
   "id": "06c615cd",
   "metadata": {},
   "source": [
    "# Finding specific words"
   ]
  },
  {
   "cell_type": "code",
   "execution_count": 9,
   "id": "373da671",
   "metadata": {},
   "outputs": [
    {
     "data": {
      "text/html": [
       "<div>\n",
       "<style scoped>\n",
       "    .dataframe tbody tr th:only-of-type {\n",
       "        vertical-align: middle;\n",
       "    }\n",
       "\n",
       "    .dataframe tbody tr th {\n",
       "        vertical-align: top;\n",
       "    }\n",
       "\n",
       "    .dataframe thead th {\n",
       "        text-align: right;\n",
       "    }\n",
       "</style>\n",
       "<table border=\"1\" class=\"dataframe\">\n",
       "  <thead>\n",
       "    <tr style=\"text-align: right;\">\n",
       "      <th></th>\n",
       "      <th>id</th>\n",
       "      <th>title</th>\n",
       "      <th>url</th>\n",
       "      <th>num_points</th>\n",
       "      <th>num_comments</th>\n",
       "      <th>author</th>\n",
       "      <th>created_at</th>\n",
       "    </tr>\n",
       "  </thead>\n",
       "  <tbody>\n",
       "    <tr>\n",
       "      <th>765</th>\n",
       "      <td>12117140</td>\n",
       "      <td>IronPython 3 (python for .net) development res...</td>\n",
       "      <td>https://www.reddit.com/r/Python/comments/4tbhw...</td>\n",
       "      <td>3</td>\n",
       "      <td>1</td>\n",
       "      <td>tanlermin</td>\n",
       "      <td>7/18/2016 18:34</td>\n",
       "    </tr>\n",
       "    <tr>\n",
       "      <th>6129</th>\n",
       "      <td>10512775</td>\n",
       "      <td>Learn data science in python by taking online ...</td>\n",
       "      <td>http://www.dezyre.com/data-science-in-python/36</td>\n",
       "      <td>1</td>\n",
       "      <td>1</td>\n",
       "      <td>shankar251289</td>\n",
       "      <td>11/5/2015 11:34</td>\n",
       "    </tr>\n",
       "    <tr>\n",
       "      <th>6711</th>\n",
       "      <td>11328646</td>\n",
       "      <td>Show HN: Dplython, dplyr data manipulation for...</td>\n",
       "      <td>https://github.com/dodger487/dplython</td>\n",
       "      <td>11</td>\n",
       "      <td>1</td>\n",
       "      <td>capybara</td>\n",
       "      <td>3/21/2016 15:18</td>\n",
       "    </tr>\n",
       "    <tr>\n",
       "      <th>7979</th>\n",
       "      <td>10993953</td>\n",
       "      <td>Kickstarter for funding Micropython port to ES...</td>\n",
       "      <td>https://www.kickstarter.com/projects/214379695...</td>\n",
       "      <td>98</td>\n",
       "      <td>41</td>\n",
       "      <td>Sfabris</td>\n",
       "      <td>1/29/2016 7:16</td>\n",
       "    </tr>\n",
       "    <tr>\n",
       "      <th>13218</th>\n",
       "      <td>12095313</td>\n",
       "      <td>DQN for Beginners in 200 lines of python code ...</td>\n",
       "      <td>https://yanpanlau.github.io/2016/07/10/FlappyB...</td>\n",
       "      <td>5</td>\n",
       "      <td>1</td>\n",
       "      <td>yanpanlau</td>\n",
       "      <td>7/14/2016 16:40</td>\n",
       "    </tr>\n",
       "    <tr>\n",
       "      <th>13575</th>\n",
       "      <td>11269629</td>\n",
       "      <td>Show HN: Venv2docker  create a docker image fr...</td>\n",
       "      <td>https://github.com/Markbnj/venv2docker</td>\n",
       "      <td>8</td>\n",
       "      <td>2</td>\n",
       "      <td>markbnj</td>\n",
       "      <td>3/11/2016 21:20</td>\n",
       "    </tr>\n",
       "    <tr>\n",
       "      <th>14004</th>\n",
       "      <td>12200724</td>\n",
       "      <td>EasyMake  one python file instead tons of Make...</td>\n",
       "      <td>https://github.com/l4l/EasyMake</td>\n",
       "      <td>1</td>\n",
       "      <td>3</td>\n",
       "      <td>kitsu</td>\n",
       "      <td>8/1/2016 7:29</td>\n",
       "    </tr>\n",
       "    <tr>\n",
       "      <th>15784</th>\n",
       "      <td>11008512</td>\n",
       "      <td>let in python (2014)</td>\n",
       "      <td>https://nvbn.github.io/2014/09/25/let-statemen...</td>\n",
       "      <td>1</td>\n",
       "      <td>2</td>\n",
       "      <td>hatmatrix</td>\n",
       "      <td>1/31/2016 22:43</td>\n",
       "    </tr>\n",
       "    <tr>\n",
       "      <th>16026</th>\n",
       "      <td>12238517</td>\n",
       "      <td>Ptpython  better than ipython or bpython?</td>\n",
       "      <td>http://terriblecode.com/why-ptpython-is-the-on...</td>\n",
       "      <td>1</td>\n",
       "      <td>1</td>\n",
       "      <td>ausjke</td>\n",
       "      <td>8/6/2016 15:55</td>\n",
       "    </tr>\n",
       "    <tr>\n",
       "      <th>18421</th>\n",
       "      <td>12027874</td>\n",
       "      <td>Show HN: Stack overflow command line client ad...</td>\n",
       "      <td>https://github.com/gautamkrishnar/socli</td>\n",
       "      <td>1</td>\n",
       "      <td>1</td>\n",
       "      <td>gautamkrishnar</td>\n",
       "      <td>7/3/2016 22:12</td>\n",
       "    </tr>\n",
       "    <tr>\n",
       "      <th>18809</th>\n",
       "      <td>11191696</td>\n",
       "      <td>The origins of the class Meta idiom in python</td>\n",
       "      <td>http://mapleoin.github.io/perma/python-class-meta</td>\n",
       "      <td>6</td>\n",
       "      <td>1</td>\n",
       "      <td>mapleoin</td>\n",
       "      <td>2/28/2016 18:09</td>\n",
       "    </tr>\n",
       "    <tr>\n",
       "      <th>19356</th>\n",
       "      <td>10593520</td>\n",
       "      <td>Crypto and SSL toolkit for python (M2Crypto)</td>\n",
       "      <td>https://gitlab.com/m2crypto/m2crypto</td>\n",
       "      <td>1</td>\n",
       "      <td>1</td>\n",
       "      <td>kevindeasis</td>\n",
       "      <td>11/19/2015 8:41</td>\n",
       "    </tr>\n",
       "  </tbody>\n",
       "</table>\n",
       "</div>"
      ],
      "text/plain": [
       "             id                                              title  \\\n",
       "765    12117140  IronPython 3 (python for .net) development res...   \n",
       "6129   10512775  Learn data science in python by taking online ...   \n",
       "6711   11328646  Show HN: Dplython, dplyr data manipulation for...   \n",
       "7979   10993953  Kickstarter for funding Micropython port to ES...   \n",
       "13218  12095313  DQN for Beginners in 200 lines of python code ...   \n",
       "13575  11269629  Show HN: Venv2docker  create a docker image fr...   \n",
       "14004  12200724  EasyMake  one python file instead tons of Make...   \n",
       "15784  11008512                               let in python (2014)   \n",
       "16026  12238517          Ptpython  better than ipython or bpython?   \n",
       "18421  12027874  Show HN: Stack overflow command line client ad...   \n",
       "18809  11191696      The origins of the class Meta idiom in python   \n",
       "19356  10593520       Crypto and SSL toolkit for python (M2Crypto)   \n",
       "\n",
       "                                                     url  num_points  \\\n",
       "765    https://www.reddit.com/r/Python/comments/4tbhw...           3   \n",
       "6129     http://www.dezyre.com/data-science-in-python/36           1   \n",
       "6711               https://github.com/dodger487/dplython          11   \n",
       "7979   https://www.kickstarter.com/projects/214379695...          98   \n",
       "13218  https://yanpanlau.github.io/2016/07/10/FlappyB...           5   \n",
       "13575             https://github.com/Markbnj/venv2docker           8   \n",
       "14004                    https://github.com/l4l/EasyMake           1   \n",
       "15784  https://nvbn.github.io/2014/09/25/let-statemen...           1   \n",
       "16026  http://terriblecode.com/why-ptpython-is-the-on...           1   \n",
       "18421            https://github.com/gautamkrishnar/socli           1   \n",
       "18809  http://mapleoin.github.io/perma/python-class-meta           6   \n",
       "19356               https://gitlab.com/m2crypto/m2crypto           1   \n",
       "\n",
       "       num_comments          author       created_at  \n",
       "765               1       tanlermin  7/18/2016 18:34  \n",
       "6129              1   shankar251289  11/5/2015 11:34  \n",
       "6711              1        capybara  3/21/2016 15:18  \n",
       "7979             41         Sfabris   1/29/2016 7:16  \n",
       "13218             1       yanpanlau  7/14/2016 16:40  \n",
       "13575             2         markbnj  3/11/2016 21:20  \n",
       "14004             3           kitsu    8/1/2016 7:29  \n",
       "15784             2       hatmatrix  1/31/2016 22:43  \n",
       "16026             1          ausjke   8/6/2016 15:55  \n",
       "18421             1  gautamkrishnar   7/3/2016 22:12  \n",
       "18809             1        mapleoin  2/28/2016 18:09  \n",
       "19356             1     kevindeasis  11/19/2015 8:41  "
      ]
     },
     "execution_count": 9,
     "metadata": {},
     "output_type": "execute_result"
    }
   ],
   "source": [
    "hn[ hn[\"title\"].str.contains(\"python\") ]"
   ]
  },
  {
   "cell_type": "code",
   "execution_count": 11,
   "id": "85ae237b",
   "metadata": {},
   "outputs": [
    {
     "data": {
      "text/plain": [
       "12"
      ]
     },
     "execution_count": 11,
     "metadata": {},
     "output_type": "execute_result"
    }
   ],
   "source": [
    "hn[\"title\"].str.contains(\"python\").sum()"
   ]
  },
  {
   "cell_type": "code",
   "execution_count": 12,
   "id": "37eb19db",
   "metadata": {},
   "outputs": [
    {
     "data": {
      "text/plain": [
       "149"
      ]
     },
     "execution_count": 12,
     "metadata": {},
     "output_type": "execute_result"
    }
   ],
   "source": [
    "hn[\"title\"].str.contains(\"Python\").sum()"
   ]
  },
  {
   "cell_type": "code",
   "execution_count": 14,
   "id": "1a3c85ba",
   "metadata": {},
   "outputs": [
    {
     "data": {
      "text/html": [
       "<div>\n",
       "<style scoped>\n",
       "    .dataframe tbody tr th:only-of-type {\n",
       "        vertical-align: middle;\n",
       "    }\n",
       "\n",
       "    .dataframe tbody tr th {\n",
       "        vertical-align: top;\n",
       "    }\n",
       "\n",
       "    .dataframe thead th {\n",
       "        text-align: right;\n",
       "    }\n",
       "</style>\n",
       "<table border=\"1\" class=\"dataframe\">\n",
       "  <thead>\n",
       "    <tr style=\"text-align: right;\">\n",
       "      <th></th>\n",
       "      <th>id</th>\n",
       "      <th>title</th>\n",
       "      <th>url</th>\n",
       "      <th>num_points</th>\n",
       "      <th>num_comments</th>\n",
       "      <th>author</th>\n",
       "      <th>created_at</th>\n",
       "    </tr>\n",
       "  </thead>\n",
       "  <tbody>\n",
       "    <tr>\n",
       "      <th>102</th>\n",
       "      <td>10974870</td>\n",
       "      <td>From Python to Lua: Why We Switched</td>\n",
       "      <td>https://www.distelli.com/blog/using-lua-for-ou...</td>\n",
       "      <td>243</td>\n",
       "      <td>188</td>\n",
       "      <td>chase202</td>\n",
       "      <td>1/26/2016 18:17</td>\n",
       "    </tr>\n",
       "    <tr>\n",
       "      <th>103</th>\n",
       "      <td>11244541</td>\n",
       "      <td>Ubuntu 16.04 LTS to Ship Without Python 2</td>\n",
       "      <td>http://news.softpedia.com/news/ubuntu-16-04-lt...</td>\n",
       "      <td>2</td>\n",
       "      <td>1</td>\n",
       "      <td>_snydly</td>\n",
       "      <td>3/8/2016 10:39</td>\n",
       "    </tr>\n",
       "    <tr>\n",
       "      <th>144</th>\n",
       "      <td>10963528</td>\n",
       "      <td>Create a GUI Application Using Qt and Python i...</td>\n",
       "      <td>http://digitalpeer.com/s/c63e</td>\n",
       "      <td>21</td>\n",
       "      <td>1</td>\n",
       "      <td>zoodle</td>\n",
       "      <td>1/24/2016 19:01</td>\n",
       "    </tr>\n",
       "    <tr>\n",
       "      <th>196</th>\n",
       "      <td>10716331</td>\n",
       "      <td>How I Solved GCHQ's Xmas Card with Python and ...</td>\n",
       "      <td>http://matthewearl.github.io/2015/12/10/gchq-x...</td>\n",
       "      <td>6</td>\n",
       "      <td>1</td>\n",
       "      <td>kipi</td>\n",
       "      <td>12/11/2015 10:38</td>\n",
       "    </tr>\n",
       "    <tr>\n",
       "      <th>436</th>\n",
       "      <td>11895088</td>\n",
       "      <td>Unikernel Power Comes to Java, Node.js, Go, an...</td>\n",
       "      <td>http://www.infoworld.com/article/3082051/open-...</td>\n",
       "      <td>3</td>\n",
       "      <td>1</td>\n",
       "      <td>syslandscape</td>\n",
       "      <td>6/13/2016 16:23</td>\n",
       "    </tr>\n",
       "    <tr>\n",
       "      <th>...</th>\n",
       "      <td>...</td>\n",
       "      <td>...</td>\n",
       "      <td>...</td>\n",
       "      <td>...</td>\n",
       "      <td>...</td>\n",
       "      <td>...</td>\n",
       "      <td>...</td>\n",
       "    </tr>\n",
       "    <tr>\n",
       "      <th>19597</th>\n",
       "      <td>12061177</td>\n",
       "      <td>David Beazley  Python Concurrency from the Gro...</td>\n",
       "      <td>https://www.youtube.com/watch?v=MCs5OvhV9S4</td>\n",
       "      <td>2</td>\n",
       "      <td>1</td>\n",
       "      <td>bakery2k</td>\n",
       "      <td>7/9/2016 13:05</td>\n",
       "    </tr>\n",
       "    <tr>\n",
       "      <th>19852</th>\n",
       "      <td>10988468</td>\n",
       "      <td>Ask HN: How to automate Python apps deployment?</td>\n",
       "      <td>NaN</td>\n",
       "      <td>4</td>\n",
       "      <td>18</td>\n",
       "      <td>aalhour</td>\n",
       "      <td>1/28/2016 14:55</td>\n",
       "    </tr>\n",
       "    <tr>\n",
       "      <th>19862</th>\n",
       "      <td>11738470</td>\n",
       "      <td>Moving Away from Python 2</td>\n",
       "      <td>https://asmeurer.github.io/blog/posts/moving-a...</td>\n",
       "      <td>227</td>\n",
       "      <td>275</td>\n",
       "      <td>ngoldbaum</td>\n",
       "      <td>5/20/2016 15:14</td>\n",
       "    </tr>\n",
       "    <tr>\n",
       "      <th>19980</th>\n",
       "      <td>12524656</td>\n",
       "      <td>Python vs. Julia Observations</td>\n",
       "      <td>https://medium.com/@Jernfrost/python-vs-julia-...</td>\n",
       "      <td>2</td>\n",
       "      <td>1</td>\n",
       "      <td>blacksmythe</td>\n",
       "      <td>9/18/2016 9:54</td>\n",
       "    </tr>\n",
       "    <tr>\n",
       "      <th>19998</th>\n",
       "      <td>11735438</td>\n",
       "      <td>Show HN: Decorating: Animated pulsed for your ...</td>\n",
       "      <td>https://github.com/ryukinix/decorating</td>\n",
       "      <td>3</td>\n",
       "      <td>1</td>\n",
       "      <td>lerax</td>\n",
       "      <td>5/20/2016 3:48</td>\n",
       "    </tr>\n",
       "  </tbody>\n",
       "</table>\n",
       "<p>149 rows × 7 columns</p>\n",
       "</div>"
      ],
      "text/plain": [
       "             id                                              title  \\\n",
       "102    10974870                From Python to Lua: Why We Switched   \n",
       "103    11244541          Ubuntu 16.04 LTS to Ship Without Python 2   \n",
       "144    10963528  Create a GUI Application Using Qt and Python i...   \n",
       "196    10716331  How I Solved GCHQ's Xmas Card with Python and ...   \n",
       "436    11895088  Unikernel Power Comes to Java, Node.js, Go, an...   \n",
       "...         ...                                                ...   \n",
       "19597  12061177  David Beazley  Python Concurrency from the Gro...   \n",
       "19852  10988468    Ask HN: How to automate Python apps deployment?   \n",
       "19862  11738470                          Moving Away from Python 2   \n",
       "19980  12524656                      Python vs. Julia Observations   \n",
       "19998  11735438  Show HN: Decorating: Animated pulsed for your ...   \n",
       "\n",
       "                                                     url  num_points  \\\n",
       "102    https://www.distelli.com/blog/using-lua-for-ou...         243   \n",
       "103    http://news.softpedia.com/news/ubuntu-16-04-lt...           2   \n",
       "144                        http://digitalpeer.com/s/c63e          21   \n",
       "196    http://matthewearl.github.io/2015/12/10/gchq-x...           6   \n",
       "436    http://www.infoworld.com/article/3082051/open-...           3   \n",
       "...                                                  ...         ...   \n",
       "19597        https://www.youtube.com/watch?v=MCs5OvhV9S4           2   \n",
       "19852                                                NaN           4   \n",
       "19862  https://asmeurer.github.io/blog/posts/moving-a...         227   \n",
       "19980  https://medium.com/@Jernfrost/python-vs-julia-...           2   \n",
       "19998             https://github.com/ryukinix/decorating           3   \n",
       "\n",
       "       num_comments        author        created_at  \n",
       "102             188      chase202   1/26/2016 18:17  \n",
       "103               1       _snydly    3/8/2016 10:39  \n",
       "144               1        zoodle   1/24/2016 19:01  \n",
       "196               1          kipi  12/11/2015 10:38  \n",
       "436               1  syslandscape   6/13/2016 16:23  \n",
       "...             ...           ...               ...  \n",
       "19597             1      bakery2k    7/9/2016 13:05  \n",
       "19852            18       aalhour   1/28/2016 14:55  \n",
       "19862           275     ngoldbaum   5/20/2016 15:14  \n",
       "19980             1   blacksmythe    9/18/2016 9:54  \n",
       "19998             1         lerax    5/20/2016 3:48  \n",
       "\n",
       "[149 rows x 7 columns]"
      ]
     },
     "execution_count": 14,
     "metadata": {},
     "output_type": "execute_result"
    }
   ],
   "source": [
    "hn[ hn[\"title\"].str.contains(\"Python\") ]"
   ]
  },
  {
   "cell_type": "code",
   "execution_count": null,
   "id": "53c06320",
   "metadata": {},
   "outputs": [],
   "source": []
  },
  {
   "cell_type": "markdown",
   "id": "c3792140",
   "metadata": {},
   "source": [
    "## Sets"
   ]
  },
  {
   "cell_type": "markdown",
   "id": "51b5dc2e",
   "metadata": {},
   "source": [
    "<img src=\"./images/set_syntax_breakdown.svg\">"
   ]
  },
  {
   "cell_type": "markdown",
   "id": "775ca24c",
   "metadata": {},
   "source": [
    "<img src=\"./images/basic_match_2.svg\">"
   ]
  },
  {
   "cell_type": "code",
   "execution_count": 16,
   "id": "087bfbcb",
   "metadata": {},
   "outputs": [
    {
     "name": "stdout",
     "output_type": "stream",
     "text": [
      "160\n"
     ]
    },
    {
     "data": {
      "text/html": [
       "<div>\n",
       "<style scoped>\n",
       "    .dataframe tbody tr th:only-of-type {\n",
       "        vertical-align: middle;\n",
       "    }\n",
       "\n",
       "    .dataframe tbody tr th {\n",
       "        vertical-align: top;\n",
       "    }\n",
       "\n",
       "    .dataframe thead th {\n",
       "        text-align: right;\n",
       "    }\n",
       "</style>\n",
       "<table border=\"1\" class=\"dataframe\">\n",
       "  <thead>\n",
       "    <tr style=\"text-align: right;\">\n",
       "      <th></th>\n",
       "      <th>id</th>\n",
       "      <th>title</th>\n",
       "      <th>url</th>\n",
       "      <th>num_points</th>\n",
       "      <th>num_comments</th>\n",
       "      <th>author</th>\n",
       "      <th>created_at</th>\n",
       "    </tr>\n",
       "  </thead>\n",
       "  <tbody>\n",
       "    <tr>\n",
       "      <th>102</th>\n",
       "      <td>10974870</td>\n",
       "      <td>From Python to Lua: Why We Switched</td>\n",
       "      <td>https://www.distelli.com/blog/using-lua-for-ou...</td>\n",
       "      <td>243</td>\n",
       "      <td>188</td>\n",
       "      <td>chase202</td>\n",
       "      <td>1/26/2016 18:17</td>\n",
       "    </tr>\n",
       "    <tr>\n",
       "      <th>103</th>\n",
       "      <td>11244541</td>\n",
       "      <td>Ubuntu 16.04 LTS to Ship Without Python 2</td>\n",
       "      <td>http://news.softpedia.com/news/ubuntu-16-04-lt...</td>\n",
       "      <td>2</td>\n",
       "      <td>1</td>\n",
       "      <td>_snydly</td>\n",
       "      <td>3/8/2016 10:39</td>\n",
       "    </tr>\n",
       "    <tr>\n",
       "      <th>144</th>\n",
       "      <td>10963528</td>\n",
       "      <td>Create a GUI Application Using Qt and Python i...</td>\n",
       "      <td>http://digitalpeer.com/s/c63e</td>\n",
       "      <td>21</td>\n",
       "      <td>1</td>\n",
       "      <td>zoodle</td>\n",
       "      <td>1/24/2016 19:01</td>\n",
       "    </tr>\n",
       "    <tr>\n",
       "      <th>196</th>\n",
       "      <td>10716331</td>\n",
       "      <td>How I Solved GCHQ's Xmas Card with Python and ...</td>\n",
       "      <td>http://matthewearl.github.io/2015/12/10/gchq-x...</td>\n",
       "      <td>6</td>\n",
       "      <td>1</td>\n",
       "      <td>kipi</td>\n",
       "      <td>12/11/2015 10:38</td>\n",
       "    </tr>\n",
       "    <tr>\n",
       "      <th>436</th>\n",
       "      <td>11895088</td>\n",
       "      <td>Unikernel Power Comes to Java, Node.js, Go, an...</td>\n",
       "      <td>http://www.infoworld.com/article/3082051/open-...</td>\n",
       "      <td>3</td>\n",
       "      <td>1</td>\n",
       "      <td>syslandscape</td>\n",
       "      <td>6/13/2016 16:23</td>\n",
       "    </tr>\n",
       "  </tbody>\n",
       "</table>\n",
       "</div>"
      ],
      "text/plain": [
       "           id                                              title  \\\n",
       "102  10974870                From Python to Lua: Why We Switched   \n",
       "103  11244541          Ubuntu 16.04 LTS to Ship Without Python 2   \n",
       "144  10963528  Create a GUI Application Using Qt and Python i...   \n",
       "196  10716331  How I Solved GCHQ's Xmas Card with Python and ...   \n",
       "436  11895088  Unikernel Power Comes to Java, Node.js, Go, an...   \n",
       "\n",
       "                                                   url  num_points  \\\n",
       "102  https://www.distelli.com/blog/using-lua-for-ou...         243   \n",
       "103  http://news.softpedia.com/news/ubuntu-16-04-lt...           2   \n",
       "144                      http://digitalpeer.com/s/c63e          21   \n",
       "196  http://matthewearl.github.io/2015/12/10/gchq-x...           6   \n",
       "436  http://www.infoworld.com/article/3082051/open-...           3   \n",
       "\n",
       "     num_comments        author        created_at  \n",
       "102           188      chase202   1/26/2016 18:17  \n",
       "103             1       _snydly    3/8/2016 10:39  \n",
       "144             1        zoodle   1/24/2016 19:01  \n",
       "196             1          kipi  12/11/2015 10:38  \n",
       "436             1  syslandscape   6/13/2016 16:23  "
      ]
     },
     "execution_count": 16,
     "metadata": {},
     "output_type": "execute_result"
    }
   ],
   "source": [
    "pattern = \"[Pp]ython\"\n",
    "\n",
    "print(hn[\"title\"].str.contains(pattern).sum())\n",
    "hn[ hn[\"title\"].str.contains(pattern) ].head()"
   ]
  },
  {
   "cell_type": "markdown",
   "id": "dc56fef6",
   "metadata": {},
   "source": [
    "----"
   ]
  },
  {
   "cell_type": "code",
   "execution_count": 18,
   "id": "c040576e",
   "metadata": {},
   "outputs": [
    {
     "name": "stdout",
     "output_type": "stream",
     "text": [
      "3\n"
     ]
    }
   ],
   "source": [
    "pattern = \"sql\"\n",
    "print(hn[\"title\"].str.contains(pattern).sum())"
   ]
  },
  {
   "cell_type": "code",
   "execution_count": 19,
   "id": "1c7a9e21",
   "metadata": {},
   "outputs": [
    {
     "name": "stdout",
     "output_type": "stream",
     "text": [
      "4\n"
     ]
    }
   ],
   "source": [
    "pattern = \"Sql\"\n",
    "print(hn[\"title\"].str.contains(pattern).sum())"
   ]
  },
  {
   "cell_type": "code",
   "execution_count": 20,
   "id": "b4b7b73b",
   "metadata": {},
   "outputs": [
    {
     "name": "stdout",
     "output_type": "stream",
     "text": [
      "103\n"
     ]
    }
   ],
   "source": [
    "pattern = \"SQL\"\n",
    "print(hn[\"title\"].str.contains(pattern).sum())"
   ]
  },
  {
   "cell_type": "code",
   "execution_count": 21,
   "id": "322e83db",
   "metadata": {},
   "outputs": [
    {
     "name": "stdout",
     "output_type": "stream",
     "text": [
      "108\n"
     ]
    }
   ],
   "source": [
    "pattern = \"[sS][qQ][lL]\"\n",
    "print(hn[\"title\"].str.contains(pattern).sum())"
   ]
  },
  {
   "cell_type": "code",
   "execution_count": null,
   "id": "79bfa8e6",
   "metadata": {},
   "outputs": [],
   "source": []
  },
  {
   "cell_type": "markdown",
   "id": "ae2173b8",
   "metadata": {},
   "source": [
    "## Quantifiers"
   ]
  },
  {
   "cell_type": "markdown",
   "id": "a9845e43",
   "metadata": {},
   "source": [
    "<img alt=\"quantifier example\" src=\"images/quantifier_example.svg\">"
   ]
  },
  {
   "cell_type": "markdown",
   "id": "d4148719",
   "metadata": {},
   "source": [
    "https://regex101.com/"
   ]
  },
  {
   "cell_type": "markdown",
   "id": "7ce3604a",
   "metadata": {},
   "source": [
    "<img alt=\"quantifiers\" src=\"images/quantifiers_numeric.svg\">"
   ]
  },
  {
   "cell_type": "markdown",
   "id": "2fcd19da",
   "metadata": {},
   "source": [
    "<img alt=\"quantifiers\" src=\"images/quantifiers_other.svg\">"
   ]
  },
  {
   "cell_type": "markdown",
   "id": "74a9e7d2",
   "metadata": {},
   "source": [
    "----"
   ]
  },
  {
   "cell_type": "code",
   "execution_count": 22,
   "id": "ed0c9342",
   "metadata": {},
   "outputs": [
    {
     "name": "stdout",
     "output_type": "stream",
     "text": [
      "86\n"
     ]
    }
   ],
   "source": [
    "# email\n",
    "# e-mail\n",
    "\n",
    "pattern = \"e-?mail\" # e-mail, email\n",
    "print(hn[\"title\"].str.contains(pattern).sum())"
   ]
  },
  {
   "cell_type": "code",
   "execution_count": null,
   "id": "0af21c43",
   "metadata": {},
   "outputs": [],
   "source": []
  },
  {
   "cell_type": "markdown",
   "id": "f5d6b420",
   "metadata": {},
   "source": [
    "## Escaping special characters"
   ]
  },
  {
   "cell_type": "code",
   "execution_count": 23,
   "id": "a1b05b99",
   "metadata": {},
   "outputs": [
    {
     "name": "stdout",
     "output_type": "stream",
     "text": [
      "18072\n"
     ]
    },
    {
     "data": {
      "text/html": [
       "<div>\n",
       "<style scoped>\n",
       "    .dataframe tbody tr th:only-of-type {\n",
       "        vertical-align: middle;\n",
       "    }\n",
       "\n",
       "    .dataframe tbody tr th {\n",
       "        vertical-align: top;\n",
       "    }\n",
       "\n",
       "    .dataframe thead th {\n",
       "        text-align: right;\n",
       "    }\n",
       "</style>\n",
       "<table border=\"1\" class=\"dataframe\">\n",
       "  <thead>\n",
       "    <tr style=\"text-align: right;\">\n",
       "      <th></th>\n",
       "      <th>id</th>\n",
       "      <th>title</th>\n",
       "      <th>url</th>\n",
       "      <th>num_points</th>\n",
       "      <th>num_comments</th>\n",
       "      <th>author</th>\n",
       "      <th>created_at</th>\n",
       "    </tr>\n",
       "  </thead>\n",
       "  <tbody>\n",
       "    <tr>\n",
       "      <th>0</th>\n",
       "      <td>12224879</td>\n",
       "      <td>Interactive Dynamic Video</td>\n",
       "      <td>http://www.interactivedynamicvideo.com/</td>\n",
       "      <td>386</td>\n",
       "      <td>52</td>\n",
       "      <td>ne0phyte</td>\n",
       "      <td>8/4/2016 11:52</td>\n",
       "    </tr>\n",
       "    <tr>\n",
       "      <th>1</th>\n",
       "      <td>11964716</td>\n",
       "      <td>Florida DJs May Face Felony for April Fools' W...</td>\n",
       "      <td>http://www.thewire.com/entertainment/2013/04/f...</td>\n",
       "      <td>2</td>\n",
       "      <td>1</td>\n",
       "      <td>vezycash</td>\n",
       "      <td>6/23/2016 22:20</td>\n",
       "    </tr>\n",
       "    <tr>\n",
       "      <th>2</th>\n",
       "      <td>11919867</td>\n",
       "      <td>Technology ventures: From Idea to Enterprise</td>\n",
       "      <td>https://www.amazon.com/Technology-Ventures-Ent...</td>\n",
       "      <td>3</td>\n",
       "      <td>1</td>\n",
       "      <td>hswarna</td>\n",
       "      <td>6/17/2016 0:01</td>\n",
       "    </tr>\n",
       "    <tr>\n",
       "      <th>3</th>\n",
       "      <td>10301696</td>\n",
       "      <td>Note by Note: The Making of Steinway L1037 (2007)</td>\n",
       "      <td>http://www.nytimes.com/2007/11/07/movies/07ste...</td>\n",
       "      <td>8</td>\n",
       "      <td>2</td>\n",
       "      <td>walterbell</td>\n",
       "      <td>9/30/2015 4:12</td>\n",
       "    </tr>\n",
       "    <tr>\n",
       "      <th>4</th>\n",
       "      <td>10482257</td>\n",
       "      <td>Title II kills investment? Comcast and other I...</td>\n",
       "      <td>http://arstechnica.com/business/2015/10/comcas...</td>\n",
       "      <td>53</td>\n",
       "      <td>22</td>\n",
       "      <td>Deinos</td>\n",
       "      <td>10/31/2015 9:48</td>\n",
       "    </tr>\n",
       "  </tbody>\n",
       "</table>\n",
       "</div>"
      ],
      "text/plain": [
       "         id                                              title  \\\n",
       "0  12224879                          Interactive Dynamic Video   \n",
       "1  11964716  Florida DJs May Face Felony for April Fools' W...   \n",
       "2  11919867       Technology ventures: From Idea to Enterprise   \n",
       "3  10301696  Note by Note: The Making of Steinway L1037 (2007)   \n",
       "4  10482257  Title II kills investment? Comcast and other I...   \n",
       "\n",
       "                                                 url  num_points  \\\n",
       "0            http://www.interactivedynamicvideo.com/         386   \n",
       "1  http://www.thewire.com/entertainment/2013/04/f...           2   \n",
       "2  https://www.amazon.com/Technology-Ventures-Ent...           3   \n",
       "3  http://www.nytimes.com/2007/11/07/movies/07ste...           8   \n",
       "4  http://arstechnica.com/business/2015/10/comcas...          53   \n",
       "\n",
       "   num_comments      author       created_at  \n",
       "0            52    ne0phyte   8/4/2016 11:52  \n",
       "1             1    vezycash  6/23/2016 22:20  \n",
       "2             1     hswarna   6/17/2016 0:01  \n",
       "3             2  walterbell   9/30/2015 4:12  \n",
       "4            22      Deinos  10/31/2015 9:48  "
      ]
     },
     "execution_count": 23,
     "metadata": {},
     "output_type": "execute_result"
    }
   ],
   "source": [
    "pattern = \"[pdf]\"\n",
    "print(hn[\"title\"].str.contains(pattern).sum())\n",
    "hn[hn[\"title\"].str.contains(pattern)].head()"
   ]
  },
  {
   "cell_type": "code",
   "execution_count": 24,
   "id": "972f7ab3",
   "metadata": {},
   "outputs": [
    {
     "name": "stdout",
     "output_type": "stream",
     "text": [
      "276\n"
     ]
    },
    {
     "data": {
      "text/html": [
       "<div>\n",
       "<style scoped>\n",
       "    .dataframe tbody tr th:only-of-type {\n",
       "        vertical-align: middle;\n",
       "    }\n",
       "\n",
       "    .dataframe tbody tr th {\n",
       "        vertical-align: top;\n",
       "    }\n",
       "\n",
       "    .dataframe thead th {\n",
       "        text-align: right;\n",
       "    }\n",
       "</style>\n",
       "<table border=\"1\" class=\"dataframe\">\n",
       "  <thead>\n",
       "    <tr style=\"text-align: right;\">\n",
       "      <th></th>\n",
       "      <th>id</th>\n",
       "      <th>title</th>\n",
       "      <th>url</th>\n",
       "      <th>num_points</th>\n",
       "      <th>num_comments</th>\n",
       "      <th>author</th>\n",
       "      <th>created_at</th>\n",
       "    </tr>\n",
       "  </thead>\n",
       "  <tbody>\n",
       "    <tr>\n",
       "      <th>66</th>\n",
       "      <td>10581844</td>\n",
       "      <td>Analysis of 114 propaganda sources from ISIS, ...</td>\n",
       "      <td>http://37.252.122.95/sites/default/files/Insid...</td>\n",
       "      <td>1</td>\n",
       "      <td>1</td>\n",
       "      <td>crosre</td>\n",
       "      <td>11/17/2015 15:53</td>\n",
       "    </tr>\n",
       "    <tr>\n",
       "      <th>159</th>\n",
       "      <td>10213207</td>\n",
       "      <td>File indexing and searching for Plan 9 [pdf]</td>\n",
       "      <td>http://lsub.org/ls/export/tags.pdf</td>\n",
       "      <td>49</td>\n",
       "      <td>11</td>\n",
       "      <td>vezzy-fnord</td>\n",
       "      <td>9/14/2015 0:19</td>\n",
       "    </tr>\n",
       "    <tr>\n",
       "      <th>162</th>\n",
       "      <td>10518372</td>\n",
       "      <td>Attack on Kunduz Trauma Centre, Afghanistan  I...</td>\n",
       "      <td>http://kunduz.msf.org/pdf/20151030_kunduz_revi...</td>\n",
       "      <td>3</td>\n",
       "      <td>1</td>\n",
       "      <td>andreasley</td>\n",
       "      <td>11/6/2015 8:28</td>\n",
       "    </tr>\n",
       "    <tr>\n",
       "      <th>445</th>\n",
       "      <td>12052321</td>\n",
       "      <td>New Directions in Cryptography by Diffie and H...</td>\n",
       "      <td>https://www-ee.stanford.edu/~hellman/publicati...</td>\n",
       "      <td>68</td>\n",
       "      <td>13</td>\n",
       "      <td>maverick_iceman</td>\n",
       "      <td>7/7/2016 21:56</td>\n",
       "    </tr>\n",
       "    <tr>\n",
       "      <th>511</th>\n",
       "      <td>11771984</td>\n",
       "      <td>Office of Inspector General's Audit of the Off...</td>\n",
       "      <td>https://cryptome.org/2016/05/state-oig-clinton...</td>\n",
       "      <td>4</td>\n",
       "      <td>1</td>\n",
       "      <td>nickysielicki</td>\n",
       "      <td>5/25/2016 18:29</td>\n",
       "    </tr>\n",
       "  </tbody>\n",
       "</table>\n",
       "</div>"
      ],
      "text/plain": [
       "           id                                              title  \\\n",
       "66   10581844  Analysis of 114 propaganda sources from ISIS, ...   \n",
       "159  10213207       File indexing and searching for Plan 9 [pdf]   \n",
       "162  10518372  Attack on Kunduz Trauma Centre, Afghanistan  I...   \n",
       "445  12052321  New Directions in Cryptography by Diffie and H...   \n",
       "511  11771984  Office of Inspector General's Audit of the Off...   \n",
       "\n",
       "                                                   url  num_points  \\\n",
       "66   http://37.252.122.95/sites/default/files/Insid...           1   \n",
       "159                 http://lsub.org/ls/export/tags.pdf          49   \n",
       "162  http://kunduz.msf.org/pdf/20151030_kunduz_revi...           3   \n",
       "445  https://www-ee.stanford.edu/~hellman/publicati...          68   \n",
       "511  https://cryptome.org/2016/05/state-oig-clinton...           4   \n",
       "\n",
       "     num_comments           author        created_at  \n",
       "66              1           crosre  11/17/2015 15:53  \n",
       "159            11      vezzy-fnord    9/14/2015 0:19  \n",
       "162             1       andreasley    11/6/2015 8:28  \n",
       "445            13  maverick_iceman    7/7/2016 21:56  \n",
       "511             1    nickysielicki   5/25/2016 18:29  "
      ]
     },
     "execution_count": 24,
     "metadata": {},
     "output_type": "execute_result"
    }
   ],
   "source": [
    "pattern = \"\\[pdf\\]\"\n",
    "print(hn[\"title\"].str.contains(pattern).sum())\n",
    "hn[hn[\"title\"].str.contains(pattern)].head()"
   ]
  },
  {
   "cell_type": "code",
   "execution_count": null,
   "id": "a6c98710",
   "metadata": {},
   "outputs": [],
   "source": []
  },
  {
   "cell_type": "code",
   "execution_count": null,
   "id": "734d826e",
   "metadata": {},
   "outputs": [],
   "source": []
  },
  {
   "cell_type": "code",
   "execution_count": null,
   "id": "343dfd48",
   "metadata": {},
   "outputs": [],
   "source": []
  },
  {
   "cell_type": "markdown",
   "id": "3d2aa075",
   "metadata": {},
   "source": [
    "# Raw strings"
   ]
  },
  {
   "cell_type": "code",
   "execution_count": 28,
   "id": "316c72c9",
   "metadata": {},
   "outputs": [
    {
     "name": "stdout",
     "output_type": "stream",
     "text": [
      "Python\b\n"
     ]
    }
   ],
   "source": [
    "print(\"Python\\b\")"
   ]
  },
  {
   "cell_type": "code",
   "execution_count": 29,
   "id": "3b1a28f1",
   "metadata": {},
   "outputs": [
    {
     "name": "stdout",
     "output_type": "stream",
     "text": [
      "Python\\b\n"
     ]
    }
   ],
   "source": [
    "print(\"Python\\\\b\")"
   ]
  },
  {
   "cell_type": "code",
   "execution_count": null,
   "id": "7a891ebf",
   "metadata": {},
   "outputs": [],
   "source": [
    "\"C:\\\\User\\\\Desktop\\\\\\\\LTFE\""
   ]
  },
  {
   "cell_type": "code",
   "execution_count": 31,
   "id": "4c8969de",
   "metadata": {},
   "outputs": [
    {
     "name": "stdout",
     "output_type": "stream",
     "text": [
      "Python\\b\n"
     ]
    }
   ],
   "source": [
    "print(r\"Python\\b\")"
   ]
  },
  {
   "cell_type": "code",
   "execution_count": null,
   "id": "f042e760",
   "metadata": {},
   "outputs": [],
   "source": []
  },
  {
   "cell_type": "markdown",
   "id": "d76198e8",
   "metadata": {},
   "source": [
    "## Character classes"
   ]
  },
  {
   "cell_type": "markdown",
   "id": "d58e208b",
   "metadata": {},
   "source": [
    "<img alt=\"character classes one\" src=\"images/character_classes_v2_1.svg\">"
   ]
  },
  {
   "cell_type": "markdown",
   "id": "7ac33b9b",
   "metadata": {},
   "source": [
    "<img alt=\"character classes two\" src=\"images/character_classes_v2_2.svg\">"
   ]
  },
  {
   "cell_type": "code",
   "execution_count": 37,
   "id": "9e20b4f2",
   "metadata": {},
   "outputs": [
    {
     "name": "stdout",
     "output_type": "stream",
     "text": [
      "444\n"
     ]
    },
    {
     "data": {
      "text/plain": [
       "array(['Analysis of 114 propaganda sources from ISIS, Jabhat al-Nusra, al-Qaeda [pdf]',\n",
       "       'Munich Gunman Got Weapon from the Darknet [German]',\n",
       "       'File indexing and searching for Plan 9 [pdf]',\n",
       "       'Attack on Kunduz Trauma Centre, Afghanistan  Initial MSF Internal Review [pdf]',\n",
       "       '[Beta] Speedtest.net  HTML5 Speed Test'], dtype=object)"
      ]
     },
     "execution_count": 37,
     "metadata": {},
     "output_type": "execute_result"
    }
   ],
   "source": [
    "pattern = r\"\\[\\w+\\]\"\n",
    "print(hn[\"title\"].str.contains(pattern).sum())\n",
    "hn[hn[\"title\"].str.contains(pattern)].iloc[:5, 1].values"
   ]
  },
  {
   "cell_type": "code",
   "execution_count": 38,
   "id": "eace218c",
   "metadata": {},
   "outputs": [
    {
     "name": "stdout",
     "output_type": "stream",
     "text": [
      "471\n"
     ]
    },
    {
     "data": {
      "text/plain": [
       "array(['Analysis of 114 propaganda sources from ISIS, Jabhat al-Nusra, al-Qaeda [pdf]',\n",
       "       'Munich Gunman Got Weapon from the Darknet [German]',\n",
       "       'File indexing and searching for Plan 9 [pdf]',\n",
       "       'Attack on Kunduz Trauma Centre, Afghanistan  Initial MSF Internal Review [pdf]',\n",
       "       '[Beta] Speedtest.net  HTML5 Speed Test'], dtype=object)"
      ]
     },
     "execution_count": 38,
     "metadata": {},
     "output_type": "execute_result"
    }
   ],
   "source": [
    "# [PHP-DEV] , [XKCD Flowchart]\n",
    "pattern = r\"\\[.+\\]\"\n",
    "print(hn[\"title\"].str.contains(pattern).sum())\n",
    "hn[hn[\"title\"].str.contains(pattern)].iloc[:5, 1].values"
   ]
  },
  {
   "cell_type": "code",
   "execution_count": null,
   "id": "41782093",
   "metadata": {},
   "outputs": [],
   "source": []
  },
  {
   "cell_type": "markdown",
   "id": "6e71a389",
   "metadata": {},
   "source": [
    "# Capture groups"
   ]
  },
  {
   "cell_type": "markdown",
   "id": "afc9e509",
   "metadata": {},
   "source": [
    "<img alt=\"capture tag text\" src=\"images/tags_syntax_breakdown_v2.svg\">"
   ]
  },
  {
   "cell_type": "code",
   "execution_count": 39,
   "id": "69afcaa5",
   "metadata": {},
   "outputs": [
    {
     "name": "stdout",
     "output_type": "stream",
     "text": [
      "471\n"
     ]
    },
    {
     "name": "stderr",
     "output_type": "stream",
     "text": [
      "C:\\Users\\ygreg\\AppData\\Local\\Temp\\ipykernel_3004\\206033515.py:3: UserWarning: This pattern is interpreted as a regular expression, and has match groups. To actually get the groups, use str.extract.\n",
      "  print(hn[\"title\"].str.contains(pattern).sum())\n",
      "C:\\Users\\ygreg\\AppData\\Local\\Temp\\ipykernel_3004\\206033515.py:4: UserWarning: This pattern is interpreted as a regular expression, and has match groups. To actually get the groups, use str.extract.\n",
      "  hn[hn[\"title\"].str.contains(pattern)].iloc[:5, 1].values\n"
     ]
    },
    {
     "data": {
      "text/plain": [
       "array(['Analysis of 114 propaganda sources from ISIS, Jabhat al-Nusra, al-Qaeda [pdf]',\n",
       "       'Munich Gunman Got Weapon from the Darknet [German]',\n",
       "       'File indexing and searching for Plan 9 [pdf]',\n",
       "       'Attack on Kunduz Trauma Centre, Afghanistan  Initial MSF Internal Review [pdf]',\n",
       "       '[Beta] Speedtest.net  HTML5 Speed Test'], dtype=object)"
      ]
     },
     "execution_count": 39,
     "metadata": {},
     "output_type": "execute_result"
    }
   ],
   "source": [
    "# [PHP-DEV] , [XKCD Flowchart]\n",
    "pattern = r\"\\[(.+)\\]\"\n",
    "print(hn[\"title\"].str.contains(pattern).sum())\n",
    "hn[hn[\"title\"].str.contains(pattern)].iloc[:5, 1].values"
   ]
  },
  {
   "cell_type": "code",
   "execution_count": 51,
   "id": "bb3779ff",
   "metadata": {},
   "outputs": [
    {
     "data": {
      "text/plain": [
       "pdf                276\n",
       "video              111\n",
       "2015                 3\n",
       "audio                3\n",
       "beta                 2\n",
       "                  ... \n",
       "Map                  1\n",
       "Live                 1\n",
       "Ksummit-Discuss      1\n",
       "JavaScript           1\n",
       "viz                  1\n",
       "Length: 79, dtype: int64"
      ]
     },
     "execution_count": 51,
     "metadata": {},
     "output_type": "execute_result"
    }
   ],
   "source": [
    "pattern = r\"\\[(.+)\\]\"\n",
    "\n",
    "hn[\"title\"].str.extract(pattern).dropna().value_counts()"
   ]
  },
  {
   "cell_type": "code",
   "execution_count": null,
   "id": "71e6854c",
   "metadata": {},
   "outputs": [],
   "source": []
  },
  {
   "cell_type": "code",
   "execution_count": null,
   "id": "878a9cb1",
   "metadata": {},
   "outputs": [],
   "source": []
  },
  {
   "cell_type": "markdown",
   "id": "c0568011",
   "metadata": {},
   "source": [
    "----"
   ]
  },
  {
   "cell_type": "markdown",
   "id": "9d601b74",
   "metadata": {},
   "source": [
    "# Regex Flags"
   ]
  },
  {
   "cell_type": "markdown",
   "id": "c726f04a",
   "metadata": {},
   "source": [
    "\n",
    "[Seznam regex zastav](https://docs.python.org/3/library/re.html#re.A)"
   ]
  },
  {
   "cell_type": "code",
   "execution_count": 55,
   "id": "4e1d9634",
   "metadata": {},
   "outputs": [
    {
     "data": {
      "text/plain": [
       "array(['Crate raises $4M seed round for its next-gen SQL database',\n",
       "       'PostgreSQL: Linux VS Windows  part 2',\n",
       "       'MemSQL (YC W11) Raises $36M Series C',\n",
       "       'The History of SQL Injection',\n",
       "       'Pentesterlab Tutorial  SQL injection to web admin console to getting a shell',\n",
       "       'Crab  SQL for your filesystem',\n",
       "       'SQLite: The art of keep it simple',\n",
       "       'Pgmemcahe :A PostgreSQL memcache functions',\n",
       "       'How to choose an in-memory NoSQL solution: Performance measuring',\n",
       "       'Show HN: Migrate  Sane database/sql migrations for Go',\n",
       "       'Postgraphql: A GraphQL schema created by reflection over a PostgreSQL schema',\n",
       "       'Outlier Detection in SQL',\n",
       "       'MI6 (SIS) Is Developing a Node.js, Angular, NoSQL, Hadoop System on Cloudera',\n",
       "       'Appropriate Uses for SQLite',\n",
       "       'Microsoft SQL Server Images Available on Google Compute Engine',\n",
       "       'Tracker: Ingesting MySQL data at scale  Part 2',\n",
       "       'SQL for NoSQL: Couchbase N1QL Tutorial',\n",
       "       'PacketQ: SQL queries for pcap files',\n",
       "       'Hacking Microsoft SQL Server Without a Password',\n",
       "       'Show HN: Embed a Search-box that converts plain English to SQL in your app'],\n",
       "      dtype=object)"
      ]
     },
     "execution_count": 55,
     "metadata": {},
     "output_type": "execute_result"
    }
   ],
   "source": [
    "import re\n",
    "# sql\n",
    "pattern = \"sql\"\n",
    "hn[hn[\"title\"].str.contains(pattern, flags=re.IGNORECASE)].head(20)[\"title\"].values"
   ]
  },
  {
   "cell_type": "code",
   "execution_count": null,
   "id": "c10aaf3e",
   "metadata": {},
   "outputs": [],
   "source": []
  },
  {
   "cell_type": "code",
   "execution_count": null,
   "id": "f3907438",
   "metadata": {},
   "outputs": [],
   "source": []
  },
  {
   "cell_type": "markdown",
   "id": "3a9a076b",
   "metadata": {},
   "source": [
    "---"
   ]
  },
  {
   "cell_type": "markdown",
   "id": "c59ffce6",
   "metadata": {},
   "source": [
    "# Primer: Extracting URL parts"
   ]
  },
  {
   "cell_type": "markdown",
   "id": "9a78545e",
   "metadata": {},
   "source": [
    "<div class=\"alert alert-block alert-info not_clean\">\n",
    "<b>Vaja:</b> \n",
    "\n",
    "Iz `url` stolpca pridobite:\n",
    "* protocol\n",
    "* domain\n",
    "* page path\n",
    "    \n",
    "Tukaj bomo potrebovali 3 capture groups.\n",
    "</div>"
   ]
  },
  {
   "cell_type": "markdown",
   "id": "1a294477",
   "metadata": {},
   "source": [
    "<img alt=\"URL examples showing protocol, domain, and page path\" src=\"images/url_examples_2.svg\">"
   ]
  },
  {
   "cell_type": "code",
   "execution_count": 56,
   "id": "eecfb922",
   "metadata": {},
   "outputs": [
    {
     "data": {
      "text/plain": [
       "array(['http://www.interactivedynamicvideo.com/',\n",
       "       'http://www.thewire.com/entertainment/2013/04/florida-djs-april-fools-water-joke/63798/',\n",
       "       'https://www.amazon.com/Technology-Ventures-Enterprise-Thomas-Byers/dp/0073523429',\n",
       "       'http://www.nytimes.com/2007/11/07/movies/07stein.html?_r=0',\n",
       "       'http://arstechnica.com/business/2015/10/comcast-and-other-isps-boost-network-investment-despite-net-neutrality/',\n",
       "       nan, nan,\n",
       "       'http://firstround.com/review/shims-jigs-and-other-woodworking-concepts-to-conquer-technical-debt/',\n",
       "       'http://www.southpolestation.com/trivia/igy1/appendix.html',\n",
       "       'http://techcrunch.com/2016/03/15/crate-raises-4m-seed-round-for-its-next-gen-sql-database/'],\n",
       "      dtype=object)"
      ]
     },
     "execution_count": 56,
     "metadata": {},
     "output_type": "execute_result"
    }
   ],
   "source": [
    "urls = hn[\"url\"]\n",
    "urls.values[:10]"
   ]
  },
  {
   "cell_type": "code",
   "execution_count": 57,
   "id": "84722aa3",
   "metadata": {},
   "outputs": [
    {
     "data": {
      "text/html": [
       "<div>\n",
       "<style scoped>\n",
       "    .dataframe tbody tr th:only-of-type {\n",
       "        vertical-align: middle;\n",
       "    }\n",
       "\n",
       "    .dataframe tbody tr th {\n",
       "        vertical-align: top;\n",
       "    }\n",
       "\n",
       "    .dataframe thead th {\n",
       "        text-align: right;\n",
       "    }\n",
       "</style>\n",
       "<table border=\"1\" class=\"dataframe\">\n",
       "  <thead>\n",
       "    <tr style=\"text-align: right;\">\n",
       "      <th></th>\n",
       "      <th>0</th>\n",
       "      <th>1</th>\n",
       "      <th>2</th>\n",
       "    </tr>\n",
       "  </thead>\n",
       "  <tbody>\n",
       "    <tr>\n",
       "      <th>0</th>\n",
       "      <td>http</td>\n",
       "      <td>www.interactivedynamicvideo.com</td>\n",
       "      <td></td>\n",
       "    </tr>\n",
       "    <tr>\n",
       "      <th>1</th>\n",
       "      <td>http</td>\n",
       "      <td>www.thewire.com</td>\n",
       "      <td>entertainment/2013/04/florida-djs-april-fools-...</td>\n",
       "    </tr>\n",
       "    <tr>\n",
       "      <th>2</th>\n",
       "      <td>https</td>\n",
       "      <td>www.amazon.com</td>\n",
       "      <td>Technology-Ventures-Enterprise-Thomas-Byers/dp...</td>\n",
       "    </tr>\n",
       "    <tr>\n",
       "      <th>3</th>\n",
       "      <td>http</td>\n",
       "      <td>www.nytimes.com</td>\n",
       "      <td>2007/11/07/movies/07stein.html?_r=0</td>\n",
       "    </tr>\n",
       "    <tr>\n",
       "      <th>4</th>\n",
       "      <td>http</td>\n",
       "      <td>arstechnica.com</td>\n",
       "      <td>business/2015/10/comcast-and-other-isps-boost-...</td>\n",
       "    </tr>\n",
       "    <tr>\n",
       "      <th>...</th>\n",
       "      <td>...</td>\n",
       "      <td>...</td>\n",
       "      <td>...</td>\n",
       "    </tr>\n",
       "    <tr>\n",
       "      <th>20094</th>\n",
       "      <td>https</td>\n",
       "      <td>puri.sm</td>\n",
       "      <td>philosophy/how-purism-avoids-intels-active-man...</td>\n",
       "    </tr>\n",
       "    <tr>\n",
       "      <th>20095</th>\n",
       "      <td>https</td>\n",
       "      <td>medium.com</td>\n",
       "      <td>@zreitano/the-yc-application-broken-down-and-t...</td>\n",
       "    </tr>\n",
       "    <tr>\n",
       "      <th>20096</th>\n",
       "      <td>http</td>\n",
       "      <td>blog.darknedgy.net</td>\n",
       "      <td>technology/2016/01/01/0/</td>\n",
       "    </tr>\n",
       "    <tr>\n",
       "      <th>20097</th>\n",
       "      <td>https</td>\n",
       "      <td>medium.com</td>\n",
       "      <td>@benjiwheeler/how-product-hunt-really-works-d8...</td>\n",
       "    </tr>\n",
       "    <tr>\n",
       "      <th>20098</th>\n",
       "      <td>https</td>\n",
       "      <td>github.com</td>\n",
       "      <td>jmcarp/robobrowser</td>\n",
       "    </tr>\n",
       "  </tbody>\n",
       "</table>\n",
       "<p>20099 rows × 3 columns</p>\n",
       "</div>"
      ],
      "text/plain": [
       "           0                                1  \\\n",
       "0       http  www.interactivedynamicvideo.com   \n",
       "1       http                  www.thewire.com   \n",
       "2      https                   www.amazon.com   \n",
       "3       http                  www.nytimes.com   \n",
       "4       http                  arstechnica.com   \n",
       "...      ...                              ...   \n",
       "20094  https                          puri.sm   \n",
       "20095  https                       medium.com   \n",
       "20096   http               blog.darknedgy.net   \n",
       "20097  https                       medium.com   \n",
       "20098  https                       github.com   \n",
       "\n",
       "                                                       2  \n",
       "0                                                         \n",
       "1      entertainment/2013/04/florida-djs-april-fools-...  \n",
       "2      Technology-Ventures-Enterprise-Thomas-Byers/dp...  \n",
       "3                    2007/11/07/movies/07stein.html?_r=0  \n",
       "4      business/2015/10/comcast-and-other-isps-boost-...  \n",
       "...                                                  ...  \n",
       "20094  philosophy/how-purism-avoids-intels-active-man...  \n",
       "20095  @zreitano/the-yc-application-broken-down-and-t...  \n",
       "20096                           technology/2016/01/01/0/  \n",
       "20097  @benjiwheeler/how-product-hunt-really-works-d8...  \n",
       "20098                                 jmcarp/robobrowser  \n",
       "\n",
       "[20099 rows x 3 columns]"
      ]
     },
     "execution_count": 57,
     "metadata": {},
     "output_type": "execute_result"
    }
   ],
   "source": [
    "pattern = r\"(.+)://([\\w\\.]+)/?(.*)\"\n",
    "urls.str.extract(pattern)"
   ]
  },
  {
   "cell_type": "code",
   "execution_count": null,
   "id": "42d13eb0",
   "metadata": {},
   "outputs": [],
   "source": []
  },
  {
   "cell_type": "markdown",
   "id": "3d9e062d",
   "metadata": {},
   "source": [
    "---"
   ]
  },
  {
   "cell_type": "code",
   "execution_count": null,
   "id": "30debc53",
   "metadata": {},
   "outputs": [],
   "source": []
  },
  {
   "cell_type": "code",
   "execution_count": null,
   "id": "dc377e76",
   "metadata": {},
   "outputs": [],
   "source": []
  }
 ],
 "metadata": {
  "kernelspec": {
   "display_name": "Python 3 (ipykernel)",
   "language": "python",
   "name": "python3"
  },
  "language_info": {
   "codemirror_mode": {
    "name": "ipython",
    "version": 3
   },
   "file_extension": ".py",
   "mimetype": "text/x-python",
   "name": "python",
   "nbconvert_exporter": "python",
   "pygments_lexer": "ipython3",
   "version": "3.10.8"
  }
 },
 "nbformat": 4,
 "nbformat_minor": 5
}
