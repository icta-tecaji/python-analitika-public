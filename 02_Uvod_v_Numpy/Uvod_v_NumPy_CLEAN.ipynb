{
 "cells": [
  {
   "cell_type": "markdown",
   "metadata": {},
   "source": [
    "# Uvod v Numpy"
   ]
  },
  {
   "cell_type": "markdown",
   "metadata": {},
   "source": [
    "## Datatypes in Python"
   ]
  },
  {
   "cell_type": "markdown",
   "metadata": {},
   "source": [
    "```C\n",
    "# Primer C:\n",
    "int x = 4;\n",
    "x = \"string;\n",
    "```"
   ]
  },
  {
   "cell_type": "code",
   "execution_count": 2,
   "metadata": {},
   "outputs": [
    {
     "name": "stdout",
     "output_type": "stream",
     "text": [
      "<class 'int'> 4\n",
      "<class 'str'> string\n"
     ]
    }
   ],
   "source": [
    "# Primer Python:\n",
    "x = 4\n",
    "print(type(x), x)\n",
    "\n",
    "x = \"string\"\n",
    "print(type(x), x)"
   ]
  },
  {
   "cell_type": "code",
   "execution_count": null,
   "metadata": {},
   "outputs": [],
   "source": []
  },
  {
   "cell_type": "markdown",
   "metadata": {},
   "source": [
    "## Integers in Python"
   ]
  },
  {
   "cell_type": "markdown",
   "metadata": {},
   "source": [
    "```C\n",
    "# Python3.4 implementation of long integer\n",
    "struct _longobject {\n",
    "    long ob_refcnt;\n",
    "    PyTypeObject *ob_type;\n",
    "    size_t ob_size;\n",
    "    long ob_digit[1];\n",
    "};\n",
    "```"
   ]
  },
  {
   "cell_type": "markdown",
   "metadata": {},
   "source": [
    "![Int in C vs int in py](./images/cint_vs_pyint.png)"
   ]
  },
  {
   "cell_type": "markdown",
   "metadata": {},
   "source": [
    "## Lists in Python"
   ]
  },
  {
   "cell_type": "code",
   "execution_count": 3,
   "metadata": {},
   "outputs": [
    {
     "name": "stdout",
     "output_type": "stream",
     "text": [
      "<class 'list'> [1, 'string', 2.3, False]\n",
      "[<class 'int'>, <class 'str'>, <class 'float'>, <class 'bool'>]\n"
     ]
    }
   ],
   "source": [
    "l = [1, \"string\", 2.3, False]\n",
    "print(type(l), l)\n",
    "datatypes = [type(i) for i in l]\n",
    "print(datatypes)"
   ]
  },
  {
   "cell_type": "markdown",
   "metadata": {},
   "source": [
    "![array_vs_list](./images/array_vs_list.png)"
   ]
  },
  {
   "cell_type": "code",
   "execution_count": 4,
   "metadata": {},
   "outputs": [
    {
     "name": "stdout",
     "output_type": "stream",
     "text": [
      "<class 'list'> [0, 1, 2, 3, 4, 5, 6]\n",
      "<class 'int'> 0\n"
     ]
    }
   ],
   "source": [
    "l = [0,1,2,3,4,5,6]\n",
    "print(type(l), l)\n",
    "print(type(l[0]), l[0])"
   ]
  },
  {
   "cell_type": "markdown",
   "metadata": {},
   "source": [
    "### Fixed-Type Arrays in Python"
   ]
  },
  {
   "cell_type": "code",
   "execution_count": 5,
   "metadata": {},
   "outputs": [
    {
     "name": "stdout",
     "output_type": "stream",
     "text": [
      "array('i', [0, 1, 2, 3, 4, 5, 6, 7, 8, 9])\n"
     ]
    },
    {
     "ename": "TypeError",
     "evalue": "'float' object cannot be interpreted as an integer",
     "output_type": "error",
     "traceback": [
      "\u001b[1;31m---------------------------------------------------------------------------\u001b[0m",
      "\u001b[1;31mTypeError\u001b[0m                                 Traceback (most recent call last)",
      "Cell \u001b[1;32mIn [5], line 7\u001b[0m\n\u001b[0;32m      4\u001b[0m A \u001b[38;5;241m=\u001b[39m array\u001b[38;5;241m.\u001b[39marray(\u001b[38;5;124m\"\u001b[39m\u001b[38;5;124mi\u001b[39m\u001b[38;5;124m\"\u001b[39m, L)\n\u001b[0;32m      5\u001b[0m \u001b[38;5;28mprint\u001b[39m(A)\n\u001b[1;32m----> 7\u001b[0m \u001b[43mA\u001b[49m\u001b[43m[\u001b[49m\u001b[38;5;241;43m0\u001b[39;49m\u001b[43m]\u001b[49m \u001b[38;5;241m=\u001b[39m \u001b[38;5;241m2.3\u001b[39m\n",
      "\u001b[1;31mTypeError\u001b[0m: 'float' object cannot be interpreted as an integer"
     ]
    }
   ],
   "source": [
    "import array\n",
    "\n",
    "L = list(range(10))\n",
    "A = array.array(\"i\", L)\n",
    "print(A)\n",
    "\n",
    "A[0] = 2.3"
   ]
  },
  {
   "cell_type": "markdown",
   "metadata": {},
   "source": [
    "# Vectorization"
   ]
  },
  {
   "cell_type": "code",
   "execution_count": 7,
   "metadata": {},
   "outputs": [
    {
     "name": "stdout",
     "output_type": "stream",
     "text": [
      "[11, 4, 11, 10, 5, 13, 8, 12]\n"
     ]
    }
   ],
   "source": [
    "my_numbers = [\n",
    "    [6,5],\n",
    "    [1,3],\n",
    "    [5,6],\n",
    "    [3,7],\n",
    "    [1,4],\n",
    "    [5,8],\n",
    "    [3,5],\n",
    "    [8,4]\n",
    "]\n",
    "\n",
    "sums = []\n",
    "for row in my_numbers:\n",
    "    row_sum = row[0] + row[1]\n",
    "    sums.append(row_sum)\n",
    "print(sums)"
   ]
  },
  {
   "cell_type": "markdown",
   "metadata": {},
   "source": [
    "![numpy_for_gif](./images/numpy_for.gif)"
   ]
  },
  {
   "cell_type": "markdown",
   "metadata": {},
   "source": [
    "![numpy_vectorized](./images/numpy_vectorized.gif)"
   ]
  },
  {
   "cell_type": "markdown",
   "metadata": {},
   "source": [
    "# Numpy Library"
   ]
  },
  {
   "cell_type": "markdown",
   "metadata": {},
   "source": [
    "[Dokumentacija](http://www.numpy.org/)"
   ]
  },
  {
   "cell_type": "markdown",
   "metadata": {},
   "source": [
    "```bash\n",
    "$ pip install numpy\n",
    "```"
   ]
  },
  {
   "cell_type": "code",
   "execution_count": 8,
   "metadata": {},
   "outputs": [
    {
     "data": {
      "text/plain": [
       "'1.23.5'"
      ]
     },
     "execution_count": 8,
     "metadata": {},
     "output_type": "execute_result"
    }
   ],
   "source": [
    "import numpy as np\n",
    "\n",
    "np.__version__"
   ]
  },
  {
   "cell_type": "markdown",
   "metadata": {},
   "source": [
    "## Speed comparison"
   ]
  },
  {
   "cell_type": "markdown",
   "metadata": {},
   "source": [
    "### %timeit"
   ]
  },
  {
   "cell_type": "code",
   "execution_count": 9,
   "metadata": {},
   "outputs": [
    {
     "data": {
      "text/plain": [
       "1.6449240667982423"
      ]
     },
     "execution_count": 9,
     "metadata": {},
     "output_type": "execute_result"
    }
   ],
   "source": [
    "n = 100_000\n",
    "sum([1. / i**2 for i in range(1, n)])"
   ]
  },
  {
   "cell_type": "code",
   "execution_count": 10,
   "metadata": {},
   "outputs": [
    {
     "name": "stdout",
     "output_type": "stream",
     "text": [
      "73 ms ± 10.1 ms per loop (mean ± std. dev. of 5 runs, 30 loops each)\n"
     ]
    }
   ],
   "source": [
    "%timeit -r 5 -n 30 sum([1. / i**2 for i in range(1, n)])"
   ]
  },
  {
   "cell_type": "code",
   "execution_count": 11,
   "metadata": {},
   "outputs": [
    {
     "name": "stdout",
     "output_type": "stream",
     "text": [
      "52.1 ms ± 4.2 ms per loop (mean ± std. dev. of 5 runs, 30 loops each)\n"
     ]
    }
   ],
   "source": [
    "%%timeit -r 5 -n 30\n",
    "s = 0.\n",
    "for i in range(1, n):\n",
    "    s += 1. / i**2"
   ]
  },
  {
   "cell_type": "code",
   "execution_count": 12,
   "metadata": {},
   "outputs": [
    {
     "name": "stdout",
     "output_type": "stream",
     "text": [
      "[0, 1, 2, 3, 4]\n",
      "[0 1 2 3 4]\n"
     ]
    }
   ],
   "source": [
    "import numpy as np\n",
    "size = 5_000_000\n",
    "\n",
    "list1 = [i for i in range(size)]\n",
    "list2 = [i for i in range(size)]\n",
    "\n",
    "array1 = np.arange(size)\n",
    "array2 = np.arange(size)\n",
    "\n",
    "print(list1[:5])\n",
    "print(array1[:5])"
   ]
  },
  {
   "cell_type": "code",
   "execution_count": 13,
   "metadata": {},
   "outputs": [
    {
     "name": "stdout",
     "output_type": "stream",
     "text": [
      "[0, 2, 4, 6, 8]\n",
      "[0, 2, 4, 6, 8]\n",
      "[0, 2, 4, 6, 8]\n",
      "[0, 2, 4, 6, 8]\n",
      "[0, 2, 4, 6, 8]\n",
      "[0, 2, 4, 6, 8]\n",
      "[0, 2, 4, 6, 8]\n",
      "[0, 2, 4, 6, 8]\n",
      "[0, 2, 4, 6, 8]\n",
      "[0, 2, 4, 6, 8]\n",
      "1.18 s ± 0 ns per loop (mean ± std. dev. of 1 run, 10 loops each)\n"
     ]
    }
   ],
   "source": [
    "%%timeit -n 10 -r 1\n",
    "# Python code\n",
    "\n",
    "sums = []\n",
    "for el1, el2 in zip(list1, list2):\n",
    "    sums.append(el1 + el2)\n",
    "print(sums[:5])"
   ]
  },
  {
   "cell_type": "code",
   "execution_count": 14,
   "metadata": {},
   "outputs": [
    {
     "name": "stdout",
     "output_type": "stream",
     "text": [
      "[0 2 4 6 8]\n",
      "[0 2 4 6 8]\n",
      "[0 2 4 6 8]\n",
      "[0 2 4 6 8]\n",
      "[0 2 4 6 8]\n",
      "[0 2 4 6 8]\n",
      "[0 2 4 6 8]\n",
      "[0 2 4 6 8]\n",
      "[0 2 4 6 8]\n",
      "[0 2 4 6 8]\n",
      "29.9 ms ± 0 ns per loop (mean ± std. dev. of 1 run, 10 loops each)\n"
     ]
    }
   ],
   "source": [
    "%%timeit -n 10 -r 1\n",
    "sums = array1 + array2\n",
    "print(sums[:5])"
   ]
  },
  {
   "cell_type": "markdown",
   "metadata": {},
   "source": [
    "<hr>"
   ]
  },
  {
   "cell_type": "markdown",
   "metadata": {},
   "source": [
    "## Ndarray"
   ]
  },
  {
   "cell_type": "markdown",
   "metadata": {},
   "source": [
    "![1-dimenzional array](./images/one_dim.svg)"
   ]
  },
  {
   "cell_type": "markdown",
   "metadata": {},
   "source": [
    "<a href=\"https://numpy.org/doc/stable/reference/generated/numpy.array.html#numpy.array\">numpy.array() - documentation</a>"
   ]
  },
  {
   "cell_type": "code",
   "execution_count": 15,
   "metadata": {},
   "outputs": [
    {
     "name": "stdout",
     "output_type": "stream",
     "text": [
      "<class 'numpy.ndarray'>\n",
      "[6 1 5 2 3 5 6 4]\n"
     ]
    }
   ],
   "source": [
    "l = [6,1,5,2,3,5,6,4]\n",
    "ndarray = np.array(l)\n",
    "print(type(ndarray))\n",
    "print(ndarray)"
   ]
  },
  {
   "cell_type": "code",
   "execution_count": 16,
   "metadata": {},
   "outputs": [
    {
     "name": "stdout",
     "output_type": "stream",
     "text": [
      "6\n",
      "3\n",
      "4\n"
     ]
    }
   ],
   "source": [
    "print(ndarray[0])\n",
    "print(ndarray[4])\n",
    "print(ndarray[-1])"
   ]
  },
  {
   "cell_type": "markdown",
   "metadata": {},
   "source": [
    "![two dimensional array](./images/Two_Dim.svg)"
   ]
  },
  {
   "cell_type": "code",
   "execution_count": 17,
   "metadata": {},
   "outputs": [
    {
     "name": "stdout",
     "output_type": "stream",
     "text": [
      "<class 'numpy.ndarray'>\n",
      "[[6 5]\n",
      " [1 3]\n",
      " [2 3]\n",
      " [4 3]\n",
      " [6 5]\n",
      " [2 3]]\n"
     ]
    }
   ],
   "source": [
    "list_ = [\n",
    "    [6,5],\n",
    "    [1,3],\n",
    "    [2,3],\n",
    "    [4,3],\n",
    "    [6,5],\n",
    "    [2,3]\n",
    "]\n",
    "\n",
    "ndarray = np.array(list_)\n",
    "print(type(ndarray))\n",
    "print(ndarray)"
   ]
  },
  {
   "cell_type": "markdown",
   "metadata": {},
   "source": [
    "---"
   ]
  },
  {
   "cell_type": "markdown",
   "metadata": {},
   "source": [
    "# Learning through real example"
   ]
  },
  {
   "cell_type": "markdown",
   "metadata": {},
   "source": [
    "## Importing data"
   ]
  },
  {
   "cell_type": "markdown",
   "metadata": {},
   "source": [
    "* `pickup_year` - leto vožnje\n",
    "* `puckup_month` - mesec vožnje. `1` predstavlja Januar, `12` predstavlja December\n",
    "* `pickup_day` - predstavlja dan v mesecu vožnje\n",
    "* `pickup_dayofweek` - predstavlja dan v tednu. `1` predstavlja Ponedeljek, `7` predstavlja Soboto\n",
    "* `pickup_time` - predstavlja čas, ko se je vožnja pričela:\n",
    "    - `0` - 0:00am-3:59am.\n",
    "    - `1` - 4:00am-7:59am.\n",
    "    - `2` - 8:00am-11:59am.\n",
    "    - `3` - 12:00pm-3:59pm.\n",
    "    - `4` - 4:00pm-7:59pm.\n",
    "    - `5` - 8:00pm-11:59pm.\n",
    "* `pickup_location_code` - predstavlja mesto ali letališče kjer se je vožnja začela\n",
    "    - `0` - Bronx.\n",
    "    - `1` - Brooklyn.\n",
    "    - `2` - JFK Airport.\n",
    "    - `3` - LaGuardia Airport.\n",
    "    - `4` - Manhattan.\n",
    "    - `5` - Newark Airport.\n",
    "    - `6` - Queens.\n",
    "    - `7` - Staten Island.\n",
    "* `dropoff_location_code` - predstavlja meto ali letališle, kjer se je vožnja končala\n",
    "* `trip_distance` - predstavlja dolžino opravljene poti v miljah\n",
    "* `trip_length` - predstavlja koliko časa je pot trajala, v sekundah\n",
    "* `fare_amount` - predstavlja koliko je bila osnovna cena potovanja, v dolarjih\n",
    "* `fees_amount` - predstavlja koliko dodatnih stroškov je stala vožnja\n",
    "* `tolls_amount` - predstavlja koliko cestnine se je plačalo za vožnjo\n",
    "* `tip_amount` - predstavlja koliko napitnine je pustila stranka\n",
    "* `total_amount` - predstavlja koliko je bila končna cena, katero je plačal potnik. V dolarjih\n",
    "* `payment_type` - predstavlja način plačila:\n",
    "    - `1` - Credit card.\n",
    "    - `2` - Cash.\n",
    "    - `3` - No charge.\n",
    "    - `4` - Dispute.\n",
    "    - `5` - Unknown.\n",
    "    - `6` - Voided trip."
   ]
  },
  {
   "cell_type": "code",
   "execution_count": 18,
   "metadata": {},
   "outputs": [
    {
     "name": "stdout",
     "output_type": "stream",
     "text": [
      "['pickup_year', 'pickup_month', 'pickup_day', 'pickup_dayofweek', 'pickup_time', 'pickup_location_code', 'dropoff_location_code', 'trip_distance', 'trip_length', 'fare_amount', 'fees_amount', 'tolls_amount', 'tip_amount', 'total_amount', 'payment_type']\n",
      "['2016', '1', '1', '5', '0', '2', '4', '21.00', '2037', '52.00', '0.80', '5.54', '11.65', '69.99', '1']\n",
      "['2016', '1', '1', '5', '0', '2', '1', '16.29', '1520', '45.00', '1.30', '0.00', '8.00', '54.30', '1']\n",
      "['2016', '1', '1', '5', '0', '2', '6', '12.70', '1462', '36.50', '1.30', '0.00', '0.00', '37.80', '2']\n",
      "['2016', '1', '1', '5', '0', '2', '6', '8.70', '1210', '26.00', '1.30', '0.00', '5.46', '32.76', '1']\n"
     ]
    }
   ],
   "source": [
    "import csv\n",
    "import numpy as np\n",
    "\n",
    "with open(\"data/nyc_taxis.csv\") as f:\n",
    "    taxi_list = list(csv.reader(f))\n",
    "    \n",
    "for row in taxi_list[:5]:\n",
    "    print(row)"
   ]
  },
  {
   "cell_type": "code",
   "execution_count": 19,
   "metadata": {},
   "outputs": [
    {
     "name": "stdout",
     "output_type": "stream",
     "text": [
      "(89560, 15)\n",
      "<class 'numpy.ndarray'>\n",
      "[2.016e+03 1.000e+00 1.000e+00 5.000e+00 0.000e+00 2.000e+00 4.000e+00\n",
      " 2.100e+01 2.037e+03 5.200e+01 8.000e-01 5.540e+00 1.165e+01 6.999e+01\n",
      " 1.000e+00]\n",
      "[2.016e+03 1.000e+00 1.000e+00 5.000e+00 0.000e+00 2.000e+00 1.000e+00\n",
      " 1.629e+01 1.520e+03 4.500e+01 1.300e+00 0.000e+00 8.000e+00 5.430e+01\n",
      " 1.000e+00]\n",
      "[2.016e+03 1.000e+00 1.000e+00 5.000e+00 0.000e+00 2.000e+00 6.000e+00\n",
      " 1.270e+01 1.462e+03 3.650e+01 1.300e+00 0.000e+00 0.000e+00 3.780e+01\n",
      " 2.000e+00]\n",
      "[2.016e+03 1.000e+00 1.000e+00 5.000e+00 0.000e+00 2.000e+00 6.000e+00\n",
      " 8.700e+00 1.210e+03 2.600e+01 1.300e+00 0.000e+00 5.460e+00 3.276e+01\n",
      " 1.000e+00]\n"
     ]
    }
   ],
   "source": [
    "taxi = taxi_list[1:]\n",
    "taxi = np.array(taxi, dtype=\"float\")\n",
    "print(taxi.shape)\n",
    "print(type(taxi))\n",
    "for row in taxi[:4]:\n",
    "    print(row)"
   ]
  },
  {
   "cell_type": "markdown",
   "metadata": {},
   "source": [
    "---"
   ]
  },
  {
   "cell_type": "markdown",
   "metadata": {},
   "source": [
    "[numpy.genfromtxt](https://numpy.org/doc/stable/reference/generated/numpy.genfromtxt.html)"
   ]
  },
  {
   "cell_type": "code",
   "execution_count": 20,
   "metadata": {},
   "outputs": [
    {
     "name": "stdout",
     "output_type": "stream",
     "text": [
      "(89561, 15)\n"
     ]
    }
   ],
   "source": [
    "import numpy as np\n",
    "taxi = np.genfromtxt(\"data/nyc_taxis.csv\", delimiter=\",\")\n",
    "print(taxi.shape)"
   ]
  },
  {
   "cell_type": "code",
   "execution_count": 21,
   "metadata": {},
   "outputs": [
    {
     "data": {
      "text/plain": [
       "dtype('float64')"
      ]
     },
     "execution_count": 21,
     "metadata": {},
     "output_type": "execute_result"
    }
   ],
   "source": [
    "taxi.dtype"
   ]
  },
  {
   "cell_type": "code",
   "execution_count": 22,
   "metadata": {},
   "outputs": [
    {
     "name": "stdout",
     "output_type": "stream",
     "text": [
      "float64\n"
     ]
    }
   ],
   "source": [
    "# taxi = np.genfromtxt(\"data/nyc_taxis.csv\", delimiter=\",\", dtype=\"float32\")\n",
    "taxi = np.genfromtxt(\"data/nyc_taxis.csv\", delimiter=\",\", dtype=np.float64)\n",
    "print(taxi.dtype)"
   ]
  },
  {
   "cell_type": "code",
   "execution_count": 23,
   "metadata": {},
   "outputs": [
    {
     "name": "stdout",
     "output_type": "stream",
     "text": [
      "[nan nan nan nan nan nan nan nan nan nan nan nan nan nan nan]\n",
      "[2.016e+03 1.000e+00 1.000e+00 5.000e+00 0.000e+00 2.000e+00 4.000e+00\n",
      " 2.100e+01 2.037e+03 5.200e+01 8.000e-01 5.540e+00 1.165e+01 6.999e+01\n",
      " 1.000e+00]\n",
      "[2.016e+03 1.000e+00 1.000e+00 5.000e+00 0.000e+00 2.000e+00 1.000e+00\n",
      " 1.629e+01 1.520e+03 4.500e+01 1.300e+00 0.000e+00 8.000e+00 5.430e+01\n",
      " 1.000e+00]\n",
      "[2.016e+03 1.000e+00 1.000e+00 5.000e+00 0.000e+00 2.000e+00 6.000e+00\n",
      " 1.270e+01 1.462e+03 3.650e+01 1.300e+00 0.000e+00 0.000e+00 3.780e+01\n",
      " 2.000e+00]\n",
      "[2.016e+03 1.000e+00 1.000e+00 5.000e+00 0.000e+00 2.000e+00 6.000e+00\n",
      " 8.700e+00 1.210e+03 2.600e+01 1.300e+00 0.000e+00 5.460e+00 3.276e+01\n",
      " 1.000e+00]\n"
     ]
    }
   ],
   "source": [
    "for row in taxi[:5]:\n",
    "    print(row)"
   ]
  },
  {
   "cell_type": "code",
   "execution_count": 24,
   "metadata": {},
   "outputs": [
    {
     "name": "stdout",
     "output_type": "stream",
     "text": [
      "[[2.016e+03 1.000e+00 1.000e+00 5.000e+00 0.000e+00 2.000e+00 4.000e+00\n",
      "  2.100e+01 2.037e+03 5.200e+01 8.000e-01 5.540e+00 1.165e+01 6.999e+01\n",
      "  1.000e+00]\n",
      " [2.016e+03 1.000e+00 1.000e+00 5.000e+00 0.000e+00 2.000e+00 1.000e+00\n",
      "  1.629e+01 1.520e+03 4.500e+01 1.300e+00 0.000e+00 8.000e+00 5.430e+01\n",
      "  1.000e+00]\n",
      " [2.016e+03 1.000e+00 1.000e+00 5.000e+00 0.000e+00 2.000e+00 6.000e+00\n",
      "  1.270e+01 1.462e+03 3.650e+01 1.300e+00 0.000e+00 0.000e+00 3.780e+01\n",
      "  2.000e+00]\n",
      " [2.016e+03 1.000e+00 1.000e+00 5.000e+00 0.000e+00 2.000e+00 6.000e+00\n",
      "  8.700e+00 1.210e+03 2.600e+01 1.300e+00 0.000e+00 5.460e+00 3.276e+01\n",
      "  1.000e+00]]\n"
     ]
    }
   ],
   "source": [
    "taxi = taxi[1:]\n",
    "print(taxi[:4])"
   ]
  },
  {
   "cell_type": "code",
   "execution_count": 25,
   "metadata": {},
   "outputs": [
    {
     "name": "stdout",
     "output_type": "stream",
     "text": [
      "[[2.016e+03 1.000e+00 1.000e+00 ... 1.165e+01 6.999e+01 1.000e+00]\n",
      " [2.016e+03 1.000e+00 1.000e+00 ... 8.000e+00 5.430e+01 1.000e+00]\n",
      " [2.016e+03 1.000e+00 1.000e+00 ... 0.000e+00 3.780e+01 2.000e+00]\n",
      " ...\n",
      " [2.016e+03 6.000e+00 3.000e+01 ... 5.000e+00 6.334e+01 1.000e+00]\n",
      " [2.016e+03 6.000e+00 3.000e+01 ... 8.950e+00 4.475e+01 1.000e+00]\n",
      " [2.016e+03 6.000e+00 3.000e+01 ... 0.000e+00 5.484e+01 2.000e+00]]\n"
     ]
    }
   ],
   "source": [
    "taxi = np.genfromtxt(\"data/nyc_taxis.csv\", delimiter=\",\", skip_header=1)\n",
    "print(taxi)"
   ]
  },
  {
   "cell_type": "markdown",
   "metadata": {},
   "source": [
    "---"
   ]
  },
  {
   "cell_type": "markdown",
   "metadata": {},
   "source": [
    "## Datatypes"
   ]
  },
  {
   "cell_type": "markdown",
   "metadata": {},
   "source": [
    "<div class=\"text_cell_render border-box-sizing rendered_html\">\n",
    "<table>\n",
    "<thead><tr>\n",
    "<th>Data type</th>\n",
    "<th>Description</th>\n",
    "</tr>\n",
    "</thead>\n",
    "<tbody>\n",
    "<tr>\n",
    "<td><code>bool_</code></td>\n",
    "<td>Boolean (True or False) stored as a byte</td>\n",
    "</tr>\n",
    "<tr>\n",
    "<td><code>int_</code></td>\n",
    "<td>Default integer type (same as C <code>long</code>; normally either <code>int64</code> or <code>int32</code>)</td>\n",
    "</tr>\n",
    "<tr>\n",
    "<td><code>intc</code></td>\n",
    "<td>Identical to C <code>int</code> (normally <code>int32</code> or <code>int64</code>)</td>\n",
    "</tr>\n",
    "<tr>\n",
    "<td><code>intp</code></td>\n",
    "<td>Integer used for indexing (same as C <code>ssize_t</code>; normally either <code>int32</code> or <code>int64</code>)</td>\n",
    "</tr>\n",
    "<tr>\n",
    "<td><code>int8</code></td>\n",
    "<td>Byte (-128 to 127)</td>\n",
    "</tr>\n",
    "<tr>\n",
    "<td><code>int16</code></td>\n",
    "<td>Integer (-32768 to 32767)</td>\n",
    "</tr>\n",
    "<tr>\n",
    "<td><code>int32</code></td>\n",
    "<td>Integer (-2147483648 to 2147483647)</td>\n",
    "</tr>\n",
    "<tr>\n",
    "<td><code>int64</code></td>\n",
    "<td>Integer (-9223372036854775808 to 9223372036854775807)</td>\n",
    "</tr>\n",
    "<tr>\n",
    "<td><code>uint8</code></td>\n",
    "<td>Unsigned integer (0 to 255)</td>\n",
    "</tr>\n",
    "<tr>\n",
    "<td><code>uint16</code></td>\n",
    "<td>Unsigned integer (0 to 65535)</td>\n",
    "</tr>\n",
    "<tr>\n",
    "<td><code>uint32</code></td>\n",
    "<td>Unsigned integer (0 to 4294967295)</td>\n",
    "</tr>\n",
    "<tr>\n",
    "<td><code>uint64</code></td>\n",
    "<td>Unsigned integer (0 to 18446744073709551615)</td>\n",
    "</tr>\n",
    "<tr>\n",
    "<td><code>float_</code></td>\n",
    "<td>Shorthand for <code>float64</code>.</td>\n",
    "</tr>\n",
    "<tr>\n",
    "<td><code>float16</code></td>\n",
    "<td>Half precision float: sign bit, 5 bits exponent, 10 bits mantissa</td>\n",
    "</tr>\n",
    "<tr>\n",
    "<td><code>float32</code></td>\n",
    "<td>Single precision float: sign bit, 8 bits exponent, 23 bits mantissa</td>\n",
    "</tr>\n",
    "<tr>\n",
    "<td><code>float64</code></td>\n",
    "<td>Double precision float: sign bit, 11 bits exponent, 52 bits mantissa</td>\n",
    "</tr>\n",
    "<tr>\n",
    "<td><code>complex_</code></td>\n",
    "<td>Shorthand for <code>complex128</code>.</td>\n",
    "</tr>\n",
    "<tr>\n",
    "<td><code>complex64</code></td>\n",
    "<td>Complex number, represented by two 32-bit floats</td>\n",
    "</tr>\n",
    "<tr>\n",
    "<td><code>complex128</code></td>\n",
    "<td>Complex number, represented by two 64-bit floats</td>\n",
    "</tr>\n",
    "</tbody>\n",
    "</table>\n",
    "\n",
    "</div>"
   ]
  },
  {
   "cell_type": "code",
   "execution_count": 26,
   "metadata": {},
   "outputs": [
    {
     "name": "stdout",
     "output_type": "stream",
     "text": [
      "[1 2]\n",
      "int32\n",
      "[1.2 2.3]\n",
      "float64\n"
     ]
    }
   ],
   "source": [
    "x = np.array([1,2])\n",
    "print(x)\n",
    "print(x.dtype)\n",
    "\n",
    "x = np.array([1.2, 2.3])\n",
    "print(x)\n",
    "print(x.dtype)"
   ]
  },
  {
   "cell_type": "code",
   "execution_count": 27,
   "metadata": {},
   "outputs": [
    {
     "name": "stdout",
     "output_type": "stream",
     "text": [
      "[1 2]\n",
      "int8\n",
      "[12.  3.]\n",
      "float32\n"
     ]
    }
   ],
   "source": [
    "x = np.array([1,2], dtype=np.int8)\n",
    "print(x)\n",
    "print(x.dtype)\n",
    "\n",
    "x = np.array([12,3], dtype=np.float32)\n",
    "print(x)\n",
    "print(x.dtype)"
   ]
  },
  {
   "cell_type": "code",
   "execution_count": 28,
   "metadata": {},
   "outputs": [
    {
     "name": "stdout",
     "output_type": "stream",
     "text": [
      "int8\n",
      "[   1    2 -128]\n"
     ]
    }
   ],
   "source": [
    "x = np.array([1,2,128], dtype=np.int8)\n",
    "print(x.dtype)\n",
    "print(x)"
   ]
  },
  {
   "cell_type": "markdown",
   "metadata": {},
   "source": [
    "\n",
    "---"
   ]
  },
  {
   "cell_type": "code",
   "execution_count": 29,
   "metadata": {},
   "outputs": [
    {
     "name": "stdout",
     "output_type": "stream",
     "text": [
      "[[2.016e+03 1.000e+00 1.000e+00 5.000e+00 0.000e+00 2.000e+00 4.000e+00\n",
      "  2.100e+01 2.037e+03 5.200e+01 8.000e-01 5.540e+00 1.165e+01 6.999e+01\n",
      "  1.000e+00]\n",
      " [2.016e+03 1.000e+00 1.000e+00 5.000e+00 0.000e+00 2.000e+00 1.000e+00\n",
      "  1.629e+01 1.520e+03 4.500e+01 1.300e+00 0.000e+00 8.000e+00 5.430e+01\n",
      "  1.000e+00]\n",
      " [2.016e+03 1.000e+00 1.000e+00 5.000e+00 0.000e+00 2.000e+00 6.000e+00\n",
      "  1.270e+01 1.462e+03 3.650e+01 1.300e+00 0.000e+00 0.000e+00 3.780e+01\n",
      "  2.000e+00]\n",
      " [2.016e+03 1.000e+00 1.000e+00 5.000e+00 0.000e+00 2.000e+00 6.000e+00\n",
      "  8.700e+00 1.210e+03 2.600e+01 1.300e+00 0.000e+00 5.460e+00 3.276e+01\n",
      "  1.000e+00]]\n"
     ]
    }
   ],
   "source": [
    "print(taxi[:4])"
   ]
  },
  {
   "cell_type": "code",
   "execution_count": 30,
   "metadata": {},
   "outputs": [
    {
     "name": "stdout",
     "output_type": "stream",
     "text": [
      "[[2016.      1.      1.      5.      0.      2.      4.     21.   2037.\n",
      "    52.      0.8     5.54   11.65   69.99    1.  ]\n",
      " [2016.      1.      1.      5.      0.      2.      1.     16.29 1520.\n",
      "    45.      1.3     0.      8.     54.3     1.  ]\n",
      " [2016.      1.      1.      5.      0.      2.      6.     12.7  1462.\n",
      "    36.5     1.3     0.      0.     37.8     2.  ]\n",
      " [2016.      1.      1.      5.      0.      2.      6.      8.7  1210.\n",
      "    26.      1.3     0.      5.46   32.76    1.  ]]\n"
     ]
    }
   ],
   "source": [
    "np.set_printoptions(precision=2, suppress=True)\n",
    "print(taxi[:4])"
   ]
  },
  {
   "cell_type": "markdown",
   "metadata": {},
   "source": [
    "---"
   ]
  },
  {
   "cell_type": "markdown",
   "metadata": {},
   "source": [
    "## Ndarray shape"
   ]
  },
  {
   "cell_type": "code",
   "execution_count": 31,
   "metadata": {},
   "outputs": [
    {
     "name": "stdout",
     "output_type": "stream",
     "text": [
      "[[2016.      1.      1.   ...   11.65   69.99    1.  ]\n",
      " [2016.      1.      1.   ...    8.     54.3     1.  ]\n",
      " [2016.      1.      1.   ...    0.     37.8     2.  ]\n",
      " ...\n",
      " [2016.      6.     30.   ...    5.     63.34    1.  ]\n",
      " [2016.      6.     30.   ...    8.95   44.75    1.  ]\n",
      " [2016.      6.     30.   ...    0.     54.84    2.  ]]\n"
     ]
    }
   ],
   "source": [
    "print(taxi)"
   ]
  },
  {
   "cell_type": "code",
   "execution_count": 32,
   "metadata": {},
   "outputs": [
    {
     "name": "stdout",
     "output_type": "stream",
     "text": [
      "(2, 3)\n"
     ]
    }
   ],
   "source": [
    "data = [[1, 2, 3],\n",
    "       [50, 100, 150]]\n",
    "\n",
    "ndarray = np.array(data)\n",
    "print(ndarray.shape)"
   ]
  },
  {
   "cell_type": "code",
   "execution_count": 33,
   "metadata": {},
   "outputs": [
    {
     "name": "stdout",
     "output_type": "stream",
     "text": [
      "(89560, 15)\n"
     ]
    }
   ],
   "source": [
    "print(taxi.shape)"
   ]
  },
  {
   "cell_type": "code",
   "execution_count": 34,
   "metadata": {},
   "outputs": [
    {
     "name": "stdout",
     "output_type": "stream",
     "text": [
      "(2, 3)\n"
     ]
    }
   ],
   "source": [
    "ndarray = np.array(data)\n",
    "print(ndarray.shape)"
   ]
  },
  {
   "cell_type": "code",
   "execution_count": 35,
   "metadata": {},
   "outputs": [
    {
     "data": {
      "text/plain": [
       "6"
      ]
     },
     "execution_count": 35,
     "metadata": {},
     "output_type": "execute_result"
    }
   ],
   "source": [
    "ndarray.size"
   ]
  },
  {
   "cell_type": "code",
   "execution_count": 36,
   "metadata": {},
   "outputs": [
    {
     "data": {
      "text/plain": [
       "2"
      ]
     },
     "execution_count": 36,
     "metadata": {},
     "output_type": "execute_result"
    }
   ],
   "source": [
    "ndarray.ndim"
   ]
  },
  {
   "cell_type": "markdown",
   "metadata": {},
   "source": [
    "## Selecting elements and Slicing"
   ]
  },
  {
   "cell_type": "markdown",
   "metadata": {},
   "source": [
    "![slicing](./images/selection_rows.svg)"
   ]
  },
  {
   "cell_type": "code",
   "execution_count": 37,
   "metadata": {},
   "outputs": [
    {
     "name": "stdout",
     "output_type": "stream",
     "text": [
      "[[5 2 8 1 8]\n",
      " [9 6 4 0 1]\n",
      " [9 5 2 4 4]\n",
      " [5 0 8 5 5]\n",
      " [2 4 7 1 7]]\n"
     ]
    }
   ],
   "source": [
    "data = [[5,2,8,1,8],\n",
    "       [9,6,4,0,1],\n",
    "       [9,5,2,4,4],\n",
    "       [5,0,8,5,5],\n",
    "       [2,4,7,1,7]]\n",
    "ndarray = np.array(data)\n",
    "print(ndarray)"
   ]
  },
  {
   "cell_type": "code",
   "execution_count": 38,
   "metadata": {},
   "outputs": [
    {
     "name": "stdout",
     "output_type": "stream",
     "text": [
      "[9, 5, 2, 4, 4]\n",
      "[9 5 2 4 4]\n"
     ]
    }
   ],
   "source": [
    "print(data[2])\n",
    "print(ndarray[2])"
   ]
  },
  {
   "cell_type": "code",
   "execution_count": 39,
   "metadata": {},
   "outputs": [
    {
     "name": "stdout",
     "output_type": "stream",
     "text": [
      "[[9, 5, 2, 4, 4], [5, 0, 8, 5, 5], [2, 4, 7, 1, 7]]\n",
      "[[9 5 2 4 4]\n",
      " [5 0 8 5 5]\n",
      " [2 4 7 1 7]]\n"
     ]
    }
   ],
   "source": [
    "print(data[2:])\n",
    "print(ndarray[2:])"
   ]
  },
  {
   "cell_type": "code",
   "execution_count": 40,
   "metadata": {},
   "outputs": [
    {
     "name": "stdout",
     "output_type": "stream",
     "text": [
      "1\n",
      "1\n"
     ]
    }
   ],
   "source": [
    "print(data[1][4])\n",
    "print(ndarray[1][4])"
   ]
  },
  {
   "cell_type": "code",
   "execution_count": 41,
   "metadata": {},
   "outputs": [
    {
     "name": "stdout",
     "output_type": "stream",
     "text": [
      "[4, 0, 1]\n",
      "[4 0 1]\n"
     ]
    }
   ],
   "source": [
    "print(data[1][2:])\n",
    "print(ndarray[1][2:])"
   ]
  },
  {
   "cell_type": "markdown",
   "metadata": {},
   "source": [
    "\n",
    "```python\n",
    "ndarray[row_index , column_index]\n",
    "```"
   ]
  },
  {
   "cell_type": "code",
   "execution_count": 42,
   "metadata": {},
   "outputs": [
    {
     "name": "stdout",
     "output_type": "stream",
     "text": [
      "[[5 2 8 1 8]\n",
      " [9 6 4 0 1]\n",
      " [9 5 2 4 4]\n",
      " [5 0 8 5 5]\n",
      " [2 4 7 1 7]]\n",
      "[9 6 4 0 1]\n",
      "1\n",
      "1\n"
     ]
    }
   ],
   "source": [
    "print(ndarray)\n",
    "\n",
    "second_row = ndarray[1]\n",
    "print(second_row)\n",
    "\n",
    "print(ndarray[1][4])\n",
    "print(ndarray[1, 4])"
   ]
  },
  {
   "cell_type": "code",
   "execution_count": 43,
   "metadata": {},
   "outputs": [
    {
     "name": "stdout",
     "output_type": "stream",
     "text": [
      "[[5 2 8 1 8]\n",
      " [9 6 4 0 1]\n",
      " [9 5 2 4 4]\n",
      " [5 0 8 5 5]\n",
      " [2 4 7 1 7]]\n",
      "\n",
      "[1 0 4 5 1]\n"
     ]
    }
   ],
   "source": [
    "print(ndarray)\n",
    "print()\n",
    "print(ndarray[:, 3])"
   ]
  },
  {
   "cell_type": "code",
   "execution_count": 44,
   "metadata": {},
   "outputs": [
    {
     "name": "stdout",
     "output_type": "stream",
     "text": [
      "[[4 0]\n",
      " [2 4]\n",
      " [8 5]]\n"
     ]
    }
   ],
   "source": [
    "print(ndarray[1:4, 2:4])"
   ]
  },
  {
   "cell_type": "code",
   "execution_count": 45,
   "metadata": {},
   "outputs": [
    {
     "name": "stdout",
     "output_type": "stream",
     "text": [
      "[[5 2 8 1 8]\n",
      " [9 6 4 0 1]\n",
      " [9 5 2 4 4]\n",
      " [5 0 8 5 5]\n",
      " [2 4 7 1 7]]\n",
      "\n",
      "[4 8 7]\n"
     ]
    }
   ],
   "source": [
    "print(ndarray)\n",
    "print()\n",
    "\n",
    "print(ndarray[[1,3,4], 2])"
   ]
  },
  {
   "cell_type": "code",
   "execution_count": 46,
   "metadata": {},
   "outputs": [
    {
     "name": "stdout",
     "output_type": "stream",
     "text": [
      "[[5 2 8 1 8]\n",
      " [9 6 4 0 1]\n",
      " [9 5 2 4 4]\n",
      " [5 0 8 5 5]\n",
      " [2 4 7 1 7]]\n",
      "[[4 0 1]\n",
      " [7 1 7]]\n"
     ]
    }
   ],
   "source": [
    "print(ndarray)\n",
    "\n",
    "print(ndarray[[False, True, False, False, True], 2:])"
   ]
  },
  {
   "cell_type": "code",
   "execution_count": null,
   "metadata": {},
   "outputs": [],
   "source": []
  },
  {
   "cell_type": "markdown",
   "metadata": {},
   "source": [
    "## Vectorized Operations"
   ]
  },
  {
   "cell_type": "code",
   "execution_count": 47,
   "metadata": {},
   "outputs": [
    {
     "name": "stdout",
     "output_type": "stream",
     "text": [
      "[11  8 11  5 11 12]\n"
     ]
    }
   ],
   "source": [
    "ndarray1 = np.array([6,1,5,2,3,5])\n",
    "ndarray2 = np.array([5,7,6,3,8,7])\n",
    "\n",
    "data = ndarray1 + ndarray2\n",
    "print(data)"
   ]
  },
  {
   "cell_type": "code",
   "execution_count": 48,
   "metadata": {},
   "outputs": [
    {
     "name": "stdout",
     "output_type": "stream",
     "text": [
      "[ 1 -6 -1 -1 -5 -2]\n"
     ]
    }
   ],
   "source": [
    "data = ndarray1 - ndarray2\n",
    "print(data)"
   ]
  },
  {
   "cell_type": "code",
   "execution_count": 49,
   "metadata": {},
   "outputs": [
    {
     "name": "stdout",
     "output_type": "stream",
     "text": [
      "[30  7 30  6 24 35]\n"
     ]
    }
   ],
   "source": [
    "data = ndarray1 * ndarray2\n",
    "print(data)"
   ]
  },
  {
   "cell_type": "code",
   "execution_count": 50,
   "metadata": {},
   "outputs": [
    {
     "name": "stdout",
     "output_type": "stream",
     "text": [
      "[1.2  0.14 0.83 0.67 0.38 0.71]\n"
     ]
    }
   ],
   "source": [
    "data = ndarray1 / ndarray2\n",
    "print(data)"
   ]
  },
  {
   "cell_type": "code",
   "execution_count": 51,
   "metadata": {},
   "outputs": [
    {
     "ename": "ValueError",
     "evalue": "operands could not be broadcast together with shapes (3,) (4,) ",
     "output_type": "error",
     "traceback": [
      "\u001b[1;31m---------------------------------------------------------------------------\u001b[0m",
      "\u001b[1;31mValueError\u001b[0m                                Traceback (most recent call last)",
      "Cell \u001b[1;32mIn [51], line 4\u001b[0m\n\u001b[0;32m      1\u001b[0m ndarray1 \u001b[38;5;241m=\u001b[39m np\u001b[38;5;241m.\u001b[39marray([\u001b[38;5;241m1\u001b[39m,\u001b[38;5;241m2\u001b[39m,\u001b[38;5;241m3\u001b[39m])\n\u001b[0;32m      2\u001b[0m ndarray2 \u001b[38;5;241m=\u001b[39m np\u001b[38;5;241m.\u001b[39marray([\u001b[38;5;241m1\u001b[39m,\u001b[38;5;241m2\u001b[39m,\u001b[38;5;241m3\u001b[39m,\u001b[38;5;241m4\u001b[39m])\n\u001b[1;32m----> 4\u001b[0m data \u001b[38;5;241m=\u001b[39m \u001b[43mndarray1\u001b[49m\u001b[43m \u001b[49m\u001b[38;5;241;43m+\u001b[39;49m\u001b[43m \u001b[49m\u001b[43mndarray2\u001b[49m\n\u001b[0;32m      5\u001b[0m \u001b[38;5;28mprint\u001b[39m(data)\n",
      "\u001b[1;31mValueError\u001b[0m: operands could not be broadcast together with shapes (3,) (4,) "
     ]
    }
   ],
   "source": [
    "ndarray1 = np.array([1,2,3])\n",
    "ndarray2 = np.array([1,2,3,4])\n",
    "\n",
    "data = ndarray1 + ndarray2\n",
    "print(data)"
   ]
  },
  {
   "cell_type": "code",
   "execution_count": 52,
   "metadata": {},
   "outputs": [
    {
     "name": "stdout",
     "output_type": "stream",
     "text": [
      "[11  8 11  5 11 12]\n"
     ]
    }
   ],
   "source": [
    "ndarray1 = np.array([6,1,5,2,3,5])\n",
    "ndarray2 = np.array([5,7,6,3,8,7])\n",
    "\n",
    "data = np.add(ndarray1, ndarray2)\n",
    "print(data)"
   ]
  },
  {
   "cell_type": "code",
   "execution_count": 53,
   "metadata": {},
   "outputs": [
    {
     "name": "stdout",
     "output_type": "stream",
     "text": [
      "[21.   16.29 12.7  ... 17.48 12.76 17.54]\n"
     ]
    }
   ],
   "source": [
    "trip_distance = taxi[:, 7]\n",
    "print(trip_distance)"
   ]
  },
  {
   "cell_type": "code",
   "execution_count": 54,
   "metadata": {},
   "outputs": [],
   "source": [
    "trips_length_seconds = taxi[:, 8]\n",
    "trips_length_hours = trips_length_seconds / (60 *60)"
   ]
  },
  {
   "cell_type": "code",
   "execution_count": 55,
   "metadata": {},
   "outputs": [
    {
     "data": {
      "text/plain": [
       "array([37.11, 38.58, 31.27, ..., 22.3 , 42.42, 36.9 ])"
      ]
     },
     "execution_count": 55,
     "metadata": {},
     "output_type": "execute_result"
    }
   ],
   "source": [
    "trips_mph = trip_distance / trips_length_hours\n",
    "trips_mph"
   ]
  },
  {
   "cell_type": "markdown",
   "metadata": {},
   "source": [
    "---"
   ]
  },
  {
   "cell_type": "markdown",
   "metadata": {},
   "source": [
    "## Calculating Statistics"
   ]
  },
  {
   "cell_type": "markdown",
   "metadata": {},
   "source": [
    "[ndarray.min()](https://numpy.org/doc/stable/reference/generated/numpy.ndarray.min.html)"
   ]
  },
  {
   "cell_type": "code",
   "execution_count": 63,
   "metadata": {},
   "outputs": [
    {
     "data": {
      "text/plain": [
       "0.0"
      ]
     },
     "execution_count": 63,
     "metadata": {},
     "output_type": "execute_result"
    }
   ],
   "source": [
    "trips_mph.min()"
   ]
  },
  {
   "cell_type": "markdown",
   "metadata": {},
   "source": [
    "<ul>\n",
    "<li><a target=\"_blank\" href=\"https://docs.scipy.org/doc/numpy-1.14.0/reference/generated/numpy.ndarray.min.html#numpy.ndarray.min\"><code>ndarray.min()</code> izračun minimalne vrednosti</a></li>\n",
    "<li><a target=\"_blank\" href=\"https://docs.scipy.org/doc/numpy-dev/reference/generated/numpy.ndarray.max.html\"><code>ndarray.max()</code> izračun maximalne vrednosti</a></li>\n",
    "<li><a target=\"_blank\" href=\"https://docs.scipy.org/doc/numpy-1.14.0/reference/generated/numpy.ndarray.mean.html#numpy.ndarray.mean\"><code>ndarray.mean()</code> izračun povprečne vrednosti</a></li>\n",
    "<li><a target=\"_blank\" href=\"https://docs.scipy.org/doc/numpy-1.14.0/reference/generated/numpy.ndarray.sum.html#numpy.ndarray.sum\"><code>ndarray.sum()</code> izračun sum vrednosti</a></li>\n",
    "</ul>"
   ]
  },
  {
   "cell_type": "code",
   "execution_count": 59,
   "metadata": {},
   "outputs": [
    {
     "data": {
      "text/plain": [
       "82800.0"
      ]
     },
     "execution_count": 59,
     "metadata": {},
     "output_type": "execute_result"
    }
   ],
   "source": [
    "trips_mph.max()"
   ]
  },
  {
   "cell_type": "code",
   "execution_count": 64,
   "metadata": {},
   "outputs": [
    {
     "data": {
      "text/plain": [
       "32.24258580925573"
      ]
     },
     "execution_count": 64,
     "metadata": {},
     "output_type": "execute_result"
    }
   ],
   "source": [
    "trips_mph.mean()"
   ]
  },
  {
   "cell_type": "code",
   "execution_count": 65,
   "metadata": {},
   "outputs": [
    {
     "data": {
      "text/plain": [
       "0.0"
      ]
     },
     "execution_count": 65,
     "metadata": {},
     "output_type": "execute_result"
    }
   ],
   "source": [
    "np.min(trips_mph)"
   ]
  },
  {
   "cell_type": "code",
   "execution_count": 66,
   "metadata": {},
   "outputs": [
    {
     "data": {
      "text/plain": [
       "82800.0"
      ]
     },
     "execution_count": 66,
     "metadata": {},
     "output_type": "execute_result"
    }
   ],
   "source": [
    "np.max(trips_mph)"
   ]
  },
  {
   "cell_type": "code",
   "execution_count": 67,
   "metadata": {},
   "outputs": [
    {
     "data": {
      "text/plain": [
       "32.24258580925573"
      ]
     },
     "execution_count": 67,
     "metadata": {},
     "output_type": "execute_result"
    }
   ],
   "source": [
    "np.mean(trips_mph)"
   ]
  },
  {
   "cell_type": "code",
   "execution_count": 71,
   "metadata": {},
   "outputs": [
    {
     "ename": "AttributeError",
     "evalue": "'numpy.ndarray' object has no attribute 'median'",
     "output_type": "error",
     "traceback": [
      "\u001b[1;31m---------------------------------------------------------------------------\u001b[0m",
      "\u001b[1;31mAttributeError\u001b[0m                            Traceback (most recent call last)",
      "Cell \u001b[1;32mIn [71], line 1\u001b[0m\n\u001b[1;32m----> 1\u001b[0m \u001b[43mtrips_mph\u001b[49m\u001b[38;5;241;43m.\u001b[39;49m\u001b[43mmedian\u001b[49m()\n",
      "\u001b[1;31mAttributeError\u001b[0m: 'numpy.ndarray' object has no attribute 'median'"
     ]
    }
   ],
   "source": [
    "trips_mph.median()"
   ]
  },
  {
   "cell_type": "code",
   "execution_count": 72,
   "metadata": {},
   "outputs": [
    {
     "data": {
      "text/plain": [
       "22.542601629863185"
      ]
     },
     "execution_count": 72,
     "metadata": {},
     "output_type": "execute_result"
    }
   ],
   "source": [
    "np.median(trips_mph)"
   ]
  },
  {
   "cell_type": "markdown",
   "metadata": {},
   "source": [
    "![](./images/array_method_axis_none.svg)"
   ]
  },
  {
   "cell_type": "code",
   "execution_count": 79,
   "metadata": {},
   "outputs": [
    {
     "data": {
      "text/plain": [
       "array([[8, 6, 4, 3, 1],\n",
       "       [1, 0, 8, 9, 6],\n",
       "       [2, 7, 2, 1, 8],\n",
       "       [0, 6, 8, 5, 0],\n",
       "       [6, 3, 4, 5, 1]])"
      ]
     },
     "execution_count": 79,
     "metadata": {},
     "output_type": "execute_result"
    }
   ],
   "source": [
    "data = np.random.randint(0, 10, size=[5,5])\n",
    "data"
   ]
  },
  {
   "cell_type": "code",
   "execution_count": 80,
   "metadata": {},
   "outputs": [
    {
     "data": {
      "text/plain": [
       "9"
      ]
     },
     "execution_count": 80,
     "metadata": {},
     "output_type": "execute_result"
    }
   ],
   "source": [
    "data.max()"
   ]
  },
  {
   "cell_type": "code",
   "execution_count": 81,
   "metadata": {},
   "outputs": [
    {
     "data": {
      "text/plain": [
       "0"
      ]
     },
     "execution_count": 81,
     "metadata": {},
     "output_type": "execute_result"
    }
   ],
   "source": [
    "data.min()"
   ]
  },
  {
   "cell_type": "markdown",
   "metadata": {},
   "source": [
    "![](./images/array_method_axis_1.svg)"
   ]
  },
  {
   "cell_type": "code",
   "execution_count": 82,
   "metadata": {},
   "outputs": [
    {
     "name": "stdout",
     "output_type": "stream",
     "text": [
      "[[8 6 4 3 1]\n",
      " [1 0 8 9 6]\n",
      " [2 7 2 1 8]\n",
      " [0 6 8 5 0]\n",
      " [6 3 4 5 1]]\n"
     ]
    }
   ],
   "source": [
    "print(data)"
   ]
  },
  {
   "cell_type": "code",
   "execution_count": 83,
   "metadata": {},
   "outputs": [
    {
     "data": {
      "text/plain": [
       "array([8, 9, 8, 8, 6])"
      ]
     },
     "execution_count": 83,
     "metadata": {},
     "output_type": "execute_result"
    }
   ],
   "source": [
    "data.max(axis=1) # max vrednost vsake vrstice"
   ]
  },
  {
   "cell_type": "code",
   "execution_count": 84,
   "metadata": {},
   "outputs": [
    {
     "data": {
      "text/plain": [
       "array([1, 0, 1, 0, 1])"
      ]
     },
     "execution_count": 84,
     "metadata": {},
     "output_type": "execute_result"
    }
   ],
   "source": [
    "data.min(axis=1)"
   ]
  },
  {
   "cell_type": "markdown",
   "metadata": {},
   "source": [
    "![](./images/array_method_axis_0.svg)"
   ]
  },
  {
   "cell_type": "code",
   "execution_count": 85,
   "metadata": {},
   "outputs": [
    {
     "name": "stdout",
     "output_type": "stream",
     "text": [
      "[[8 6 4 3 1]\n",
      " [1 0 8 9 6]\n",
      " [2 7 2 1 8]\n",
      " [0 6 8 5 0]\n",
      " [6 3 4 5 1]]\n"
     ]
    }
   ],
   "source": [
    "print(data)"
   ]
  },
  {
   "cell_type": "code",
   "execution_count": 86,
   "metadata": {},
   "outputs": [
    {
     "data": {
      "text/plain": [
       "array([8, 7, 8, 9, 8])"
      ]
     },
     "execution_count": 86,
     "metadata": {},
     "output_type": "execute_result"
    }
   ],
   "source": [
    "data.max(axis=0)"
   ]
  },
  {
   "cell_type": "code",
   "execution_count": 87,
   "metadata": {},
   "outputs": [
    {
     "data": {
      "text/plain": [
       "array([0, 0, 2, 1, 0])"
      ]
     },
     "execution_count": 87,
     "metadata": {},
     "output_type": "execute_result"
    }
   ],
   "source": [
    "data.min(axis=0)"
   ]
  },
  {
   "cell_type": "markdown",
   "metadata": {},
   "source": [
    "![](./images/axis_param.svg)"
   ]
  },
  {
   "cell_type": "markdown",
   "metadata": {},
   "source": [
    "---"
   ]
  },
  {
   "cell_type": "code",
   "execution_count": 88,
   "metadata": {},
   "outputs": [
    {
     "data": {
      "text/plain": [
       "array([[2016.  ,    1.  ,    1.  ,    5.  ,    0.  ,    2.  ,    4.  ,\n",
       "          21.  , 2037.  ,   52.  ,    0.8 ,    5.54,   11.65,   69.99,\n",
       "           1.  ],\n",
       "       [2016.  ,    1.  ,    1.  ,    5.  ,    0.  ,    2.  ,    1.  ,\n",
       "          16.29, 1520.  ,   45.  ,    1.3 ,    0.  ,    8.  ,   54.3 ,\n",
       "           1.  ],\n",
       "       [2016.  ,    1.  ,    1.  ,    5.  ,    0.  ,    2.  ,    6.  ,\n",
       "          12.7 , 1462.  ,   36.5 ,    1.3 ,    0.  ,    0.  ,   37.8 ,\n",
       "           2.  ],\n",
       "       [2016.  ,    1.  ,    1.  ,    5.  ,    0.  ,    2.  ,    6.  ,\n",
       "           8.7 , 1210.  ,   26.  ,    1.3 ,    0.  ,    5.46,   32.76,\n",
       "           1.  ],\n",
       "       [2016.  ,    1.  ,    1.  ,    5.  ,    0.  ,    2.  ,    6.  ,\n",
       "           5.56,  759.  ,   17.5 ,    1.3 ,    0.  ,    0.  ,   18.8 ,\n",
       "           2.  ],\n",
       "       [2016.  ,    1.  ,    1.  ,    5.  ,    0.  ,    4.  ,    2.  ,\n",
       "          21.45, 2004.  ,   52.  ,    0.8 ,    0.  ,   52.8 ,  105.6 ,\n",
       "           1.  ],\n",
       "       [2016.  ,    1.  ,    1.  ,    5.  ,    0.  ,    2.  ,    6.  ,\n",
       "           8.45,  927.  ,   24.5 ,    1.3 ,    0.  ,    6.45,   32.25,\n",
       "           1.  ],\n",
       "       [2016.  ,    1.  ,    1.  ,    5.  ,    0.  ,    2.  ,    6.  ,\n",
       "           7.3 ,  731.  ,   21.5 ,    1.3 ,    0.  ,    0.  ,   22.8 ,\n",
       "           2.  ],\n",
       "       [2016.  ,    1.  ,    1.  ,    5.  ,    0.  ,    2.  ,    5.  ,\n",
       "          36.3 , 2562.  ,  109.5 ,    0.8 ,   11.08,   10.  ,  131.38,\n",
       "           1.  ],\n",
       "       [2016.  ,    1.  ,    1.  ,    5.  ,    0.  ,    6.  ,    2.  ,\n",
       "          12.46, 1351.  ,   36.  ,    1.3 ,    0.  ,    0.  ,   37.3 ,\n",
       "           2.  ]])"
      ]
     },
     "execution_count": 88,
     "metadata": {},
     "output_type": "execute_result"
    }
   ],
   "source": [
    "taxi_10rows = taxi[:10, :]\n",
    "taxi_10rows"
   ]
  },
  {
   "cell_type": "code",
   "execution_count": 91,
   "metadata": {},
   "outputs": [
    {
     "data": {
      "text/plain": [
       "array([[ 52.  ,   0.8 ,   5.54,  11.65],\n",
       "       [ 45.  ,   1.3 ,   0.  ,   8.  ],\n",
       "       [ 36.5 ,   1.3 ,   0.  ,   0.  ],\n",
       "       [ 26.  ,   1.3 ,   0.  ,   5.46],\n",
       "       [ 17.5 ,   1.3 ,   0.  ,   0.  ],\n",
       "       [ 52.  ,   0.8 ,   0.  ,  52.8 ],\n",
       "       [ 24.5 ,   1.3 ,   0.  ,   6.45],\n",
       "       [ 21.5 ,   1.3 ,   0.  ,   0.  ],\n",
       "       [109.5 ,   0.8 ,  11.08,  10.  ],\n",
       "       [ 36.  ,   1.3 ,   0.  ,   0.  ]])"
      ]
     },
     "execution_count": 91,
     "metadata": {},
     "output_type": "execute_result"
    }
   ],
   "source": [
    "fare_costs = taxi_10rows[:, 9:13]\n",
    "fare_costs"
   ]
  },
  {
   "cell_type": "code",
   "execution_count": 93,
   "metadata": {},
   "outputs": [
    {
     "name": "stdout",
     "output_type": "stream",
     "text": [
      "[ 69.99  54.3   37.8   32.76  18.8  105.6   32.25  22.8  131.38  37.3 ]\n",
      "[ 69.99  54.3   37.8   32.76  18.8  105.6   32.25  22.8  131.38  37.3 ]\n"
     ]
    }
   ],
   "source": [
    "fare_costs_total = fare_costs.sum(axis=1)\n",
    "print(fare_costs_total)\n",
    "print(taxi_10rows[:, 13])"
   ]
  },
  {
   "cell_type": "markdown",
   "metadata": {},
   "source": [
    "# Boolean Indexing"
   ]
  },
  {
   "cell_type": "markdown",
   "metadata": {},
   "source": [
    "## Boolean Arrays"
   ]
  },
  {
   "cell_type": "code",
   "execution_count": 104,
   "metadata": {},
   "outputs": [
    {
     "data": {
      "text/plain": [
       "array([1, 3])"
      ]
     },
     "execution_count": 104,
     "metadata": {},
     "output_type": "execute_result"
    }
   ],
   "source": [
    "bool_array = [True, False, True, False]\n",
    "data = np.array([1,2,3,4])\n",
    "data[bool_array]"
   ]
  },
  {
   "cell_type": "code",
   "execution_count": 106,
   "metadata": {},
   "outputs": [
    {
     "name": "stdout",
     "output_type": "stream",
     "text": [
      "(5,) <class 'numpy.ndarray'> [3 3 7 5 5]\n",
      "(5,) <class 'numpy.ndarray'> [13 13 17 15 15]\n"
     ]
    }
   ],
   "source": [
    "data = np.random.randint(10, size=(5,))\n",
    "print(data.shape, type(data), data)\n",
    "\n",
    "data = data + 10\n",
    "print(data.shape, type(data), data)"
   ]
  },
  {
   "cell_type": "code",
   "execution_count": 107,
   "metadata": {},
   "outputs": [
    {
     "name": "stdout",
     "output_type": "stream",
     "text": [
      "(5,) <class 'numpy.ndarray'> [4 4 5 4 2]\n",
      "(5,) <class 'numpy.ndarray'> [ True  True False  True  True]\n"
     ]
    }
   ],
   "source": [
    "data = np.random.randint(10, size=(5,))\n",
    "print(data.shape, type(data), data)\n",
    "\n",
    "bool_array = data < 5\n",
    "print(bool_array.shape, type(bool_array), bool_array)"
   ]
  },
  {
   "cell_type": "code",
   "execution_count": 108,
   "metadata": {},
   "outputs": [
    {
     "name": "stdout",
     "output_type": "stream",
     "text": [
      "(5,) <class 'numpy.ndarray'> [3 8 5 9 2]\n",
      "(5,) <class 'numpy.ndarray'> [False  True False  True False]\n"
     ]
    }
   ],
   "source": [
    "data = np.random.randint(10, size=(5,))\n",
    "print(data.shape, type(data), data)\n",
    "\n",
    "bool_array = data > 5\n",
    "print(bool_array.shape, type(bool_array), bool_array)"
   ]
  },
  {
   "cell_type": "code",
   "execution_count": 111,
   "metadata": {},
   "outputs": [
    {
     "name": "stdout",
     "output_type": "stream",
     "text": [
      "(5,) <class 'numpy.ndarray'> [8 1 7 8 4]\n",
      "(5,) <class 'numpy.ndarray'> [False False False False False]\n"
     ]
    }
   ],
   "source": [
    "data = np.random.randint(10, size=(5,))\n",
    "print(data.shape, type(data), data)\n",
    "\n",
    "bool_array = data == 5\n",
    "print(bool_array.shape, type(bool_array), bool_array)"
   ]
  },
  {
   "cell_type": "markdown",
   "metadata": {},
   "source": [
    "## Boolean Indexing"
   ]
  },
  {
   "cell_type": "code",
   "execution_count": 116,
   "metadata": {},
   "outputs": [
    {
     "name": "stdout",
     "output_type": "stream",
     "text": [
      "(5,) <class 'numpy.ndarray'> [1 9 9 6 2]\n",
      "[False  True  True  True False]\n",
      "[9 9 6]\n"
     ]
    }
   ],
   "source": [
    "data = np.random.randint(10, size=(5,))\n",
    "print(data.shape, type(data), data)\n",
    "\n",
    "filter_ = data > 5\n",
    "print(filter_)\n",
    "\n",
    "slice_ = data[filter_]\n",
    "print(slice_)"
   ]
  },
  {
   "cell_type": "markdown",
   "metadata": {},
   "source": [
    "## Boolean Indexing 2D ndarrays"
   ]
  },
  {
   "cell_type": "code",
   "execution_count": 117,
   "metadata": {},
   "outputs": [
    {
     "name": "stdout",
     "output_type": "stream",
     "text": [
      "[[0 3 7 4 6]\n",
      " [4 4 5 3 1]\n",
      " [6 2 5 0 2]\n",
      " [2 6 8 4 9]\n",
      " [2 5 0 6 0]]\n"
     ]
    }
   ],
   "source": [
    "data = np.random.randint(10, size=(5,5))\n",
    "print(data)"
   ]
  },
  {
   "cell_type": "code",
   "execution_count": 118,
   "metadata": {},
   "outputs": [
    {
     "name": "stdout",
     "output_type": "stream",
     "text": [
      "[[0 3 7 4 6]\n",
      " [2 5 0 6 0]]\n"
     ]
    }
   ],
   "source": [
    "filter_rows = np.array([True, False, False, False, True])\n",
    "slice_ = data[filter_rows, :]\n",
    "print(slice_)"
   ]
  },
  {
   "cell_type": "code",
   "execution_count": 122,
   "metadata": {},
   "outputs": [
    {
     "name": "stdout",
     "output_type": "stream",
     "text": [
      "[[0 4]\n",
      " [4 3]\n",
      " [6 0]\n",
      " [2 4]\n",
      " [2 6]]\n"
     ]
    }
   ],
   "source": [
    "filter_cols = np.array([True, False, False, True, False])\n",
    "slice_ = data[:, filter_cols]\n",
    "print(slice_)"
   ]
  },
  {
   "cell_type": "code",
   "execution_count": 124,
   "metadata": {},
   "outputs": [
    {
     "name": "stdout",
     "output_type": "stream",
     "text": [
      "[[0 3 7 4 6]\n",
      " [4 4 5 3 1]\n",
      " [6 2 5 0 2]\n",
      " [2 6 8 4 9]\n",
      " [2 5 0 6 0]]\n",
      "[0 4 4 5 3 6 0 6 4 2 6 0]\n"
     ]
    }
   ],
   "source": [
    "print(data)\n",
    "filter_ = np.array([[True, False, False, True, False],\n",
    "                   [True, False, True, True, False],\n",
    "                   [True, False, False, True, False],\n",
    "                   [False, True, False, True, False],\n",
    "                   [True, False, False, True, True]])\n",
    "slice_ = data[filter_]\n",
    "print(slice_)"
   ]
  },
  {
   "cell_type": "code",
   "execution_count": 125,
   "metadata": {},
   "outputs": [
    {
     "name": "stdout",
     "output_type": "stream",
     "text": [
      "(5, 5)\n",
      "[[0 3 7 4 6]\n",
      " [4 4 5 3 1]\n",
      " [6 2 5 0 2]\n",
      " [2 6 8 4 9]\n",
      " [2 5 0 6 0]]\n",
      "(5, 5)\n",
      "[[False False  True False  True]\n",
      " [False False False False False]\n",
      " [ True False False False False]\n",
      " [False  True  True False  True]\n",
      " [False False False  True False]]\n",
      "(7,)\n",
      "[7 6 6 6 8 9 6]\n"
     ]
    }
   ],
   "source": [
    "print(data.shape)\n",
    "print(data)\n",
    "\n",
    "filter_ = data > 5\n",
    "print(filter_.shape)\n",
    "print(filter_)\n",
    "\n",
    "slice_ = data[filter_]\n",
    "print(slice_.shape)\n",
    "print(slice_)"
   ]
  },
  {
   "cell_type": "markdown",
   "metadata": {},
   "source": [
    "---"
   ]
  },
  {
   "cell_type": "code",
   "execution_count": 127,
   "metadata": {},
   "outputs": [
    {
     "name": "stdout",
     "output_type": "stream",
     "text": [
      "(89560,)\n",
      "[1. 1. 1. ... 6. 6. 6.]\n"
     ]
    }
   ],
   "source": [
    "months = taxi[:, 1]\n",
    "print(months.shape)\n",
    "print(months)"
   ]
  },
  {
   "cell_type": "code",
   "execution_count": 129,
   "metadata": {},
   "outputs": [
    {
     "name": "stdout",
     "output_type": "stream",
     "text": [
      "(89560,)\n",
      "[ True  True  True ... False False False]\n"
     ]
    }
   ],
   "source": [
    "filter_ = months == 1\n",
    "print(filter_.shape)\n",
    "print(filter_)"
   ]
  },
  {
   "cell_type": "code",
   "execution_count": 133,
   "metadata": {},
   "outputs": [
    {
     "name": "stdout",
     "output_type": "stream",
     "text": [
      "(13481, 15)\n",
      "[[2016.      1.      1.      5.      0.      2.      4.     21.   2037.\n",
      "    52.      0.8     5.54   11.65   69.99    1.  ]\n",
      " [2016.      1.      1.      5.      0.      2.      1.     16.29 1520.\n",
      "    45.      1.3     0.      8.     54.3     1.  ]\n",
      " [2016.      1.      1.      5.      0.      2.      6.     12.7  1462.\n",
      "    36.5     1.3     0.      0.     37.8     2.  ]\n",
      " [2016.      1.      1.      5.      0.      2.      6.      8.7  1210.\n",
      "    26.      1.3     0.      5.46   32.76    1.  ]\n",
      " [2016.      1.      1.      5.      0.      2.      6.      5.56  759.\n",
      "    17.5     1.3     0.      0.     18.8     2.  ]]\n"
     ]
    }
   ],
   "source": [
    "januar_rides = taxi[filter_]\n",
    "print(januar_rides.shape)\n",
    "print(januar_rides[:5])"
   ]
  },
  {
   "cell_type": "markdown",
   "metadata": {},
   "source": [
    "----"
   ]
  },
  {
   "cell_type": "code",
   "execution_count": 136,
   "metadata": {},
   "outputs": [
    {
     "name": "stdout",
     "output_type": "stream",
     "text": [
      "Month 1: 13481\n",
      "Month 2: 13333\n",
      "Month 3: 15547\n",
      "Month 4: 14810\n",
      "Month 5: 16650\n",
      "Month 6: 15739\n",
      "Month 7: 0\n",
      "Month 8: 0\n",
      "Month 9: 0\n",
      "Month 10: 0\n",
      "Month 11: 0\n",
      "Month 12: 0\n"
     ]
    }
   ],
   "source": [
    "for month in range(1, 13):\n",
    "    month_array = taxi[:, 1]\n",
    "    filter_ = month_array == month\n",
    "    month_rides = taxi[filter_]\n",
    "    print(f\"Month {month}: {month_rides.shape[0]}\")"
   ]
  },
  {
   "cell_type": "markdown",
   "metadata": {},
   "source": [
    "----"
   ]
  },
  {
   "cell_type": "code",
   "execution_count": 138,
   "metadata": {},
   "outputs": [
    {
     "name": "stdout",
     "output_type": "stream",
     "text": [
      "(89560,)\n",
      "[37.11 38.58 31.27 ... 22.3  42.42 36.9 ]\n"
     ]
    }
   ],
   "source": [
    "print(trips_mph.shape)\n",
    "print(trips_mph)"
   ]
  },
  {
   "cell_type": "code",
   "execution_count": 139,
   "metadata": {},
   "outputs": [
    {
     "name": "stdout",
     "output_type": "stream",
     "text": [
      "(89560,)\n"
     ]
    }
   ],
   "source": [
    "filter_ = trips_mph > 20_000\n",
    "print(filter_.shape)"
   ]
  },
  {
   "cell_type": "code",
   "execution_count": 140,
   "metadata": {},
   "outputs": [
    {
     "name": "stdout",
     "output_type": "stream",
     "text": [
      "(7, 15)\n",
      "[[2016.      1.     22.      5.      3.      2.      2.     23.      1.\n",
      "     2.5     0.8     0.      0.      3.3     2.  ]\n",
      " [2016.      2.     13.      6.      3.      2.      2.     19.6     1.\n",
      "     2.5     0.8     0.      0.      3.3     2.  ]\n",
      " [2016.      3.     23.      3.      2.      2.      2.     16.7     2.\n",
      "    52.      0.8     0.     10.55   63.35    1.  ]\n",
      " [2016.      3.     28.      1.      4.      3.      3.     17.8     2.\n",
      "     2.5     1.8     0.      0.      4.3     2.  ]\n",
      " [2016.      3.     30.      3.      4.      2.      2.     17.2     2.\n",
      "     2.5     1.8     0.      0.      4.3     2.  ]\n",
      " [2016.      4.     24.      7.      5.      3.      3.     16.9     3.\n",
      "    52.      0.8     0.      0.     52.8     3.  ]\n",
      " [2016.      6.     30.      4.      3.      2.      2.     27.1     4.\n",
      "    75.      0.8     0.      0.     75.8     2.  ]]\n"
     ]
    }
   ],
   "source": [
    "fast_trips = taxi[filter_, :]\n",
    "print(fast_trips.shape)\n",
    "print(fast_trips)"
   ]
  },
  {
   "cell_type": "code",
   "execution_count": 141,
   "metadata": {},
   "outputs": [
    {
     "data": {
      "text/plain": [
       "array([[23. ,  1. ],\n",
       "       [19.6,  1. ],\n",
       "       [16.7,  2. ],\n",
       "       [17.8,  2. ],\n",
       "       [17.2,  2. ],\n",
       "       [16.9,  3. ],\n",
       "       [27.1,  4. ]])"
      ]
     },
     "execution_count": 141,
     "metadata": {},
     "output_type": "execute_result"
    }
   ],
   "source": [
    "fast_trips[:, [7, 8]]"
   ]
  },
  {
   "cell_type": "markdown",
   "metadata": {},
   "source": [
    "---"
   ]
  },
  {
   "cell_type": "markdown",
   "metadata": {},
   "source": [
    "# Changing Values"
   ]
  },
  {
   "cell_type": "code",
   "execution_count": 144,
   "metadata": {},
   "outputs": [
    {
     "name": "stdout",
     "output_type": "stream",
     "text": [
      "[1 1 0 0 1 5 6 1 5 3]\n",
      "[100   1   0   0   1   5   6   1   5   3]\n"
     ]
    }
   ],
   "source": [
    "# Changing single value\n",
    "data = np.random.randint(10, size=(10,))\n",
    "print(data)\n",
    "\n",
    "data[0] = 100\n",
    "print(data)"
   ]
  },
  {
   "cell_type": "code",
   "execution_count": 146,
   "metadata": {},
   "outputs": [
    {
     "name": "stdout",
     "output_type": "stream",
     "text": [
      "[6 2 1 3 2 1 6 6 8 5]\n",
      "[100 100 100 100 100   1   6   6   8   5]\n"
     ]
    }
   ],
   "source": [
    "# Changing values with slicing for multiple elements\n",
    "data = np.random.randint(10, size=(10,))\n",
    "print(data)\n",
    "\n",
    "data[:5] = 100\n",
    "print(data)"
   ]
  },
  {
   "cell_type": "code",
   "execution_count": 148,
   "metadata": {},
   "outputs": [
    {
     "name": "stdout",
     "output_type": "stream",
     "text": [
      "[[1 8 1 1 1]\n",
      " [3 3 5 6 5]\n",
      " [1 9 2 2 6]\n",
      " [3 5 6 9 7]\n",
      " [3 0 0 9 0]]\n",
      "[[  1   8   1 100   1]\n",
      " [  3   3   5   6   5]\n",
      " [  1   9   2   2   6]\n",
      " [  3   5   6   9   7]\n",
      " [  3   0   0   9   0]]\n"
     ]
    }
   ],
   "source": [
    "# Changing values for 2D\n",
    "data = np.random.randint(10, size=(5,5))\n",
    "print(data)\n",
    "\n",
    "data[0][3]= 100\n",
    "print(data)"
   ]
  },
  {
   "cell_type": "code",
   "execution_count": 149,
   "metadata": {},
   "outputs": [
    {
     "name": "stdout",
     "output_type": "stream",
     "text": [
      "[[9 4 4 0 9]\n",
      " [4 2 4 6 6]\n",
      " [8 2 3 6 3]\n",
      " [4 4 9 1 0]\n",
      " [3 2 2 3 6]]\n",
      "[[100 100 100 100 100]\n",
      " [  4   2   4   6   6]\n",
      " [  8   2   3   6   3]\n",
      " [  4   4   9   1   0]\n",
      " [  3   2   2   3   6]]\n"
     ]
    }
   ],
   "source": [
    "# Changing whole row\n",
    "data = np.random.randint(10, size=(5,5))\n",
    "print(data)\n",
    "\n",
    "data[0] = 100\n",
    "print(data)"
   ]
  },
  {
   "cell_type": "code",
   "execution_count": 151,
   "metadata": {},
   "outputs": [
    {
     "name": "stdout",
     "output_type": "stream",
     "text": [
      "[[3 3 5 1 0]\n",
      " [3 9 8 5 7]\n",
      " [5 5 4 6 0]\n",
      " [4 0 2 0 4]\n",
      " [1 7 1 9 4]]\n",
      "[[  3   3   5 100   0]\n",
      " [  3   9   8 100   7]\n",
      " [  5   5   4 100   0]\n",
      " [  4   0   2 100   4]\n",
      " [  1   7   1 100   4]]\n"
     ]
    }
   ],
   "source": [
    "# Changing whole columns\n",
    "data = np.random.randint(10, size=(5,5))\n",
    "print(data)\n",
    "\n",
    "data[:, 3] = 100\n",
    "print(data)"
   ]
  },
  {
   "cell_type": "code",
   "execution_count": 160,
   "metadata": {},
   "outputs": [
    {
     "name": "stdout",
     "output_type": "stream",
     "text": [
      "[[6 5 4 6 4]\n",
      " [6 8 2 3 0]\n",
      " [0 6 2 7 2]\n",
      " [5 8 6 5 8]\n",
      " [8 5 1 9 6]]\n",
      "[[100   5   4 100   4]\n",
      " [100 100   2   3   0]\n",
      " [  0 100   2 100   2]\n",
      " [  5 100 100   5 100]\n",
      " [100   5   1 100 100]]\n"
     ]
    }
   ],
   "source": [
    "# Changin value using boolean array\n",
    "data = np.random.randint(10, size=(5,5))\n",
    "print(data)\n",
    "\n",
    "filter_ = data > 5\n",
    "data[filter_] = 100\n",
    "print(data)"
   ]
  },
  {
   "cell_type": "markdown",
   "metadata": {},
   "source": [
    "----"
   ]
  },
  {
   "cell_type": "code",
   "execution_count": 164,
   "metadata": {},
   "outputs": [
    {
     "name": "stdout",
     "output_type": "stream",
     "text": [
      "[[2016.      1.      1.      5.      0.      2.      4.     21.   2037.\n",
      "    52.      0.8     5.54   11.65   69.99    1.  ]\n",
      " [2016.      1.      1.      5.      0.      2.      1.     16.29 1520.\n",
      "    45.      1.3     0.      8.     54.3     1.  ]\n",
      " [2016.      1.      1.      5.      0.      2.      6.     12.7  1462.\n",
      "    36.5     1.3     0.      0.     37.8     2.  ]\n",
      " [2016.      1.      1.      5.      0.      2.      6.      8.7  1210.\n",
      "    26.      1.3     0.      5.46   32.76    1.  ]]\n"
     ]
    }
   ],
   "source": [
    "total_amount = taxi[:, -2]\n",
    "\n",
    "filter_ = total_amount < 0\n",
    "taxi[filter_, 13] = 0\n",
    "\n",
    "print(taxi[:4])"
   ]
  },
  {
   "cell_type": "code",
   "execution_count": null,
   "metadata": {},
   "outputs": [],
   "source": []
  },
  {
   "cell_type": "code",
   "execution_count": null,
   "metadata": {},
   "outputs": [],
   "source": []
  },
  {
   "cell_type": "markdown",
   "metadata": {},
   "source": [
    "## Ndarray copy"
   ]
  },
  {
   "cell_type": "code",
   "execution_count": 169,
   "metadata": {},
   "outputs": [
    {
     "name": "stdout",
     "output_type": "stream",
     "text": [
      "[[9 2 8 9 8]\n",
      " [0 9 3 2 7]\n",
      " [2 7 1 9 6]\n",
      " [2 7 4 2 5]\n",
      " [4 5 7 6 4]]\n",
      "[[9 3 2]\n",
      " [7 1 9]\n",
      " [7 4 2]]\n",
      "Data slice\n",
      "[[-10   3   2]\n",
      " [  7   1   9]\n",
      " [  7   4   2]]\n",
      "Original data\n",
      "[[  9   2   8   9   8]\n",
      " [  0 -10   3   2   7]\n",
      " [  2   7   1   9   6]\n",
      " [  2   7   4   2   5]\n",
      " [  4   5   7   6   4]]\n"
     ]
    }
   ],
   "source": [
    "# Slicing data doesnt create a copy of data\n",
    "data = np.random.randint(10, size=(5,5))\n",
    "print(data)\n",
    "\n",
    "data_slice = data[1:4, 1:4]\n",
    "print(data_slice)\n",
    "\n",
    "data_slice[0, 0] = -10\n",
    "print(\"Data slice\")\n",
    "print(data_slice)\n",
    "\n",
    "print(\"Original data\")\n",
    "print(data)"
   ]
  },
  {
   "cell_type": "code",
   "execution_count": 171,
   "metadata": {},
   "outputs": [
    {
     "name": "stdout",
     "output_type": "stream",
     "text": [
      "[[6 4 5 5 6]\n",
      " [9 6 7 9 6]\n",
      " [7 0 8 5 6]\n",
      " [8 7 7 7 4]\n",
      " [8 9 3 5 2]]\n",
      "[[6 7 9]\n",
      " [0 8 5]\n",
      " [7 7 7]]\n",
      "Data slice\n",
      "[[-10   7   9]\n",
      " [  0   8   5]\n",
      " [  7   7   7]]\n",
      "Original data\n",
      "[[6 4 5 5 6]\n",
      " [9 6 7 9 6]\n",
      " [7 0 8 5 6]\n",
      " [8 7 7 7 4]\n",
      " [8 9 3 5 2]]\n"
     ]
    }
   ],
   "source": [
    "# Creating a copy of data\n",
    "data = np.random.randint(10, size=(5,5))\n",
    "print(data)\n",
    "\n",
    "data_slice = data[1:4, 1:4].copy()\n",
    "print(data_slice)\n",
    "\n",
    "data_slice[0, 0] = -10\n",
    "print(\"Data slice\")\n",
    "print(data_slice)\n",
    "\n",
    "print(\"Original data\")\n",
    "print(data)"
   ]
  },
  {
   "cell_type": "code",
   "execution_count": 172,
   "metadata": {},
   "outputs": [
    {
     "name": "stdout",
     "output_type": "stream",
     "text": [
      "[[7 2 2 9 4]\n",
      " [0 5 1 1 8]\n",
      " [1 6 0 3 2]\n",
      " [2 2 4 7 1]\n",
      " [8 9 3 1 8]]\n"
     ]
    }
   ],
   "source": [
    "# Creating a copy of data\n",
    "data = np.random.randint(10, size=(5,5))\n",
    "print(data)"
   ]
  },
  {
   "cell_type": "code",
   "execution_count": 173,
   "metadata": {},
   "outputs": [
    {
     "name": "stdout",
     "output_type": "stream",
     "text": [
      "[[100 100 100 100 100]\n",
      " [  0   5   1   1   8]\n",
      " [  1   6   0   3   2]\n",
      " [  2   2   4   7   1]\n",
      " [  8   9   3   1   8]]\n"
     ]
    }
   ],
   "source": [
    "# Analiza 1\n",
    "data1 = data.copy()\n",
    "data1[0] = 100\n",
    "print(data1)"
   ]
  },
  {
   "cell_type": "code",
   "execution_count": 174,
   "metadata": {},
   "outputs": [
    {
     "name": "stdout",
     "output_type": "stream",
     "text": [
      "[[7 2 2 9 4]\n",
      " [0 5 1 1 8]\n",
      " [1 6 0 3 2]\n",
      " [2 2 4 7 1]\n",
      " [8 9 3 1 8]]\n"
     ]
    }
   ],
   "source": [
    "# Analiza2\n",
    "data2 = data.copy()\n",
    "data2[0] = 200\n",
    "print(data)"
   ]
  },
  {
   "cell_type": "code",
   "execution_count": 176,
   "metadata": {
    "scrolled": true
   },
   "outputs": [
    {
     "name": "stdout",
     "output_type": "stream",
     "text": [
      "[[7 2 2 9 4]\n",
      " [0 5 1 1 8]\n",
      " [1 6 0 3 2]\n",
      " [2 2 4 7 1]\n",
      " [8 9 3 1 8]]\n"
     ]
    }
   ],
   "source": [
    "print(data)"
   ]
  },
  {
   "cell_type": "code",
   "execution_count": null,
   "metadata": {},
   "outputs": [],
   "source": []
  },
  {
   "cell_type": "markdown",
   "metadata": {},
   "source": [
    "---"
   ]
  },
  {
   "cell_type": "markdown",
   "metadata": {},
   "source": [
    "# Changing ndarrays"
   ]
  },
  {
   "cell_type": "markdown",
   "metadata": {},
   "source": [
    "## Extending rows and columns"
   ]
  },
  {
   "cell_type": "markdown",
   "metadata": {},
   "source": [
    "[numpy.concatenate()](https://numpy.org/doc/stable/reference/generated/numpy.concatenate.html)"
   ]
  },
  {
   "cell_type": "code",
   "execution_count": 190,
   "metadata": {},
   "outputs": [
    {
     "name": "stdout",
     "output_type": "stream",
     "text": [
      "(3,) [0. 0. 0.]\n",
      "(3,) [1. 1. 1.]\n"
     ]
    }
   ],
   "source": [
    "nd1 = np.zeros(shape=3)\n",
    "print(nd1.shape, nd1)\n",
    "\n",
    "nd2 = np.ones(shape=3)\n",
    "print(nd2.shape, nd2)"
   ]
  },
  {
   "cell_type": "code",
   "execution_count": 193,
   "metadata": {},
   "outputs": [
    {
     "name": "stdout",
     "output_type": "stream",
     "text": [
      "(6,)\n",
      "[0. 0. 0. 1. 1. 1.]\n"
     ]
    }
   ],
   "source": [
    "data = np.concatenate([nd1, nd2], axis=0)\n",
    "print(data.shape)\n",
    "print(data)"
   ]
  },
  {
   "cell_type": "code",
   "execution_count": 185,
   "metadata": {},
   "outputs": [
    {
     "name": "stdout",
     "output_type": "stream",
     "text": [
      "(2, 3)\n",
      "[[0. 0. 0.]\n",
      " [0. 0. 0.]]\n",
      "(3,)\n",
      "[1. 1. 1.]\n"
     ]
    },
    {
     "ename": "ValueError",
     "evalue": "all the input arrays must have same number of dimensions, but the array at index 0 has 2 dimension(s) and the array at index 1 has 1 dimension(s)",
     "output_type": "error",
     "traceback": [
      "\u001b[1;31m---------------------------------------------------------------------------\u001b[0m",
      "\u001b[1;31mValueError\u001b[0m                                Traceback (most recent call last)",
      "Cell \u001b[1;32mIn [185], line 9\u001b[0m\n\u001b[0;32m      6\u001b[0m \u001b[38;5;28mprint\u001b[39m(nd2\u001b[38;5;241m.\u001b[39mshape)\n\u001b[0;32m      7\u001b[0m \u001b[38;5;28mprint\u001b[39m(nd2)\n\u001b[1;32m----> 9\u001b[0m data \u001b[38;5;241m=\u001b[39m \u001b[43mnp\u001b[49m\u001b[38;5;241;43m.\u001b[39;49m\u001b[43mconcatenate\u001b[49m\u001b[43m(\u001b[49m\u001b[43m[\u001b[49m\u001b[43mnd1\u001b[49m\u001b[43m,\u001b[49m\u001b[43m \u001b[49m\u001b[43mnd2\u001b[49m\u001b[43m]\u001b[49m\u001b[43m,\u001b[49m\u001b[43m \u001b[49m\u001b[43maxis\u001b[49m\u001b[38;5;241;43m=\u001b[39;49m\u001b[38;5;241;43m0\u001b[39;49m\u001b[43m)\u001b[49m\n\u001b[0;32m     10\u001b[0m \u001b[38;5;28mprint\u001b[39m(data\u001b[38;5;241m.\u001b[39mshape)\n\u001b[0;32m     11\u001b[0m \u001b[38;5;28mprint\u001b[39m(data)\n",
      "File \u001b[1;32m<__array_function__ internals>:180\u001b[0m, in \u001b[0;36mconcatenate\u001b[1;34m(*args, **kwargs)\u001b[0m\n",
      "\u001b[1;31mValueError\u001b[0m: all the input arrays must have same number of dimensions, but the array at index 0 has 2 dimension(s) and the array at index 1 has 1 dimension(s)"
     ]
    }
   ],
   "source": [
    "nd1 = np.zeros(shape=(2,3))\n",
    "print(nd1.shape)\n",
    "print(nd1)\n",
    "\n",
    "nd2 = np.ones(shape=(3))\n",
    "print(nd2.shape)\n",
    "print(nd2)\n",
    "\n",
    "data = np.concatenate([nd1, nd2], axis=0)\n",
    "print(data.shape)\n",
    "print(data)"
   ]
  },
  {
   "cell_type": "markdown",
   "metadata": {},
   "source": [
    "[numpy.reshape()](https://numpy.org/doc/stable/reference/generated/numpy.reshape.html)"
   ]
  },
  {
   "cell_type": "code",
   "execution_count": 187,
   "metadata": {},
   "outputs": [
    {
     "name": "stdout",
     "output_type": "stream",
     "text": [
      "(3,)\n",
      "(1, 3)\n",
      "[[1. 1. 1.]]\n"
     ]
    }
   ],
   "source": [
    "print(nd2.shape)\n",
    "\n",
    "nd2 = np.reshape(nd2, newshape=(1,3))\n",
    "print(nd2.shape)\n",
    "print(nd2)"
   ]
  },
  {
   "cell_type": "code",
   "execution_count": 189,
   "metadata": {},
   "outputs": [
    {
     "name": "stdout",
     "output_type": "stream",
     "text": [
      "(3, 3)\n",
      "[[0. 0. 0.]\n",
      " [0. 0. 0.]\n",
      " [1. 1. 1.]]\n"
     ]
    }
   ],
   "source": [
    "data = np.concatenate([nd1, nd2], axis=0)\n",
    "print(data.shape)\n",
    "print(data)"
   ]
  },
  {
   "cell_type": "markdown",
   "metadata": {},
   "source": [
    "---"
   ]
  },
  {
   "cell_type": "code",
   "execution_count": 201,
   "metadata": {
    "scrolled": true
   },
   "outputs": [
    {
     "name": "stdout",
     "output_type": "stream",
     "text": [
      "(3,) [0. 0. 0.]\n",
      "(3,) [1. 1. 1.]\n",
      "Data before reshape\n",
      "[0. 0. 0. 1. 1. 1.]\n",
      "Data after reshape\n",
      "[[0. 0. 0.]\n",
      " [1. 1. 1.]]\n"
     ]
    }
   ],
   "source": [
    "nd1 = np.zeros(shape=3)\n",
    "print(nd1.shape, nd1)\n",
    "\n",
    "nd2 = np.ones(shape=3)\n",
    "print(nd2.shape, nd2)\n",
    "\n",
    "data = np.concatenate([nd1, nd2], axis=0)\n",
    "print(\"Data before reshape\")\n",
    "print(data)\n",
    "\n",
    "data = np.reshape(data, newshape=(2,3))\n",
    "#data = np.reshape(data, newshape=(2,-1)) # numpy sam izračuna manjkajočo dimenzijo\n",
    "print(\"Data after reshape\")\n",
    "print(data)"
   ]
  },
  {
   "cell_type": "code",
   "execution_count": 199,
   "metadata": {},
   "outputs": [
    {
     "name": "stdout",
     "output_type": "stream",
     "text": [
      "(1, 3) [[0. 0. 0.]]\n",
      "(1, 3) [[1. 1. 1.]]\n",
      "[[0. 0. 0.]\n",
      " [1. 1. 1.]]\n"
     ]
    }
   ],
   "source": [
    "nd1 = np.zeros(shape=(1,3))\n",
    "print(nd1.shape, nd1)\n",
    "\n",
    "nd2 = np.ones(shape=(1,3))\n",
    "print(nd2.shape, nd2)\n",
    "\n",
    "data = np.concatenate([nd1, nd2], axis=0)\n",
    "print(data)"
   ]
  },
  {
   "cell_type": "code",
   "execution_count": null,
   "metadata": {},
   "outputs": [],
   "source": []
  },
  {
   "cell_type": "code",
   "execution_count": 203,
   "metadata": {},
   "outputs": [
    {
     "name": "stdout",
     "output_type": "stream",
     "text": [
      "(4,) [0. 0. 0. 0.]\n",
      "(3,) [1. 1. 1.]\n",
      "Data before reshape\n",
      "[0. 0. 0. 0. 1. 1. 1.]\n"
     ]
    },
    {
     "ename": "ValueError",
     "evalue": "cannot reshape array of size 7 into shape (2,newaxis)",
     "output_type": "error",
     "traceback": [
      "\u001b[1;31m---------------------------------------------------------------------------\u001b[0m",
      "\u001b[1;31mValueError\u001b[0m                                Traceback (most recent call last)",
      "Cell \u001b[1;32mIn [203], line 11\u001b[0m\n\u001b[0;32m      8\u001b[0m \u001b[38;5;28mprint\u001b[39m(\u001b[38;5;124m\"\u001b[39m\u001b[38;5;124mData before reshape\u001b[39m\u001b[38;5;124m\"\u001b[39m)\n\u001b[0;32m      9\u001b[0m \u001b[38;5;28mprint\u001b[39m(data)\n\u001b[1;32m---> 11\u001b[0m data \u001b[38;5;241m=\u001b[39m \u001b[43mnp\u001b[49m\u001b[38;5;241;43m.\u001b[39;49m\u001b[43mreshape\u001b[49m\u001b[43m(\u001b[49m\u001b[43mdata\u001b[49m\u001b[43m,\u001b[49m\u001b[43m \u001b[49m\u001b[43mnewshape\u001b[49m\u001b[38;5;241;43m=\u001b[39;49m\u001b[43m(\u001b[49m\u001b[38;5;241;43m2\u001b[39;49m\u001b[43m,\u001b[49m\u001b[38;5;241;43m-\u001b[39;49m\u001b[38;5;241;43m1\u001b[39;49m\u001b[43m)\u001b[49m\u001b[43m)\u001b[49m \u001b[38;5;66;03m# numpy sam izračuna manjkajočo dimenzijo\u001b[39;00m\n\u001b[0;32m     12\u001b[0m \u001b[38;5;28mprint\u001b[39m(\u001b[38;5;124m\"\u001b[39m\u001b[38;5;124mData after reshape\u001b[39m\u001b[38;5;124m\"\u001b[39m)\n\u001b[0;32m     13\u001b[0m \u001b[38;5;28mprint\u001b[39m(data)\n",
      "File \u001b[1;32m<__array_function__ internals>:180\u001b[0m, in \u001b[0;36mreshape\u001b[1;34m(*args, **kwargs)\u001b[0m\n",
      "File \u001b[1;32m~\\AppData\\Local\\Programs\\Python\\Python310\\lib\\site-packages\\numpy\\core\\fromnumeric.py:298\u001b[0m, in \u001b[0;36mreshape\u001b[1;34m(a, newshape, order)\u001b[0m\n\u001b[0;32m    198\u001b[0m \u001b[38;5;129m@array_function_dispatch\u001b[39m(_reshape_dispatcher)\n\u001b[0;32m    199\u001b[0m \u001b[38;5;28;01mdef\u001b[39;00m \u001b[38;5;21mreshape\u001b[39m(a, newshape, order\u001b[38;5;241m=\u001b[39m\u001b[38;5;124m'\u001b[39m\u001b[38;5;124mC\u001b[39m\u001b[38;5;124m'\u001b[39m):\n\u001b[0;32m    200\u001b[0m     \u001b[38;5;124;03m\"\"\"\u001b[39;00m\n\u001b[0;32m    201\u001b[0m \u001b[38;5;124;03m    Gives a new shape to an array without changing its data.\u001b[39;00m\n\u001b[0;32m    202\u001b[0m \n\u001b[1;32m   (...)\u001b[0m\n\u001b[0;32m    296\u001b[0m \u001b[38;5;124;03m           [5, 6]])\u001b[39;00m\n\u001b[0;32m    297\u001b[0m \u001b[38;5;124;03m    \"\"\"\u001b[39;00m\n\u001b[1;32m--> 298\u001b[0m     \u001b[38;5;28;01mreturn\u001b[39;00m \u001b[43m_wrapfunc\u001b[49m\u001b[43m(\u001b[49m\u001b[43ma\u001b[49m\u001b[43m,\u001b[49m\u001b[43m \u001b[49m\u001b[38;5;124;43m'\u001b[39;49m\u001b[38;5;124;43mreshape\u001b[39;49m\u001b[38;5;124;43m'\u001b[39;49m\u001b[43m,\u001b[49m\u001b[43m \u001b[49m\u001b[43mnewshape\u001b[49m\u001b[43m,\u001b[49m\u001b[43m \u001b[49m\u001b[43morder\u001b[49m\u001b[38;5;241;43m=\u001b[39;49m\u001b[43morder\u001b[49m\u001b[43m)\u001b[49m\n",
      "File \u001b[1;32m~\\AppData\\Local\\Programs\\Python\\Python310\\lib\\site-packages\\numpy\\core\\fromnumeric.py:57\u001b[0m, in \u001b[0;36m_wrapfunc\u001b[1;34m(obj, method, *args, **kwds)\u001b[0m\n\u001b[0;32m     54\u001b[0m     \u001b[38;5;28;01mreturn\u001b[39;00m _wrapit(obj, method, \u001b[38;5;241m*\u001b[39margs, \u001b[38;5;241m*\u001b[39m\u001b[38;5;241m*\u001b[39mkwds)\n\u001b[0;32m     56\u001b[0m \u001b[38;5;28;01mtry\u001b[39;00m:\n\u001b[1;32m---> 57\u001b[0m     \u001b[38;5;28;01mreturn\u001b[39;00m bound(\u001b[38;5;241m*\u001b[39margs, \u001b[38;5;241m*\u001b[39m\u001b[38;5;241m*\u001b[39mkwds)\n\u001b[0;32m     58\u001b[0m \u001b[38;5;28;01mexcept\u001b[39;00m \u001b[38;5;167;01mTypeError\u001b[39;00m:\n\u001b[0;32m     59\u001b[0m     \u001b[38;5;66;03m# A TypeError occurs if the object does have such a method in its\u001b[39;00m\n\u001b[0;32m     60\u001b[0m     \u001b[38;5;66;03m# class, but its signature is not identical to that of NumPy's. This\u001b[39;00m\n\u001b[1;32m   (...)\u001b[0m\n\u001b[0;32m     64\u001b[0m     \u001b[38;5;66;03m# Call _wrapit from within the except clause to ensure a potential\u001b[39;00m\n\u001b[0;32m     65\u001b[0m     \u001b[38;5;66;03m# exception has a traceback chain.\u001b[39;00m\n\u001b[0;32m     66\u001b[0m     \u001b[38;5;28;01mreturn\u001b[39;00m _wrapit(obj, method, \u001b[38;5;241m*\u001b[39margs, \u001b[38;5;241m*\u001b[39m\u001b[38;5;241m*\u001b[39mkwds)\n",
      "\u001b[1;31mValueError\u001b[0m: cannot reshape array of size 7 into shape (2,newaxis)"
     ]
    }
   ],
   "source": [
    "nd1 = np.zeros(shape=4)\n",
    "print(nd1.shape, nd1)\n",
    "\n",
    "nd2 = np.ones(shape=3)\n",
    "print(nd2.shape, nd2)\n",
    "\n",
    "data = np.concatenate([nd1, nd2], axis=0)\n",
    "print(\"Data before reshape\")\n",
    "print(data)\n",
    "\n",
    "data = np.reshape(data, newshape=(2,-1)) # numpy sam izračuna manjkajočo dimenzijo\n",
    "print(\"Data after reshape\")\n",
    "print(data)"
   ]
  },
  {
   "cell_type": "code",
   "execution_count": null,
   "metadata": {},
   "outputs": [],
   "source": []
  },
  {
   "cell_type": "code",
   "execution_count": null,
   "metadata": {},
   "outputs": [],
   "source": []
  },
  {
   "cell_type": "code",
   "execution_count": null,
   "metadata": {},
   "outputs": [],
   "source": []
  },
  {
   "cell_type": "markdown",
   "metadata": {},
   "source": [
    "## How shapes are handeled"
   ]
  },
  {
   "cell_type": "code",
   "execution_count": 210,
   "metadata": {},
   "outputs": [
    {
     "name": "stdout",
     "output_type": "stream",
     "text": [
      "[ 0  1  2  3  4  5  6  7  8  9 10 11]\n"
     ]
    }
   ],
   "source": [
    "a = np.arange(12)\n",
    "print(a)"
   ]
  },
  {
   "cell_type": "markdown",
   "metadata": {},
   "source": [
    "<pre class=\"lang-py s-code-block\"><code class=\"hljs language-python\">┌────┬────┬────┬────┬────┬────┬────┬────┬────┬────┬────┬────┐\n",
    "│  <span class=\"hljs-number\">0</span> │  <span class=\"hljs-number\">1</span> │  <span class=\"hljs-number\">2</span> │  <span class=\"hljs-number\">3</span> │  <span class=\"hljs-number\">4</span> │  <span class=\"hljs-number\">5</span> │  <span class=\"hljs-number\">6</span> │  <span class=\"hljs-number\">7</span> │  <span class=\"hljs-number\">8</span> │  <span class=\"hljs-number\">9</span> │ <span class=\"hljs-number\">10</span> │ <span class=\"hljs-number\">11</span> │\n",
    "└────┴────┴────┴────┴────┴────┴────┴────┴────┴────┴────┴────┘\n",
    "</code></pre>"
   ]
  },
  {
   "cell_type": "code",
   "execution_count": 211,
   "metadata": {},
   "outputs": [
    {
     "data": {
      "text/plain": [
       "(2218900872016, False)"
      ]
     },
     "execution_count": 211,
     "metadata": {},
     "output_type": "execute_result"
    }
   ],
   "source": [
    "a.__array_interface__[\"data\"]"
   ]
  },
  {
   "cell_type": "code",
   "execution_count": 212,
   "metadata": {},
   "outputs": [
    {
     "data": {
      "text/plain": [
       "(12,)"
      ]
     },
     "execution_count": 212,
     "metadata": {},
     "output_type": "execute_result"
    }
   ],
   "source": [
    "a.shape"
   ]
  },
  {
   "cell_type": "markdown",
   "metadata": {},
   "source": [
    "<pre class=\"lang-py s-code-block\"><code class=\"hljs language-python\">i= <span class=\"hljs-number\">0</span>    <span class=\"hljs-number\">1</span>    <span class=\"hljs-number\">2</span>    <span class=\"hljs-number\">3</span>    <span class=\"hljs-number\">4</span>    <span class=\"hljs-number\">5</span>    <span class=\"hljs-number\">6</span>    <span class=\"hljs-number\">7</span>    <span class=\"hljs-number\">8</span>    <span class=\"hljs-number\">9</span>   <span class=\"hljs-number\">10</span>   <span class=\"hljs-number\">11</span>\n",
    "┌────┬────┬────┬────┬────┬────┬────┬────┬────┬────┬────┬────┐\n",
    "│  <span class=\"hljs-number\">0</span> │  <span class=\"hljs-number\">1</span> │  <span class=\"hljs-number\">2</span> │  <span class=\"hljs-number\">3</span> │  <span class=\"hljs-number\">4</span> │  <span class=\"hljs-number\">5</span> │  <span class=\"hljs-number\">6</span> │  <span class=\"hljs-number\">7</span> │  <span class=\"hljs-number\">8</span> │  <span class=\"hljs-number\">9</span> │ <span class=\"hljs-number\">10</span> │ <span class=\"hljs-number\">11</span> │\n",
    "└────┴────┴────┴────┴────┴────┴────┴────┴────┴────┴────┴────┘\n",
    "</code></pre>"
   ]
  },
  {
   "cell_type": "code",
   "execution_count": 213,
   "metadata": {},
   "outputs": [
    {
     "data": {
      "text/plain": [
       "2"
      ]
     },
     "execution_count": 213,
     "metadata": {},
     "output_type": "execute_result"
    }
   ],
   "source": [
    "a[2]"
   ]
  },
  {
   "cell_type": "code",
   "execution_count": 214,
   "metadata": {},
   "outputs": [
    {
     "name": "stdout",
     "output_type": "stream",
     "text": [
      "[[ 0  1  2  3]\n",
      " [ 4  5  6  7]\n",
      " [ 8  9 10 11]]\n"
     ]
    }
   ],
   "source": [
    "b = a.reshape((3,4))\n",
    "print(b)"
   ]
  },
  {
   "cell_type": "code",
   "execution_count": 215,
   "metadata": {},
   "outputs": [
    {
     "data": {
      "text/plain": [
       "(2218900872016, False)"
      ]
     },
     "execution_count": 215,
     "metadata": {},
     "output_type": "execute_result"
    }
   ],
   "source": [
    "b.__array_interface__[\"data\"]"
   ]
  },
  {
   "cell_type": "markdown",
   "metadata": {},
   "source": [
    "<pre class=\"lang-py s-code-block\"><code class=\"hljs language-python\">i= <span class=\"hljs-number\">0</span>    <span class=\"hljs-number\">0</span>    <span class=\"hljs-number\">0</span>    <span class=\"hljs-number\">0</span>    <span class=\"hljs-number\">1</span>    <span class=\"hljs-number\">1</span>    <span class=\"hljs-number\">1</span>    <span class=\"hljs-number\">1</span>    <span class=\"hljs-number\">2</span>    <span class=\"hljs-number\">2</span>    <span class=\"hljs-number\">2</span>    <span class=\"hljs-number\">2</span>\n",
    "j= <span class=\"hljs-number\">0</span>    <span class=\"hljs-number\">1</span>    <span class=\"hljs-number\">2</span>    <span class=\"hljs-number\">3</span>    <span class=\"hljs-number\">0</span>    <span class=\"hljs-number\">1</span>    <span class=\"hljs-number\">2</span>    <span class=\"hljs-number\">3</span>    <span class=\"hljs-number\">0</span>    <span class=\"hljs-number\">1</span>    <span class=\"hljs-number\">2</span>    <span class=\"hljs-number\">3</span>\n",
    "┌────┬────┬────┬────┬────┬────┬────┬────┬────┬────┬────┬────┐\n",
    "│  <span class=\"hljs-number\">0</span> │  <span class=\"hljs-number\">1</span> │  <span class=\"hljs-number\">2</span> │  <span class=\"hljs-number\">3</span> │  <span class=\"hljs-number\">4</span> │  <span class=\"hljs-number\">5</span> │  <span class=\"hljs-number\">6</span> │  <span class=\"hljs-number\">7</span> │  <span class=\"hljs-number\">8</span> │  <span class=\"hljs-number\">9</span> │ <span class=\"hljs-number\">10</span> │ <span class=\"hljs-number\">11</span> │\n",
    "└────┴────┴────┴────┴────┴────┴────┴────┴────┴────┴────┴────┘\n",
    "</code></pre>"
   ]
  },
  {
   "cell_type": "code",
   "execution_count": 216,
   "metadata": {},
   "outputs": [
    {
     "data": {
      "text/plain": [
       "2"
      ]
     },
     "execution_count": 216,
     "metadata": {},
     "output_type": "execute_result"
    }
   ],
   "source": [
    "b[0, 2]"
   ]
  },
  {
   "cell_type": "markdown",
   "metadata": {},
   "source": [
    "---"
   ]
  },
  {
   "cell_type": "markdown",
   "metadata": {},
   "source": [
    "# Katero letališče je najbolj obiskano"
   ]
  },
  {
   "cell_type": "code",
   "execution_count": 220,
   "metadata": {},
   "outputs": [
    {
     "name": "stdout",
     "output_type": "stream",
     "text": [
      "11832\n"
     ]
    }
   ],
   "source": [
    "jfk_filter = taxi[:, 6] == 2\n",
    "jfk_subset = taxi[jfk_filter]\n",
    "# print(jfk_filter.sum())\n",
    "print(jfk_subset.shape[0])"
   ]
  },
  {
   "cell_type": "code",
   "execution_count": 222,
   "metadata": {},
   "outputs": [
    {
     "name": "stdout",
     "output_type": "stream",
     "text": [
      "16602\n"
     ]
    }
   ],
   "source": [
    "laguardia_filter = taxi[:, 6] == 3\n",
    "laguardia_subset= taxi[laguardia_filter]\n",
    "# print(laguardia_filter.sum())\n",
    "print(laguardia_subset.shape[0])"
   ]
  },
  {
   "cell_type": "code",
   "execution_count": 224,
   "metadata": {},
   "outputs": [
    {
     "name": "stdout",
     "output_type": "stream",
     "text": [
      "63\n"
     ]
    }
   ],
   "source": [
    "newark_filter = taxi[:, 6] == 5\n",
    "newark_subset = taxi[newark_filter]\n",
    "# print(newark_filter.sum())\n",
    "print(newark_subset.shape[0])"
   ]
  },
  {
   "cell_type": "markdown",
   "metadata": {},
   "source": [
    "---"
   ]
  },
  {
   "cell_type": "markdown",
   "metadata": {},
   "source": [
    "# Povprečna cena vožnje na miljo do letališča"
   ]
  },
  {
   "cell_type": "code",
   "execution_count": 226,
   "metadata": {},
   "outputs": [
    {
     "name": "stdout",
     "output_type": "stream",
     "text": [
      "JFK - Avg. $ / mile: 3.76\n"
     ]
    }
   ],
   "source": [
    "filter_ = taxi[:, 6] == 2\n",
    "subset = taxi[filter_]\n",
    "\n",
    "total_amount_mean = subset[:, 13].mean()\n",
    "distance_mean = subset[:, 7].mean()\n",
    "avg_dollar_per_mile = total_amount_mean / distance_mean\n",
    "print(f\"JFK - Avg. $ / mile: {avg_dollar_per_mile:.2f}\")"
   ]
  },
  {
   "cell_type": "code",
   "execution_count": 227,
   "metadata": {},
   "outputs": [
    {
     "name": "stdout",
     "output_type": "stream",
     "text": [
      "La Guardia - Avg. $ / mile: 4.29\n"
     ]
    }
   ],
   "source": [
    "filter_ = taxi[:, 6] == 3\n",
    "subset = taxi[filter_]\n",
    "\n",
    "total_amount_mean = subset[:, 13].mean()\n",
    "distance_mean = subset[:, 7].mean()\n",
    "avg_dollar_per_mile = total_amount_mean / distance_mean\n",
    "print(f\"La Guardia - Avg. $ / mile: {avg_dollar_per_mile:.2f}\")"
   ]
  },
  {
   "cell_type": "code",
   "execution_count": 228,
   "metadata": {},
   "outputs": [
    {
     "name": "stdout",
     "output_type": "stream",
     "text": [
      "Newark - Avg. $ / mile: 4.23\n"
     ]
    }
   ],
   "source": [
    "filter_ = taxi[:, 6] == 5\n",
    "subset = taxi[filter_]\n",
    "\n",
    "total_amount_mean = subset[:, 13].mean()\n",
    "distance_mean = subset[:, 7].mean()\n",
    "avg_dollar_per_mile = total_amount_mean / distance_mean\n",
    "print(f\"Newark - Avg. $ / mile: {avg_dollar_per_mile:.2f}\")"
   ]
  },
  {
   "cell_type": "markdown",
   "metadata": {},
   "source": [
    "---"
   ]
  }
 ],
 "metadata": {
  "kernelspec": {
   "display_name": "Python 3 (ipykernel)",
   "language": "python",
   "name": "python3"
  },
  "language_info": {
   "codemirror_mode": {
    "name": "ipython",
    "version": 3
   },
   "file_extension": ".py",
   "mimetype": "text/x-python",
   "name": "python",
   "nbconvert_exporter": "python",
   "pygments_lexer": "ipython3",
   "version": "3.10.8"
  }
 },
 "nbformat": 4,
 "nbformat_minor": 2
}
