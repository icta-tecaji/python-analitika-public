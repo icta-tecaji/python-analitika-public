{
 "cells": [
  {
   "cell_type": "markdown",
   "id": "a3540ac5-d045-4dc8-b5be-6e07f2a25b2f",
   "metadata": {},
   "source": [
    "# Intro to Regex"
   ]
  },
  {
   "cell_type": "markdown",
   "id": "def1fb73-9bb9-46ea-a0bf-b603cc922b35",
   "metadata": {},
   "source": [
    "-> regular expressions"
   ]
  },
  {
   "cell_type": "code",
   "execution_count": 1,
   "id": "03137f72-998d-4edb-a8c8-c3d5c1998ccc",
   "metadata": {},
   "outputs": [],
   "source": [
    "test_email = \"ipcei12@fe.uni-lj.si\""
   ]
  },
  {
   "cell_type": "code",
   "execution_count": 2,
   "id": "100f59b9-7f94-4bc2-bc17-9e7b0501dd9b",
   "metadata": {},
   "outputs": [
    {
     "data": {
      "text/plain": [
       "True"
      ]
     },
     "execution_count": 2,
     "metadata": {},
     "output_type": "execute_result"
    }
   ],
   "source": [
    "\"@\" in test_email"
   ]
  },
  {
   "cell_type": "code",
   "execution_count": 3,
   "id": "984d4b9b-7d9a-4835-96a0-90c4ccb5f7d5",
   "metadata": {},
   "outputs": [],
   "source": [
    "import re"
   ]
  },
  {
   "cell_type": "markdown",
   "id": "dd9a7d44-95fe-442b-a315-17fac395da08",
   "metadata": {},
   "source": [
    "`re.search(<regex>, <string>)`"
   ]
  },
  {
   "cell_type": "markdown",
   "id": "9a7e977b-1b6f-404c-a37a-625a0526cb17",
   "metadata": {},
   "source": [
    "`re.search(<regex>, <string>) scans <string>` looking for the first location where the pattern `<regex>` matches. If a match is found, then re.search() returns a match object. Otherwise, it returns None."
   ]
  },
  {
   "cell_type": "code",
   "execution_count": 4,
   "id": "9cf9dc33-a5d0-4036-a747-1beb53095966",
   "metadata": {},
   "outputs": [
    {
     "data": {
      "text/plain": [
       "<re.Match object; span=(7, 8), match='@'>"
      ]
     },
     "execution_count": 4,
     "metadata": {},
     "output_type": "execute_result"
    }
   ],
   "source": [
    "re.search(\"@\", test_email)"
   ]
  },
  {
   "cell_type": "code",
   "execution_count": 6,
   "id": "b0186980-c4e7-420e-890e-ceebb9d4c018",
   "metadata": {},
   "outputs": [
    {
     "name": "stdout",
     "output_type": "stream",
     "text": [
      "It's an email!\n",
      "Not found!\n"
     ]
    },
    {
     "data": {
      "text/plain": [
       "False"
      ]
     },
     "execution_count": 6,
     "metadata": {},
     "output_type": "execute_result"
    }
   ],
   "source": [
    "def check_if_email(email): \n",
    "    if re.search(\"@\", email):\n",
    "        print(\"It's an email!\")\n",
    "        return True\n",
    "    else:\n",
    "        print(\"Not found!\")\n",
    "        return False\n",
    "\n",
    "check_if_email(test_email)\n",
    "check_if_email(\"rerererere\")"
   ]
  },
  {
   "cell_type": "markdown",
   "id": "a8f3aad9-92e2-4024-83fe-f9653d307f63",
   "metadata": {},
   "source": [
    "https://regexr.com/"
   ]
  },
  {
   "cell_type": "markdown",
   "id": "36a3b5bc-f515-4246-af5d-3ec857bc538c",
   "metadata": {},
   "source": [
    "- `re.search(pattern, string, flags=0)`\n",
    "- `re.match(pattern, string, flags=0)`\n",
    "- `re.fullmatch(pattern, string, flags=0)`\n",
    "- `re.split(pattern, string, maxsplit=0, flags=0)`\n",
    "- `re.findall(pattern, string, flags=0)`"
   ]
  },
  {
   "cell_type": "markdown",
   "id": "b82c8798-41d9-4c9e-bcfb-86f64c8d673f",
   "metadata": {},
   "source": [
    "### Primer 1:"
   ]
  },
  {
   "cell_type": "code",
   "execution_count": 17,
   "id": "7ba107b5-8d04-4a19-b0de-d1c3909ce766",
   "metadata": {},
   "outputs": [
    {
     "data": {
      "text/plain": [
       "['Python 3.12.1', 'Python3.11.4', 'python 3.11.5', 'Python 3.11.7']"
      ]
     },
     "execution_count": 17,
     "metadata": {},
     "output_type": "execute_result"
    }
   ],
   "source": [
    "python_versions = \"dsd ds ds Python 3.12.1 - snkdnksd Python3.11.4 - lalallet  python 3.11.5 - Python 3.11.7 efn fnfmfefm48t4  fief.\"\n",
    "\n",
    "re.findall(r\"[Pp]ython\\s?[23].\\d+.\\d+\", python_versions)"
   ]
  },
  {
   "cell_type": "markdown",
   "id": "d7652e25-32c2-40c2-bf20-2bb392d480f7",
   "metadata": {},
   "source": [
    "### Primer 2: Validacija telefonskih številk"
   ]
  },
  {
   "cell_type": "code",
   "execution_count": 22,
   "id": "695b6812-3b3c-452a-ab4e-0553ea00f489",
   "metadata": {},
   "outputs": [],
   "source": [
    "telefonske_stevilke = [\"041 596 345\", \"0038651575 677\", \"041777567\", \"++433 998 888 43\", \"051-545-434\", \"ddsd233 444 44444\", \"00386 51 889 887\", \"00387031444555\"]"
   ]
  },
  {
   "cell_type": "markdown",
   "id": "20baaa3d-6ceb-4dc1-aecc-f04d84708b11",
   "metadata": {},
   "source": [
    "Cilj: \n",
    "- 0XX XXX XXX\n",
    "- 00386 XX XXX XXX"
   ]
  },
  {
   "cell_type": "code",
   "execution_count": 24,
   "id": "13fa96c6-f946-4a29-8b13-43aea02af464",
   "metadata": {},
   "outputs": [
    {
     "name": "stdout",
     "output_type": "stream",
     "text": [
      "<re.Match object; span=(0, 11), match='041 596 345'>\n",
      "<re.Match object; span=(0, 9), match='041777567'>\n"
     ]
    }
   ],
   "source": [
    "for stevilka in telefonske_stevilke:\n",
    "    match = re.fullmatch(r\"0\\d{2}\\s?\\d{3}\\s?\\d{3}\", stevilka)\n",
    "    if match:\n",
    "        print(match)"
   ]
  },
  {
   "cell_type": "code",
   "execution_count": null,
   "id": "355d780f-6fc5-463f-a961-8683ab431179",
   "metadata": {},
   "outputs": [],
   "source": []
  },
  {
   "cell_type": "code",
   "execution_count": null,
   "id": "2ff1d926-6dfd-4a64-8b37-321660921e94",
   "metadata": {},
   "outputs": [],
   "source": []
  }
 ],
 "metadata": {
  "kernelspec": {
   "display_name": "Python 3 (ipykernel)",
   "language": "python",
   "name": "python3"
  },
  "language_info": {
   "codemirror_mode": {
    "name": "ipython",
    "version": 3
   },
   "file_extension": ".py",
   "mimetype": "text/x-python",
   "name": "python",
   "nbconvert_exporter": "python",
   "pygments_lexer": "ipython3",
   "version": "3.11.7"
  }
 },
 "nbformat": 4,
 "nbformat_minor": 5
}
