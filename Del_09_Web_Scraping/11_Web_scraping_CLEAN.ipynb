{
 "cells": [
  {
   "cell_type": "markdown",
   "metadata": {},
   "source": [
    "# Web scraping"
   ]
  },
  {
   "cell_type": "markdown",
   "metadata": {},
   "source": [
    "## What Is Web Scraping?"
   ]
  },
  {
   "cell_type": "code",
   "execution_count": 19,
   "metadata": {},
   "outputs": [],
   "source": [
    "import pandas as pd\n",
    "import matplotlib.pyplot as plt"
   ]
  },
  {
   "cell_type": "markdown",
   "metadata": {},
   "source": [
    "<img class=\"progressiveMedia-image js-progressiveMedia-image\" data-src=\"https://cdn-images-1.medium.com/max/1600/1*GOyqaID2x1N5lD_rhTDKVQ.png\" src=\"https://cdn-images-1.medium.com/max/1600/1*GOyqaID2x1N5lD_rhTDKVQ.png\">"
   ]
  },
  {
   "cell_type": "markdown",
   "metadata": {},
   "source": [
    "### Why Web Scraping for Data Science?"
   ]
  },
  {
   "cell_type": "markdown",
   "metadata": {},
   "source": [
    "## Network complexity"
   ]
  },
  {
   "cell_type": "markdown",
   "metadata": {},
   "source": [
    "## HTTP"
   ]
  },
  {
   "cell_type": "markdown",
   "metadata": {},
   "source": [
    "## HTTP in Python: The Requests Library"
   ]
  },
  {
   "cell_type": "markdown",
   "metadata": {},
   "source": [
    "[Requests: HTTP for Humans](https://pypi.org/project/requests/)"
   ]
  },
  {
   "cell_type": "code",
   "execution_count": 2,
   "metadata": {},
   "outputs": [],
   "source": [
    "import requests"
   ]
  },
  {
   "cell_type": "code",
   "execution_count": 3,
   "metadata": {},
   "outputs": [],
   "source": [
    "url = 'http://example.com/'\n",
    "\n",
    "response = requests.get(url)"
   ]
  },
  {
   "cell_type": "code",
   "execution_count": 4,
   "metadata": {},
   "outputs": [
    {
     "data": {
      "text/plain": [
       "<Response [200]>"
      ]
     },
     "execution_count": 4,
     "metadata": {},
     "output_type": "execute_result"
    }
   ],
   "source": [
    "response"
   ]
  },
  {
   "cell_type": "code",
   "execution_count": 5,
   "metadata": {},
   "outputs": [
    {
     "data": {
      "text/plain": [
       "200"
      ]
     },
     "execution_count": 5,
     "metadata": {},
     "output_type": "execute_result"
    }
   ],
   "source": [
    "response.status_code"
   ]
  },
  {
   "cell_type": "code",
   "execution_count": 7,
   "metadata": {},
   "outputs": [
    {
     "name": "stdout",
     "output_type": "stream",
     "text": [
      "<!doctype html>\n",
      "<html>\n",
      "<head>\n",
      "    <title>Example Domain</title>\n",
      "\n",
      "    <meta charset=\"utf-8\" />\n",
      "    <meta http-equiv=\"Content-type\" content=\"text/html; charset=utf-8\" />\n",
      "    <meta name=\"viewport\" content=\"width=device-width, initial-scale=1\" />\n",
      "    <style type=\"text/css\">\n",
      "    body {\n",
      "        background-color: #f0f0f2;\n",
      "        margin: 0;\n",
      "        padding: 0;\n",
      "        font-family: -apple-system, system-ui, BlinkMacSystemFont, \"Segoe UI\", \"Open Sans\", \"Helvetica Neue\", Helvetica, Arial, sans-serif;\n",
      "        \n",
      "    }\n",
      "    div {\n",
      "        width: 600px;\n",
      "        margin: 5em auto;\n",
      "        padding: 2em;\n",
      "        background-color: #fdfdff;\n",
      "        border-radius: 0.5em;\n",
      "        box-shadow: 2px 3px 7px 2px rgba(0,0,0,0.02);\n",
      "    }\n",
      "    a:link, a:visited {\n",
      "        color: #38488f;\n",
      "        text-decoration: none;\n",
      "    }\n",
      "    @media (max-width: 700px) {\n",
      "        div {\n",
      "            margin: 0 auto;\n",
      "            width: auto;\n",
      "        }\n",
      "    }\n",
      "    </style>    \n",
      "</head>\n",
      "\n",
      "<body>\n",
      "<div>\n",
      "    <h1>Example Domain</h1>\n",
      "    <p>This domain is for use in illustrative examples in documents. You may use this\n",
      "    domain in literature without prior coordination or asking for permission.</p>\n",
      "    <p><a href=\"https://www.iana.org/domains/example\">More information...</a></p>\n",
      "</div>\n",
      "</body>\n",
      "</html>\n",
      "\n"
     ]
    }
   ],
   "source": [
    "print(response.text)"
   ]
  },
  {
   "cell_type": "markdown",
   "metadata": {},
   "source": [
    "## HTML and CSS"
   ]
  },
  {
   "cell_type": "markdown",
   "metadata": {},
   "source": [
    "### Hypertext Markup Language: HTML"
   ]
  },
  {
   "cell_type": "markdown",
   "metadata": {},
   "source": [
    "Link strani: https://en.wikipedia.org/w/index.php?title=List_of_Game_of_Thrones_episodes"
   ]
  },
  {
   "cell_type": "code",
   "execution_count": 8,
   "metadata": {},
   "outputs": [],
   "source": [
    "import requests\n",
    "\n",
    "url_got = 'https://en.wikipedia.org/wiki/List_of_Game_of_Thrones_episodes'\n",
    "r = requests.get(url_got)"
   ]
  },
  {
   "cell_type": "code",
   "execution_count": 10,
   "metadata": {},
   "outputs": [],
   "source": [
    "tables = pd.read_html('https://en.wikipedia.org/w/index.php?title=List_of_Game_of_Thrones_episodes')"
   ]
  },
  {
   "cell_type": "code",
   "execution_count": 20,
   "metadata": {},
   "outputs": [
    {
     "data": {
      "image/png": "[encoded data removed]",
      "text/plain": [
       "<Figure size 640x480 with 1 Axes>"
      ]
     },
     "metadata": {},
     "output_type": "display_data"
    }
   ],
   "source": [
    "episodes = pd.concat(tables[1:9])\n",
    "episodes.columns = [\"no_overall\", \"no_in_season\", \"title\", \"directed_by\", \"written_by\", \"original_air_date\", \"us_viewers\"]\n",
    "episodes[\"us_viewers\"] = episodes[\"us_viewers\"].str.replace(r\"\\[.+\\]\", \"\", regex=True).astype(\"float\")\n",
    "episodes.plot(x=\"no_overall\", y=\"us_viewers\")\n",
    "plt.show()"
   ]
  },
  {
   "cell_type": "code",
   "execution_count": null,
   "metadata": {},
   "outputs": [],
   "source": []
  },
  {
   "cell_type": "code",
   "execution_count": null,
   "metadata": {},
   "outputs": [],
   "source": []
  },
  {
   "cell_type": "markdown",
   "metadata": {},
   "source": [
    "- `<p>...</p>` to enclose a paragraph;\n",
    "- `<br>` to set a line break;\n",
    "- `<table>...</table>` to start a table block, inside; `<tr>...<tr/>` is used for the rows; and `<td>...</td>` cells;\n",
    "- `<img>` for images;\n",
    "- `<h1>...</h1> to <h6>...</h6>` for headers;\n",
    "- `<div>...</div>` to indicate a “division” in an HTML document, basically used to group a set of elements;\n",
    "- `<a>...</a>` for hyperlinks;\n",
    "- `<ul>...</ul>, <ol>...</ol>` for unordered and ordered lists respectively; inside of these, `<li>...</li>` is used for each list item."
   ]
  },
  {
   "cell_type": "markdown",
   "metadata": {},
   "source": [
    "## Using Your Browser as a Development Tool"
   ]
  },
  {
   "cell_type": "markdown",
   "metadata": {},
   "source": [
    "## The Beautiful Soup Library"
   ]
  },
  {
   "cell_type": "code",
   "execution_count": 43,
   "metadata": {},
   "outputs": [],
   "source": [
    "import requests\n",
    "r = requests.get(url_got)"
   ]
  },
  {
   "cell_type": "code",
   "execution_count": null,
   "metadata": {},
   "outputs": [],
   "source": []
  },
  {
   "cell_type": "code",
   "execution_count": null,
   "metadata": {},
   "outputs": [],
   "source": []
  },
  {
   "cell_type": "code",
   "execution_count": null,
   "metadata": {},
   "outputs": [],
   "source": []
  },
  {
   "cell_type": "code",
   "execution_count": null,
   "metadata": {},
   "outputs": [],
   "source": []
  },
  {
   "cell_type": "code",
   "execution_count": null,
   "metadata": {},
   "outputs": [],
   "source": []
  },
  {
   "cell_type": "code",
   "execution_count": null,
   "metadata": {},
   "outputs": [],
   "source": []
  },
  {
   "cell_type": "code",
   "execution_count": null,
   "metadata": {},
   "outputs": [],
   "source": []
  },
  {
   "cell_type": "code",
   "execution_count": null,
   "metadata": {},
   "outputs": [],
   "source": []
  },
  {
   "cell_type": "code",
   "execution_count": null,
   "metadata": {},
   "outputs": [],
   "source": []
  },
  {
   "cell_type": "code",
   "execution_count": null,
   "metadata": {},
   "outputs": [],
   "source": []
  },
  {
   "cell_type": "code",
   "execution_count": null,
   "metadata": {},
   "outputs": [],
   "source": []
  },
  {
   "cell_type": "code",
   "execution_count": null,
   "metadata": {},
   "outputs": [],
   "source": []
  },
  {
   "cell_type": "code",
   "execution_count": null,
   "metadata": {},
   "outputs": [],
   "source": []
  },
  {
   "cell_type": "code",
   "execution_count": null,
   "metadata": {},
   "outputs": [],
   "source": []
  },
  {
   "cell_type": "code",
   "execution_count": null,
   "metadata": {},
   "outputs": [],
   "source": []
  },
  {
   "cell_type": "code",
   "execution_count": null,
   "metadata": {},
   "outputs": [],
   "source": []
  },
  {
   "cell_type": "code",
   "execution_count": 68,
   "metadata": {},
   "outputs": [],
   "source": [
    "import requests\n",
    "from bs4 import BeautifulSoup\n",
    "url = 'https://en.wikipedia.org/wiki/List_of_Game_of_Thrones_episodes'\n",
    "r = requests.get(url)"
   ]
  },
  {
   "cell_type": "code",
   "execution_count": 69,
   "metadata": {},
   "outputs": [],
   "source": [
    "html_contents = r.text"
   ]
  },
  {
   "cell_type": "code",
   "execution_count": 70,
   "metadata": {},
   "outputs": [],
   "source": [
    "html_soup = BeautifulSoup(html_contents, 'html.parser')"
   ]
  },
  {
   "cell_type": "code",
   "execution_count": null,
   "metadata": {},
   "outputs": [],
   "source": []
  },
  {
   "cell_type": "code",
   "execution_count": null,
   "metadata": {},
   "outputs": [],
   "source": []
  },
  {
   "cell_type": "code",
   "execution_count": null,
   "metadata": {},
   "outputs": [],
   "source": []
  },
  {
   "cell_type": "code",
   "execution_count": null,
   "metadata": {},
   "outputs": [],
   "source": []
  },
  {
   "cell_type": "code",
   "execution_count": null,
   "metadata": {},
   "outputs": [],
   "source": []
  },
  {
   "cell_type": "code",
   "execution_count": 74,
   "metadata": {},
   "outputs": [],
   "source": []
  },
  {
   "cell_type": "markdown",
   "metadata": {},
   "source": [
    "## Web APIs"
   ]
  },
  {
   "cell_type": "markdown",
   "metadata": {},
   "source": [
    "### Primer uporabe APIja"
   ]
  },
  {
   "cell_type": "code",
   "execution_count": 56,
   "metadata": {},
   "outputs": [],
   "source": [
    "import requests"
   ]
  },
  {
   "cell_type": "code",
   "execution_count": 57,
   "metadata": {},
   "outputs": [],
   "source": [
    "articles = []"
   ]
  },
  {
   "cell_type": "code",
   "execution_count": 58,
   "metadata": {},
   "outputs": [],
   "source": [
    "url = 'https://hacker-news.firebaseio.com/v0'\n",
    "top_stories = requests.get(url + '/topstories.json?print=pretty')"
   ]
  },
  {
   "cell_type": "code",
   "execution_count": 59,
   "metadata": {},
   "outputs": [],
   "source": [
    "#top_stories.text"
   ]
  },
  {
   "cell_type": "code",
   "execution_count": 60,
   "metadata": {},
   "outputs": [],
   "source": [
    "top_stories = top_stories.json()"
   ]
  },
  {
   "cell_type": "code",
   "execution_count": 61,
   "metadata": {},
   "outputs": [
    {
     "data": {
      "text/plain": [
       "[39604745,\n",
       " 39604590,\n",
       " 39600810,\n",
       " 39602472,\n",
       " 39604961,\n",
       " 39599958,\n",
       " 39602343,\n",
       " 39601710,\n",
       " 39588895,\n",
       " 39601201,\n",
       " 39602023,\n",
       " 39588745,\n",
       " 39597030,\n",
       " 39598189,\n",
       " 39601538,\n",
       " 39579480,\n",
       " 39587535,\n",
       " 39598903,\n",
       " 39579253,\n",
       " 39597131,\n",
       " 39600031,\n",
       " 39598170,\n",
       " 39572164,\n",
       " 39580647,\n",
       " 39581398,\n",
       " 39592444,\n",
       " 39597525,\n",
       " 39578796,\n",
       " 39603163,\n",
       " 39591972,\n",
       " 39599175,\n",
       " 39604320,\n",
       " 39600600,\n",
       " 39597847,\n",
       " 39579465,\n",
       " 39591772,\n",
       " 39601229,\n",
       " 39590666,\n",
       " 39580219,\n",
       " 39604593,\n",
       " 39578832,\n",
       " 39604117,\n",
       " 39592280,\n",
       " 39571406,\n",
       " 39588830,\n",
       " 39603938,\n",
       " 39600371,\n",
       " 39587763,\n",
       " 39584654,\n",
       " 39600414,\n",
       " 39593767,\n",
       " 39591529,\n",
       " 39592499,\n",
       " 39590683,\n",
       " 39604713,\n",
       " 39586828,\n",
       " 39604935,\n",
       " 39591115,\n",
       " 39587344,\n",
       " 39594541,\n",
       " 39598776,\n",
       " 39600018,\n",
       " 39593256,\n",
       " 39603153,\n",
       " 39589479,\n",
       " 39588293,\n",
       " 39592771,\n",
       " 39603518,\n",
       " 39598801,\n",
       " 39596592,\n",
       " 39571588,\n",
       " 39597184,\n",
       " 39594362,\n",
       " 39575102,\n",
       " 39594355,\n",
       " 39589924,\n",
       " 39593008,\n",
       " 39585527,\n",
       " 39582745,\n",
       " 39592288,\n",
       " 39598699,\n",
       " 39590652,\n",
       " 39589102,\n",
       " 39592993,\n",
       " 39591694,\n",
       " 39575356,\n",
       " 39586770,\n",
       " 39599302,\n",
       " 39596366,\n",
       " 39598703,\n",
       " 39576156,\n",
       " 39588899,\n",
       " 39598837,\n",
       " 39580843,\n",
       " 39575909,\n",
       " 39594687,\n",
       " 39584201,\n",
       " 39589626,\n",
       " 39589457,\n",
       " 39598826,\n",
       " 39590852,\n",
       " 39575264,\n",
       " 39595221,\n",
       " 39574137,\n",
       " 39596646,\n",
       " 39578174,\n",
       " 39587379,\n",
       " 39588977,\n",
       " 39584984,\n",
       " 39580724,\n",
       " 39592689,\n",
       " 39594164,\n",
       " 39573093,\n",
       " 39593384,\n",
       " 39594275,\n",
       " 39585431,\n",
       " 39592702,\n",
       " 39593647,\n",
       " 39596748,\n",
       " 39579725,\n",
       " 39573505,\n",
       " 39580076,\n",
       " 39573389,\n",
       " 39582116,\n",
       " 39580136,\n",
       " 39585265,\n",
       " 39602458,\n",
       " 39587947,\n",
       " 39572858,\n",
       " 39602417,\n",
       " 39571401,\n",
       " 39579447,\n",
       " 39597909,\n",
       " 39591484,\n",
       " 39601512,\n",
       " 39603207,\n",
       " 39574436,\n",
       " 39572106,\n",
       " 39579197,\n",
       " 39591367,\n",
       " 39574051,\n",
       " 39584483,\n",
       " 39574864,\n",
       " 39598250,\n",
       " 39581047,\n",
       " 39590316,\n",
       " 39581498,\n",
       " 39590114,\n",
       " 39582571,\n",
       " 39593590,\n",
       " 39582389,\n",
       " 39599502,\n",
       " 39589716,\n",
       " 39576343,\n",
       " 39573636,\n",
       " 39600426,\n",
       " 39575803,\n",
       " 39586583,\n",
       " 39589282,\n",
       " 39572488,\n",
       " 39585796,\n",
       " 39568728,\n",
       " 39597286,\n",
       " 39596425,\n",
       " 39589089,\n",
       " 39585427,\n",
       " 39599174,\n",
       " 39600158,\n",
       " 39580609,\n",
       " 39571025,\n",
       " 39572718,\n",
       " 39574240,\n",
       " 39576974,\n",
       " 39570343,\n",
       " 39585207,\n",
       " 39586569,\n",
       " 39578501,\n",
       " 39582830,\n",
       " 39569077,\n",
       " 39575262,\n",
       " 39596034,\n",
       " 39602242,\n",
       " 39592521,\n",
       " 39589580,\n",
       " 39603074,\n",
       " 39577599,\n",
       " 39582552,\n",
       " 39577878,\n",
       " 39570692,\n",
       " 39589293,\n",
       " 39589183,\n",
       " 39572655,\n",
       " 39589483,\n",
       " 39579721,\n",
       " 39573756,\n",
       " 39580812,\n",
       " 39585063,\n",
       " 39578092,\n",
       " 39584454,\n",
       " 39595866,\n",
       " 39595847,\n",
       " 39592077,\n",
       " 39581130,\n",
       " 39599051,\n",
       " 39576215,\n",
       " 39579833,\n",
       " 39577957,\n",
       " 39581011,\n",
       " 39595704,\n",
       " 39595113,\n",
       " 39594872,\n",
       " 39575717,\n",
       " 39584566,\n",
       " 39581156,\n",
       " 39594490,\n",
       " 39576167,\n",
       " 39575274,\n",
       " 39591774,\n",
       " 39581664,\n",
       " 39588439,\n",
       " 39567780,\n",
       " 39586495,\n",
       " 39592367,\n",
       " 39570423,\n",
       " 39575189,\n",
       " 39592954,\n",
       " 39581976,\n",
       " 39576563,\n",
       " 39583560,\n",
       " 39589595,\n",
       " 39577605,\n",
       " 39581341,\n",
       " 39591542,\n",
       " 39578007,\n",
       " 39591910,\n",
       " 39600466,\n",
       " 39570669,\n",
       " 39580346,\n",
       " 39581855,\n",
       " 39568622,\n",
       " 39597625,\n",
       " 39567829,\n",
       " 39577105,\n",
       " 39596658,\n",
       " 39595839,\n",
       " 39587550,\n",
       " 39594721,\n",
       " 39570679,\n",
       " 39571308,\n",
       " 39583492,\n",
       " 39582042,\n",
       " 39582221,\n",
       " 39577006,\n",
       " 39579181,\n",
       " 39577164,\n",
       " 39583537,\n",
       " 39580439,\n",
       " 39571814,\n",
       " 39599312,\n",
       " 39571412,\n",
       " 39571074,\n",
       " 39569655,\n",
       " 39569847,\n",
       " 39586311,\n",
       " 39580813,\n",
       " 39574139,\n",
       " 39590944,\n",
       " 39572528,\n",
       " 39596828,\n",
       " 39583945,\n",
       " 39600172,\n",
       " 39574397,\n",
       " 39583064,\n",
       " 39569553,\n",
       " 39579446,\n",
       " 39587274,\n",
       " 39574079,\n",
       " 39584062,\n",
       " 39596245,\n",
       " 39584185,\n",
       " 39572984,\n",
       " 39584967,\n",
       " 39572543,\n",
       " 39582002,\n",
       " 39574878,\n",
       " 39587767,\n",
       " 39576849,\n",
       " 39572441,\n",
       " 39571439,\n",
       " 39598271,\n",
       " 39586055,\n",
       " 39571975,\n",
       " 39588964,\n",
       " 39586295,\n",
       " 39586554,\n",
       " 39575479,\n",
       " 39589978,\n",
       " 39586513,\n",
       " 39591791,\n",
       " 39584900,\n",
       " 39581768,\n",
       " 39597082,\n",
       " 39594207,\n",
       " 39586558,\n",
       " 39584408,\n",
       " 39592679,\n",
       " 39584206,\n",
       " 39586114,\n",
       " 39585871,\n",
       " 39576770,\n",
       " 39595310,\n",
       " 39585570,\n",
       " 39569671,\n",
       " 39595857,\n",
       " 39594003,\n",
       " 39592876,\n",
       " 39590489,\n",
       " 39582541,\n",
       " 39576008,\n",
       " 39587387,\n",
       " 39591141,\n",
       " 39588831,\n",
       " 39571819,\n",
       " 39586951,\n",
       " 39567597,\n",
       " 39590227,\n",
       " 39572048,\n",
       " 39578248,\n",
       " 39591350,\n",
       " 39585710,\n",
       " 39567960,\n",
       " 39578681,\n",
       " 39575844,\n",
       " 39588698,\n",
       " 39579521,\n",
       " 39597094,\n",
       " 39581416,\n",
       " 39595200,\n",
       " 39594795,\n",
       " 39587852,\n",
       " 39596491,\n",
       " 39584664,\n",
       " 39578258,\n",
       " 39597317,\n",
       " 39581678,\n",
       " 39567454,\n",
       " 39574492,\n",
       " 39590246,\n",
       " 39578416,\n",
       " 39597813,\n",
       " 39582873,\n",
       " 39568648,\n",
       " 39581627,\n",
       " 39585607,\n",
       " 39572942,\n",
       " 39569210,\n",
       " 39589557,\n",
       " 39578546,\n",
       " 39595814,\n",
       " 39581006,\n",
       " 39567770,\n",
       " 39596148,\n",
       " 39587304,\n",
       " 39587152,\n",
       " 39583364,\n",
       " 39597639,\n",
       " 39569843,\n",
       " 39585648,\n",
       " 39593159,\n",
       " 39587901,\n",
       " 39572181,\n",
       " 39585416,\n",
       " 39576023,\n",
       " 39568536,\n",
       " 39587501,\n",
       " 39577198,\n",
       " 39577305,\n",
       " 39568851,\n",
       " 39574978,\n",
       " 39586524,\n",
       " 39574584,\n",
       " 39572871,\n",
       " 39567627,\n",
       " 39578742,\n",
       " 39570835,\n",
       " 39580296,\n",
       " 39584070,\n",
       " 39588725,\n",
       " 39578219,\n",
       " 39585227,\n",
       " 39579573,\n",
       " 39604675,\n",
       " 39598634,\n",
       " 39576113,\n",
       " 39571753,\n",
       " 39568541,\n",
       " 39567646,\n",
       " 39582512,\n",
       " 39583948,\n",
       " 39572050,\n",
       " 39569559,\n",
       " 39583309,\n",
       " 39576565,\n",
       " 39592517,\n",
       " 39567479,\n",
       " 39569331,\n",
       " 39579763,\n",
       " 39570328,\n",
       " 39576530,\n",
       " 39577604,\n",
       " 39589563,\n",
       " 39580991,\n",
       " 39576176,\n",
       " 39589383,\n",
       " 39577388,\n",
       " 39592760,\n",
       " 39568821,\n",
       " 39573175,\n",
       " 39580887,\n",
       " 39576090,\n",
       " 39570955,\n",
       " 39586644,\n",
       " 39586600,\n",
       " 39592282,\n",
       " 39589602,\n",
       " 39604746,\n",
       " 39571754,\n",
       " 39587031,\n",
       " 39569734,\n",
       " 39578218,\n",
       " 39569794,\n",
       " 39578443,\n",
       " 39588867,\n",
       " 39586066,\n",
       " 39580420,\n",
       " 39569702,\n",
       " 39582265,\n",
       " 39581711,\n",
       " 39580777,\n",
       " 39568143,\n",
       " 39586508,\n",
       " 39581358,\n",
       " 39589617,\n",
       " 39573833,\n",
       " 39589525,\n",
       " 39576592,\n",
       " 39567616,\n",
       " 39567164,\n",
       " 39567050,\n",
       " 39572605,\n",
       " 39576291,\n",
       " 39567172,\n",
       " 39581440,\n",
       " 39576214,\n",
       " 39572486,\n",
       " 39575671,\n",
       " 39581831,\n",
       " 39575732,\n",
       " 39569747,\n",
       " 39573691,\n",
       " 39579088,\n",
       " 39575395,\n",
       " 39589065,\n",
       " 39590682,\n",
       " 39590520,\n",
       " 39590436,\n",
       " 39577985,\n",
       " 39580834,\n",
       " 39580310,\n",
       " 39581200,\n",
       " 39572628,\n",
       " 39580159,\n",
       " 39575122,\n",
       " 39584166,\n",
       " 39589287,\n",
       " 39569800,\n",
       " 39575326,\n",
       " 39577994,\n",
       " 39570696,\n",
       " 39574220,\n",
       " 39576497,\n",
       " 39575256,\n",
       " 39574078,\n",
       " 39567480,\n",
       " 39581457,\n",
       " 39575498,\n",
       " 39569412,\n",
       " 39580831,\n",
       " 39579487,\n",
       " 39578460,\n",
       " 39582030,\n",
       " 39575580,\n",
       " 39568935,\n",
       " 39573744,\n",
       " 39568316,\n",
       " 39571952,\n",
       " 39569461,\n",
       " 39571135,\n",
       " 39588396,\n",
       " 39591416]"
      ]
     },
     "execution_count": 61,
     "metadata": {},
     "output_type": "execute_result"
    }
   ],
   "source": [
    "top_stories"
   ]
  },
  {
   "cell_type": "code",
   "execution_count": null,
   "metadata": {},
   "outputs": [],
   "source": []
  },
  {
   "cell_type": "code",
   "execution_count": null,
   "metadata": {},
   "outputs": [],
   "source": []
  },
  {
   "cell_type": "code",
   "execution_count": null,
   "metadata": {},
   "outputs": [],
   "source": []
  },
  {
   "cell_type": "markdown",
   "metadata": {},
   "source": [
    "## Import data from web - pandas"
   ]
  },
  {
   "cell_type": "markdown",
   "metadata": {},
   "source": [
    "##### [Odprti podatki Slovenije](https://podatki.gov.si/)\n",
    "\n",
    "\n",
    "Na portalu OPSI boste našli vse od podatkov, orodij, do koristnih virov, s katerimi boste lahko razvijali spletne in mobilne aplikacije, oblikovali lastne infografike in drugo"
   ]
  },
  {
   "cell_type": "code",
   "execution_count": 89,
   "metadata": {},
   "outputs": [],
   "source": [
    "data = pd.read_csv('https://raw.githubusercontent.com/codeforamerica/ohana-api/master/data/sample-csv/addresses.csv')\n",
    "\n",
    "\n"
   ]
  },
  {
   "cell_type": "markdown",
   "metadata": {},
   "source": [
    "## Web Scraping using pandas"
   ]
  },
  {
   "cell_type": "markdown",
   "metadata": {},
   "source": [
    "> Spletna stran: https://www.fdic.gov/resources/resolutions/bank-failures/failed-bank-list/"
   ]
  },
  {
   "cell_type": "code",
   "execution_count": 5,
   "metadata": {},
   "outputs": [],
   "source": [
    "tables = pd.read_html('https://www.fdic.gov/resources/resolutions/bank-failures/failed-bank-list/')"
   ]
  },
  {
   "cell_type": "code",
   "execution_count": null,
   "metadata": {},
   "outputs": [],
   "source": []
  },
  {
   "cell_type": "code",
   "execution_count": null,
   "metadata": {},
   "outputs": [],
   "source": []
  },
  {
   "cell_type": "code",
   "execution_count": null,
   "metadata": {},
   "outputs": [],
   "source": []
  },
  {
   "cell_type": "code",
   "execution_count": null,
   "metadata": {},
   "outputs": [],
   "source": []
  },
  {
   "cell_type": "markdown",
   "metadata": {},
   "source": [
    "### Primer: Wiki"
   ]
  },
  {
   "cell_type": "code",
   "execution_count": 21,
   "metadata": {},
   "outputs": [],
   "source": [
    "tables = pd.read_html('https://en.wikipedia.org/w/index.php?title=List_of_Game_of_Thrones_episodes')"
   ]
  },
  {
   "cell_type": "code",
   "execution_count": 47,
   "metadata": {},
   "outputs": [],
   "source": [
    "episodes = pd.concat(tables[1:9])\n",
    "episodes.columns = [\"no_overall\", \"no_in_season\", \"title\", \"directed_by\", \"written_by\", \"original_air_date\", \"us_viewers\"]"
   ]
  },
  {
   "cell_type": "code",
   "execution_count": null,
   "metadata": {},
   "outputs": [],
   "source": []
  },
  {
   "cell_type": "code",
   "execution_count": null,
   "metadata": {},
   "outputs": [],
   "source": []
  },
  {
   "cell_type": "code",
   "execution_count": null,
   "metadata": {},
   "outputs": [],
   "source": []
  },
  {
   "cell_type": "code",
   "execution_count": null,
   "metadata": {},
   "outputs": [],
   "source": []
  },
  {
   "cell_type": "markdown",
   "metadata": {},
   "source": [
    "## Primeri"
   ]
  },
  {
   "cell_type": "markdown",
   "metadata": {},
   "source": [
    "### Scraping and Visualizing IMDB Ratings"
   ]
  },
  {
   "cell_type": "code",
   "execution_count": 25,
   "metadata": {},
   "outputs": [],
   "source": [
    "import requests\n",
    "from bs4 import BeautifulSoup\n",
    "url = 'https://www.imdb.com/title/tt0944947/episodes'"
   ]
  },
  {
   "cell_type": "code",
   "execution_count": 52,
   "metadata": {
    "scrolled": true
   },
   "outputs": [
    {
     "name": "stdout",
     "output_type": "stream",
     "text": [
      "Parsing season 1...\n",
      "Parsing season 2...\n",
      "Parsing season 3...\n",
      "Parsing season 4...\n",
      "Parsing season 5...\n",
      "Parsing season 6...\n",
      "Parsing season 7...\n",
      "Parsing season 8...\n"
     ]
    }
   ],
   "source": [
    "episodes = []\n",
    "ratings = []\n",
    "\n",
    "header =  {\"user-agent\": \"Mozilla/5.0 (Windows NT 10.0; Win64; x64) AppleWebKit/537.36 (KHTML, like Gecko) Chrome/122.0.0.0 Safari/537.36\"}\n",
    "\n",
    "# Go over seasons 1 to 8\n",
    "for season in range(1,9):\n",
    "    print(f\"Parsing season {season}...\")\n",
    "    r = requests.get(url, params={'season': season}, headers=header)\n",
    "    soup = BeautifulSoup(r.text, 'html.parser')\n",
    "    listing = soup.find('section', class_='sc-7b9ed960-0 jNjsLo')\n",
    "    for epnr, article in enumerate(listing.find_all(\"article\", class_='episode-item-wrapper')):\n",
    "        rating = article.find(\"span\", {\"class\": \"ipc-rating-star\"})\n",
    "        episode_rating = float(rating.get_text(strip=True).split(\"/\")[0])\n",
    "        episode = f'{season}.{epnr + 1}'\n",
    "        episodes.append(episode)\n",
    "        ratings.append(episode_rating)"
   ]
  },
  {
   "cell_type": "code",
   "execution_count": 53,
   "metadata": {},
   "outputs": [
    {
     "data": {
      "text/plain": [
       "[8.5, 8.9, 8.6, 8.5, 8.6, 9.0, 9.1, 9.1, 8.9, 9.6]"
      ]
     },
     "execution_count": 53,
     "metadata": {},
     "output_type": "execute_result"
    }
   ],
   "source": [
    "ratings[:10]"
   ]
  },
  {
   "cell_type": "code",
   "execution_count": 54,
   "metadata": {},
   "outputs": [
    {
     "data": {
      "text/plain": [
       "['1.1', '1.2', '1.3', '1.4', '1.5', '1.6', '1.7', '1.8', '1.9', '1.10']"
      ]
     },
     "execution_count": 54,
     "metadata": {},
     "output_type": "execute_result"
    }
   ],
   "source": [
    "episodes[:10]"
   ]
  },
  {
   "cell_type": "code",
   "execution_count": 55,
   "metadata": {},
   "outputs": [
    {
     "data": {
      "image/png": "[encoded data removed]",
      "text/plain": [
       "<Figure size 640x480 with 1 Axes>"
      ]
     },
     "metadata": {},
     "output_type": "display_data"
    }
   ],
   "source": [
    "import matplotlib.pyplot as plt\n",
    "\n",
    "plt.figure()\n",
    "\n",
    "positions = [a for a in range(len(ratings))]\n",
    "plt.bar(positions, ratings, align='center')\n",
    "plt.show()"
   ]
  },
  {
   "cell_type": "code",
   "execution_count": null,
   "metadata": {},
   "outputs": [],
   "source": []
  },
  {
   "cell_type": "code",
   "execution_count": null,
   "metadata": {},
   "outputs": [],
   "source": []
  }
 ],
 "metadata": {
  "kernelspec": {
   "display_name": "Python 3 (ipykernel)",
   "language": "python",
   "name": "python3"
  },
  "language_info": {
   "codemirror_mode": {
    "name": "ipython",
    "version": 3
   },
   "file_extension": ".py",
   "mimetype": "text/x-python",
   "name": "python",
   "nbconvert_exporter": "python",
   "pygments_lexer": "ipython3",
   "version": "3.11.7"
  }
 },
 "nbformat": 4,
 "nbformat_minor": 4
}
