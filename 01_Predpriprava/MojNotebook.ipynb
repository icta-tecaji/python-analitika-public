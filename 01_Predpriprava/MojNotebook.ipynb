{
 "cells": [
  {
   "cell_type": "code",
   "execution_count": 6,
   "id": "da3f9765",
   "metadata": {},
   "outputs": [
    {
     "name": "stdout",
     "output_type": "stream",
     "text": [
      "Hello world\n"
     ]
    }
   ],
   "source": [
    "print(\"Hello world\")"
   ]
  },
  {
   "cell_type": "markdown",
   "id": "a1963121",
   "metadata": {},
   "source": [
    "To je navadno besedilo.\n",
    "\n",
    "To je novi odstavek. Text je lahko v **bold** načinu ali pa *italic*."
   ]
  },
  {
   "cell_type": "markdown",
   "id": "dc858a71",
   "metadata": {},
   "source": [
    "To je navadno besedilo.\n",
    "\n",
    "To je novi odstavek. Text je lahko v **bold** načinu ali pa *italic*."
   ]
  },
  {
   "cell_type": "markdown",
   "id": "160af3a8",
   "metadata": {},
   "source": [
    "Da ustvarimo headerje uporabimo # znak.\n",
    "\n",
    "# Header 1\n",
    "\n",
    "Za podnaslov dodamo poljubno število # znakov.\n",
    "\n",
    "## Header 2\n",
    "\n",
    "### Header 3\n",
    "\n",
    "#### Header 4\n",
    "\n",
    "##### Header 5"
   ]
  },
  {
   "cell_type": "markdown",
   "id": "76aeaec9",
   "metadata": {},
   "source": [
    "Da ustvarimo seznam lahko uporabimo * ali + ali - :\n",
    "* točka 1\n",
    "* točka 2\n",
    "+ točka 3\n",
    "+ točka 4\n",
    "- točka 5\n",
    "- točka 6\n",
    "\n",
    "Podsezname dodamo tako, da točko zamaknemo:\n",
    "* točka 1\n",
    "    * podtočka"
   ]
  },
  {
   "cell_type": "markdown",
   "id": "7c16786d",
   "metadata": {},
   "source": [
    "Listi so lahko tudi številčeni:\n",
    "1. točka 1\n",
    "2. točka 2\n",
    "3. točka 3"
   ]
  },
  {
   "cell_type": "markdown",
   "id": "273375cc",
   "metadata": {},
   "source": [
    "Če želimo prikazati kodo, vendar ne v `code` celici jo lahko zapišemo v markdown načinu:\n",
    "\n",
    "```python\n",
    "print(\"Hello world\")\n",
    "```"
   ]
  },
  {
   "cell_type": "markdown",
   "id": "83469801",
   "metadata": {},
   "source": [
    "Možno je tudi dodajanje [linkov](https://www.example.com)"
   ]
  },
  {
   "cell_type": "code",
   "execution_count": null,
   "id": "c879fbb9",
   "metadata": {},
   "outputs": [],
   "source": []
  }
 ],
 "metadata": {
  "kernelspec": {
   "display_name": "Python 3 (ipykernel)",
   "language": "python",
   "name": "python3"
  },
  "language_info": {
   "codemirror_mode": {
    "name": "ipython",
    "version": 3
   },
   "file_extension": ".py",
   "mimetype": "text/x-python",
   "name": "python",
   "nbconvert_exporter": "python",
   "pygments_lexer": "ipython3",
   "version": "3.10.6"
  }
 },
 "nbformat": 4,
 "nbformat_minor": 5
}
