{
 "cells": [
  {
   "cell_type": "markdown",
   "metadata": {},
   "source": [
    "# Priprava in čiščenje podatkov"
   ]
  },
  {
   "cell_type": "markdown",
   "metadata": {},
   "source": [
    "## Get the data - Reading CSV Files with Encodings"
   ]
  },
  {
   "cell_type": "code",
   "execution_count": 2,
   "metadata": {},
   "outputs": [],
   "source": [
    "import pandas as pd \n",
    "import numpy as np"
   ]
  },
  {
   "cell_type": "markdown",
   "metadata": {},
   "source": [
    "    df = pd.read_csv(\"filename.csv\", encoding=\"some_encoding\")"
   ]
  },
  {
   "cell_type": "code",
   "execution_count": 5,
   "metadata": {},
   "outputs": [],
   "source": [
    "laptops = pd.read_csv(\"data/INPUT_laptops.csv\", encoding=\"Latin-1\")"
   ]
  },
  {
   "cell_type": "code",
   "execution_count": 6,
   "metadata": {},
   "outputs": [
    {
     "data": {
      "text/html": [
       "<div>\n",
       "<style scoped>\n",
       "    .dataframe tbody tr th:only-of-type {\n",
       "        vertical-align: middle;\n",
       "    }\n",
       "\n",
       "    .dataframe tbody tr th {\n",
       "        vertical-align: top;\n",
       "    }\n",
       "\n",
       "    .dataframe thead th {\n",
       "        text-align: right;\n",
       "    }\n",
       "</style>\n",
       "<table border=\"1\" class=\"dataframe\">\n",
       "  <thead>\n",
       "    <tr style=\"text-align: right;\">\n",
       "      <th></th>\n",
       "      <th>Manufacturer</th>\n",
       "      <th>Model Name</th>\n",
       "      <th>Category</th>\n",
       "      <th>Screen Size</th>\n",
       "      <th>Screen</th>\n",
       "      <th>CPU</th>\n",
       "      <th>RAM</th>\n",
       "      <th>Storage</th>\n",
       "      <th>GPU</th>\n",
       "      <th>Operating System</th>\n",
       "      <th>Operating System Version</th>\n",
       "      <th>Weight</th>\n",
       "      <th>Price (Euros)</th>\n",
       "    </tr>\n",
       "  </thead>\n",
       "  <tbody>\n",
       "    <tr>\n",
       "      <th>0</th>\n",
       "      <td>Apple</td>\n",
       "      <td>MacBook Pro</td>\n",
       "      <td>Ultrabook</td>\n",
       "      <td>13.3\"</td>\n",
       "      <td>IPS Panel Retina Display 2560x1600</td>\n",
       "      <td>Intel Core i5 2.3GHz</td>\n",
       "      <td>8GB</td>\n",
       "      <td>128GB SSD</td>\n",
       "      <td>Intel Iris Plus Graphics 640</td>\n",
       "      <td>macOS</td>\n",
       "      <td>NaN</td>\n",
       "      <td>1.37kg</td>\n",
       "      <td>1339,69</td>\n",
       "    </tr>\n",
       "    <tr>\n",
       "      <th>1</th>\n",
       "      <td>Apple</td>\n",
       "      <td>Macbook Air</td>\n",
       "      <td>Ultrabook</td>\n",
       "      <td>13.3\"</td>\n",
       "      <td>1440x900</td>\n",
       "      <td>Intel Core i5 1.8GHz</td>\n",
       "      <td>8GB</td>\n",
       "      <td>128GB Flash Storage</td>\n",
       "      <td>Intel HD Graphics 6000</td>\n",
       "      <td>macOS</td>\n",
       "      <td>NaN</td>\n",
       "      <td>1.34kg</td>\n",
       "      <td>898,94</td>\n",
       "    </tr>\n",
       "    <tr>\n",
       "      <th>2</th>\n",
       "      <td>HP</td>\n",
       "      <td>250 G6</td>\n",
       "      <td>Notebook</td>\n",
       "      <td>15.6\"</td>\n",
       "      <td>Full HD 1920x1080</td>\n",
       "      <td>Intel Core i5 7200U 2.5GHz</td>\n",
       "      <td>8GB</td>\n",
       "      <td>256GB SSD</td>\n",
       "      <td>Intel HD Graphics 620</td>\n",
       "      <td>No OS</td>\n",
       "      <td>NaN</td>\n",
       "      <td>1.86kg</td>\n",
       "      <td>575,00</td>\n",
       "    </tr>\n",
       "    <tr>\n",
       "      <th>3</th>\n",
       "      <td>Apple</td>\n",
       "      <td>MacBook Pro</td>\n",
       "      <td>Ultrabook</td>\n",
       "      <td>15.4\"</td>\n",
       "      <td>IPS Panel Retina Display 2880x1800</td>\n",
       "      <td>Intel Core i7 2.7GHz</td>\n",
       "      <td>16GB</td>\n",
       "      <td>512GB SSD</td>\n",
       "      <td>AMD Radeon Pro 455</td>\n",
       "      <td>macOS</td>\n",
       "      <td>NaN</td>\n",
       "      <td>1.83kg</td>\n",
       "      <td>2537,45</td>\n",
       "    </tr>\n",
       "    <tr>\n",
       "      <th>4</th>\n",
       "      <td>Apple</td>\n",
       "      <td>MacBook Pro</td>\n",
       "      <td>Ultrabook</td>\n",
       "      <td>13.3\"</td>\n",
       "      <td>IPS Panel Retina Display 2560x1600</td>\n",
       "      <td>Intel Core i5 3.1GHz</td>\n",
       "      <td>8GB</td>\n",
       "      <td>256GB SSD</td>\n",
       "      <td>Intel Iris Plus Graphics 650</td>\n",
       "      <td>macOS</td>\n",
       "      <td>NaN</td>\n",
       "      <td>1.37kg</td>\n",
       "      <td>1803,60</td>\n",
       "    </tr>\n",
       "  </tbody>\n",
       "</table>\n",
       "</div>"
      ],
      "text/plain": [
       "  Manufacturer   Model Name   Category Screen Size  \\\n",
       "0        Apple  MacBook Pro  Ultrabook       13.3\"   \n",
       "1        Apple  Macbook Air  Ultrabook       13.3\"   \n",
       "2           HP       250 G6   Notebook       15.6\"   \n",
       "3        Apple  MacBook Pro  Ultrabook       15.4\"   \n",
       "4        Apple  MacBook Pro  Ultrabook       13.3\"   \n",
       "\n",
       "                               Screen                         CPU   RAM  \\\n",
       "0  IPS Panel Retina Display 2560x1600        Intel Core i5 2.3GHz   8GB   \n",
       "1                            1440x900        Intel Core i5 1.8GHz   8GB   \n",
       "2                   Full HD 1920x1080  Intel Core i5 7200U 2.5GHz   8GB   \n",
       "3  IPS Panel Retina Display 2880x1800        Intel Core i7 2.7GHz  16GB   \n",
       "4  IPS Panel Retina Display 2560x1600        Intel Core i5 3.1GHz   8GB   \n",
       "\n",
       "               Storage                           GPU Operating System  \\\n",
       "0            128GB SSD  Intel Iris Plus Graphics 640            macOS   \n",
       "1  128GB Flash Storage        Intel HD Graphics 6000            macOS   \n",
       "2            256GB SSD         Intel HD Graphics 620            No OS   \n",
       "3            512GB SSD            AMD Radeon Pro 455            macOS   \n",
       "4            256GB SSD  Intel Iris Plus Graphics 650            macOS   \n",
       "\n",
       "  Operating System Version  Weight Price (Euros)  \n",
       "0                      NaN  1.37kg       1339,69  \n",
       "1                      NaN  1.34kg        898,94  \n",
       "2                      NaN  1.86kg        575,00  \n",
       "3                      NaN  1.83kg       2537,45  \n",
       "4                      NaN  1.37kg       1803,60  "
      ]
     },
     "execution_count": 6,
     "metadata": {},
     "output_type": "execute_result"
    }
   ],
   "source": [
    "laptops.head()"
   ]
  },
  {
   "cell_type": "code",
   "execution_count": 7,
   "metadata": {},
   "outputs": [
    {
     "name": "stdout",
     "output_type": "stream",
     "text": [
      "<class 'pandas.core.frame.DataFrame'>\n",
      "RangeIndex: 1303 entries, 0 to 1302\n",
      "Data columns (total 13 columns):\n",
      " #   Column                    Non-Null Count  Dtype \n",
      "---  ------                    --------------  ----- \n",
      " 0   Manufacturer              1303 non-null   object\n",
      " 1   Model Name                1303 non-null   object\n",
      " 2   Category                  1303 non-null   object\n",
      " 3   Screen Size               1303 non-null   object\n",
      " 4   Screen                    1303 non-null   object\n",
      " 5   CPU                       1303 non-null   object\n",
      " 6   RAM                       1303 non-null   object\n",
      " 7    Storage                  1303 non-null   object\n",
      " 8   GPU                       1303 non-null   object\n",
      " 9   Operating System          1303 non-null   object\n",
      " 10  Operating System Version  1133 non-null   object\n",
      " 11  Weight                    1303 non-null   object\n",
      " 12  Price (Euros)             1303 non-null   object\n",
      "dtypes: object(13)\n",
      "memory usage: 132.5+ KB\n"
     ]
    }
   ],
   "source": [
    "laptops.info()"
   ]
  },
  {
   "cell_type": "markdown",
   "metadata": {},
   "source": [
    "## Cleaning Column Names"
   ]
  },
  {
   "cell_type": "code",
   "execution_count": 10,
   "metadata": {},
   "outputs": [],
   "source": [
    "#laptops[\" Storage\"]"
   ]
  },
  {
   "cell_type": "code",
   "execution_count": 23,
   "metadata": {},
   "outputs": [
    {
     "name": "stdout",
     "output_type": "stream",
     "text": [
      "['manufacturer', 'model_name', 'category', 'screen_size', 'screen', 'cpu', 'ram', 'storage', 'gpu', 'os', 'os_version', 'weight', 'price_euros']\n"
     ]
    }
   ],
   "source": [
    "new_columns = []\n",
    "\n",
    "for column in laptops.columns:\n",
    "    column = column.strip()\n",
    "    column = column.replace(\"Operating System\", \"os\")\n",
    "    column = column.replace(\" \", \"_\")\n",
    "    column = column.replace(\"(\", \"\")\n",
    "    column = column.replace(\")\", \"\")\n",
    "    column = column.lower()\n",
    "    new_columns.append(column)\n",
    "\n",
    "print(new_columns)\n",
    "laptops.columns = new_columns"
   ]
  },
  {
   "cell_type": "code",
   "execution_count": 24,
   "metadata": {},
   "outputs": [
    {
     "data": {
      "text/html": [
       "<div>\n",
       "<style scoped>\n",
       "    .dataframe tbody tr th:only-of-type {\n",
       "        vertical-align: middle;\n",
       "    }\n",
       "\n",
       "    .dataframe tbody tr th {\n",
       "        vertical-align: top;\n",
       "    }\n",
       "\n",
       "    .dataframe thead th {\n",
       "        text-align: right;\n",
       "    }\n",
       "</style>\n",
       "<table border=\"1\" class=\"dataframe\">\n",
       "  <thead>\n",
       "    <tr style=\"text-align: right;\">\n",
       "      <th></th>\n",
       "      <th>manufacturer</th>\n",
       "      <th>model_name</th>\n",
       "      <th>category</th>\n",
       "      <th>screen_size</th>\n",
       "      <th>screen</th>\n",
       "      <th>cpu</th>\n",
       "      <th>ram</th>\n",
       "      <th>storage</th>\n",
       "      <th>gpu</th>\n",
       "      <th>os</th>\n",
       "      <th>os_version</th>\n",
       "      <th>weight</th>\n",
       "      <th>price_euros</th>\n",
       "    </tr>\n",
       "  </thead>\n",
       "  <tbody>\n",
       "    <tr>\n",
       "      <th>0</th>\n",
       "      <td>Apple</td>\n",
       "      <td>MacBook Pro</td>\n",
       "      <td>Ultrabook</td>\n",
       "      <td>13.3\"</td>\n",
       "      <td>IPS Panel Retina Display 2560x1600</td>\n",
       "      <td>Intel Core i5 2.3GHz</td>\n",
       "      <td>8GB</td>\n",
       "      <td>128GB SSD</td>\n",
       "      <td>Intel Iris Plus Graphics 640</td>\n",
       "      <td>macOS</td>\n",
       "      <td>NaN</td>\n",
       "      <td>1.37kg</td>\n",
       "      <td>1339,69</td>\n",
       "    </tr>\n",
       "    <tr>\n",
       "      <th>1</th>\n",
       "      <td>Apple</td>\n",
       "      <td>Macbook Air</td>\n",
       "      <td>Ultrabook</td>\n",
       "      <td>13.3\"</td>\n",
       "      <td>1440x900</td>\n",
       "      <td>Intel Core i5 1.8GHz</td>\n",
       "      <td>8GB</td>\n",
       "      <td>128GB Flash Storage</td>\n",
       "      <td>Intel HD Graphics 6000</td>\n",
       "      <td>macOS</td>\n",
       "      <td>NaN</td>\n",
       "      <td>1.34kg</td>\n",
       "      <td>898,94</td>\n",
       "    </tr>\n",
       "  </tbody>\n",
       "</table>\n",
       "</div>"
      ],
      "text/plain": [
       "  manufacturer   model_name   category screen_size  \\\n",
       "0        Apple  MacBook Pro  Ultrabook       13.3\"   \n",
       "1        Apple  Macbook Air  Ultrabook       13.3\"   \n",
       "\n",
       "                               screen                   cpu  ram  \\\n",
       "0  IPS Panel Retina Display 2560x1600  Intel Core i5 2.3GHz  8GB   \n",
       "1                            1440x900  Intel Core i5 1.8GHz  8GB   \n",
       "\n",
       "               storage                           gpu     os os_version  \\\n",
       "0            128GB SSD  Intel Iris Plus Graphics 640  macOS        NaN   \n",
       "1  128GB Flash Storage        Intel HD Graphics 6000  macOS        NaN   \n",
       "\n",
       "   weight price_euros  \n",
       "0  1.37kg     1339,69  \n",
       "1  1.34kg      898,94  "
      ]
     },
     "execution_count": 24,
     "metadata": {},
     "output_type": "execute_result"
    }
   ],
   "source": [
    "laptops.head(2)"
   ]
  },
  {
   "cell_type": "code",
   "execution_count": 26,
   "metadata": {},
   "outputs": [],
   "source": [
    "# krajši način\n",
    "\n",
    "def clean_col(column):\n",
    "    column = column.strip()\n",
    "    column = column.replace(\"Operating System\", \"os\")\n",
    "    column = column.replace(\" \", \"_\")\n",
    "    column = column.replace(\"(\", \"\")\n",
    "    column = column.replace(\")\", \"\")\n",
    "    column = column.lower()\n",
    "    return column\n",
    "\n",
    "laptops.columns = [clean_col(c) for c in laptops.columns]"
   ]
  },
  {
   "cell_type": "code",
   "execution_count": 27,
   "metadata": {},
   "outputs": [
    {
     "data": {
      "text/html": [
       "<div>\n",
       "<style scoped>\n",
       "    .dataframe tbody tr th:only-of-type {\n",
       "        vertical-align: middle;\n",
       "    }\n",
       "\n",
       "    .dataframe tbody tr th {\n",
       "        vertical-align: top;\n",
       "    }\n",
       "\n",
       "    .dataframe thead th {\n",
       "        text-align: right;\n",
       "    }\n",
       "</style>\n",
       "<table border=\"1\" class=\"dataframe\">\n",
       "  <thead>\n",
       "    <tr style=\"text-align: right;\">\n",
       "      <th></th>\n",
       "      <th>manufacturer</th>\n",
       "      <th>model_name</th>\n",
       "      <th>category</th>\n",
       "      <th>screen_size</th>\n",
       "      <th>screen</th>\n",
       "      <th>cpu</th>\n",
       "      <th>ram</th>\n",
       "      <th>storage</th>\n",
       "      <th>gpu</th>\n",
       "      <th>os</th>\n",
       "      <th>os_version</th>\n",
       "      <th>weight</th>\n",
       "      <th>price_euros</th>\n",
       "    </tr>\n",
       "  </thead>\n",
       "  <tbody>\n",
       "    <tr>\n",
       "      <th>0</th>\n",
       "      <td>Apple</td>\n",
       "      <td>MacBook Pro</td>\n",
       "      <td>Ultrabook</td>\n",
       "      <td>13.3\"</td>\n",
       "      <td>IPS Panel Retina Display 2560x1600</td>\n",
       "      <td>Intel Core i5 2.3GHz</td>\n",
       "      <td>8GB</td>\n",
       "      <td>128GB SSD</td>\n",
       "      <td>Intel Iris Plus Graphics 640</td>\n",
       "      <td>macOS</td>\n",
       "      <td>NaN</td>\n",
       "      <td>1.37kg</td>\n",
       "      <td>1339,69</td>\n",
       "    </tr>\n",
       "    <tr>\n",
       "      <th>1</th>\n",
       "      <td>Apple</td>\n",
       "      <td>Macbook Air</td>\n",
       "      <td>Ultrabook</td>\n",
       "      <td>13.3\"</td>\n",
       "      <td>1440x900</td>\n",
       "      <td>Intel Core i5 1.8GHz</td>\n",
       "      <td>8GB</td>\n",
       "      <td>128GB Flash Storage</td>\n",
       "      <td>Intel HD Graphics 6000</td>\n",
       "      <td>macOS</td>\n",
       "      <td>NaN</td>\n",
       "      <td>1.34kg</td>\n",
       "      <td>898,94</td>\n",
       "    </tr>\n",
       "  </tbody>\n",
       "</table>\n",
       "</div>"
      ],
      "text/plain": [
       "  manufacturer   model_name   category screen_size  \\\n",
       "0        Apple  MacBook Pro  Ultrabook       13.3\"   \n",
       "1        Apple  Macbook Air  Ultrabook       13.3\"   \n",
       "\n",
       "                               screen                   cpu  ram  \\\n",
       "0  IPS Panel Retina Display 2560x1600  Intel Core i5 2.3GHz  8GB   \n",
       "1                            1440x900  Intel Core i5 1.8GHz  8GB   \n",
       "\n",
       "               storage                           gpu     os os_version  \\\n",
       "0            128GB SSD  Intel Iris Plus Graphics 640  macOS        NaN   \n",
       "1  128GB Flash Storage        Intel HD Graphics 6000  macOS        NaN   \n",
       "\n",
       "   weight price_euros  \n",
       "0  1.37kg     1339,69  \n",
       "1  1.34kg      898,94  "
      ]
     },
     "execution_count": 27,
     "metadata": {},
     "output_type": "execute_result"
    }
   ],
   "source": [
    "laptops.head(2)"
   ]
  },
  {
   "cell_type": "markdown",
   "metadata": {},
   "source": [
    "## Converting String Columns to Numeric"
   ]
  },
  {
   "cell_type": "markdown",
   "metadata": {},
   "source": [
    "\n",
    "<p><img alt=\"string to numeric cleaning workflow\" src=\"images/cleaning_workflow.svg\"></p>\n"
   ]
  },
  {
   "cell_type": "code",
   "execution_count": 30,
   "metadata": {},
   "outputs": [
    {
     "name": "stdout",
     "output_type": "stream",
     "text": [
      "object\n"
     ]
    }
   ],
   "source": [
    "print(laptops[\"screen_size\"].dtype)"
   ]
  },
  {
   "cell_type": "code",
   "execution_count": 31,
   "metadata": {},
   "outputs": [
    {
     "data": {
      "text/plain": [
       "array(['13.3\"', '15.6\"', '15.4\"', '14.0\"', '12.0\"', '11.6\"', '17.3\"',\n",
       "       '10.1\"', '13.5\"', '12.5\"', '13.0\"', '18.4\"', '13.9\"', '12.3\"',\n",
       "       '17.0\"', '15.0\"', '14.1\"', '11.3\"'], dtype=object)"
      ]
     },
     "execution_count": 31,
     "metadata": {},
     "output_type": "execute_result"
    }
   ],
   "source": [
    "laptops[\"screen_size\"].unique()"
   ]
  },
  {
   "cell_type": "markdown",
   "metadata": {},
   "source": [
    "\n",
    "<p></p><center><img alt=\"vectorized_string_methods\" src=\"images/Syntax.png\"></center><p></p>\n",
    "\n",
    "\n",
    "\n"
   ]
  },
  {
   "cell_type": "code",
   "execution_count": 33,
   "metadata": {},
   "outputs": [],
   "source": [
    "laptops[\"screen_size\"] = laptops[\"screen_size\"].str.replace('\"', '')"
   ]
  },
  {
   "cell_type": "code",
   "execution_count": 34,
   "metadata": {},
   "outputs": [
    {
     "data": {
      "text/plain": [
       "array(['13.3', '15.6', '15.4', '14.0', '12.0', '11.6', '17.3', '10.1',\n",
       "       '13.5', '12.5', '13.0', '18.4', '13.9', '12.3', '17.0', '15.0',\n",
       "       '14.1', '11.3'], dtype=object)"
      ]
     },
     "execution_count": 34,
     "metadata": {},
     "output_type": "execute_result"
    }
   ],
   "source": [
    "laptops[\"screen_size\"].unique()"
   ]
  },
  {
   "cell_type": "code",
   "execution_count": 35,
   "metadata": {},
   "outputs": [],
   "source": [
    "laptops[\"screen_size\"] = laptops[\"screen_size\"].astype(\"float\")"
   ]
  },
  {
   "cell_type": "code",
   "execution_count": 36,
   "metadata": {},
   "outputs": [
    {
     "name": "stdout",
     "output_type": "stream",
     "text": [
      "float64\n"
     ]
    }
   ],
   "source": [
    "print(laptops[\"screen_size\"].dtype)"
   ]
  },
  {
   "cell_type": "code",
   "execution_count": 38,
   "metadata": {},
   "outputs": [],
   "source": [
    "laptops.rename({\"screen_size\": \"screen_size_inches\"}, axis=1, inplace=True)"
   ]
  },
  {
   "cell_type": "code",
   "execution_count": 39,
   "metadata": {},
   "outputs": [
    {
     "data": {
      "text/html": [
       "<div>\n",
       "<style scoped>\n",
       "    .dataframe tbody tr th:only-of-type {\n",
       "        vertical-align: middle;\n",
       "    }\n",
       "\n",
       "    .dataframe tbody tr th {\n",
       "        vertical-align: top;\n",
       "    }\n",
       "\n",
       "    .dataframe thead th {\n",
       "        text-align: right;\n",
       "    }\n",
       "</style>\n",
       "<table border=\"1\" class=\"dataframe\">\n",
       "  <thead>\n",
       "    <tr style=\"text-align: right;\">\n",
       "      <th></th>\n",
       "      <th>manufacturer</th>\n",
       "      <th>model_name</th>\n",
       "      <th>category</th>\n",
       "      <th>screen_size_inches</th>\n",
       "      <th>screen</th>\n",
       "      <th>cpu</th>\n",
       "      <th>ram</th>\n",
       "      <th>storage</th>\n",
       "      <th>gpu</th>\n",
       "      <th>os</th>\n",
       "      <th>os_version</th>\n",
       "      <th>weight</th>\n",
       "      <th>price_euros</th>\n",
       "    </tr>\n",
       "  </thead>\n",
       "  <tbody>\n",
       "    <tr>\n",
       "      <th>0</th>\n",
       "      <td>Apple</td>\n",
       "      <td>MacBook Pro</td>\n",
       "      <td>Ultrabook</td>\n",
       "      <td>13.3</td>\n",
       "      <td>IPS Panel Retina Display 2560x1600</td>\n",
       "      <td>Intel Core i5 2.3GHz</td>\n",
       "      <td>8GB</td>\n",
       "      <td>128GB SSD</td>\n",
       "      <td>Intel Iris Plus Graphics 640</td>\n",
       "      <td>macOS</td>\n",
       "      <td>NaN</td>\n",
       "      <td>1.37kg</td>\n",
       "      <td>1339,69</td>\n",
       "    </tr>\n",
       "    <tr>\n",
       "      <th>1</th>\n",
       "      <td>Apple</td>\n",
       "      <td>Macbook Air</td>\n",
       "      <td>Ultrabook</td>\n",
       "      <td>13.3</td>\n",
       "      <td>1440x900</td>\n",
       "      <td>Intel Core i5 1.8GHz</td>\n",
       "      <td>8GB</td>\n",
       "      <td>128GB Flash Storage</td>\n",
       "      <td>Intel HD Graphics 6000</td>\n",
       "      <td>macOS</td>\n",
       "      <td>NaN</td>\n",
       "      <td>1.34kg</td>\n",
       "      <td>898,94</td>\n",
       "    </tr>\n",
       "  </tbody>\n",
       "</table>\n",
       "</div>"
      ],
      "text/plain": [
       "  manufacturer   model_name   category  screen_size_inches  \\\n",
       "0        Apple  MacBook Pro  Ultrabook                13.3   \n",
       "1        Apple  Macbook Air  Ultrabook                13.3   \n",
       "\n",
       "                               screen                   cpu  ram  \\\n",
       "0  IPS Panel Retina Display 2560x1600  Intel Core i5 2.3GHz  8GB   \n",
       "1                            1440x900  Intel Core i5 1.8GHz  8GB   \n",
       "\n",
       "               storage                           gpu     os os_version  \\\n",
       "0            128GB SSD  Intel Iris Plus Graphics 640  macOS        NaN   \n",
       "1  128GB Flash Storage        Intel HD Graphics 6000  macOS        NaN   \n",
       "\n",
       "   weight price_euros  \n",
       "0  1.37kg     1339,69  \n",
       "1  1.34kg      898,94  "
      ]
     },
     "execution_count": 39,
     "metadata": {},
     "output_type": "execute_result"
    }
   ],
   "source": [
    "laptops.head(2)"
   ]
  },
  {
   "cell_type": "code",
   "execution_count": 47,
   "metadata": {},
   "outputs": [
    {
     "data": {
      "text/html": [
       "<div>\n",
       "<style scoped>\n",
       "    .dataframe tbody tr th:only-of-type {\n",
       "        vertical-align: middle;\n",
       "    }\n",
       "\n",
       "    .dataframe tbody tr th {\n",
       "        vertical-align: top;\n",
       "    }\n",
       "\n",
       "    .dataframe thead th {\n",
       "        text-align: right;\n",
       "    }\n",
       "</style>\n",
       "<table border=\"1\" class=\"dataframe\">\n",
       "  <thead>\n",
       "    <tr style=\"text-align: right;\">\n",
       "      <th></th>\n",
       "      <th>manufacturer</th>\n",
       "      <th>model_name</th>\n",
       "      <th>category</th>\n",
       "      <th>screen_size_inches</th>\n",
       "      <th>screen</th>\n",
       "      <th>cpu</th>\n",
       "      <th>ram_gb</th>\n",
       "      <th>storage</th>\n",
       "      <th>gpu</th>\n",
       "      <th>os</th>\n",
       "      <th>os_version</th>\n",
       "      <th>weight</th>\n",
       "      <th>price_euros</th>\n",
       "    </tr>\n",
       "  </thead>\n",
       "  <tbody>\n",
       "    <tr>\n",
       "      <th>0</th>\n",
       "      <td>Apple</td>\n",
       "      <td>MacBook Pro</td>\n",
       "      <td>Ultrabook</td>\n",
       "      <td>13.3</td>\n",
       "      <td>IPS Panel Retina Display 2560x1600</td>\n",
       "      <td>Intel Core i5 2.3GHz</td>\n",
       "      <td>8</td>\n",
       "      <td>128GB SSD</td>\n",
       "      <td>Intel Iris Plus Graphics 640</td>\n",
       "      <td>macOS</td>\n",
       "      <td>NaN</td>\n",
       "      <td>1.37kg</td>\n",
       "      <td>1339,69</td>\n",
       "    </tr>\n",
       "    <tr>\n",
       "      <th>1</th>\n",
       "      <td>Apple</td>\n",
       "      <td>Macbook Air</td>\n",
       "      <td>Ultrabook</td>\n",
       "      <td>13.3</td>\n",
       "      <td>1440x900</td>\n",
       "      <td>Intel Core i5 1.8GHz</td>\n",
       "      <td>8</td>\n",
       "      <td>128GB Flash Storage</td>\n",
       "      <td>Intel HD Graphics 6000</td>\n",
       "      <td>macOS</td>\n",
       "      <td>NaN</td>\n",
       "      <td>1.34kg</td>\n",
       "      <td>898,94</td>\n",
       "    </tr>\n",
       "  </tbody>\n",
       "</table>\n",
       "</div>"
      ],
      "text/plain": [
       "  manufacturer   model_name   category  screen_size_inches  \\\n",
       "0        Apple  MacBook Pro  Ultrabook                13.3   \n",
       "1        Apple  Macbook Air  Ultrabook                13.3   \n",
       "\n",
       "                               screen                   cpu  ram_gb  \\\n",
       "0  IPS Panel Retina Display 2560x1600  Intel Core i5 2.3GHz       8   \n",
       "1                            1440x900  Intel Core i5 1.8GHz       8   \n",
       "\n",
       "               storage                           gpu     os os_version  \\\n",
       "0            128GB SSD  Intel Iris Plus Graphics 640  macOS        NaN   \n",
       "1  128GB Flash Storage        Intel HD Graphics 6000  macOS        NaN   \n",
       "\n",
       "   weight price_euros  \n",
       "0  1.37kg     1339,69  \n",
       "1  1.34kg      898,94  "
      ]
     },
     "execution_count": 47,
     "metadata": {},
     "output_type": "execute_result"
    }
   ],
   "source": [
    "# Vaja: uredimo stoplec ram -> v int tip in poimenujemo ram_gb\n",
    "laptops[\"ram\"] = laptops[\"ram\"].str.replace('GB','')\n",
    "laptops['ram'] = laptops['ram'].astype('int')\n",
    "laptops.rename(columns = {\"ram\": \"ram_gb\"}, inplace=True)\n",
    "laptops.head(2)"
   ]
  },
  {
   "cell_type": "code",
   "execution_count": 48,
   "metadata": {},
   "outputs": [
    {
     "data": {
      "text/plain": [
       "count    1303.000000\n",
       "mean        8.382195\n",
       "std         5.084665\n",
       "min         2.000000\n",
       "25%         4.000000\n",
       "50%         8.000000\n",
       "75%         8.000000\n",
       "max        64.000000\n",
       "Name: ram_gb, dtype: float64"
      ]
     },
     "execution_count": 48,
     "metadata": {},
     "output_type": "execute_result"
    }
   ],
   "source": [
    "laptops[\"ram_gb\"].describeribe()"
   ]
  },
  {
   "cell_type": "markdown",
   "metadata": {},
   "source": [
    "## Extracting Values from Strings"
   ]
  },
  {
   "cell_type": "code",
   "execution_count": 54,
   "metadata": {},
   "outputs": [
    {
     "data": {
      "text/plain": [
       "0          Intel Core i5 2.3GHz\n",
       "1          Intel Core i5 1.8GHz\n",
       "2    Intel Core i5 7200U 2.5GHz\n",
       "3          Intel Core i7 2.7GHz\n",
       "4          Intel Core i5 3.1GHz\n",
       "5       AMD A9-Series 9420 3GHz\n",
       "6          Intel Core i7 2.2GHz\n",
       "7          Intel Core i5 1.8GHz\n",
       "8    Intel Core i7 8550U 1.8GHz\n",
       "9    Intel Core i5 8250U 1.6GHz\n",
       "Name: cpu, dtype: object"
      ]
     },
     "execution_count": 54,
     "metadata": {},
     "output_type": "execute_result"
    }
   ],
   "source": [
    "laptops[\"cpu\"].head(10)"
   ]
  },
  {
   "cell_type": "code",
   "execution_count": 55,
   "metadata": {},
   "outputs": [],
   "source": [
    "laptops[\"gpu_manufacturer\"] = laptops[\"gpu\"].str.split().str[0]\n",
    "laptops[\"cpu_manufacturer\"] = laptops[\"cpu\"].str.split().str[0]"
   ]
  },
  {
   "cell_type": "code",
   "execution_count": 56,
   "metadata": {},
   "outputs": [
    {
     "data": {
      "text/html": [
       "<div>\n",
       "<style scoped>\n",
       "    .dataframe tbody tr th:only-of-type {\n",
       "        vertical-align: middle;\n",
       "    }\n",
       "\n",
       "    .dataframe tbody tr th {\n",
       "        vertical-align: top;\n",
       "    }\n",
       "\n",
       "    .dataframe thead th {\n",
       "        text-align: right;\n",
       "    }\n",
       "</style>\n",
       "<table border=\"1\" class=\"dataframe\">\n",
       "  <thead>\n",
       "    <tr style=\"text-align: right;\">\n",
       "      <th></th>\n",
       "      <th>manufacturer</th>\n",
       "      <th>model_name</th>\n",
       "      <th>category</th>\n",
       "      <th>screen_size_inches</th>\n",
       "      <th>screen</th>\n",
       "      <th>cpu</th>\n",
       "      <th>ram_gb</th>\n",
       "      <th>storage</th>\n",
       "      <th>gpu</th>\n",
       "      <th>os</th>\n",
       "      <th>os_version</th>\n",
       "      <th>weight</th>\n",
       "      <th>price_euros</th>\n",
       "      <th>gpu_manufacturer</th>\n",
       "      <th>cpu_manufacturer</th>\n",
       "    </tr>\n",
       "  </thead>\n",
       "  <tbody>\n",
       "    <tr>\n",
       "      <th>0</th>\n",
       "      <td>Apple</td>\n",
       "      <td>MacBook Pro</td>\n",
       "      <td>Ultrabook</td>\n",
       "      <td>13.3</td>\n",
       "      <td>IPS Panel Retina Display 2560x1600</td>\n",
       "      <td>Intel Core i5 2.3GHz</td>\n",
       "      <td>8</td>\n",
       "      <td>128GB SSD</td>\n",
       "      <td>Intel Iris Plus Graphics 640</td>\n",
       "      <td>macOS</td>\n",
       "      <td>NaN</td>\n",
       "      <td>1.37kg</td>\n",
       "      <td>1339,69</td>\n",
       "      <td>Intel</td>\n",
       "      <td>Intel</td>\n",
       "    </tr>\n",
       "    <tr>\n",
       "      <th>1</th>\n",
       "      <td>Apple</td>\n",
       "      <td>Macbook Air</td>\n",
       "      <td>Ultrabook</td>\n",
       "      <td>13.3</td>\n",
       "      <td>1440x900</td>\n",
       "      <td>Intel Core i5 1.8GHz</td>\n",
       "      <td>8</td>\n",
       "      <td>128GB Flash Storage</td>\n",
       "      <td>Intel HD Graphics 6000</td>\n",
       "      <td>macOS</td>\n",
       "      <td>NaN</td>\n",
       "      <td>1.34kg</td>\n",
       "      <td>898,94</td>\n",
       "      <td>Intel</td>\n",
       "      <td>Intel</td>\n",
       "    </tr>\n",
       "    <tr>\n",
       "      <th>2</th>\n",
       "      <td>HP</td>\n",
       "      <td>250 G6</td>\n",
       "      <td>Notebook</td>\n",
       "      <td>15.6</td>\n",
       "      <td>Full HD 1920x1080</td>\n",
       "      <td>Intel Core i5 7200U 2.5GHz</td>\n",
       "      <td>8</td>\n",
       "      <td>256GB SSD</td>\n",
       "      <td>Intel HD Graphics 620</td>\n",
       "      <td>No OS</td>\n",
       "      <td>NaN</td>\n",
       "      <td>1.86kg</td>\n",
       "      <td>575,00</td>\n",
       "      <td>Intel</td>\n",
       "      <td>Intel</td>\n",
       "    </tr>\n",
       "  </tbody>\n",
       "</table>\n",
       "</div>"
      ],
      "text/plain": [
       "  manufacturer   model_name   category  screen_size_inches  \\\n",
       "0        Apple  MacBook Pro  Ultrabook                13.3   \n",
       "1        Apple  Macbook Air  Ultrabook                13.3   \n",
       "2           HP       250 G6   Notebook                15.6   \n",
       "\n",
       "                               screen                         cpu  ram_gb  \\\n",
       "0  IPS Panel Retina Display 2560x1600        Intel Core i5 2.3GHz       8   \n",
       "1                            1440x900        Intel Core i5 1.8GHz       8   \n",
       "2                   Full HD 1920x1080  Intel Core i5 7200U 2.5GHz       8   \n",
       "\n",
       "               storage                           gpu     os os_version  \\\n",
       "0            128GB SSD  Intel Iris Plus Graphics 640  macOS        NaN   \n",
       "1  128GB Flash Storage        Intel HD Graphics 6000  macOS        NaN   \n",
       "2            256GB SSD         Intel HD Graphics 620  No OS        NaN   \n",
       "\n",
       "   weight price_euros gpu_manufacturer cpu_manufacturer  \n",
       "0  1.37kg     1339,69            Intel            Intel  \n",
       "1  1.34kg      898,94            Intel            Intel  \n",
       "2  1.86kg      575,00            Intel            Intel  "
      ]
     },
     "execution_count": 56,
     "metadata": {},
     "output_type": "execute_result"
    }
   ],
   "source": [
    "laptops.head(3)"
   ]
  },
  {
   "cell_type": "code",
   "execution_count": 57,
   "metadata": {},
   "outputs": [
    {
     "data": {
      "text/plain": [
       "Intel     722\n",
       "Nvidia    400\n",
       "AMD       180\n",
       "ARM         1\n",
       "Name: gpu_manufacturer, dtype: int64"
      ]
     },
     "execution_count": 57,
     "metadata": {},
     "output_type": "execute_result"
    }
   ],
   "source": [
    "laptops[\"gpu_manufacturer\"].value_counts()"
   ]
  },
  {
   "cell_type": "markdown",
   "metadata": {},
   "source": [
    "## Correcting Bad Values - map() method"
   ]
  },
  {
   "cell_type": "code",
   "execution_count": 58,
   "metadata": {},
   "outputs": [
    {
     "data": {
      "text/plain": [
       "Windows      1125\n",
       "No OS          66\n",
       "Linux          62\n",
       "Chrome OS      27\n",
       "macOS          13\n",
       "Mac OS          8\n",
       "Android         2\n",
       "Name: os, dtype: int64"
      ]
     },
     "execution_count": 58,
     "metadata": {},
     "output_type": "execute_result"
    }
   ],
   "source": [
    "laptops[\"os\"].value_counts()"
   ]
  },
  {
   "cell_type": "code",
   "execution_count": 59,
   "metadata": {},
   "outputs": [],
   "source": [
    "s = pd.Series(['pair', 'oranje', 'bananna', 'oranje', 'oranje', 'oranje'])"
   ]
  },
  {
   "cell_type": "code",
   "execution_count": 60,
   "metadata": {},
   "outputs": [
    {
     "data": {
      "text/plain": [
       "0       pair\n",
       "1     oranje\n",
       "2    bananna\n",
       "3     oranje\n",
       "4     oranje\n",
       "5     oranje\n",
       "dtype: object"
      ]
     },
     "execution_count": 60,
     "metadata": {},
     "output_type": "execute_result"
    }
   ],
   "source": [
    "s"
   ]
  },
  {
   "cell_type": "code",
   "execution_count": 61,
   "metadata": {},
   "outputs": [],
   "source": [
    "corrections = {\n",
    "    \"oranje\": \"orange\",\n",
    "    \"bananna\": \"banana\"\n",
    "}"
   ]
  },
  {
   "cell_type": "code",
   "execution_count": 62,
   "metadata": {},
   "outputs": [
    {
     "data": {
      "text/plain": [
       "0       NaN\n",
       "1    orange\n",
       "2    banana\n",
       "3    orange\n",
       "4    orange\n",
       "5    orange\n",
       "dtype: object"
      ]
     },
     "execution_count": 62,
     "metadata": {},
     "output_type": "execute_result"
    }
   ],
   "source": [
    "s.map(corrections)"
   ]
  },
  {
   "cell_type": "code",
   "execution_count": 63,
   "metadata": {},
   "outputs": [],
   "source": [
    "mapping_dict = {\n",
    "    'Android': 'Android',\n",
    "    'Chrome OS': 'Chrome OS',\n",
    "    'Linux': 'Linux',\n",
    "    'Mac OS': 'macOS',\n",
    "    'No OS': 'No OS',\n",
    "    'Windows': 'Windows',\n",
    "    'macOS': 'macOS'\n",
    "}"
   ]
  },
  {
   "cell_type": "code",
   "execution_count": 64,
   "metadata": {},
   "outputs": [],
   "source": [
    "laptops[\"os\"] = laptops[\"os\"].map(mapping_dict)"
   ]
  },
  {
   "cell_type": "code",
   "execution_count": 65,
   "metadata": {
    "scrolled": true
   },
   "outputs": [
    {
     "data": {
      "text/plain": [
       "Windows      1125\n",
       "No OS          66\n",
       "Linux          62\n",
       "Chrome OS      27\n",
       "macOS          21\n",
       "Android         2\n",
       "Name: os, dtype: int64"
      ]
     },
     "execution_count": 65,
     "metadata": {},
     "output_type": "execute_result"
    }
   ],
   "source": [
    "laptops[\"os\"].value_counts()"
   ]
  },
  {
   "cell_type": "markdown",
   "metadata": {},
   "source": [
    "## Introduction to Missing Data "
   ]
  },
  {
   "cell_type": "markdown",
   "metadata": {},
   "source": [
    "### Trade-Offs in Missing Data Conventions\n"
   ]
  },
  {
   "cell_type": "markdown",
   "metadata": {},
   "source": [
    "### Missing Data in Pandas\n",
    "\n",
    "\n"
   ]
  },
  {
   "cell_type": "markdown",
   "metadata": {},
   "source": [
    "### None: Pythonic missing data\n"
   ]
  },
  {
   "cell_type": "code",
   "execution_count": 68,
   "metadata": {},
   "outputs": [
    {
     "data": {
      "text/plain": [
       "array([1, 2, None, 4, 5], dtype=object)"
      ]
     },
     "execution_count": 68,
     "metadata": {},
     "output_type": "execute_result"
    }
   ],
   "source": [
    "vals1 = np.array([1,2,None,4,5])\n",
    "vals1"
   ]
  },
  {
   "cell_type": "code",
   "execution_count": 69,
   "metadata": {},
   "outputs": [
    {
     "ename": "TypeError",
     "evalue": "unsupported operand type(s) for +: 'int' and 'NoneType'",
     "output_type": "error",
     "traceback": [
      "\u001b[0;31m---------------------------------------------------------------------------\u001b[0m",
      "\u001b[0;31mTypeError\u001b[0m                                 Traceback (most recent call last)",
      "\u001b[0;32m/tmp/ipykernel_308728/1181914653.py\u001b[0m in \u001b[0;36m<module>\u001b[0;34m\u001b[0m\n\u001b[0;32m----> 1\u001b[0;31m \u001b[0mvals1\u001b[0m\u001b[0;34m.\u001b[0m\u001b[0msum\u001b[0m\u001b[0;34m(\u001b[0m\u001b[0;34m)\u001b[0m\u001b[0;34m\u001b[0m\u001b[0;34m\u001b[0m\u001b[0m\n\u001b[0m",
      "\u001b[0;32m~/python-analitika-public/.venv/lib/python3.8/site-packages/numpy/core/_methods.py\u001b[0m in \u001b[0;36m_sum\u001b[0;34m(a, axis, dtype, out, keepdims, initial, where)\u001b[0m\n\u001b[1;32m     46\u001b[0m def _sum(a, axis=None, dtype=None, out=None, keepdims=False,\n\u001b[1;32m     47\u001b[0m          initial=_NoValue, where=True):\n\u001b[0;32m---> 48\u001b[0;31m     \u001b[0;32mreturn\u001b[0m \u001b[0mumr_sum\u001b[0m\u001b[0;34m(\u001b[0m\u001b[0ma\u001b[0m\u001b[0;34m,\u001b[0m \u001b[0maxis\u001b[0m\u001b[0;34m,\u001b[0m \u001b[0mdtype\u001b[0m\u001b[0;34m,\u001b[0m \u001b[0mout\u001b[0m\u001b[0;34m,\u001b[0m \u001b[0mkeepdims\u001b[0m\u001b[0;34m,\u001b[0m \u001b[0minitial\u001b[0m\u001b[0;34m,\u001b[0m \u001b[0mwhere\u001b[0m\u001b[0;34m)\u001b[0m\u001b[0;34m\u001b[0m\u001b[0;34m\u001b[0m\u001b[0m\n\u001b[0m\u001b[1;32m     49\u001b[0m \u001b[0;34m\u001b[0m\u001b[0m\n\u001b[1;32m     50\u001b[0m def _prod(a, axis=None, dtype=None, out=None, keepdims=False,\n",
      "\u001b[0;31mTypeError\u001b[0m: unsupported operand type(s) for +: 'int' and 'NoneType'"
     ]
    }
   ],
   "source": [
    "vals1.sum()"
   ]
  },
  {
   "cell_type": "markdown",
   "metadata": {},
   "source": [
    "### NaN: Missing numerical data\n",
    "\n"
   ]
  },
  {
   "cell_type": "code",
   "execution_count": 70,
   "metadata": {},
   "outputs": [],
   "source": [
    "vals2 = np.array([1, np.nan, 3, 4])"
   ]
  },
  {
   "cell_type": "code",
   "execution_count": 71,
   "metadata": {},
   "outputs": [
    {
     "data": {
      "text/plain": [
       "array([ 1., nan,  3.,  4.])"
      ]
     },
     "execution_count": 71,
     "metadata": {},
     "output_type": "execute_result"
    }
   ],
   "source": [
    "vals2"
   ]
  },
  {
   "cell_type": "code",
   "execution_count": 72,
   "metadata": {},
   "outputs": [
    {
     "data": {
      "text/plain": [
       "dtype('float64')"
      ]
     },
     "execution_count": 72,
     "metadata": {},
     "output_type": "execute_result"
    }
   ],
   "source": [
    "vals2.dtype"
   ]
  },
  {
   "cell_type": "code",
   "execution_count": 74,
   "metadata": {},
   "outputs": [
    {
     "data": {
      "text/plain": [
       "nan"
      ]
     },
     "execution_count": 74,
     "metadata": {},
     "output_type": "execute_result"
    }
   ],
   "source": [
    "np.nan + 1"
   ]
  },
  {
   "cell_type": "code",
   "execution_count": 75,
   "metadata": {},
   "outputs": [
    {
     "data": {
      "text/plain": [
       "nan"
      ]
     },
     "execution_count": 75,
     "metadata": {},
     "output_type": "execute_result"
    }
   ],
   "source": [
    "np.nan * 0"
   ]
  },
  {
   "cell_type": "code",
   "execution_count": 76,
   "metadata": {},
   "outputs": [
    {
     "data": {
      "text/plain": [
       "array([ 4., nan,  6.,  7.])"
      ]
     },
     "execution_count": 76,
     "metadata": {},
     "output_type": "execute_result"
    }
   ],
   "source": [
    "vals2 + 3"
   ]
  },
  {
   "cell_type": "code",
   "execution_count": 77,
   "metadata": {},
   "outputs": [
    {
     "data": {
      "text/plain": [
       "nan"
      ]
     },
     "execution_count": 77,
     "metadata": {},
     "output_type": "execute_result"
    }
   ],
   "source": [
    "vals2.sum()"
   ]
  },
  {
   "cell_type": "code",
   "execution_count": 79,
   "metadata": {},
   "outputs": [
    {
     "data": {
      "text/plain": [
       "8.0"
      ]
     },
     "execution_count": 79,
     "metadata": {},
     "output_type": "execute_result"
    }
   ],
   "source": [
    "np.nansum(vals2)"
   ]
  },
  {
   "cell_type": "code",
   "execution_count": 80,
   "metadata": {},
   "outputs": [
    {
     "data": {
      "text/plain": [
       "4.0"
      ]
     },
     "execution_count": 80,
     "metadata": {},
     "output_type": "execute_result"
    }
   ],
   "source": [
    "np.nanmax(vals2)"
   ]
  },
  {
   "cell_type": "code",
   "execution_count": 81,
   "metadata": {},
   "outputs": [
    {
     "data": {
      "text/plain": [
       "1.0"
      ]
     },
     "execution_count": 81,
     "metadata": {},
     "output_type": "execute_result"
    }
   ],
   "source": [
    "np.nanmin(vals2)"
   ]
  },
  {
   "cell_type": "markdown",
   "metadata": {},
   "source": [
    "### NaN and None in Pandas\n",
    "\n"
   ]
  },
  {
   "cell_type": "code",
   "execution_count": 82,
   "metadata": {},
   "outputs": [
    {
     "data": {
      "text/plain": [
       "0    1.0\n",
       "1    NaN\n",
       "2    2.0\n",
       "3    NaN\n",
       "dtype: float64"
      ]
     },
     "execution_count": 82,
     "metadata": {},
     "output_type": "execute_result"
    }
   ],
   "source": [
    "pd.Series([1, np.nan, 2, None])"
   ]
  },
  {
   "cell_type": "markdown",
   "metadata": {},
   "source": [
    "\n",
    "<table>\n",
    "<thead><tr>\n",
    "<th>Typeclass</th>\n",
    "<th>Conversion When Storing NAs</th>\n",
    "<th>NA Sentinel Value</th>\n",
    "</tr>\n",
    "</thead>\n",
    "<tbody>\n",
    "<tr>\n",
    "<td><code>floating</code></td>\n",
    "<td>No change</td>\n",
    "<td><code>np.nan</code></td>\n",
    "</tr>\n",
    "<tr>\n",
    "<td><code>object</code></td>\n",
    "<td>No change</td>\n",
    "<td><code>None</code> or <code>np.nan</code></td>\n",
    "</tr>\n",
    "<tr>\n",
    "<td><code>integer</code></td>\n",
    "<td>Cast to <code>float64</code></td>\n",
    "<td><code>np.nan</code></td>\n",
    "</tr>\n",
    "<tr>\n",
    "<td><code>boolean</code></td>\n",
    "<td>Cast to <code>object</code></td>\n",
    "<td><code>None</code> or <code>np.nan</code></td>\n",
    "</tr>\n",
    "</tbody>\n",
    "</table>\n"
   ]
  },
  {
   "cell_type": "markdown",
   "metadata": {},
   "source": [
    "### Operating on Null Values\n",
    "\n",
    "\n",
    "\n",
    "- `isnull()`: Generate a boolean mask indicating missing values\n",
    "- `notnull()`: Opposite of isnull()\n",
    "- `dropna()`: Return a filtered version of the data\n",
    "- `fillna()`: Return a copy of the data with missing values filled or imputed\n",
    "\n"
   ]
  },
  {
   "cell_type": "markdown",
   "metadata": {},
   "source": [
    "#### Detecting null values\n",
    "\n"
   ]
  },
  {
   "cell_type": "code",
   "execution_count": 83,
   "metadata": {},
   "outputs": [],
   "source": [
    "data = pd.Series([1, np.nan, 'hello', None])"
   ]
  },
  {
   "cell_type": "code",
   "execution_count": 84,
   "metadata": {},
   "outputs": [
    {
     "data": {
      "text/plain": [
       "0        1\n",
       "1      NaN\n",
       "2    hello\n",
       "3     None\n",
       "dtype: object"
      ]
     },
     "execution_count": 84,
     "metadata": {},
     "output_type": "execute_result"
    }
   ],
   "source": [
    "data"
   ]
  },
  {
   "cell_type": "code",
   "execution_count": 85,
   "metadata": {},
   "outputs": [
    {
     "data": {
      "text/plain": [
       "0    False\n",
       "1     True\n",
       "2    False\n",
       "3     True\n",
       "dtype: bool"
      ]
     },
     "execution_count": 85,
     "metadata": {},
     "output_type": "execute_result"
    }
   ],
   "source": [
    "data.isnull()"
   ]
  },
  {
   "cell_type": "code",
   "execution_count": 86,
   "metadata": {},
   "outputs": [
    {
     "data": {
      "text/plain": [
       "0     True\n",
       "1    False\n",
       "2     True\n",
       "3    False\n",
       "dtype: bool"
      ]
     },
     "execution_count": 86,
     "metadata": {},
     "output_type": "execute_result"
    }
   ],
   "source": [
    "data.notnull()"
   ]
  },
  {
   "cell_type": "code",
   "execution_count": 87,
   "metadata": {},
   "outputs": [
    {
     "data": {
      "text/plain": [
       "0        1\n",
       "2    hello\n",
       "dtype: object"
      ]
     },
     "execution_count": 87,
     "metadata": {},
     "output_type": "execute_result"
    }
   ],
   "source": [
    "data[data.notnull()]"
   ]
  },
  {
   "cell_type": "markdown",
   "metadata": {},
   "source": [
    "#### Dropping null values\n"
   ]
  },
  {
   "cell_type": "code",
   "execution_count": 89,
   "metadata": {},
   "outputs": [
    {
     "data": {
      "text/plain": [
       "0        1\n",
       "2    hello\n",
       "dtype: object"
      ]
     },
     "execution_count": 89,
     "metadata": {},
     "output_type": "execute_result"
    }
   ],
   "source": [
    "data.dropna()"
   ]
  },
  {
   "cell_type": "code",
   "execution_count": 90,
   "metadata": {},
   "outputs": [],
   "source": [
    "df = pd.DataFrame([[1,      np.nan, 2],\n",
    "                   [2,      3,      5],\n",
    "                   [np.nan, 4,      6]])"
   ]
  },
  {
   "cell_type": "code",
   "execution_count": 91,
   "metadata": {},
   "outputs": [
    {
     "data": {
      "text/html": [
       "<div>\n",
       "<style scoped>\n",
       "    .dataframe tbody tr th:only-of-type {\n",
       "        vertical-align: middle;\n",
       "    }\n",
       "\n",
       "    .dataframe tbody tr th {\n",
       "        vertical-align: top;\n",
       "    }\n",
       "\n",
       "    .dataframe thead th {\n",
       "        text-align: right;\n",
       "    }\n",
       "</style>\n",
       "<table border=\"1\" class=\"dataframe\">\n",
       "  <thead>\n",
       "    <tr style=\"text-align: right;\">\n",
       "      <th></th>\n",
       "      <th>0</th>\n",
       "      <th>1</th>\n",
       "      <th>2</th>\n",
       "    </tr>\n",
       "  </thead>\n",
       "  <tbody>\n",
       "    <tr>\n",
       "      <th>0</th>\n",
       "      <td>1.0</td>\n",
       "      <td>NaN</td>\n",
       "      <td>2</td>\n",
       "    </tr>\n",
       "    <tr>\n",
       "      <th>1</th>\n",
       "      <td>2.0</td>\n",
       "      <td>3.0</td>\n",
       "      <td>5</td>\n",
       "    </tr>\n",
       "    <tr>\n",
       "      <th>2</th>\n",
       "      <td>NaN</td>\n",
       "      <td>4.0</td>\n",
       "      <td>6</td>\n",
       "    </tr>\n",
       "  </tbody>\n",
       "</table>\n",
       "</div>"
      ],
      "text/plain": [
       "     0    1  2\n",
       "0  1.0  NaN  2\n",
       "1  2.0  3.0  5\n",
       "2  NaN  4.0  6"
      ]
     },
     "execution_count": 91,
     "metadata": {},
     "output_type": "execute_result"
    }
   ],
   "source": [
    "df"
   ]
  },
  {
   "cell_type": "code",
   "execution_count": 93,
   "metadata": {},
   "outputs": [
    {
     "data": {
      "text/html": [
       "<div>\n",
       "<style scoped>\n",
       "    .dataframe tbody tr th:only-of-type {\n",
       "        vertical-align: middle;\n",
       "    }\n",
       "\n",
       "    .dataframe tbody tr th {\n",
       "        vertical-align: top;\n",
       "    }\n",
       "\n",
       "    .dataframe thead th {\n",
       "        text-align: right;\n",
       "    }\n",
       "</style>\n",
       "<table border=\"1\" class=\"dataframe\">\n",
       "  <thead>\n",
       "    <tr style=\"text-align: right;\">\n",
       "      <th></th>\n",
       "      <th>0</th>\n",
       "      <th>1</th>\n",
       "      <th>2</th>\n",
       "    </tr>\n",
       "  </thead>\n",
       "  <tbody>\n",
       "    <tr>\n",
       "      <th>1</th>\n",
       "      <td>2.0</td>\n",
       "      <td>3.0</td>\n",
       "      <td>5</td>\n",
       "    </tr>\n",
       "  </tbody>\n",
       "</table>\n",
       "</div>"
      ],
      "text/plain": [
       "     0    1  2\n",
       "1  2.0  3.0  5"
      ]
     },
     "execution_count": 93,
     "metadata": {},
     "output_type": "execute_result"
    }
   ],
   "source": [
    "df.dropna(axis=\"index\")"
   ]
  },
  {
   "cell_type": "code",
   "execution_count": 94,
   "metadata": {},
   "outputs": [
    {
     "data": {
      "text/html": [
       "<div>\n",
       "<style scoped>\n",
       "    .dataframe tbody tr th:only-of-type {\n",
       "        vertical-align: middle;\n",
       "    }\n",
       "\n",
       "    .dataframe tbody tr th {\n",
       "        vertical-align: top;\n",
       "    }\n",
       "\n",
       "    .dataframe thead th {\n",
       "        text-align: right;\n",
       "    }\n",
       "</style>\n",
       "<table border=\"1\" class=\"dataframe\">\n",
       "  <thead>\n",
       "    <tr style=\"text-align: right;\">\n",
       "      <th></th>\n",
       "      <th>2</th>\n",
       "    </tr>\n",
       "  </thead>\n",
       "  <tbody>\n",
       "    <tr>\n",
       "      <th>0</th>\n",
       "      <td>2</td>\n",
       "    </tr>\n",
       "    <tr>\n",
       "      <th>1</th>\n",
       "      <td>5</td>\n",
       "    </tr>\n",
       "    <tr>\n",
       "      <th>2</th>\n",
       "      <td>6</td>\n",
       "    </tr>\n",
       "  </tbody>\n",
       "</table>\n",
       "</div>"
      ],
      "text/plain": [
       "   2\n",
       "0  2\n",
       "1  5\n",
       "2  6"
      ]
     },
     "execution_count": 94,
     "metadata": {},
     "output_type": "execute_result"
    }
   ],
   "source": [
    "df.dropna(axis=\"columns\")"
   ]
  },
  {
   "cell_type": "code",
   "execution_count": 95,
   "metadata": {},
   "outputs": [],
   "source": [
    "df[3] = np.nan"
   ]
  },
  {
   "cell_type": "code",
   "execution_count": 96,
   "metadata": {},
   "outputs": [
    {
     "data": {
      "text/html": [
       "<div>\n",
       "<style scoped>\n",
       "    .dataframe tbody tr th:only-of-type {\n",
       "        vertical-align: middle;\n",
       "    }\n",
       "\n",
       "    .dataframe tbody tr th {\n",
       "        vertical-align: top;\n",
       "    }\n",
       "\n",
       "    .dataframe thead th {\n",
       "        text-align: right;\n",
       "    }\n",
       "</style>\n",
       "<table border=\"1\" class=\"dataframe\">\n",
       "  <thead>\n",
       "    <tr style=\"text-align: right;\">\n",
       "      <th></th>\n",
       "      <th>0</th>\n",
       "      <th>1</th>\n",
       "      <th>2</th>\n",
       "      <th>3</th>\n",
       "    </tr>\n",
       "  </thead>\n",
       "  <tbody>\n",
       "    <tr>\n",
       "      <th>0</th>\n",
       "      <td>1.0</td>\n",
       "      <td>NaN</td>\n",
       "      <td>2</td>\n",
       "      <td>NaN</td>\n",
       "    </tr>\n",
       "    <tr>\n",
       "      <th>1</th>\n",
       "      <td>2.0</td>\n",
       "      <td>3.0</td>\n",
       "      <td>5</td>\n",
       "      <td>NaN</td>\n",
       "    </tr>\n",
       "    <tr>\n",
       "      <th>2</th>\n",
       "      <td>NaN</td>\n",
       "      <td>4.0</td>\n",
       "      <td>6</td>\n",
       "      <td>NaN</td>\n",
       "    </tr>\n",
       "  </tbody>\n",
       "</table>\n",
       "</div>"
      ],
      "text/plain": [
       "     0    1  2   3\n",
       "0  1.0  NaN  2 NaN\n",
       "1  2.0  3.0  5 NaN\n",
       "2  NaN  4.0  6 NaN"
      ]
     },
     "execution_count": 96,
     "metadata": {},
     "output_type": "execute_result"
    }
   ],
   "source": [
    "df"
   ]
  },
  {
   "cell_type": "code",
   "execution_count": 98,
   "metadata": {},
   "outputs": [
    {
     "data": {
      "text/html": [
       "<div>\n",
       "<style scoped>\n",
       "    .dataframe tbody tr th:only-of-type {\n",
       "        vertical-align: middle;\n",
       "    }\n",
       "\n",
       "    .dataframe tbody tr th {\n",
       "        vertical-align: top;\n",
       "    }\n",
       "\n",
       "    .dataframe thead th {\n",
       "        text-align: right;\n",
       "    }\n",
       "</style>\n",
       "<table border=\"1\" class=\"dataframe\">\n",
       "  <thead>\n",
       "    <tr style=\"text-align: right;\">\n",
       "      <th></th>\n",
       "      <th>0</th>\n",
       "      <th>1</th>\n",
       "      <th>2</th>\n",
       "    </tr>\n",
       "  </thead>\n",
       "  <tbody>\n",
       "    <tr>\n",
       "      <th>0</th>\n",
       "      <td>1.0</td>\n",
       "      <td>NaN</td>\n",
       "      <td>2</td>\n",
       "    </tr>\n",
       "    <tr>\n",
       "      <th>1</th>\n",
       "      <td>2.0</td>\n",
       "      <td>3.0</td>\n",
       "      <td>5</td>\n",
       "    </tr>\n",
       "    <tr>\n",
       "      <th>2</th>\n",
       "      <td>NaN</td>\n",
       "      <td>4.0</td>\n",
       "      <td>6</td>\n",
       "    </tr>\n",
       "  </tbody>\n",
       "</table>\n",
       "</div>"
      ],
      "text/plain": [
       "     0    1  2\n",
       "0  1.0  NaN  2\n",
       "1  2.0  3.0  5\n",
       "2  NaN  4.0  6"
      ]
     },
     "execution_count": 98,
     "metadata": {},
     "output_type": "execute_result"
    }
   ],
   "source": [
    "df.dropna(axis=\"columns\", how=\"all\")"
   ]
  },
  {
   "cell_type": "code",
   "execution_count": 99,
   "metadata": {},
   "outputs": [
    {
     "data": {
      "text/html": [
       "<div>\n",
       "<style scoped>\n",
       "    .dataframe tbody tr th:only-of-type {\n",
       "        vertical-align: middle;\n",
       "    }\n",
       "\n",
       "    .dataframe tbody tr th {\n",
       "        vertical-align: top;\n",
       "    }\n",
       "\n",
       "    .dataframe thead th {\n",
       "        text-align: right;\n",
       "    }\n",
       "</style>\n",
       "<table border=\"1\" class=\"dataframe\">\n",
       "  <thead>\n",
       "    <tr style=\"text-align: right;\">\n",
       "      <th></th>\n",
       "      <th>0</th>\n",
       "      <th>1</th>\n",
       "      <th>2</th>\n",
       "      <th>3</th>\n",
       "    </tr>\n",
       "  </thead>\n",
       "  <tbody>\n",
       "    <tr>\n",
       "      <th>1</th>\n",
       "      <td>2.0</td>\n",
       "      <td>3.0</td>\n",
       "      <td>5</td>\n",
       "      <td>NaN</td>\n",
       "    </tr>\n",
       "  </tbody>\n",
       "</table>\n",
       "</div>"
      ],
      "text/plain": [
       "     0    1  2   3\n",
       "1  2.0  3.0  5 NaN"
      ]
     },
     "execution_count": 99,
     "metadata": {},
     "output_type": "execute_result"
    }
   ],
   "source": [
    "df.dropna(axis=\"rows\", thresh=3)"
   ]
  },
  {
   "cell_type": "markdown",
   "metadata": {},
   "source": [
    "#### Filling null values\n",
    "\n"
   ]
  },
  {
   "cell_type": "code",
   "execution_count": 100,
   "metadata": {},
   "outputs": [],
   "source": [
    "data = pd.Series([1, np.nan, 2, None, 3], index=list('abcde'))"
   ]
  },
  {
   "cell_type": "code",
   "execution_count": 101,
   "metadata": {},
   "outputs": [
    {
     "data": {
      "text/plain": [
       "a    1.0\n",
       "b    NaN\n",
       "c    2.0\n",
       "d    NaN\n",
       "e    3.0\n",
       "dtype: float64"
      ]
     },
     "execution_count": 101,
     "metadata": {},
     "output_type": "execute_result"
    }
   ],
   "source": [
    "data"
   ]
  },
  {
   "cell_type": "code",
   "execution_count": 102,
   "metadata": {},
   "outputs": [
    {
     "data": {
      "text/plain": [
       "a    1.0\n",
       "b    0.0\n",
       "c    2.0\n",
       "d    0.0\n",
       "e    3.0\n",
       "dtype: float64"
      ]
     },
     "execution_count": 102,
     "metadata": {},
     "output_type": "execute_result"
    }
   ],
   "source": [
    "data.fillna(0)"
   ]
  },
  {
   "cell_type": "code",
   "execution_count": 103,
   "metadata": {},
   "outputs": [
    {
     "data": {
      "text/plain": [
       "a    1.0\n",
       "b    1.0\n",
       "c    2.0\n",
       "d    2.0\n",
       "e    3.0\n",
       "dtype: float64"
      ]
     },
     "execution_count": 103,
     "metadata": {},
     "output_type": "execute_result"
    }
   ],
   "source": [
    "data.fillna(method=\"ffill\")"
   ]
  },
  {
   "cell_type": "code",
   "execution_count": 104,
   "metadata": {},
   "outputs": [
    {
     "data": {
      "text/plain": [
       "a    1.0\n",
       "b    2.0\n",
       "c    2.0\n",
       "d    3.0\n",
       "e    3.0\n",
       "dtype: float64"
      ]
     },
     "execution_count": 104,
     "metadata": {},
     "output_type": "execute_result"
    }
   ],
   "source": [
    "data.fillna(method=\"bfill\")"
   ]
  },
  {
   "cell_type": "code",
   "execution_count": 105,
   "metadata": {},
   "outputs": [
    {
     "data": {
      "text/html": [
       "<div>\n",
       "<style scoped>\n",
       "    .dataframe tbody tr th:only-of-type {\n",
       "        vertical-align: middle;\n",
       "    }\n",
       "\n",
       "    .dataframe tbody tr th {\n",
       "        vertical-align: top;\n",
       "    }\n",
       "\n",
       "    .dataframe thead th {\n",
       "        text-align: right;\n",
       "    }\n",
       "</style>\n",
       "<table border=\"1\" class=\"dataframe\">\n",
       "  <thead>\n",
       "    <tr style=\"text-align: right;\">\n",
       "      <th></th>\n",
       "      <th>0</th>\n",
       "      <th>1</th>\n",
       "      <th>2</th>\n",
       "      <th>3</th>\n",
       "    </tr>\n",
       "  </thead>\n",
       "  <tbody>\n",
       "    <tr>\n",
       "      <th>0</th>\n",
       "      <td>1.0</td>\n",
       "      <td>NaN</td>\n",
       "      <td>2</td>\n",
       "      <td>NaN</td>\n",
       "    </tr>\n",
       "    <tr>\n",
       "      <th>1</th>\n",
       "      <td>2.0</td>\n",
       "      <td>3.0</td>\n",
       "      <td>5</td>\n",
       "      <td>NaN</td>\n",
       "    </tr>\n",
       "    <tr>\n",
       "      <th>2</th>\n",
       "      <td>NaN</td>\n",
       "      <td>4.0</td>\n",
       "      <td>6</td>\n",
       "      <td>NaN</td>\n",
       "    </tr>\n",
       "  </tbody>\n",
       "</table>\n",
       "</div>"
      ],
      "text/plain": [
       "     0    1  2   3\n",
       "0  1.0  NaN  2 NaN\n",
       "1  2.0  3.0  5 NaN\n",
       "2  NaN  4.0  6 NaN"
      ]
     },
     "execution_count": 105,
     "metadata": {},
     "output_type": "execute_result"
    }
   ],
   "source": [
    "df"
   ]
  },
  {
   "cell_type": "code",
   "execution_count": 107,
   "metadata": {},
   "outputs": [
    {
     "data": {
      "text/html": [
       "<div>\n",
       "<style scoped>\n",
       "    .dataframe tbody tr th:only-of-type {\n",
       "        vertical-align: middle;\n",
       "    }\n",
       "\n",
       "    .dataframe tbody tr th {\n",
       "        vertical-align: top;\n",
       "    }\n",
       "\n",
       "    .dataframe thead th {\n",
       "        text-align: right;\n",
       "    }\n",
       "</style>\n",
       "<table border=\"1\" class=\"dataframe\">\n",
       "  <thead>\n",
       "    <tr style=\"text-align: right;\">\n",
       "      <th></th>\n",
       "      <th>0</th>\n",
       "      <th>1</th>\n",
       "      <th>2</th>\n",
       "      <th>3</th>\n",
       "    </tr>\n",
       "  </thead>\n",
       "  <tbody>\n",
       "    <tr>\n",
       "      <th>0</th>\n",
       "      <td>1.0</td>\n",
       "      <td>1.0</td>\n",
       "      <td>2.0</td>\n",
       "      <td>2.0</td>\n",
       "    </tr>\n",
       "    <tr>\n",
       "      <th>1</th>\n",
       "      <td>2.0</td>\n",
       "      <td>3.0</td>\n",
       "      <td>5.0</td>\n",
       "      <td>5.0</td>\n",
       "    </tr>\n",
       "    <tr>\n",
       "      <th>2</th>\n",
       "      <td>NaN</td>\n",
       "      <td>4.0</td>\n",
       "      <td>6.0</td>\n",
       "      <td>6.0</td>\n",
       "    </tr>\n",
       "  </tbody>\n",
       "</table>\n",
       "</div>"
      ],
      "text/plain": [
       "     0    1    2    3\n",
       "0  1.0  1.0  2.0  2.0\n",
       "1  2.0  3.0  5.0  5.0\n",
       "2  NaN  4.0  6.0  6.0"
      ]
     },
     "execution_count": 107,
     "metadata": {},
     "output_type": "execute_result"
    }
   ],
   "source": [
    "df.fillna(method=\"ffill\", axis=\"columns\")"
   ]
  },
  {
   "cell_type": "markdown",
   "metadata": {},
   "source": [
    "## Dropping Missing Values"
   ]
  },
  {
   "cell_type": "code",
   "execution_count": 108,
   "metadata": {},
   "outputs": [
    {
     "data": {
      "text/plain": [
       "manufacturer            0\n",
       "model_name              0\n",
       "category                0\n",
       "screen_size_inches      0\n",
       "screen                  0\n",
       "cpu                     0\n",
       "ram_gb                  0\n",
       "storage                 0\n",
       "gpu                     0\n",
       "os                      0\n",
       "os_version            170\n",
       "weight                  0\n",
       "price_euros             0\n",
       "gpu_manufacturer        0\n",
       "cpu_manufacturer        0\n",
       "dtype: int64"
      ]
     },
     "execution_count": 108,
     "metadata": {},
     "output_type": "execute_result"
    }
   ],
   "source": [
    "laptops.isnull().sum()"
   ]
  },
  {
   "cell_type": "code",
   "execution_count": 109,
   "metadata": {},
   "outputs": [
    {
     "data": {
      "text/plain": [
       "(1303, 15)"
      ]
     },
     "execution_count": 109,
     "metadata": {},
     "output_type": "execute_result"
    }
   ],
   "source": [
    "laptops.shape"
   ]
  },
  {
   "cell_type": "code",
   "execution_count": 110,
   "metadata": {},
   "outputs": [
    {
     "data": {
      "text/plain": [
       "(1133, 15)"
      ]
     },
     "execution_count": 110,
     "metadata": {},
     "output_type": "execute_result"
    }
   ],
   "source": [
    "laptops.dropna(axis=0).shape"
   ]
  },
  {
   "cell_type": "code",
   "execution_count": 111,
   "metadata": {},
   "outputs": [
    {
     "data": {
      "text/plain": [
       "(1303, 14)"
      ]
     },
     "execution_count": 111,
     "metadata": {},
     "output_type": "execute_result"
    }
   ],
   "source": [
    "laptops.dropna(axis=1).shape"
   ]
  },
  {
   "cell_type": "markdown",
   "metadata": {},
   "source": [
    "## Filling Missing Values"
   ]
  },
  {
   "cell_type": "code",
   "execution_count": 113,
   "metadata": {},
   "outputs": [
    {
     "data": {
      "text/plain": [
       "10      1072\n",
       "NaN      170\n",
       "7         45\n",
       "X          8\n",
       "10 S       8\n",
       "Name: os_version, dtype: int64"
      ]
     },
     "execution_count": 113,
     "metadata": {},
     "output_type": "execute_result"
    }
   ],
   "source": [
    "laptops[\"os_version\"].value_counts(dropna=False)"
   ]
  },
  {
   "cell_type": "code",
   "execution_count": 116,
   "metadata": {},
   "outputs": [
    {
     "data": {
      "text/plain": [
       "No OS        66\n",
       "Linux        62\n",
       "Chrome OS    27\n",
       "macOS        13\n",
       "Android       2\n",
       "Name: os, dtype: int64"
      ]
     },
     "execution_count": 116,
     "metadata": {},
     "output_type": "execute_result"
    }
   ],
   "source": [
    "laptops.loc[laptops[\"os_version\"].isnull(), \"os\"].value_counts()"
   ]
  },
  {
   "cell_type": "code",
   "execution_count": 121,
   "metadata": {},
   "outputs": [],
   "source": [
    "# Mac\n",
    "# laptops.loc[laptops[\"os\"] == \"macOS\", [\"os\", \"os_version\"]]\n",
    "laptops.loc[laptops[\"os\"] == \"macOS\", \"os_version\"] = \"X\""
   ]
  },
  {
   "cell_type": "code",
   "execution_count": 122,
   "metadata": {},
   "outputs": [
    {
     "data": {
      "text/plain": [
       "No OS        66\n",
       "Linux        62\n",
       "Chrome OS    27\n",
       "Android       2\n",
       "Name: os, dtype: int64"
      ]
     },
     "execution_count": 122,
     "metadata": {},
     "output_type": "execute_result"
    }
   ],
   "source": [
    "laptops.loc[laptops[\"os_version\"].isnull(), \"os\"].value_counts()"
   ]
  },
  {
   "cell_type": "code",
   "execution_count": 125,
   "metadata": {},
   "outputs": [
    {
     "data": {
      "text/plain": [
       "manufacturer          0\n",
       "model_name            0\n",
       "category              0\n",
       "screen_size_inches    0\n",
       "screen                0\n",
       "cpu                   0\n",
       "ram_gb                0\n",
       "storage               0\n",
       "gpu                   0\n",
       "os                    0\n",
       "os_version            0\n",
       "weight                0\n",
       "price_euros           0\n",
       "gpu_manufacturer      0\n",
       "cpu_manufacturer      0\n",
       "dtype: int64"
      ]
     },
     "execution_count": 125,
     "metadata": {},
     "output_type": "execute_result"
    }
   ],
   "source": [
    "laptops.loc[laptops[\"os\"] == \"Linux\", \"os_version\"] = \"Version Unknown\"\n",
    "laptops.loc[laptops[\"os\"] == \"Chrome OS\" , \"os_version\"] = \"Version Unknown\"\n",
    "laptops.loc[laptops[\"os\"] == \"Android\" , \"os_version\"] = \"Version Unknown\"\n",
    "laptops.loc[laptops[\"os\"] == \"No OS\", \"os_version\"] = \"Version Unknown\"\n",
    "# no more misssing values\n",
    "laptops.isnull().sum()"
   ]
  },
  {
   "cell_type": "markdown",
   "metadata": {},
   "source": [
    "## Removing Duplicates"
   ]
  },
  {
   "cell_type": "code",
   "execution_count": 128,
   "metadata": {},
   "outputs": [
    {
     "data": {
      "text/plain": [
       "0    False\n",
       "1    False\n",
       "2    False\n",
       "3    False\n",
       "4    False\n",
       "dtype: bool"
      ]
     },
     "execution_count": 128,
     "metadata": {},
     "output_type": "execute_result"
    }
   ],
   "source": [
    "laptops.duplicated().head()"
   ]
  },
  {
   "cell_type": "code",
   "execution_count": 129,
   "metadata": {},
   "outputs": [
    {
     "data": {
      "text/plain": [
       "False    1275\n",
       "True       28\n",
       "dtype: int64"
      ]
     },
     "execution_count": 129,
     "metadata": {},
     "output_type": "execute_result"
    }
   ],
   "source": [
    "laptops.duplicated().value_counts()"
   ]
  },
  {
   "cell_type": "code",
   "execution_count": 131,
   "metadata": {},
   "outputs": [],
   "source": [
    "#laptops[laptops.duplicated()]"
   ]
  },
  {
   "cell_type": "code",
   "execution_count": 132,
   "metadata": {},
   "outputs": [
    {
     "data": {
      "text/plain": [
       "(1303, 15)"
      ]
     },
     "execution_count": 132,
     "metadata": {},
     "output_type": "execute_result"
    }
   ],
   "source": [
    "laptops.shape"
   ]
  },
  {
   "cell_type": "code",
   "execution_count": 133,
   "metadata": {},
   "outputs": [],
   "source": [
    "laptops.drop_duplicates(inplace=True)"
   ]
  },
  {
   "cell_type": "code",
   "execution_count": 134,
   "metadata": {},
   "outputs": [
    {
     "data": {
      "text/plain": [
       "(1275, 15)"
      ]
     },
     "execution_count": 134,
     "metadata": {},
     "output_type": "execute_result"
    }
   ],
   "source": [
    "laptops.shape"
   ]
  },
  {
   "cell_type": "markdown",
   "metadata": {},
   "source": [
    "## Replacing Values"
   ]
  },
  {
   "cell_type": "code",
   "execution_count": 135,
   "metadata": {},
   "outputs": [
    {
     "data": {
      "text/plain": [
       "Dell         291\n",
       "Lenovo       289\n",
       "HP           268\n",
       "Asus         152\n",
       "Acer         101\n",
       "MSI           54\n",
       "Toshiba       48\n",
       "Apple         21\n",
       "Samsung        9\n",
       "Razer          7\n",
       "Mediacom       7\n",
       "Microsoft      6\n",
       "Xiaomi         4\n",
       "Vero           4\n",
       "Chuwi          3\n",
       "Google         3\n",
       "Fujitsu        3\n",
       "LG             3\n",
       "Huawei         2\n",
       "Name: manufacturer, dtype: int64"
      ]
     },
     "execution_count": 135,
     "metadata": {},
     "output_type": "execute_result"
    }
   ],
   "source": [
    "laptops[\"manufacturer\"].value_counts()"
   ]
  },
  {
   "cell_type": "code",
   "execution_count": 136,
   "metadata": {},
   "outputs": [],
   "source": [
    "laptops.replace(\"MSI\", 'Micro-Star International', inplace=True)"
   ]
  },
  {
   "cell_type": "code",
   "execution_count": 137,
   "metadata": {},
   "outputs": [
    {
     "data": {
      "text/plain": [
       "Dell                        291\n",
       "Lenovo                      289\n",
       "HP                          268\n",
       "Asus                        152\n",
       "Acer                        101\n",
       "Micro-Star International     54\n",
       "Toshiba                      48\n",
       "Apple                        21\n",
       "Samsung                       9\n",
       "Razer                         7\n",
       "Mediacom                      7\n",
       "Microsoft                     6\n",
       "Xiaomi                        4\n",
       "Vero                          4\n",
       "Chuwi                         3\n",
       "Google                        3\n",
       "Fujitsu                       3\n",
       "LG                            3\n",
       "Huawei                        2\n",
       "Name: manufacturer, dtype: int64"
      ]
     },
     "execution_count": 137,
     "metadata": {},
     "output_type": "execute_result"
    }
   ],
   "source": [
    "laptops[\"manufacturer\"].value_counts()"
   ]
  },
  {
   "cell_type": "markdown",
   "metadata": {},
   "source": [
    "## Dropping Columns "
   ]
  },
  {
   "cell_type": "code",
   "execution_count": 138,
   "metadata": {},
   "outputs": [
    {
     "data": {
      "text/html": [
       "<div>\n",
       "<style scoped>\n",
       "    .dataframe tbody tr th:only-of-type {\n",
       "        vertical-align: middle;\n",
       "    }\n",
       "\n",
       "    .dataframe tbody tr th {\n",
       "        vertical-align: top;\n",
       "    }\n",
       "\n",
       "    .dataframe thead th {\n",
       "        text-align: right;\n",
       "    }\n",
       "</style>\n",
       "<table border=\"1\" class=\"dataframe\">\n",
       "  <thead>\n",
       "    <tr style=\"text-align: right;\">\n",
       "      <th></th>\n",
       "      <th>manufacturer</th>\n",
       "      <th>model_name</th>\n",
       "      <th>category</th>\n",
       "      <th>screen_size_inches</th>\n",
       "      <th>screen</th>\n",
       "      <th>cpu</th>\n",
       "      <th>ram_gb</th>\n",
       "      <th>storage</th>\n",
       "      <th>gpu</th>\n",
       "      <th>os</th>\n",
       "      <th>os_version</th>\n",
       "      <th>weight</th>\n",
       "      <th>price_euros</th>\n",
       "      <th>gpu_manufacturer</th>\n",
       "      <th>cpu_manufacturer</th>\n",
       "    </tr>\n",
       "  </thead>\n",
       "  <tbody>\n",
       "    <tr>\n",
       "      <th>0</th>\n",
       "      <td>Apple</td>\n",
       "      <td>MacBook Pro</td>\n",
       "      <td>Ultrabook</td>\n",
       "      <td>13.3</td>\n",
       "      <td>IPS Panel Retina Display 2560x1600</td>\n",
       "      <td>Intel Core i5 2.3GHz</td>\n",
       "      <td>8</td>\n",
       "      <td>128GB SSD</td>\n",
       "      <td>Intel Iris Plus Graphics 640</td>\n",
       "      <td>macOS</td>\n",
       "      <td>X</td>\n",
       "      <td>1.37kg</td>\n",
       "      <td>1339,69</td>\n",
       "      <td>Intel</td>\n",
       "      <td>Intel</td>\n",
       "    </tr>\n",
       "    <tr>\n",
       "      <th>1</th>\n",
       "      <td>Apple</td>\n",
       "      <td>Macbook Air</td>\n",
       "      <td>Ultrabook</td>\n",
       "      <td>13.3</td>\n",
       "      <td>1440x900</td>\n",
       "      <td>Intel Core i5 1.8GHz</td>\n",
       "      <td>8</td>\n",
       "      <td>128GB Flash Storage</td>\n",
       "      <td>Intel HD Graphics 6000</td>\n",
       "      <td>macOS</td>\n",
       "      <td>X</td>\n",
       "      <td>1.34kg</td>\n",
       "      <td>898,94</td>\n",
       "      <td>Intel</td>\n",
       "      <td>Intel</td>\n",
       "    </tr>\n",
       "    <tr>\n",
       "      <th>2</th>\n",
       "      <td>HP</td>\n",
       "      <td>250 G6</td>\n",
       "      <td>Notebook</td>\n",
       "      <td>15.6</td>\n",
       "      <td>Full HD 1920x1080</td>\n",
       "      <td>Intel Core i5 7200U 2.5GHz</td>\n",
       "      <td>8</td>\n",
       "      <td>256GB SSD</td>\n",
       "      <td>Intel HD Graphics 620</td>\n",
       "      <td>No OS</td>\n",
       "      <td>Version Unknown</td>\n",
       "      <td>1.86kg</td>\n",
       "      <td>575,00</td>\n",
       "      <td>Intel</td>\n",
       "      <td>Intel</td>\n",
       "    </tr>\n",
       "    <tr>\n",
       "      <th>3</th>\n",
       "      <td>Apple</td>\n",
       "      <td>MacBook Pro</td>\n",
       "      <td>Ultrabook</td>\n",
       "      <td>15.4</td>\n",
       "      <td>IPS Panel Retina Display 2880x1800</td>\n",
       "      <td>Intel Core i7 2.7GHz</td>\n",
       "      <td>16</td>\n",
       "      <td>512GB SSD</td>\n",
       "      <td>AMD Radeon Pro 455</td>\n",
       "      <td>macOS</td>\n",
       "      <td>X</td>\n",
       "      <td>1.83kg</td>\n",
       "      <td>2537,45</td>\n",
       "      <td>AMD</td>\n",
       "      <td>Intel</td>\n",
       "    </tr>\n",
       "    <tr>\n",
       "      <th>4</th>\n",
       "      <td>Apple</td>\n",
       "      <td>MacBook Pro</td>\n",
       "      <td>Ultrabook</td>\n",
       "      <td>13.3</td>\n",
       "      <td>IPS Panel Retina Display 2560x1600</td>\n",
       "      <td>Intel Core i5 3.1GHz</td>\n",
       "      <td>8</td>\n",
       "      <td>256GB SSD</td>\n",
       "      <td>Intel Iris Plus Graphics 650</td>\n",
       "      <td>macOS</td>\n",
       "      <td>X</td>\n",
       "      <td>1.37kg</td>\n",
       "      <td>1803,60</td>\n",
       "      <td>Intel</td>\n",
       "      <td>Intel</td>\n",
       "    </tr>\n",
       "  </tbody>\n",
       "</table>\n",
       "</div>"
      ],
      "text/plain": [
       "  manufacturer   model_name   category  screen_size_inches  \\\n",
       "0        Apple  MacBook Pro  Ultrabook                13.3   \n",
       "1        Apple  Macbook Air  Ultrabook                13.3   \n",
       "2           HP       250 G6   Notebook                15.6   \n",
       "3        Apple  MacBook Pro  Ultrabook                15.4   \n",
       "4        Apple  MacBook Pro  Ultrabook                13.3   \n",
       "\n",
       "                               screen                         cpu  ram_gb  \\\n",
       "0  IPS Panel Retina Display 2560x1600        Intel Core i5 2.3GHz       8   \n",
       "1                            1440x900        Intel Core i5 1.8GHz       8   \n",
       "2                   Full HD 1920x1080  Intel Core i5 7200U 2.5GHz       8   \n",
       "3  IPS Panel Retina Display 2880x1800        Intel Core i7 2.7GHz      16   \n",
       "4  IPS Panel Retina Display 2560x1600        Intel Core i5 3.1GHz       8   \n",
       "\n",
       "               storage                           gpu     os       os_version  \\\n",
       "0            128GB SSD  Intel Iris Plus Graphics 640  macOS                X   \n",
       "1  128GB Flash Storage        Intel HD Graphics 6000  macOS                X   \n",
       "2            256GB SSD         Intel HD Graphics 620  No OS  Version Unknown   \n",
       "3            512GB SSD            AMD Radeon Pro 455  macOS                X   \n",
       "4            256GB SSD  Intel Iris Plus Graphics 650  macOS                X   \n",
       "\n",
       "   weight price_euros gpu_manufacturer cpu_manufacturer  \n",
       "0  1.37kg     1339,69            Intel            Intel  \n",
       "1  1.34kg      898,94            Intel            Intel  \n",
       "2  1.86kg      575,00            Intel            Intel  \n",
       "3  1.83kg     2537,45              AMD            Intel  \n",
       "4  1.37kg     1803,60            Intel            Intel  "
      ]
     },
     "execution_count": 138,
     "metadata": {},
     "output_type": "execute_result"
    }
   ],
   "source": [
    "laptops.head()"
   ]
  },
  {
   "cell_type": "code",
   "execution_count": 139,
   "metadata": {},
   "outputs": [],
   "source": [
    "laptops.drop(columns=[\"category\", \"gpu\"], inplace=True)"
   ]
  },
  {
   "cell_type": "code",
   "execution_count": 140,
   "metadata": {},
   "outputs": [
    {
     "data": {
      "text/html": [
       "<div>\n",
       "<style scoped>\n",
       "    .dataframe tbody tr th:only-of-type {\n",
       "        vertical-align: middle;\n",
       "    }\n",
       "\n",
       "    .dataframe tbody tr th {\n",
       "        vertical-align: top;\n",
       "    }\n",
       "\n",
       "    .dataframe thead th {\n",
       "        text-align: right;\n",
       "    }\n",
       "</style>\n",
       "<table border=\"1\" class=\"dataframe\">\n",
       "  <thead>\n",
       "    <tr style=\"text-align: right;\">\n",
       "      <th></th>\n",
       "      <th>manufacturer</th>\n",
       "      <th>model_name</th>\n",
       "      <th>screen_size_inches</th>\n",
       "      <th>screen</th>\n",
       "      <th>cpu</th>\n",
       "      <th>ram_gb</th>\n",
       "      <th>storage</th>\n",
       "      <th>os</th>\n",
       "      <th>os_version</th>\n",
       "      <th>weight</th>\n",
       "      <th>price_euros</th>\n",
       "      <th>gpu_manufacturer</th>\n",
       "      <th>cpu_manufacturer</th>\n",
       "    </tr>\n",
       "  </thead>\n",
       "  <tbody>\n",
       "    <tr>\n",
       "      <th>0</th>\n",
       "      <td>Apple</td>\n",
       "      <td>MacBook Pro</td>\n",
       "      <td>13.3</td>\n",
       "      <td>IPS Panel Retina Display 2560x1600</td>\n",
       "      <td>Intel Core i5 2.3GHz</td>\n",
       "      <td>8</td>\n",
       "      <td>128GB SSD</td>\n",
       "      <td>macOS</td>\n",
       "      <td>X</td>\n",
       "      <td>1.37kg</td>\n",
       "      <td>1339,69</td>\n",
       "      <td>Intel</td>\n",
       "      <td>Intel</td>\n",
       "    </tr>\n",
       "    <tr>\n",
       "      <th>1</th>\n",
       "      <td>Apple</td>\n",
       "      <td>Macbook Air</td>\n",
       "      <td>13.3</td>\n",
       "      <td>1440x900</td>\n",
       "      <td>Intel Core i5 1.8GHz</td>\n",
       "      <td>8</td>\n",
       "      <td>128GB Flash Storage</td>\n",
       "      <td>macOS</td>\n",
       "      <td>X</td>\n",
       "      <td>1.34kg</td>\n",
       "      <td>898,94</td>\n",
       "      <td>Intel</td>\n",
       "      <td>Intel</td>\n",
       "    </tr>\n",
       "  </tbody>\n",
       "</table>\n",
       "</div>"
      ],
      "text/plain": [
       "  manufacturer   model_name  screen_size_inches  \\\n",
       "0        Apple  MacBook Pro                13.3   \n",
       "1        Apple  Macbook Air                13.3   \n",
       "\n",
       "                               screen                   cpu  ram_gb  \\\n",
       "0  IPS Panel Retina Display 2560x1600  Intel Core i5 2.3GHz       8   \n",
       "1                            1440x900  Intel Core i5 1.8GHz       8   \n",
       "\n",
       "               storage     os os_version  weight price_euros gpu_manufacturer  \\\n",
       "0            128GB SSD  macOS          X  1.37kg     1339,69            Intel   \n",
       "1  128GB Flash Storage  macOS          X  1.34kg      898,94            Intel   \n",
       "\n",
       "  cpu_manufacturer  \n",
       "0            Intel  \n",
       "1            Intel  "
      ]
     },
     "execution_count": 140,
     "metadata": {},
     "output_type": "execute_result"
    }
   ],
   "source": [
    "laptops.head(2)"
   ]
  },
  {
   "cell_type": "markdown",
   "metadata": {},
   "source": [
    "## Vaja"
   ]
  },
  {
   "cell_type": "code",
   "execution_count": 144,
   "metadata": {},
   "outputs": [],
   "source": [
    "laptops[\"weight\"] = laptops[\"weight\"].str.replace(\"kgs\", \"\").str.replace(\"kg\", \"\").astype(\"float\")"
   ]
  },
  {
   "cell_type": "code",
   "execution_count": 145,
   "metadata": {},
   "outputs": [],
   "source": [
    "laptops.rename({\"weight\": \"weight_kg\"}, axis=1, inplace=True)"
   ]
  },
  {
   "cell_type": "code",
   "execution_count": 146,
   "metadata": {},
   "outputs": [
    {
     "data": {
      "text/plain": [
       "manufacturer           object\n",
       "model_name             object\n",
       "screen_size_inches    float64\n",
       "screen                 object\n",
       "cpu                    object\n",
       "ram_gb                  int64\n",
       "storage                object\n",
       "os                     object\n",
       "os_version             object\n",
       "weight_kg             float64\n",
       "price_euros            object\n",
       "gpu_manufacturer       object\n",
       "cpu_manufacturer       object\n",
       "dtype: object"
      ]
     },
     "execution_count": 146,
     "metadata": {},
     "output_type": "execute_result"
    }
   ],
   "source": [
    "laptops.dtypes"
   ]
  },
  {
   "cell_type": "markdown",
   "metadata": {},
   "source": [
    "### Convert the price_euros column to a numeric dtype."
   ]
  },
  {
   "cell_type": "code",
   "execution_count": 147,
   "metadata": {},
   "outputs": [],
   "source": [
    "laptops['price_euros'] = laptops['price_euros'].str.replace(',', '.').astype('float')"
   ]
  },
  {
   "cell_type": "code",
   "execution_count": 148,
   "metadata": {},
   "outputs": [
    {
     "data": {
      "text/plain": [
       "0    1339.69\n",
       "1     898.94\n",
       "2     575.00\n",
       "3    2537.45\n",
       "4    1803.60\n",
       "Name: price_euros, dtype: float64"
      ]
     },
     "execution_count": 148,
     "metadata": {},
     "output_type": "execute_result"
    }
   ],
   "source": [
    "laptops['price_euros'].head()"
   ]
  },
  {
   "cell_type": "code",
   "execution_count": 149,
   "metadata": {},
   "outputs": [
    {
     "data": {
      "text/plain": [
       "manufacturer           object\n",
       "model_name             object\n",
       "screen_size_inches    float64\n",
       "screen                 object\n",
       "cpu                    object\n",
       "ram_gb                  int64\n",
       "storage                object\n",
       "os                     object\n",
       "os_version             object\n",
       "weight_kg             float64\n",
       "price_euros           float64\n",
       "gpu_manufacturer       object\n",
       "cpu_manufacturer       object\n",
       "dtype: object"
      ]
     },
     "execution_count": 149,
     "metadata": {},
     "output_type": "execute_result"
    }
   ],
   "source": [
    "laptops.dtypes"
   ]
  },
  {
   "cell_type": "markdown",
   "metadata": {},
   "source": [
    "### Extract the screen resolution from the screen column."
   ]
  },
  {
   "cell_type": "code",
   "execution_count": 150,
   "metadata": {},
   "outputs": [
    {
     "data": {
      "text/plain": [
       "0    IPS Panel Retina Display 2560x1600\n",
       "1                              1440x900\n",
       "2                     Full HD 1920x1080\n",
       "3    IPS Panel Retina Display 2880x1800\n",
       "4    IPS Panel Retina Display 2560x1600\n",
       "Name: screen, dtype: object"
      ]
     },
     "execution_count": 150,
     "metadata": {},
     "output_type": "execute_result"
    }
   ],
   "source": [
    "laptops['screen'].head()"
   ]
  },
  {
   "cell_type": "code",
   "execution_count": 154,
   "metadata": {},
   "outputs": [],
   "source": [
    "resolution_splited = laptops['screen'].str.split(\" \").str[-1].str.split(\"x\")"
   ]
  },
  {
   "cell_type": "code",
   "execution_count": 155,
   "metadata": {},
   "outputs": [],
   "source": [
    "laptops['screen_width_px'] = resolution_splited.str[0].astype(\"int\")\n",
    "laptops['screen_high_px'] = resolution_splited.str[1].astype(\"int\")"
   ]
  },
  {
   "cell_type": "code",
   "execution_count": 157,
   "metadata": {},
   "outputs": [
    {
     "data": {
      "text/plain": [
       "manufacturer           object\n",
       "model_name             object\n",
       "screen_size_inches    float64\n",
       "screen                 object\n",
       "cpu                    object\n",
       "ram_gb                  int64\n",
       "storage                object\n",
       "os                     object\n",
       "os_version             object\n",
       "weight_kg             float64\n",
       "price_euros           float64\n",
       "gpu_manufacturer       object\n",
       "cpu_manufacturer       object\n",
       "screen_width_px         int64\n",
       "screen_high_px          int64\n",
       "dtype: object"
      ]
     },
     "execution_count": 157,
     "metadata": {},
     "output_type": "execute_result"
    }
   ],
   "source": [
    "laptops.dtypes"
   ]
  },
  {
   "cell_type": "code",
   "execution_count": 158,
   "metadata": {},
   "outputs": [
    {
     "data": {
      "text/html": [
       "<div>\n",
       "<style scoped>\n",
       "    .dataframe tbody tr th:only-of-type {\n",
       "        vertical-align: middle;\n",
       "    }\n",
       "\n",
       "    .dataframe tbody tr th {\n",
       "        vertical-align: top;\n",
       "    }\n",
       "\n",
       "    .dataframe thead th {\n",
       "        text-align: right;\n",
       "    }\n",
       "</style>\n",
       "<table border=\"1\" class=\"dataframe\">\n",
       "  <thead>\n",
       "    <tr style=\"text-align: right;\">\n",
       "      <th></th>\n",
       "      <th>manufacturer</th>\n",
       "      <th>model_name</th>\n",
       "      <th>screen_size_inches</th>\n",
       "      <th>screen</th>\n",
       "      <th>cpu</th>\n",
       "      <th>ram_gb</th>\n",
       "      <th>storage</th>\n",
       "      <th>os</th>\n",
       "      <th>os_version</th>\n",
       "      <th>weight_kg</th>\n",
       "      <th>price_euros</th>\n",
       "      <th>gpu_manufacturer</th>\n",
       "      <th>cpu_manufacturer</th>\n",
       "      <th>screen_width_px</th>\n",
       "      <th>screen_high_px</th>\n",
       "    </tr>\n",
       "  </thead>\n",
       "  <tbody>\n",
       "    <tr>\n",
       "      <th>0</th>\n",
       "      <td>Apple</td>\n",
       "      <td>MacBook Pro</td>\n",
       "      <td>13.3</td>\n",
       "      <td>IPS Panel Retina Display 2560x1600</td>\n",
       "      <td>Intel Core i5 2.3GHz</td>\n",
       "      <td>8</td>\n",
       "      <td>128GB SSD</td>\n",
       "      <td>macOS</td>\n",
       "      <td>X</td>\n",
       "      <td>1.37</td>\n",
       "      <td>1339.69</td>\n",
       "      <td>Intel</td>\n",
       "      <td>Intel</td>\n",
       "      <td>2560</td>\n",
       "      <td>1600</td>\n",
       "    </tr>\n",
       "    <tr>\n",
       "      <th>1</th>\n",
       "      <td>Apple</td>\n",
       "      <td>Macbook Air</td>\n",
       "      <td>13.3</td>\n",
       "      <td>1440x900</td>\n",
       "      <td>Intel Core i5 1.8GHz</td>\n",
       "      <td>8</td>\n",
       "      <td>128GB Flash Storage</td>\n",
       "      <td>macOS</td>\n",
       "      <td>X</td>\n",
       "      <td>1.34</td>\n",
       "      <td>898.94</td>\n",
       "      <td>Intel</td>\n",
       "      <td>Intel</td>\n",
       "      <td>1440</td>\n",
       "      <td>900</td>\n",
       "    </tr>\n",
       "  </tbody>\n",
       "</table>\n",
       "</div>"
      ],
      "text/plain": [
       "  manufacturer   model_name  screen_size_inches  \\\n",
       "0        Apple  MacBook Pro                13.3   \n",
       "1        Apple  Macbook Air                13.3   \n",
       "\n",
       "                               screen                   cpu  ram_gb  \\\n",
       "0  IPS Panel Retina Display 2560x1600  Intel Core i5 2.3GHz       8   \n",
       "1                            1440x900  Intel Core i5 1.8GHz       8   \n",
       "\n",
       "               storage     os os_version  weight_kg  price_euros  \\\n",
       "0            128GB SSD  macOS          X       1.37      1339.69   \n",
       "1  128GB Flash Storage  macOS          X       1.34       898.94   \n",
       "\n",
       "  gpu_manufacturer cpu_manufacturer  screen_width_px  screen_high_px  \n",
       "0            Intel            Intel             2560            1600  \n",
       "1            Intel            Intel             1440             900  "
      ]
     },
     "execution_count": 158,
     "metadata": {},
     "output_type": "execute_result"
    }
   ],
   "source": [
    "laptops.head(2)"
   ]
  },
  {
   "cell_type": "markdown",
   "metadata": {},
   "source": [
    "### Extract the processor speed from the cpu column."
   ]
  },
  {
   "cell_type": "code",
   "execution_count": 159,
   "metadata": {},
   "outputs": [
    {
     "data": {
      "text/plain": [
       "0                       Intel Core i5 2.3GHz\n",
       "1                       Intel Core i5 1.8GHz\n",
       "2                 Intel Core i5 7200U 2.5GHz\n",
       "3                       Intel Core i7 2.7GHz\n",
       "4                       Intel Core i5 3.1GHz\n",
       "                        ...                 \n",
       "1270              Intel Core i7 6500U 2.5GHz\n",
       "1271              Intel Core i7 6500U 2.5GHz\n",
       "1272    Intel Celeron Dual Core N3050 1.6GHz\n",
       "1273              Intel Core i7 6500U 2.5GHz\n",
       "1274    Intel Celeron Dual Core N3050 1.6GHz\n",
       "Name: cpu, Length: 1275, dtype: object"
      ]
     },
     "execution_count": 159,
     "metadata": {},
     "output_type": "execute_result"
    }
   ],
   "source": [
    "laptops[\"cpu\"]"
   ]
  },
  {
   "cell_type": "code",
   "execution_count": 165,
   "metadata": {},
   "outputs": [],
   "source": [
    "laptops['cpu_speed_ghz'] = laptops[\"cpu\"].str.split().str[-1].str.replace(\"GHz\", \"\").astype(\"float\")"
   ]
  },
  {
   "cell_type": "code",
   "execution_count": 166,
   "metadata": {},
   "outputs": [
    {
     "data": {
      "text/html": [
       "<div>\n",
       "<style scoped>\n",
       "    .dataframe tbody tr th:only-of-type {\n",
       "        vertical-align: middle;\n",
       "    }\n",
       "\n",
       "    .dataframe tbody tr th {\n",
       "        vertical-align: top;\n",
       "    }\n",
       "\n",
       "    .dataframe thead th {\n",
       "        text-align: right;\n",
       "    }\n",
       "</style>\n",
       "<table border=\"1\" class=\"dataframe\">\n",
       "  <thead>\n",
       "    <tr style=\"text-align: right;\">\n",
       "      <th></th>\n",
       "      <th>manufacturer</th>\n",
       "      <th>model_name</th>\n",
       "      <th>screen_size_inches</th>\n",
       "      <th>screen</th>\n",
       "      <th>cpu</th>\n",
       "      <th>ram_gb</th>\n",
       "      <th>storage</th>\n",
       "      <th>os</th>\n",
       "      <th>os_version</th>\n",
       "      <th>weight_kg</th>\n",
       "      <th>price_euros</th>\n",
       "      <th>gpu_manufacturer</th>\n",
       "      <th>cpu_manufacturer</th>\n",
       "      <th>screen_width_px</th>\n",
       "      <th>screen_high_px</th>\n",
       "      <th>cpu_speed_ghz</th>\n",
       "    </tr>\n",
       "  </thead>\n",
       "  <tbody>\n",
       "    <tr>\n",
       "      <th>0</th>\n",
       "      <td>Apple</td>\n",
       "      <td>MacBook Pro</td>\n",
       "      <td>13.3</td>\n",
       "      <td>IPS Panel Retina Display 2560x1600</td>\n",
       "      <td>Intel Core i5 2.3GHz</td>\n",
       "      <td>8</td>\n",
       "      <td>128GB SSD</td>\n",
       "      <td>macOS</td>\n",
       "      <td>X</td>\n",
       "      <td>1.37</td>\n",
       "      <td>1339.69</td>\n",
       "      <td>Intel</td>\n",
       "      <td>Intel</td>\n",
       "      <td>2560</td>\n",
       "      <td>1600</td>\n",
       "      <td>2.3</td>\n",
       "    </tr>\n",
       "    <tr>\n",
       "      <th>1</th>\n",
       "      <td>Apple</td>\n",
       "      <td>Macbook Air</td>\n",
       "      <td>13.3</td>\n",
       "      <td>1440x900</td>\n",
       "      <td>Intel Core i5 1.8GHz</td>\n",
       "      <td>8</td>\n",
       "      <td>128GB Flash Storage</td>\n",
       "      <td>macOS</td>\n",
       "      <td>X</td>\n",
       "      <td>1.34</td>\n",
       "      <td>898.94</td>\n",
       "      <td>Intel</td>\n",
       "      <td>Intel</td>\n",
       "      <td>1440</td>\n",
       "      <td>900</td>\n",
       "      <td>1.8</td>\n",
       "    </tr>\n",
       "    <tr>\n",
       "      <th>2</th>\n",
       "      <td>HP</td>\n",
       "      <td>250 G6</td>\n",
       "      <td>15.6</td>\n",
       "      <td>Full HD 1920x1080</td>\n",
       "      <td>Intel Core i5 7200U 2.5GHz</td>\n",
       "      <td>8</td>\n",
       "      <td>256GB SSD</td>\n",
       "      <td>No OS</td>\n",
       "      <td>Version Unknown</td>\n",
       "      <td>1.86</td>\n",
       "      <td>575.00</td>\n",
       "      <td>Intel</td>\n",
       "      <td>Intel</td>\n",
       "      <td>1920</td>\n",
       "      <td>1080</td>\n",
       "      <td>2.5</td>\n",
       "    </tr>\n",
       "    <tr>\n",
       "      <th>3</th>\n",
       "      <td>Apple</td>\n",
       "      <td>MacBook Pro</td>\n",
       "      <td>15.4</td>\n",
       "      <td>IPS Panel Retina Display 2880x1800</td>\n",
       "      <td>Intel Core i7 2.7GHz</td>\n",
       "      <td>16</td>\n",
       "      <td>512GB SSD</td>\n",
       "      <td>macOS</td>\n",
       "      <td>X</td>\n",
       "      <td>1.83</td>\n",
       "      <td>2537.45</td>\n",
       "      <td>AMD</td>\n",
       "      <td>Intel</td>\n",
       "      <td>2880</td>\n",
       "      <td>1800</td>\n",
       "      <td>2.7</td>\n",
       "    </tr>\n",
       "    <tr>\n",
       "      <th>4</th>\n",
       "      <td>Apple</td>\n",
       "      <td>MacBook Pro</td>\n",
       "      <td>13.3</td>\n",
       "      <td>IPS Panel Retina Display 2560x1600</td>\n",
       "      <td>Intel Core i5 3.1GHz</td>\n",
       "      <td>8</td>\n",
       "      <td>256GB SSD</td>\n",
       "      <td>macOS</td>\n",
       "      <td>X</td>\n",
       "      <td>1.37</td>\n",
       "      <td>1803.60</td>\n",
       "      <td>Intel</td>\n",
       "      <td>Intel</td>\n",
       "      <td>2560</td>\n",
       "      <td>1600</td>\n",
       "      <td>3.1</td>\n",
       "    </tr>\n",
       "  </tbody>\n",
       "</table>\n",
       "</div>"
      ],
      "text/plain": [
       "  manufacturer   model_name  screen_size_inches  \\\n",
       "0        Apple  MacBook Pro                13.3   \n",
       "1        Apple  Macbook Air                13.3   \n",
       "2           HP       250 G6                15.6   \n",
       "3        Apple  MacBook Pro                15.4   \n",
       "4        Apple  MacBook Pro                13.3   \n",
       "\n",
       "                               screen                         cpu  ram_gb  \\\n",
       "0  IPS Panel Retina Display 2560x1600        Intel Core i5 2.3GHz       8   \n",
       "1                            1440x900        Intel Core i5 1.8GHz       8   \n",
       "2                   Full HD 1920x1080  Intel Core i5 7200U 2.5GHz       8   \n",
       "3  IPS Panel Retina Display 2880x1800        Intel Core i7 2.7GHz      16   \n",
       "4  IPS Panel Retina Display 2560x1600        Intel Core i5 3.1GHz       8   \n",
       "\n",
       "               storage     os       os_version  weight_kg  price_euros  \\\n",
       "0            128GB SSD  macOS                X       1.37      1339.69   \n",
       "1  128GB Flash Storage  macOS                X       1.34       898.94   \n",
       "2            256GB SSD  No OS  Version Unknown       1.86       575.00   \n",
       "3            512GB SSD  macOS                X       1.83      2537.45   \n",
       "4            256GB SSD  macOS                X       1.37      1803.60   \n",
       "\n",
       "  gpu_manufacturer cpu_manufacturer  screen_width_px  screen_high_px  \\\n",
       "0            Intel            Intel             2560            1600   \n",
       "1            Intel            Intel             1440             900   \n",
       "2            Intel            Intel             1920            1080   \n",
       "3              AMD            Intel             2880            1800   \n",
       "4            Intel            Intel             2560            1600   \n",
       "\n",
       "   cpu_speed_ghz  \n",
       "0            2.3  \n",
       "1            1.8  \n",
       "2            2.5  \n",
       "3            2.7  \n",
       "4            3.1  "
      ]
     },
     "execution_count": 166,
     "metadata": {},
     "output_type": "execute_result"
    }
   ],
   "source": [
    "laptops.head()"
   ]
  },
  {
   "cell_type": "markdown",
   "metadata": {},
   "source": [
    "## Save clean data to CSV file"
   ]
  },
  {
   "cell_type": "code",
   "execution_count": 167,
   "metadata": {},
   "outputs": [],
   "source": [
    "laptops.to_csv(\"data/OUTPUT_laptops_cleaned.csv\", index=False)"
   ]
  },
  {
   "cell_type": "markdown",
   "metadata": {},
   "source": [
    "## Analiza"
   ]
  },
  {
   "cell_type": "markdown",
   "metadata": {},
   "source": [
    "### Are laptops made by Apple more expensive than those made by other manufacturers?\n"
   ]
  },
  {
   "cell_type": "code",
   "execution_count": 168,
   "metadata": {},
   "outputs": [],
   "source": [
    "man_dict = {}\n",
    "\n",
    "for manufacturer in laptops[\"manufacturer\"].unique():\n",
    "    man_dict[manufacturer] = laptops.loc[laptops[\"manufacturer\"] == manufacturer, \"price_euros\"].mean()"
   ]
  },
  {
   "cell_type": "code",
   "execution_count": 173,
   "metadata": {},
   "outputs": [
    {
     "data": {
      "text/plain": [
       "Razer                       3346.142857\n",
       "LG                          2099.000000\n",
       "Micro-Star International    1728.908148\n",
       "Google                      1677.666667\n",
       "Microsoft                   1612.308333\n",
       "Apple                       1564.198571\n",
       "Huawei                      1424.000000\n",
       "Samsung                     1413.444444\n",
       "Toshiba                     1267.812500\n",
       "Dell                        1199.225120\n",
       "Xiaomi                      1133.462500\n",
       "Asus                        1123.829737\n",
       "Lenovo                      1093.862215\n",
       "HP                          1080.314664\n",
       "Fujitsu                      729.000000\n",
       "Acer                         633.464455\n",
       "Chuwi                        314.296667\n",
       "Mediacom                     295.000000\n",
       "Vero                         217.425000\n",
       "dtype: float64"
      ]
     },
     "execution_count": 173,
     "metadata": {},
     "output_type": "execute_result"
    }
   ],
   "source": [
    "pd.Series(man_dict).sort_values(ascending=False)"
   ]
  },
  {
   "cell_type": "markdown",
   "metadata": {},
   "source": [
    "### What is the best value laptop with a screen size of 15\" or more?\n",
    "            "
   ]
  },
  {
   "cell_type": "code",
   "execution_count": 177,
   "metadata": {},
   "outputs": [
    {
     "data": {
      "text/html": [
       "<div>\n",
       "<style scoped>\n",
       "    .dataframe tbody tr th:only-of-type {\n",
       "        vertical-align: middle;\n",
       "    }\n",
       "\n",
       "    .dataframe tbody tr th {\n",
       "        vertical-align: top;\n",
       "    }\n",
       "\n",
       "    .dataframe thead th {\n",
       "        text-align: right;\n",
       "    }\n",
       "</style>\n",
       "<table border=\"1\" class=\"dataframe\">\n",
       "  <thead>\n",
       "    <tr style=\"text-align: right;\">\n",
       "      <th></th>\n",
       "      <th>manufacturer</th>\n",
       "      <th>model_name</th>\n",
       "      <th>screen_size_inches</th>\n",
       "      <th>screen</th>\n",
       "      <th>cpu</th>\n",
       "      <th>ram_gb</th>\n",
       "      <th>storage</th>\n",
       "      <th>os</th>\n",
       "      <th>os_version</th>\n",
       "      <th>weight_kg</th>\n",
       "      <th>price_euros</th>\n",
       "      <th>gpu_manufacturer</th>\n",
       "      <th>cpu_manufacturer</th>\n",
       "      <th>screen_width_px</th>\n",
       "      <th>screen_high_px</th>\n",
       "      <th>cpu_speed_ghz</th>\n",
       "    </tr>\n",
       "  </thead>\n",
       "  <tbody>\n",
       "    <tr>\n",
       "      <th>290</th>\n",
       "      <td>Acer</td>\n",
       "      <td>Chromebook C910-C2ST</td>\n",
       "      <td>15.6</td>\n",
       "      <td>1366x768</td>\n",
       "      <td>Intel Celeron Dual Core 3205U 1.5GHz</td>\n",
       "      <td>2</td>\n",
       "      <td>16GB SSD</td>\n",
       "      <td>Chrome OS</td>\n",
       "      <td>Version Unknown</td>\n",
       "      <td>2.19</td>\n",
       "      <td>199.00</td>\n",
       "      <td>Intel</td>\n",
       "      <td>Intel</td>\n",
       "      <td>1366</td>\n",
       "      <td>768</td>\n",
       "      <td>1.50</td>\n",
       "    </tr>\n",
       "    <tr>\n",
       "      <th>1102</th>\n",
       "      <td>Acer</td>\n",
       "      <td>Chromebook 15</td>\n",
       "      <td>15.6</td>\n",
       "      <td>1366x768</td>\n",
       "      <td>Intel Celeron Dual Core 3205U 1.5GHz</td>\n",
       "      <td>4</td>\n",
       "      <td>16GB SSD</td>\n",
       "      <td>Chrome OS</td>\n",
       "      <td>Version Unknown</td>\n",
       "      <td>2.20</td>\n",
       "      <td>209.00</td>\n",
       "      <td>Intel</td>\n",
       "      <td>Intel</td>\n",
       "      <td>1366</td>\n",
       "      <td>768</td>\n",
       "      <td>1.50</td>\n",
       "    </tr>\n",
       "    <tr>\n",
       "      <th>555</th>\n",
       "      <td>Asus</td>\n",
       "      <td>A541NA-GO342 (N3350/4GB/500GB/Linux)</td>\n",
       "      <td>15.6</td>\n",
       "      <td>1366x768</td>\n",
       "      <td>Intel Celeron Dual Core N3350 1.1GHz</td>\n",
       "      <td>4</td>\n",
       "      <td>500GB HDD</td>\n",
       "      <td>Linux</td>\n",
       "      <td>Version Unknown</td>\n",
       "      <td>2.00</td>\n",
       "      <td>224.00</td>\n",
       "      <td>Intel</td>\n",
       "      <td>Intel</td>\n",
       "      <td>1366</td>\n",
       "      <td>768</td>\n",
       "      <td>1.10</td>\n",
       "    </tr>\n",
       "    <tr>\n",
       "      <th>30</th>\n",
       "      <td>Chuwi</td>\n",
       "      <td>LapBook 15.6\"</td>\n",
       "      <td>15.6</td>\n",
       "      <td>Full HD 1920x1080</td>\n",
       "      <td>Intel Atom x5-Z8300 1.44GHz</td>\n",
       "      <td>4</td>\n",
       "      <td>64GB Flash Storage</td>\n",
       "      <td>Windows</td>\n",
       "      <td>10</td>\n",
       "      <td>1.89</td>\n",
       "      <td>244.99</td>\n",
       "      <td>Intel</td>\n",
       "      <td>Intel</td>\n",
       "      <td>1920</td>\n",
       "      <td>1080</td>\n",
       "      <td>1.44</td>\n",
       "    </tr>\n",
       "    <tr>\n",
       "      <th>483</th>\n",
       "      <td>Chuwi</td>\n",
       "      <td>Lapbook 15,6</td>\n",
       "      <td>15.6</td>\n",
       "      <td>Full HD 1920x1080</td>\n",
       "      <td>Intel Atom x5-Z8350 1.44GHz</td>\n",
       "      <td>4</td>\n",
       "      <td>64GB Flash Storage</td>\n",
       "      <td>Windows</td>\n",
       "      <td>10</td>\n",
       "      <td>1.89</td>\n",
       "      <td>248.90</td>\n",
       "      <td>Intel</td>\n",
       "      <td>Intel</td>\n",
       "      <td>1920</td>\n",
       "      <td>1080</td>\n",
       "      <td>1.44</td>\n",
       "    </tr>\n",
       "  </tbody>\n",
       "</table>\n",
       "</div>"
      ],
      "text/plain": [
       "     manufacturer                            model_name  screen_size_inches  \\\n",
       "290          Acer                  Chromebook C910-C2ST                15.6   \n",
       "1102         Acer                         Chromebook 15                15.6   \n",
       "555          Asus  A541NA-GO342 (N3350/4GB/500GB/Linux)                15.6   \n",
       "30          Chuwi                         LapBook 15.6\"                15.6   \n",
       "483         Chuwi                          Lapbook 15,6                15.6   \n",
       "\n",
       "                 screen                                   cpu  ram_gb  \\\n",
       "290            1366x768  Intel Celeron Dual Core 3205U 1.5GHz       2   \n",
       "1102           1366x768  Intel Celeron Dual Core 3205U 1.5GHz       4   \n",
       "555            1366x768  Intel Celeron Dual Core N3350 1.1GHz       4   \n",
       "30    Full HD 1920x1080           Intel Atom x5-Z8300 1.44GHz       4   \n",
       "483   Full HD 1920x1080           Intel Atom x5-Z8350 1.44GHz       4   \n",
       "\n",
       "                 storage         os       os_version  weight_kg  price_euros  \\\n",
       "290             16GB SSD  Chrome OS  Version Unknown       2.19       199.00   \n",
       "1102            16GB SSD  Chrome OS  Version Unknown       2.20       209.00   \n",
       "555            500GB HDD      Linux  Version Unknown       2.00       224.00   \n",
       "30    64GB Flash Storage    Windows               10       1.89       244.99   \n",
       "483   64GB Flash Storage    Windows               10       1.89       248.90   \n",
       "\n",
       "     gpu_manufacturer cpu_manufacturer  screen_width_px  screen_high_px  \\\n",
       "290             Intel            Intel             1366             768   \n",
       "1102            Intel            Intel             1366             768   \n",
       "555             Intel            Intel             1366             768   \n",
       "30              Intel            Intel             1920            1080   \n",
       "483             Intel            Intel             1920            1080   \n",
       "\n",
       "      cpu_speed_ghz  \n",
       "290            1.50  \n",
       "1102           1.50  \n",
       "555            1.10  \n",
       "30             1.44  \n",
       "483            1.44  "
      ]
     },
     "execution_count": 177,
     "metadata": {},
     "output_type": "execute_result"
    }
   ],
   "source": [
    "laptops[laptops[\"screen_size_inches\"] >= 15].sort_values(by=\"price_euros\").head()"
   ]
  },
  {
   "cell_type": "markdown",
   "metadata": {},
   "source": [
    "### Which laptop has the most RAM?"
   ]
  },
  {
   "cell_type": "code",
   "execution_count": 178,
   "metadata": {},
   "outputs": [
    {
     "data": {
      "text/html": [
       "<div>\n",
       "<style scoped>\n",
       "    .dataframe tbody tr th:only-of-type {\n",
       "        vertical-align: middle;\n",
       "    }\n",
       "\n",
       "    .dataframe tbody tr th {\n",
       "        vertical-align: top;\n",
       "    }\n",
       "\n",
       "    .dataframe thead th {\n",
       "        text-align: right;\n",
       "    }\n",
       "</style>\n",
       "<table border=\"1\" class=\"dataframe\">\n",
       "  <thead>\n",
       "    <tr style=\"text-align: right;\">\n",
       "      <th></th>\n",
       "      <th>manufacturer</th>\n",
       "      <th>model_name</th>\n",
       "      <th>screen_size_inches</th>\n",
       "      <th>screen</th>\n",
       "      <th>cpu</th>\n",
       "      <th>ram_gb</th>\n",
       "      <th>storage</th>\n",
       "      <th>os</th>\n",
       "      <th>os_version</th>\n",
       "      <th>weight_kg</th>\n",
       "      <th>price_euros</th>\n",
       "      <th>gpu_manufacturer</th>\n",
       "      <th>cpu_manufacturer</th>\n",
       "      <th>screen_width_px</th>\n",
       "      <th>screen_high_px</th>\n",
       "      <th>cpu_speed_ghz</th>\n",
       "    </tr>\n",
       "  </thead>\n",
       "  <tbody>\n",
       "    <tr>\n",
       "      <th>1066</th>\n",
       "      <td>Asus</td>\n",
       "      <td>ROG G701VO</td>\n",
       "      <td>17.3</td>\n",
       "      <td>IPS Panel Full HD 1920x1080</td>\n",
       "      <td>Intel Core i7 6820HK 2.7GHz</td>\n",
       "      <td>64</td>\n",
       "      <td>1TB SSD</td>\n",
       "      <td>Windows</td>\n",
       "      <td>10</td>\n",
       "      <td>3.58</td>\n",
       "      <td>3975.0</td>\n",
       "      <td>Nvidia</td>\n",
       "      <td>Intel</td>\n",
       "      <td>1920</td>\n",
       "      <td>1080</td>\n",
       "      <td>2.7</td>\n",
       "    </tr>\n",
       "  </tbody>\n",
       "</table>\n",
       "</div>"
      ],
      "text/plain": [
       "     manufacturer  model_name  screen_size_inches  \\\n",
       "1066         Asus  ROG G701VO                17.3   \n",
       "\n",
       "                           screen                          cpu  ram_gb  \\\n",
       "1066  IPS Panel Full HD 1920x1080  Intel Core i7 6820HK 2.7GHz      64   \n",
       "\n",
       "      storage       os os_version  weight_kg  price_euros gpu_manufacturer  \\\n",
       "1066  1TB SSD  Windows         10       3.58       3975.0           Nvidia   \n",
       "\n",
       "     cpu_manufacturer  screen_width_px  screen_high_px  cpu_speed_ghz  \n",
       "1066            Intel             1920            1080            2.7  "
      ]
     },
     "execution_count": 178,
     "metadata": {},
     "output_type": "execute_result"
    }
   ],
   "source": [
    "laptops[laptops[\"ram_gb\"] == laptops[\"ram_gb\"].max()]"
   ]
  },
  {
   "cell_type": "code",
   "execution_count": null,
   "metadata": {},
   "outputs": [],
   "source": []
  },
  {
   "cell_type": "code",
   "execution_count": null,
   "metadata": {},
   "outputs": [],
   "source": []
  },
  {
   "cell_type": "code",
   "execution_count": null,
   "metadata": {},
   "outputs": [],
   "source": []
  },
  {
   "cell_type": "code",
   "execution_count": null,
   "metadata": {},
   "outputs": [],
   "source": []
  },
  {
   "cell_type": "code",
   "execution_count": null,
   "metadata": {},
   "outputs": [],
   "source": []
  },
  {
   "cell_type": "code",
   "execution_count": null,
   "metadata": {},
   "outputs": [],
   "source": []
  },
  {
   "cell_type": "code",
   "execution_count": null,
   "metadata": {},
   "outputs": [],
   "source": []
  }
 ],
 "metadata": {
  "kernelspec": {
   "display_name": "Python 3 (ipykernel)",
   "language": "python",
   "name": "python3"
  },
  "language_info": {
   "codemirror_mode": {
    "name": "ipython",
    "version": 3
   },
   "file_extension": ".py",
   "mimetype": "text/x-python",
   "name": "python",
   "nbconvert_exporter": "python",
   "pygments_lexer": "ipython3",
   "version": "3.8.10"
  }
 },
 "nbformat": 4,
 "nbformat_minor": 2
}
