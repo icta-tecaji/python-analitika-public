{
 "cells": [
  {
   "cell_type": "markdown",
   "metadata": {},
   "source": [
    "# Teoretični izpit tečaja Analitika podatkov v Python-u"
   ]
  },
  {
   "cell_type": "markdown",
   "metadata": {},
   "source": [
    "Čas reševanja: `90 min`"
   ]
  },
  {
   "cell_type": "markdown",
   "metadata": {},
   "source": [
    "Skupno število točk: `30 pts`"
   ]
  },
  {
   "cell_type": "markdown",
   "metadata": {},
   "source": [
    "Odgovore na vprašanja vnesite v celice s komentarjem `# Odgovor`\n",
    "\n",
    "Za vsa vprašanja smo na voljo.\n",
    "\n",
    "Lahko si pomagate z uporabo gradiv in internetom. Ne pozabite na uradno dokumentacijo.\n",
    "\n",
    "Srečno!!"
   ]
  },
  {
   "cell_type": "markdown",
   "metadata": {},
   "source": [
    "**Pred začetkom izpita zaženite spodnjo celico:**"
   ]
  },
  {
   "cell_type": "code",
   "execution_count": null,
   "metadata": {},
   "outputs": [],
   "source": [
    "import pandas as pd\n",
    "import numpy as np\n",
    "\n",
    "%matplotlib inline\n",
    "import matplotlib.pyplot as plt\n",
    "\n",
    "import requests\n",
    "from bs4 import BeautifulSoup"
   ]
  },
  {
   "cell_type": "markdown",
   "metadata": {},
   "source": [
    "### 1.del - Numpy"
   ]
  },
  {
   "cell_type": "markdown",
   "metadata": {},
   "source": [
    "`Možne točke: 5 pts`"
   ]
  },
  {
   "cell_type": "markdown",
   "metadata": {},
   "source": [
    "##### 1.1) Ustvarite Numpy array `1 pts`\n",
    "\n",
    "Ustavrite Numpy array z vrednostmi od 1 do vključno 50."
   ]
  },
  {
   "cell_type": "code",
   "execution_count": null,
   "metadata": {},
   "outputs": [],
   "source": [
    "# Odgovor\n",
    "\n"
   ]
  },
  {
   "cell_type": "markdown",
   "metadata": {},
   "source": [
    "Želena rešitev:\n",
    "    \n",
    "```\n",
    "array([ 1,  2,  3,  4,  5,  6,  7,  8,  9, 10, 11, 12, 13, 14, 15, 16, 17,\n",
    "       18, 19, 20, 21, 22, 23, 24, 25, 26, 27, 28, 29, 30, 31, 32, 33, 34,\n",
    "       35, 36, 37, 38, 39, 40, 41, 42, 43, 44, 45, 46, 47, 48, 49, 50])\n",
    "```"
   ]
  },
  {
   "cell_type": "code",
   "execution_count": null,
   "metadata": {},
   "outputs": [],
   "source": [
    "# Rešitev 1\n",
    "Z = np.arange(1,51)\n",
    "\n",
    "# Rešitev 2\n",
    "Z = np.linspace(1,50,50)"
   ]
  },
  {
   "cell_type": "markdown",
   "metadata": {},
   "source": [
    "##### 1.2) Negirajte vse elemente Numpy array-a, ki so med med 3 in vključno 8. `1 pts`"
   ]
  },
  {
   "cell_type": "code",
   "execution_count": null,
   "metadata": {},
   "outputs": [],
   "source": [
    "Z = np.arange(11)\n",
    "Z"
   ]
  },
  {
   "cell_type": "code",
   "execution_count": null,
   "metadata": {},
   "outputs": [],
   "source": [
    "# Odgovor\n",
    "\n"
   ]
  },
  {
   "cell_type": "markdown",
   "metadata": {},
   "source": [
    "Želena rešitev:\n",
    "```\n",
    "array([ 0,  1,  2,  3, -4, -5, -6, -7, -8,  9, 10])\n",
    "```"
   ]
  },
  {
   "cell_type": "code",
   "execution_count": null,
   "metadata": {},
   "outputs": [],
   "source": [
    "# Rešitev 1\n",
    "Z[(3 < Z) & (Z <= 8)] *= -1\n",
    "\n",
    "# Rešitev 2\n",
    "Z[4:9]=-Z[4:9]"
   ]
  },
  {
   "cell_type": "markdown",
   "metadata": {},
   "source": [
    "##### 1.3) Ustvarite in sortirajte naključni array. `2 pts`\n",
    "\n"
   ]
  },
  {
   "cell_type": "markdown",
   "metadata": {},
   "source": [
    "Ustvarite Numpy array 10 naključnih števil in ga sortirajte od najmanjšega do največjega števila."
   ]
  },
  {
   "cell_type": "code",
   "execution_count": null,
   "metadata": {},
   "outputs": [],
   "source": [
    "np.random.seed(2)\n",
    "# Odgovor\n",
    "\n"
   ]
  },
  {
   "cell_type": "markdown",
   "metadata": {},
   "source": [
    "Želena rešitev:\n",
    "    \n",
    "```\n",
    "array([0.02592623, 0.20464863, 0.26682728, 0.29965467, 0.33033482,\n",
    "       0.4203678 , 0.43532239, 0.4359949 , 0.54966248, 0.61927097])\n",
    "```"
   ]
  },
  {
   "cell_type": "code",
   "execution_count": null,
   "metadata": {},
   "outputs": [],
   "source": [
    "# Rešitev\n",
    "np.random.seed(2)\n",
    "Z = np.random.random(10)\n",
    "Z.sort()\n",
    "Z"
   ]
  },
  {
   "cell_type": "markdown",
   "metadata": {},
   "source": [
    "##### 1.4) Pretvorite 32-bitni float Numpy array v 64-bitni integer Numpy array. `1 pts`"
   ]
  },
  {
   "cell_type": "code",
   "execution_count": null,
   "metadata": {},
   "outputs": [],
   "source": [
    "Z = np.arange(10, dtype=np.float32)\n",
    "Z.dtype"
   ]
  },
  {
   "cell_type": "code",
   "execution_count": null,
   "metadata": {},
   "outputs": [],
   "source": [
    "# Odgovor\n",
    "\n"
   ]
  },
  {
   "cell_type": "markdown",
   "metadata": {},
   "source": [
    "Za pravilni odgovor mora spodnja celica vrniti naslednje:\n",
    "```\n",
    "dtype('int64')\n",
    "```"
   ]
  },
  {
   "cell_type": "code",
   "execution_count": null,
   "metadata": {},
   "outputs": [],
   "source": [
    "Z.dtype"
   ]
  },
  {
   "cell_type": "code",
   "execution_count": null,
   "metadata": {},
   "outputs": [],
   "source": [
    "# Rešitev\n",
    "Z = Z.astype(np.int64, copy=False)\n",
    "Z.dtype"
   ]
  },
  {
   "cell_type": "markdown",
   "metadata": {},
   "source": [
    "### 2. del - pandas 1/3"
   ]
  },
  {
   "cell_type": "markdown",
   "metadata": {},
   "source": [
    "`Možne točke: 5 pts`"
   ]
  },
  {
   "cell_type": "markdown",
   "metadata": {},
   "source": [
    "##### 2.1) Kako naredimo pandas Series iz sledečih podatkovnih tipov? `1 pts`\n",
    "\n",
    "Izdelajte pandas Series iz vsakega spodnjega podatkovnega tipa: list, numpy array, dictionary."
   ]
  },
  {
   "cell_type": "code",
   "execution_count": null,
   "metadata": {},
   "outputs": [],
   "source": [
    "mylist = list('abcedfghijklmnopqrstuvwxyz')\n",
    "myarr = np.arange(26)\n",
    "mydict = dict(zip(mylist, myarr))"
   ]
  },
  {
   "cell_type": "code",
   "execution_count": null,
   "metadata": {},
   "outputs": [],
   "source": [
    "# Odgovor 1 - mylist\n",
    "ser1 = \n",
    "\n",
    "# Odgovor 2 - myarr\n",
    "ser2 = \n",
    "\n",
    "# Odgovor 3 - mydict\n",
    "ser3 = "
   ]
  },
  {
   "cell_type": "markdown",
   "metadata": {},
   "source": [
    "Za pravilni odgovor mora spodnja celica vrniti `pandas.core.series.Series` za vsako spremenljivko."
   ]
  },
  {
   "cell_type": "code",
   "execution_count": null,
   "metadata": {},
   "outputs": [],
   "source": [
    "print(type(ser1))\n",
    "print(type(ser2))\n",
    "print(type(ser3))"
   ]
  },
  {
   "cell_type": "code",
   "execution_count": null,
   "metadata": {},
   "outputs": [],
   "source": [
    "# Rešitev\n",
    "ser1 = pd.Series(mylist)\n",
    "ser2 = pd.Series(myarr)\n",
    "ser3 = pd.Series(mydict)"
   ]
  },
  {
   "cell_type": "markdown",
   "metadata": {},
   "source": [
    "##### 2.2) Kako združimo dve pandas Series v pandas Dataframe  `1 pts`\n",
    "\n",
    "Združi series1 in series2 v dataframe."
   ]
  },
  {
   "cell_type": "code",
   "execution_count": null,
   "metadata": {},
   "outputs": [],
   "source": [
    "series1 = pd.Series(list('abcedfghijklmnopqrstuvwxyz'))\n",
    "series2= pd.Series(np.arange(26))"
   ]
  },
  {
   "cell_type": "code",
   "execution_count": null,
   "metadata": {},
   "outputs": [],
   "source": [
    "# Odgovor\n",
    "df1 = "
   ]
  },
  {
   "cell_type": "markdown",
   "metadata": {},
   "source": [
    "Za pravilni odgovor mora spodnja celica vrniti dataframe naslednje oblike:\n",
    "\n",
    "```\n",
    "  col1  col2\n",
    "0    a     0\n",
    "1    b     1\n",
    "2    c     2\n",
    "3    e     3\n",
    "4    d     4\n",
    "```"
   ]
  },
  {
   "cell_type": "code",
   "execution_count": null,
   "metadata": {},
   "outputs": [],
   "source": [
    "print(df1.head())"
   ]
  },
  {
   "cell_type": "code",
   "execution_count": null,
   "metadata": {},
   "outputs": [],
   "source": [
    "# Rešitev\n",
    "\n",
    "# Solution 1\n",
    "df1 = pd.concat([series1, series2], axis=1)\n",
    "\n",
    "# Solution 2\n",
    "df1 = pd.DataFrame({'col1': series1, 'col2': series2})\n",
    "print(df1.head())\n",
    "\n",
    "# Rešitev 2\n",
    "df1 = pd.concat([series1, series2], axis=1).rename(columns={0: \"col1\", 1: \"col2\"})"
   ]
  },
  {
   "cell_type": "markdown",
   "metadata": {},
   "source": [
    "##### 2.3) Kako izračunamo število zankov vsake besede v  pandas Series?  `2 pts`\n",
    "\n",
    "Izračunajte število znakov v vsaki besedi v `ser_beseda`. Naredite nov pandas dataframe, ki vsebuje dva stolpca: besede (ser_beseda) in stevilo_znakov (izračunano stevilo znakov)."
   ]
  },
  {
   "cell_type": "code",
   "execution_count": null,
   "metadata": {},
   "outputs": [],
   "source": [
    "ser_beseda = pd.Series(['veliko', 'zannje', 'kako', 'ne', 'pandasinnumpy'])"
   ]
  },
  {
   "cell_type": "code",
   "execution_count": null,
   "metadata": {},
   "outputs": [],
   "source": [
    "# Odgovor\n",
    "\n",
    "\n",
    "df_stevilo = "
   ]
  },
  {
   "cell_type": "markdown",
   "metadata": {},
   "source": [
    "Za pravilni odgovor mora spodnja celica vrniti dataframe naslednje oblike:\n",
    "    \n",
    "```\n",
    "          besede  stevilo_znakov\n",
    "0         veliko               6\n",
    "1         zannje               6\n",
    "2           kako               4\n",
    "3             ne               2\n",
    "4  pandasinnumpy              13\n",
    "```"
   ]
  },
  {
   "cell_type": "code",
   "execution_count": null,
   "metadata": {},
   "outputs": [],
   "source": [
    "print(df_stevilo)"
   ]
  },
  {
   "cell_type": "code",
   "execution_count": null,
   "metadata": {},
   "outputs": [],
   "source": [
    "# Rešitev\n",
    "temp = ser_beseda.map(lambda x: len(x))\n",
    "df_stevilo = pd.DataFrame({'besede': ser_beseda, 'stevilo_znakov': temp})\n",
    "print(df_stevilo)"
   ]
  },
  {
   "cell_type": "markdown",
   "metadata": {},
   "source": [
    "##### 2.4) Kako pretvorimo pandas series s stringi datumov v pandas timeseries?  `1 pts`\n",
    "\n",
    "Dani pandas series `ser_times` pretvorite v pandas timeseries tipa datetime64[ns]."
   ]
  },
  {
   "cell_type": "code",
   "execution_count": null,
   "metadata": {},
   "outputs": [],
   "source": [
    "ser_times = pd.Series(['01 Jan 2010', '02-02-2011', '20120303', '2013/04/04', '2014-05-05', '2015-06-06T12:20'])"
   ]
  },
  {
   "cell_type": "code",
   "execution_count": null,
   "metadata": {},
   "outputs": [],
   "source": [
    "# Odgovor\n",
    "\n",
    "set_datatime = "
   ]
  },
  {
   "cell_type": "markdown",
   "metadata": {},
   "source": [
    "Za pravilni odgovor mora spodnja celica vrniti series naslednje oblike:\n",
    "\n",
    "```\n",
    "0   2010-01-01 00:00:00\n",
    "1   2011-02-02 00:00:00\n",
    "2   2012-03-03 00:00:00\n",
    "3   2013-04-04 00:00:00\n",
    "4   2014-05-05 00:00:00\n",
    "5   2015-06-06 12:20:00\n",
    "dtype: datetime64[ns]\n",
    "```"
   ]
  },
  {
   "cell_type": "code",
   "execution_count": null,
   "metadata": {},
   "outputs": [],
   "source": [
    "print(set_datatime)"
   ]
  },
  {
   "cell_type": "code",
   "execution_count": null,
   "metadata": {},
   "outputs": [],
   "source": [
    "# Rešitev\n",
    "# Solution 1\n",
    "from dateutil.parser import parse\n",
    "set_datatime = ser_times.map(lambda x: parse(x))\n",
    "\n",
    "# Solution 2\n",
    "set_datatime = pd.to_datetime(ser_times)"
   ]
  },
  {
   "cell_type": "markdown",
   "metadata": {},
   "source": [
    "### 3. del - pandas 2/3"
   ]
  },
  {
   "cell_type": "markdown",
   "metadata": {},
   "source": [
    "`Možne točke: 5 pts`"
   ]
  },
  {
   "cell_type": "markdown",
   "metadata": {},
   "source": [
    "##### 3.1) Kako izpišemo zadnje 3 vrstice pandas dataframe-a, kjer je vsota vrstic večja od 100?  `2 pts`\n",
    "\n",
    "Izpišite zadnje 3 vrstice dataframe-a katerega vsota vrstic je večja od 100."
   ]
  },
  {
   "cell_type": "code",
   "execution_count": null,
   "metadata": {},
   "outputs": [],
   "source": [
    "np.random.seed(1)\n",
    "df = pd.DataFrame(np.random.randint(10, 40, 60).reshape(-1, 4))"
   ]
  },
  {
   "cell_type": "code",
   "execution_count": null,
   "metadata": {},
   "outputs": [],
   "source": [
    "# Odgovor\n",
    "\n",
    "\n",
    "df_last_3 = "
   ]
  },
  {
   "cell_type": "markdown",
   "metadata": {},
   "source": [
    "Za pravilni odgovor mora spodnja celica vrniti dataframe naslednje oblike:\n",
    "```\n",
    "     0   1   2   3\n",
    "7   28  14  33  33\n",
    "10  17  39  32  35\n",
    "12  18  34  23  29\n",
    "```"
   ]
  },
  {
   "cell_type": "code",
   "execution_count": null,
   "metadata": {},
   "outputs": [],
   "source": [
    "print(df_last_3)"
   ]
  },
  {
   "cell_type": "code",
   "execution_count": null,
   "metadata": {},
   "outputs": [],
   "source": [
    "# Rešitev\n",
    "# print row sums\n",
    "rowsums = df.apply(np.sum, axis=1)\n",
    "\n",
    "# last two rows with row sum greater than 100\n",
    "df_last_3 = df.iloc[np.where(rowsums > 100)[0][-3:], :]\n",
    "\n",
    "# Rešitev 2\n",
    "df1=df[df.sum(axis=1)>100]\n",
    "df_last_3 = df1.tail(3)"
   ]
  },
  {
   "cell_type": "code",
   "execution_count": null,
   "metadata": {},
   "outputs": [],
   "source": []
  },
  {
   "cell_type": "markdown",
   "metadata": {},
   "source": [
    "##### 3.2) Kako dodamo dva stolpca pandas dataframe-u, ki vsebujeta max in min vrednost vsake vrstice? `2 pts`"
   ]
  },
  {
   "cell_type": "markdown",
   "metadata": {},
   "source": [
    "Danemu pandas dataframe-u dodajte dva stolpca, ki vsebujeta max in min vrednost vsake vrstice."
   ]
  },
  {
   "cell_type": "code",
   "execution_count": null,
   "metadata": {},
   "outputs": [],
   "source": [
    "np.random.seed(2)\n",
    "df = pd.DataFrame(np.random.randint(1,100, 80).reshape(8, -1))"
   ]
  },
  {
   "cell_type": "code",
   "execution_count": null,
   "metadata": {},
   "outputs": [],
   "source": [
    "df"
   ]
  },
  {
   "cell_type": "code",
   "execution_count": null,
   "metadata": {},
   "outputs": [],
   "source": [
    "# Odgovor\n",
    "\n",
    "min_max_df = "
   ]
  },
  {
   "cell_type": "markdown",
   "metadata": {},
   "source": [
    "Za pravilni odgovor mora spodnja celica vrniti dataframe naslednje oblike:\n",
    "```\n",
    "    0   1   2   3   4   5   6   7   8   9  min  max\n",
    "0  41  16  73  23  44  83  76   8  35  50    8   83\n",
    "1  96  76  86  48  64  32  91  21  38  40   21   96\n",
    "2  68   5  43  52  39  34  59  68  70  89    5   89\n",
    "3  69  47  71  96  84  32  67  81  53  77   32   96\n",
    "4  51   5  91  64  80  50  40  47   9  51    5   91\n",
    "5  16   9  18  23  74  58  91  63  84  97    9   97\n",
    "6  44  33  27   9  77  11  41  35  61  10    9   77\n",
    "7  71  87  71  20  57  83   2  69  41  82    2   87\n",
    "```"
   ]
  },
  {
   "cell_type": "code",
   "execution_count": null,
   "metadata": {},
   "outputs": [],
   "source": [
    "print(df)"
   ]
  },
  {
   "cell_type": "code",
   "execution_count": null,
   "metadata": {},
   "outputs": [],
   "source": [
    "# Rešitev\n",
    "df['min'] = df.min(axis=1)\n",
    "df['max'] = df.max(axis=1)"
   ]
  },
  {
   "cell_type": "markdown",
   "metadata": {},
   "source": [
    "##### 3.3)  Izbira vrstic in stolpcev `1 pts`"
   ]
  },
  {
   "cell_type": "markdown",
   "metadata": {},
   "source": [
    "Iz spodnjih podatkov sestavite dataframe z imenom `exam_df`. List `labels` naj bodo index-i dataframe-a.\n",
    "\n",
    "Iz sestavljenega dataframe-a izberite stolpca `'name' in 'score'` ter vrstice `c, d in e`."
   ]
  },
  {
   "cell_type": "markdown",
   "metadata": {},
   "source": [
    "Podatki:"
   ]
  },
  {
   "cell_type": "code",
   "execution_count": null,
   "metadata": {},
   "outputs": [],
   "source": [
    "exam_data  = {'name': ['Anastasia', 'Dima', 'Katherine', 'James', 'Emily', 'Michael', 'Matthew', 'Laura', 'Kevin', 'Jonas'],\n",
    "        'score': [12.5, 9, 16.5, np.nan, 9, 20, 14.5, np.nan, 8, 19],\n",
    "        'attempts': [1, 3, 2, 3, 2, 3, 1, 1, 2, 1],\n",
    "        'qualify': ['yes', 'no', 'yes', 'no', 'no', 'yes', 'yes', 'no', 'no', 'yes']}\n",
    "\n",
    "labels = ['a', 'b', 'c', 'd', 'e', 'f', 'g', 'h', 'i', 'j']"
   ]
  },
  {
   "cell_type": "code",
   "execution_count": null,
   "metadata": {},
   "outputs": [],
   "source": [
    "# Odgovor\n",
    "\n",
    "\n",
    "\n"
   ]
  },
  {
   "cell_type": "markdown",
   "metadata": {},
   "source": [
    "Želena rešitev:\n",
    "```\n",
    "        name  score\n",
    "c  Katherine   16.5\n",
    "d      James    NaN\n",
    "e      Emily    9.0\n",
    "```"
   ]
  },
  {
   "cell_type": "code",
   "execution_count": null,
   "metadata": {},
   "outputs": [],
   "source": [
    "# Rešitev\n",
    "exam_df = pd.DataFrame(exam_data , index=labels)\n",
    "print(exam_df.loc['c':'e', ['name', 'score']])"
   ]
  },
  {
   "cell_type": "markdown",
   "metadata": {},
   "source": [
    "### 4.del - pandas 3/3"
   ]
  },
  {
   "cell_type": "markdown",
   "metadata": {},
   "source": [
    "`Možne točke: 5 pts`"
   ]
  },
  {
   "cell_type": "markdown",
   "metadata": {},
   "source": [
    "Dataframe `df_grade` za naslednji sklop nalog:"
   ]
  },
  {
   "cell_type": "code",
   "execution_count": null,
   "metadata": {},
   "outputs": [],
   "source": [
    "df_grade = pd.DataFrame({'name': ['Anastasia', 'Dima', 'Katherine', 'James', 'Emily', 'Michael', 'Matthew', 'Laura', 'Kevin', 'Jonas'],\n",
    "'score': [12.5, 9, 16.5, np.nan, 9, 20, 14.5, np.nan, 8, 19],\n",
    "'attempts': [1, 3, 2, 3, 2, 3, 1, 1, 2, 1],\n",
    "'qualify': ['yes', 'no', 'yes', 'no', 'no', 'yes', 'yes', 'no', 'no', 'yes']}, \n",
    "index = ['a', 'b', 'c', 'd', 'e', 'f', 'g', 'h', 'i', 'j'])"
   ]
  },
  {
   "cell_type": "code",
   "execution_count": null,
   "metadata": {},
   "outputs": [],
   "source": [
    "df_grade"
   ]
  },
  {
   "cell_type": "markdown",
   "metadata": {},
   "source": [
    "##### 4.1)  Izbira podatkov glede na dani kriteriji `1 pts`"
   ]
  },
  {
   "cell_type": "markdown",
   "metadata": {},
   "source": [
    "Iz dataframe-a `df_grade` izberite vrstice, ki izpolnjujejo naslednja pogoja:\n",
    "- vrednost stolpca 'attempts' je **manjša ali enaka**  2,\n",
    "- vrednost stolpca 'score' je **večja** od 12."
   ]
  },
  {
   "cell_type": "code",
   "execution_count": null,
   "metadata": {},
   "outputs": [],
   "source": [
    "# Odgovor\n",
    "\n",
    "\n",
    "\n"
   ]
  },
  {
   "cell_type": "markdown",
   "metadata": {},
   "source": [
    "Želena rešitev:\n",
    "```\n",
    "        name  score  attempts qualify\n",
    "a  Anastasia   12.5         1     yes\n",
    "c  Katherine   16.5         2     yes\n",
    "g    Matthew   14.5         1     yes\n",
    "j      Jonas   19.0         1     yes\n",
    "```"
   ]
  },
  {
   "cell_type": "code",
   "execution_count": null,
   "metadata": {},
   "outputs": [],
   "source": [
    "# Rešitev\n",
    "print(df_grade[(df_grade['attempts'] <= 2) & (df_grade['score'] > 12)])"
   ]
  },
  {
   "cell_type": "markdown",
   "metadata": {},
   "source": [
    "##### 4.2)  Sprememba vrednosti v dataframe-u `1 pts`"
   ]
  },
  {
   "cell_type": "markdown",
   "metadata": {},
   "source": [
    "V `df_grade`spremenite vrednost vrstice `d` in stolpca `score` v 11.5."
   ]
  },
  {
   "cell_type": "code",
   "execution_count": null,
   "metadata": {},
   "outputs": [],
   "source": [
    "# Odgovor\n",
    "\n",
    "\n"
   ]
  },
  {
   "cell_type": "markdown",
   "metadata": {},
   "source": [
    "Želena rešitev:\n",
    "```\n",
    "        name  score  attempts qualify\n",
    "a  Anastasia   12.5         1     yes\n",
    "b       Dima    9.0         3      no\n",
    "c  Katherine   16.5         2     yes\n",
    "d      James   11.5         3      no\n",
    "e      Emily    9.0         2      no\n",
    "f    Michael   20.0         3     yes\n",
    "g    Matthew   14.5         1     yes\n",
    "h      Laura    NaN         1      no\n",
    "i      Kevin    8.0         2      no\n",
    "j      Jonas   19.0         1     yes\n",
    "```"
   ]
  },
  {
   "cell_type": "code",
   "execution_count": null,
   "metadata": {},
   "outputs": [],
   "source": [
    "# Rešitev\n",
    "df_grade.loc['d', 'score'] = 11.5\n",
    "print(df_grade)"
   ]
  },
  {
   "cell_type": "markdown",
   "metadata": {},
   "source": [
    "##### 4.3) Izračun vsote `1 pts`"
   ]
  },
  {
   "cell_type": "markdown",
   "metadata": {},
   "source": [
    "Izračunajte vsoto stolpca `attempts` v `df_grade`."
   ]
  },
  {
   "cell_type": "code",
   "execution_count": null,
   "metadata": {},
   "outputs": [],
   "source": [
    "# Odgovor\n",
    "\n",
    "\n"
   ]
  },
  {
   "cell_type": "markdown",
   "metadata": {},
   "source": [
    "Želen odgovor:\n",
    "\n",
    "```\n",
    "Vsota je 19\n",
    "```"
   ]
  },
  {
   "cell_type": "code",
   "execution_count": null,
   "metadata": {},
   "outputs": [],
   "source": [
    "# Rešitev\n",
    "print('Vsota je', df_grade['attempts'].sum())"
   ]
  },
  {
   "cell_type": "markdown",
   "metadata": {},
   "source": [
    "##### 4.4) Razvrščanje podatkov `2pts`"
   ]
  },
  {
   "cell_type": "markdown",
   "metadata": {},
   "source": [
    "Dataframe `df_grade` razvrstite glede na podatke v stolpcu `name`:\n",
    "- v padajočem vrstnem redu\n",
    "- v naraščajočem vrstnem redu\n"
   ]
  },
  {
   "cell_type": "code",
   "execution_count": null,
   "metadata": {},
   "outputs": [],
   "source": [
    "# Odgovor\n",
    "\n"
   ]
  },
  {
   "cell_type": "markdown",
   "metadata": {},
   "source": [
    "Želena rešitev:\n",
    "    \n",
    "```\n",
    "        name  score  attempts qualify\n",
    "a  Anastasia   12.5         1     yes\n",
    "b       Dima    9.0         3      no\n",
    "e      Emily    9.0         2      no\n",
    "d      James   11.5         3      no\n",
    "j      Jonas   19.0         1     yes\n",
    "c  Katherine   16.5         2     yes\n",
    "i      Kevin    8.0         2      no\n",
    "h      Laura    NaN         1      no\n",
    "g    Matthew   14.5         1     yes\n",
    "f    Michael   20.0         3     yes\n",
    "\n",
    "in\n",
    "\n",
    "        name  score  attempts qualify\n",
    "f    Michael   20.0         3     yes\n",
    "g    Matthew   14.5         1     yes\n",
    "h      Laura    NaN         1      no\n",
    "i      Kevin    8.0         2      no\n",
    "c  Katherine   16.5         2     yes\n",
    "j      Jonas   19.0         1     yes\n",
    "d      James   11.5         3      no\n",
    "e      Emily    9.0         2      no\n",
    "b       Dima    9.0         3      no\n",
    "a  Anastasia   12.5         1     yes\n",
    "```"
   ]
  },
  {
   "cell_type": "code",
   "execution_count": null,
   "metadata": {},
   "outputs": [],
   "source": [
    "# Rešitev\n",
    "print(df_grade.sort_values(by=['name'], ascending=[True]))\n",
    "print(df_grade.sort_values(by=['name'], ascending=[False]))"
   ]
  },
  {
   "cell_type": "markdown",
   "metadata": {},
   "source": [
    "### 5.del - matplotlib"
   ]
  },
  {
   "cell_type": "markdown",
   "metadata": {},
   "source": [
    "`Možne točke: 5 pts`"
   ]
  },
  {
   "cell_type": "markdown",
   "metadata": {},
   "source": [
    "Podatki za naloge:"
   ]
  },
  {
   "cell_type": "code",
   "execution_count": null,
   "metadata": {},
   "outputs": [],
   "source": [
    "x1 = [1,2,3,4,5,6,7,8,9,10]\n",
    "y1 = [3,5,6,4,5,8,7,5,8,9]\n",
    "y2 = [12,16,17,15,14,18,20,16,13,11]"
   ]
  },
  {
   "cell_type": "markdown",
   "metadata": {},
   "source": [
    "##### 5.1) Naloga 1  `1 pts`\n",
    "\n",
    "Izrišite nepovezane točke (x1, y1). Točke naj bodo **rdeče** barve.\n",
    "\n",
    "Graf naj bo poimenovan **Naloga 1**.\n",
    "\n",
    "Os x naj bo poimenovana **os x**.\n",
    "\n",
    "Os y naj bo poimenovana **os y**."
   ]
  },
  {
   "cell_type": "code",
   "execution_count": null,
   "metadata": {},
   "outputs": [],
   "source": [
    "# Odgovor\n",
    "\n",
    "\n"
   ]
  },
  {
   "cell_type": "markdown",
   "metadata": {},
   "source": [
    "Želena rešitev:"
   ]
  },
  {
   "cell_type": "markdown",
   "metadata": {},
   "source": [
    "<img width=300 src=\"./data/slika2.png\">"
   ]
  },
  {
   "cell_type": "code",
   "execution_count": null,
   "metadata": {},
   "outputs": [],
   "source": [
    "# Rešitev\n",
    "\n",
    "plt.title(\"Naloga 1\")\n",
    "plt.scatter(x1, y1, c=\"red\")\n",
    "\n",
    "plt.xlabel(\"os x\")\n",
    "plt.ylabel(\"os y\")\n",
    "\n",
    "plt.show()"
   ]
  },
  {
   "cell_type": "markdown",
   "metadata": {},
   "source": [
    "##### 5.2) Naloga 2  `1 pts`"
   ]
  },
  {
   "cell_type": "markdown",
   "metadata": {},
   "source": [
    "Ustvarite 2 grafa v isti figuri:\n",
    "- Na prvega zrišite graf povezanih točk (x1, y1). Graf naj bo **zelene barve**.\n",
    "- Na drugega izrišite graf povezanih točk (x1, y2). Graf naj bo **črne barve**."
   ]
  },
  {
   "cell_type": "code",
   "execution_count": null,
   "metadata": {},
   "outputs": [],
   "source": [
    "# Odgovor\n",
    "\n",
    "\n",
    "\n"
   ]
  },
  {
   "cell_type": "markdown",
   "metadata": {},
   "source": [
    "Želena rešitev:"
   ]
  },
  {
   "cell_type": "markdown",
   "metadata": {},
   "source": [
    "<img width=300 src=\"./data/slika5.png\">"
   ]
  },
  {
   "cell_type": "code",
   "execution_count": null,
   "metadata": {},
   "outputs": [],
   "source": [
    "# Rešitev\n",
    "plt.subplot(1,2,1)\n",
    "plt.plot(x1, y1, color='green')\n",
    "plt.subplot(1,2,2)\n",
    "plt.plot(x1, y2, color='black')\n",
    "plt.show()"
   ]
  },
  {
   "cell_type": "markdown",
   "metadata": {},
   "source": [
    "##### 5.3) Naloga 3  `1 pts`"
   ]
  },
  {
   "cell_type": "markdown",
   "metadata": {},
   "source": [
    "V isti graf izrišite povezane točke (x1, y1) in (x1, y2).\n",
    "\n",
    "Omejite y os na interval **od minimalne** vrednosti izmed podatkov y1 in y2, **do maksimalne** vrednosti izmed podatkov y1 in y2."
   ]
  },
  {
   "cell_type": "code",
   "execution_count": null,
   "metadata": {},
   "outputs": [],
   "source": [
    "# Odgovor\n",
    "\n",
    "\n",
    "\n"
   ]
  },
  {
   "cell_type": "markdown",
   "metadata": {},
   "source": [
    "Želena rešitev:"
   ]
  },
  {
   "cell_type": "markdown",
   "metadata": {},
   "source": [
    "<img width=300 src=\"./data/slika3.png\">"
   ]
  },
  {
   "cell_type": "code",
   "execution_count": null,
   "metadata": {},
   "outputs": [],
   "source": [
    "# Rešitev\n",
    "plt.plot(x1, y1)\n",
    "plt.plot(x1, y2)\n",
    "plt.ylim(min(y1+y2), max(y1+y2))\n",
    "\n",
    "plt.show()"
   ]
  },
  {
   "cell_type": "markdown",
   "metadata": {},
   "source": [
    "##### 5.4) Naloga 4  `1 pts`"
   ]
  },
  {
   "cell_type": "markdown",
   "metadata": {},
   "source": [
    "V isti graf izrišite povezane točke (x1, y1) in (x1, y2).\n",
    "\n",
    "Prvi nabor točk poimenujte **Podatki 1**, drugi nabor točk poimenujte **Podatki 2**.\n",
    "\n",
    "Na grafu prikažite legendo."
   ]
  },
  {
   "cell_type": "code",
   "execution_count": null,
   "metadata": {},
   "outputs": [],
   "source": [
    "# Odgovor\n",
    "\n",
    "\n",
    "\n",
    "\n"
   ]
  },
  {
   "cell_type": "markdown",
   "metadata": {},
   "source": [
    "Želena rešitev:"
   ]
  },
  {
   "cell_type": "markdown",
   "metadata": {},
   "source": [
    "<img width=300 src=\"./data/slika4.png\">"
   ]
  },
  {
   "cell_type": "code",
   "execution_count": null,
   "metadata": {},
   "outputs": [],
   "source": [
    "# Rešitev\n",
    "plt.plot(x1, y1, label=\"Podatki 1\")\n",
    "plt.plot(x1, y2, label=\"Podatki 2\")\n",
    "plt.legend()\n",
    "\n",
    "plt.show()"
   ]
  },
  {
   "cell_type": "markdown",
   "metadata": {},
   "source": [
    "##### 5.5) Naloga 5  `1 pts`"
   ]
  },
  {
   "cell_type": "markdown",
   "metadata": {},
   "source": [
    "V isti graf izrišite povezane točke (x1, y1) in (x1, y2).\n",
    "\n",
    "Nastavite, da graf izriše **pomožne črte** (grid).\n",
    "\n",
    "Na x osi nastavite **ticks** na **vsako drugo vrednost iz x1 seznama**."
   ]
  },
  {
   "cell_type": "code",
   "execution_count": null,
   "metadata": {},
   "outputs": [],
   "source": [
    "# Odgovor\n",
    "\n",
    "\n",
    "\n"
   ]
  },
  {
   "cell_type": "markdown",
   "metadata": {},
   "source": [
    "Želena rešitev:"
   ]
  },
  {
   "cell_type": "markdown",
   "metadata": {},
   "source": [
    "<img width=300 src=\"./data/slika1.png\">"
   ]
  },
  {
   "cell_type": "code",
   "execution_count": null,
   "metadata": {},
   "outputs": [],
   "source": [
    "# Rešitev\n",
    "plt.plot(x1, y1)\n",
    "plt.plot(x1, y2)\n",
    "plt.grid(True)\n",
    "plt.xticks(x1[1::2])\n",
    "\n",
    "plt.show()"
   ]
  },
  {
   "cell_type": "markdown",
   "metadata": {},
   "source": [
    "### 6.del - Webscraping "
   ]
  },
  {
   "cell_type": "markdown",
   "metadata": {},
   "source": [
    "`Možne točke: 5 pts`"
   ]
  },
  {
   "cell_type": "markdown",
   "metadata": {},
   "source": [
    "Podatki za naloge:"
   ]
  },
  {
   "cell_type": "code",
   "execution_count": null,
   "metadata": {},
   "outputs": [],
   "source": [
    "link = \"https://en.wikipedia.org/w/index.php?title=Chernobyl_(miniseries)&direction=next&oldid=899952822\""
   ]
  },
  {
   "cell_type": "markdown",
   "metadata": {},
   "source": [
    "##### 6.1) HTTP GET  request `1 pts`"
   ]
  },
  {
   "cell_type": "markdown",
   "metadata": {},
   "source": [
    "Naredite http zahtevek na zgornjo spletno stran (spremenljivka `link`). Izpišite kodo uspešnosti zahtevka, ki vam jo vrne strežnik in html kodo strani."
   ]
  },
  {
   "cell_type": "code",
   "execution_count": null,
   "metadata": {},
   "outputs": [],
   "source": [
    "# Odgovor\n",
    "\n",
    "\n"
   ]
  },
  {
   "cell_type": "markdown",
   "metadata": {},
   "source": [
    "Želena rešitev:\n",
    "\n",
    "```\n",
    "200\n",
    "\n",
    "<!DOCTYPE html>\n",
    "<html class=\"client-nojs\" lang=\"en\" dir=\"ltr\">\n",
    "<head>\n",
    "<meta charset=\"UTF-8\"/>\n",
    "<title>Chernobyl (miniseries) - Wikipedia</title>\n",
    "<script>document.documentElement.className=document.documentElement.className.replace(/(^|\\s)client-nojs(\\s|$)/,\"$1client-js$2\");RLCONF={\"wgCanonicalNamespace\":\"\",\"wgCanonicalSpecialPageName\":!1,\"wgNamespaceNumber\":0,\"wgPageName\":\"Chernobyl_(miniseries)\",\"wgTitle\":\"Chernobyl (miniseries)\",\"wgCurRevisionId\":899952822,\"wgRevisionId\":899952822,\"wgArticleId\":55876266,\"wgIsArticle\":!0,\"wgIsRedirect\":!1,\"wgAction\":\"view\",\"wgUserName\":null,\"wgUserGroups\":[\"*\"],\"wgCategories\":[\"CS1 Lithuanian-language sources (lt)\",\n",
    "...\n",
    "```"
   ]
  },
  {
   "cell_type": "code",
   "execution_count": null,
   "metadata": {},
   "outputs": [],
   "source": [
    "# Rešitev\n",
    "r = requests.get(link)\n",
    "print(r.status_code)\n",
    "print()\n",
    "#print(r.text)"
   ]
  },
  {
   "cell_type": "markdown",
   "metadata": {},
   "source": [
    "##### 6.2) Izpis naslovov `2 pts`\n",
    "\n",
    "Izpišite naslove prvih štirih epizod."
   ]
  },
  {
   "cell_type": "code",
   "execution_count": null,
   "metadata": {},
   "outputs": [],
   "source": [
    "# Odgovor\n",
    "\n",
    "\n",
    "\n"
   ]
  },
  {
   "cell_type": "markdown",
   "metadata": {},
   "source": [
    "Za pravilno rešitev mora celica vrniti:\n",
    "```\n",
    "\"1:23:45\"\n",
    "\"Please Remain Calm\"\n",
    "\"Open Wide, O Earth\"\n",
    "\"The Happiness of All Mankind\"\n",
    "```"
   ]
  },
  {
   "cell_type": "code",
   "execution_count": null,
   "metadata": {},
   "outputs": [],
   "source": [
    "# Rešitev\n",
    "r = requests.get(link)\n",
    "html_soup = BeautifulSoup(r.text, 'html.parser')\n",
    "episodes = html_soup.find_all(\"td\", {\"class\": \"summary\"}, limit=4)\n",
    "for episode in episodes:\n",
    "    print(episode.get_text())"
   ]
  },
  {
   "cell_type": "markdown",
   "metadata": {},
   "source": [
    "##### 6.3) Imena igralcev `2 pts`"
   ]
  },
  {
   "cell_type": "markdown",
   "metadata": {},
   "source": [
    "Želimo izvedeti ime in priimek prvih treh igralcev napisanih na wikipedia povezavi (več na spodnji sliki, zanimajo nas igralci v rdečem okvirčku).\n",
    "\n",
    "Dodatno želimo za vsakega izvedeti njegov datum rojstva (datum rojstva najdemo na strani igralca)."
   ]
  },
  {
   "cell_type": "markdown",
   "metadata": {},
   "source": [
    "<img width=300 src=\"data/chenobyl.PNG\">"
   ]
  },
  {
   "cell_type": "code",
   "execution_count": null,
   "metadata": {},
   "outputs": [],
   "source": [
    "# Odgovor\n",
    "\n",
    "\n",
    "\n"
   ]
  },
  {
   "cell_type": "markdown",
   "metadata": {},
   "source": [
    "Za pravilno rešitev mora celica vrniti:\n",
    "```\n",
    "Jared Harris, rojen 1961-08-24\n",
    "Stellan Skarsgård, rojen 1951-06-13\n",
    "Paul Ritter, rojen 1966-03-05\n",
    "```"
   ]
  },
  {
   "cell_type": "code",
   "execution_count": null,
   "metadata": {},
   "outputs": [],
   "source": [
    "# Rešitev\n",
    "rešitev = {}\n",
    "\n",
    "r = requests.get(link)\n",
    "html_soup = BeautifulSoup(r.text, 'html.parser')\n",
    "names = html_soup.find(\"\", {\"class\": \"mw-parser-output\"})\n",
    "names = names.find(\"ul\")\n",
    "names = names.find_all(\"a\", limit=3)\n",
    "\n",
    "for name in names:\n",
    "    new_r = requests.get(\"https://en.wikipedia.org\" + name[\"href\"])\n",
    "    html_soup = BeautifulSoup(new_r.text, \"html.parser\")\n",
    "    bday = html_soup.find(\"\", {\"class\":\"bday\"})\n",
    "    rešitev[name.text] = bday.text\n",
    "    \n",
    "for key in rešitev.keys():\n",
    "    print(f\"{key}, rojen {rešitev[key]}\")"
   ]
  },
  {
   "cell_type": "markdown",
   "metadata": {},
   "source": [
    "---"
   ]
  },
  {
   "cell_type": "markdown",
   "metadata": {},
   "source": [
    "---"
   ]
  },
  {
   "cell_type": "markdown",
   "metadata": {},
   "source": [
    "---"
   ]
  },
  {
   "cell_type": "markdown",
   "metadata": {},
   "source": [
    "---"
   ]
  },
  {
   "cell_type": "markdown",
   "metadata": {},
   "source": [
    "---"
   ]
  },
  {
   "cell_type": "markdown",
   "metadata": {},
   "source": [
    "---"
   ]
  },
  {
   "cell_type": "markdown",
   "metadata": {},
   "source": [
    "---"
   ]
  },
  {
   "cell_type": "markdown",
   "metadata": {},
   "source": [
    "---"
   ]
  },
  {
   "cell_type": "markdown",
   "metadata": {},
   "source": [
    "---"
   ]
  },
  {
   "cell_type": "markdown",
   "metadata": {},
   "source": [
    "---"
   ]
  },
  {
   "cell_type": "markdown",
   "metadata": {},
   "source": [
    "---"
   ]
  },
  {
   "cell_type": "markdown",
   "metadata": {},
   "source": [
    "---"
   ]
  },
  {
   "cell_type": "markdown",
   "metadata": {},
   "source": [
    "---"
   ]
  },
  {
   "cell_type": "markdown",
   "metadata": {},
   "source": [
    "---"
   ]
  },
  {
   "cell_type": "markdown",
   "metadata": {},
   "source": [
    "---"
   ]
  },
  {
   "cell_type": "markdown",
   "metadata": {},
   "source": [
    "# Praktični izpit tečaja Analitika podatkov v Python-u"
   ]
  },
  {
   "cell_type": "markdown",
   "metadata": {},
   "source": [
    "Čas reševanja: `120 min`"
   ]
  },
  {
   "cell_type": "markdown",
   "metadata": {},
   "source": [
    "Skupno število točk: `70 pts`\n",
    "\n",
    "Odgovore na vprašanja vnesite v celice z komentarjem `# Odgovor`\n",
    "\n",
    "Za vsa vprašanja smo na voljo.\n",
    "\n",
    "Lahko si pomagate z uporabo gradiv in internetom. Ne pozabite na uradno dokumentacijo.\n",
    "\n",
    "Srečno!!"
   ]
  },
  {
   "cell_type": "markdown",
   "metadata": {},
   "source": [
    "**Pred začetkom izpita zaženite spodnjo celico:**\n",
    "    \n",
    "    "
   ]
  },
  {
   "cell_type": "code",
   "execution_count": null,
   "metadata": {},
   "outputs": [],
   "source": [
    "import pandas as pd\n",
    "import numpy as np\n",
    "\n",
    "%matplotlib inline\n",
    "import matplotlib.pyplot as plt\n",
    "import seaborn as sns"
   ]
  },
  {
   "cell_type": "markdown",
   "metadata": {},
   "source": [
    "## DEL 1 - Priprava (30 pts)"
   ]
  },
  {
   "cell_type": "markdown",
   "metadata": {},
   "source": [
    "### 1.1) Uvoz podatkov \n",
    "\n",
    "`2 pts`"
   ]
  },
  {
   "cell_type": "markdown",
   "metadata": {},
   "source": [
    "Pridobili smo podatke registracije avtomobilov v Sloveniji za marec 2019. Datoteka se imenuje `DATA_vozila_RAW.csv`. \n",
    "\n",
    "V spodnji spremenljivki je shranjena pot do datoteke. Naložite podatke v pandas dataframe, da jih lako uporabimo za nadaljno obdelavo."
   ]
  },
  {
   "cell_type": "code",
   "execution_count": null,
   "metadata": {},
   "outputs": [],
   "source": [
    "path = 'data/DATA_vozila_RAW.csv'"
   ]
  },
  {
   "cell_type": "code",
   "execution_count": null,
   "metadata": {},
   "outputs": [],
   "source": [
    "# Odgovor\n",
    "\n",
    "\n"
   ]
  },
  {
   "cell_type": "code",
   "execution_count": null,
   "metadata": {},
   "outputs": [],
   "source": [
    "# Rešitev\n",
    "df = pd.read_csv(path, sep=';')"
   ]
  },
  {
   "cell_type": "markdown",
   "metadata": {},
   "source": [
    "### 1.2) Prikaz osnovnih lastnosti podatkov"
   ]
  },
  {
   "cell_type": "markdown",
   "metadata": {},
   "source": [
    "#### 1.2.1) Prikažite obliko uvoženega dataframe-a\n",
    "\n",
    "`1 pts`"
   ]
  },
  {
   "cell_type": "code",
   "execution_count": null,
   "metadata": {},
   "outputs": [],
   "source": [
    "# Odgovor\n",
    "\n",
    "\n"
   ]
  },
  {
   "cell_type": "code",
   "execution_count": null,
   "metadata": {},
   "outputs": [],
   "source": [
    "# Rešitev\n",
    "df.shape"
   ]
  },
  {
   "cell_type": "markdown",
   "metadata": {},
   "source": [
    "#### 1.2.2) Prikažite tipe spremenljivk za vsak stolpec uvoženega dataframe-a\n",
    "\n",
    "`1 pts`"
   ]
  },
  {
   "cell_type": "code",
   "execution_count": null,
   "metadata": {},
   "outputs": [],
   "source": [
    "# Odgovor\n"
   ]
  },
  {
   "cell_type": "code",
   "execution_count": null,
   "metadata": {},
   "outputs": [],
   "source": [
    "# Rešitev\n",
    "df.dtypes"
   ]
  },
  {
   "cell_type": "markdown",
   "metadata": {},
   "source": [
    "#### 1.2.3) Prikažite prvih 7 vrstic uvoženega dataframe-a\n",
    "\n",
    "`1 pts`"
   ]
  },
  {
   "cell_type": "code",
   "execution_count": null,
   "metadata": {},
   "outputs": [],
   "source": [
    "# Odgovor\n",
    "\n"
   ]
  },
  {
   "cell_type": "code",
   "execution_count": null,
   "metadata": {},
   "outputs": [],
   "source": [
    "# Rešitev\n",
    "df.head(7)"
   ]
  },
  {
   "cell_type": "markdown",
   "metadata": {},
   "source": [
    "#### 1.2.4) Prikažite zadnjih 6 vrstic uvoženega dataframe-a\n",
    "\n",
    "`1 pts`"
   ]
  },
  {
   "cell_type": "code",
   "execution_count": null,
   "metadata": {},
   "outputs": [],
   "source": [
    "# Odgovor\n",
    "\n"
   ]
  },
  {
   "cell_type": "code",
   "execution_count": null,
   "metadata": {},
   "outputs": [],
   "source": [
    "# Rešitev\n",
    "df.tail(6)"
   ]
  },
  {
   "cell_type": "markdown",
   "metadata": {},
   "source": [
    "#### 1.2.5) Prikažite informacije (velikost df, podatkovni tipi, pomnilnik...) uvoženega dataframe-a z uporabo ene metode\n",
    "\n",
    "`1 pts`"
   ]
  },
  {
   "cell_type": "code",
   "execution_count": null,
   "metadata": {},
   "outputs": [],
   "source": [
    "# Odgovor\n",
    "\n",
    "\n"
   ]
  },
  {
   "cell_type": "code",
   "execution_count": null,
   "metadata": {},
   "outputs": [],
   "source": [
    "# Rešitev\n",
    "df.info()"
   ]
  },
  {
   "cell_type": "markdown",
   "metadata": {},
   "source": [
    "### 1.3) Priprava podatkov za obdelavo\n",
    "\n",
    "Pred analizo podatkov moramo naše podatke urediti in pripraviti."
   ]
  },
  {
   "cell_type": "markdown",
   "metadata": {},
   "source": [
    "#### 1.3.1) Odstrnjevanje nepotrebnih stolpcev\n",
    "\n",
    "Odstranite nepotrebne stolpce iz naših podatkov. Imena nepotrebnih stolpcev so shanjena v spodnji spremenljivki `to_drop`.\n",
    "\n",
    "Operacijo opravite na mestu (inplace).\n",
    "\n",
    "`2 pts`"
   ]
  },
  {
   "cell_type": "code",
   "execution_count": null,
   "metadata": {},
   "outputs": [],
   "source": [
    "to_drop = ['Unnamed: 0', 'Unnamed: 0.1', 'P.1.5-Oznaka motorja', 'Homologacijska', 'Dvtredu']"
   ]
  },
  {
   "cell_type": "code",
   "execution_count": null,
   "metadata": {},
   "outputs": [],
   "source": [
    "# Odgovor\n",
    "\n",
    "\n"
   ]
  },
  {
   "cell_type": "code",
   "execution_count": null,
   "metadata": {},
   "outputs": [],
   "source": [
    "# Rešitev\n",
    "df.drop(columns=to_drop, inplace=True)"
   ]
  },
  {
   "cell_type": "markdown",
   "metadata": {},
   "source": [
    "#### 1.3.2) Preimenovanje imen stolpcev\n",
    "\n",
    "Preimenujte stolpce, da bo delo s podatki lažje. Preslikave imen stolpcev najdete v spodnji spremenljivki `new_names`.\n",
    "\n",
    "Operacijo opravite na mestu (inplace).\n",
    "\n",
    "`2 pts`"
   ]
  },
  {
   "cell_type": "code",
   "execution_count": null,
   "metadata": {},
   "outputs": [],
   "source": [
    "new_names = {'Datum prve registracije vozila': 'Prva_registracija',\n",
    "             'Registrsko obmocje tablice prve registracije': 'Tablica_kraj',\n",
    "             'Starost uporabnika vozila': 'Starost_vozinka',\n",
    "             'Spol uporabnika': 'Spol_voznika',\n",
    "             'Upravna enota uporabnika vozila': 'Upravna_enota_sifra',\n",
    "             'Drzava (koda)': 'Država_proizvodnje',\n",
    "             'Masa vozila': 'Masa_vozila',\n",
    "             'Kategorija in vrsta vozila (opis)': 'Kategorija_vozila',\n",
    "             'Nazivna moc': 'Moc',\n",
    "             'Vrsta goriva (opis)': 'Gorivo',\n",
    "             'S.1-Stevilo sedezev (vkljucno z vozniskim)': 'Stevilo_sedezev',\n",
    "             'T-Najvisja hitrost': 'Hitrost_max',\n",
    "             'V.8-Kombinirana poraba goriva': 'Poraba_goriva',\n",
    "             'Leto izdelave': 'Leto_izdelave'\n",
    "}"
   ]
  },
  {
   "cell_type": "code",
   "execution_count": null,
   "metadata": {},
   "outputs": [],
   "source": [
    "# Odgovor\n",
    "\n",
    "\n"
   ]
  },
  {
   "cell_type": "code",
   "execution_count": null,
   "metadata": {},
   "outputs": [],
   "source": [
    "# Rešitev\n",
    "df.rename(columns=new_names, inplace=True)"
   ]
  },
  {
   "cell_type": "markdown",
   "metadata": {},
   "source": [
    "#### 1.3.3) Odstranjevenje mankajočih vrednosti\n",
    "\n",
    "Izpiši število mankajočih vrednosti za vsak stolpec v pandas Series obliki.\n",
    "\n",
    "Pričakovan odgovor:\n",
    "```\n",
    "Prva_registracija         0\n",
    "Tablica_kraj              0\n",
    "Starost_vozinka        6349\n",
    "Spol_voznika           6349\n",
    "Upravna_enota_sifra       0\n",
    "Znamka                    0\n",
    "Država_proizvodnje        0\n",
    "Masa_vozila               0\n",
    "...\n",
    "```\n",
    "\n",
    "`2 pts`"
   ]
  },
  {
   "cell_type": "code",
   "execution_count": null,
   "metadata": {},
   "outputs": [],
   "source": [
    "# Odgovor\n",
    "\n",
    "\n"
   ]
  },
  {
   "cell_type": "code",
   "execution_count": null,
   "metadata": {},
   "outputs": [],
   "source": [
    "# Rešitev\n",
    "df.isnull().sum()"
   ]
  },
  {
   "cell_type": "markdown",
   "metadata": {},
   "source": [
    "---"
   ]
  },
  {
   "cell_type": "markdown",
   "metadata": {},
   "source": [
    "`2 pts`"
   ]
  },
  {
   "cell_type": "markdown",
   "metadata": {},
   "source": [
    "Odstrani vse vrstice v naših podatkih za katere ima stolpec `Starost_vozinka` manjkajoče vrednosti.\n",
    "\n",
    "Delo nadaljuj z novimi podatki."
   ]
  },
  {
   "cell_type": "code",
   "execution_count": null,
   "metadata": {},
   "outputs": [],
   "source": [
    "# Odgovor\n",
    "\n",
    "\n"
   ]
  },
  {
   "cell_type": "code",
   "execution_count": null,
   "metadata": {},
   "outputs": [],
   "source": [
    "# Rešitev\n",
    "df = df[pd.notnull(df['Starost_vozinka'])].copy()"
   ]
  },
  {
   "cell_type": "markdown",
   "metadata": {},
   "source": [
    "---"
   ]
  },
  {
   "cell_type": "markdown",
   "metadata": {},
   "source": [
    "`2 pts`"
   ]
  },
  {
   "cell_type": "markdown",
   "metadata": {},
   "source": [
    "Vse manjkajoče vrednosti v stolpcu `Stevilo_sedezev` nadomesti z številom `0`.\n",
    "\n",
    "Delo nadaljuj z novimi podatki."
   ]
  },
  {
   "cell_type": "code",
   "execution_count": null,
   "metadata": {},
   "outputs": [],
   "source": [
    "# Odgovor\n",
    "\n",
    "\n"
   ]
  },
  {
   "cell_type": "code",
   "execution_count": null,
   "metadata": {},
   "outputs": [],
   "source": [
    "# Rešitev\n",
    "df.loc[:,'Stevilo_sedezev'] = df.loc[:,'Stevilo_sedezev'].fillna(0)"
   ]
  },
  {
   "cell_type": "markdown",
   "metadata": {},
   "source": [
    "#### 1.3.4) Iskanje podvojenih vrstic v podatkih"
   ]
  },
  {
   "cell_type": "markdown",
   "metadata": {},
   "source": [
    "Poišči število podvojenih vrstic v naših podatkih.\n",
    "\n",
    "`1 pts`"
   ]
  },
  {
   "cell_type": "code",
   "execution_count": null,
   "metadata": {},
   "outputs": [],
   "source": [
    "# Odgovor\n",
    "\n",
    "\n"
   ]
  },
  {
   "cell_type": "code",
   "execution_count": null,
   "metadata": {},
   "outputs": [],
   "source": [
    "# Rešitev\n",
    "df.duplicated().sum()"
   ]
  },
  {
   "cell_type": "markdown",
   "metadata": {},
   "source": [
    "---"
   ]
  },
  {
   "cell_type": "markdown",
   "metadata": {},
   "source": [
    "`1 pts`"
   ]
  },
  {
   "cell_type": "markdown",
   "metadata": {},
   "source": [
    "Odstrani vse podvojene vrstice iz naših podatkov."
   ]
  },
  {
   "cell_type": "code",
   "execution_count": null,
   "metadata": {},
   "outputs": [],
   "source": [
    "# Odgovor\n",
    "\n"
   ]
  },
  {
   "cell_type": "code",
   "execution_count": null,
   "metadata": {},
   "outputs": [],
   "source": [
    "# Rešitev\n",
    "df.drop_duplicates(inplace=True)"
   ]
  },
  {
   "cell_type": "markdown",
   "metadata": {},
   "source": [
    "#### 1.3.5) Transformiranje podatkov"
   ]
  },
  {
   "cell_type": "markdown",
   "metadata": {},
   "source": [
    "Stolpec `Upravna_enota_sifra` vsebuje šifre upravnih enot. Spodaj je podan slovar, ki preslika šifro upravne enote v njeno ime. Dodajte stolpec `Upravna_enota` v katerem so preslikana imena upravnih enot.\n",
    "\n",
    "Nadaljujte delo z novimi podatki.\n",
    "\n",
    "Namig: Uporabite pandas metodo .map()\n",
    "\n",
    "`2 pts`"
   ]
  },
  {
   "cell_type": "code",
   "execution_count": null,
   "metadata": {},
   "outputs": [],
   "source": [
    "sifra_to_ime = {0: \"Neznana\",\n",
    "              1: \"AJDOVŠČINA\",\n",
    "              2: \"BREŽICE\",\n",
    "              3: \"CELJE\",\n",
    "              4: \"CERKNICA\",\n",
    "              5: \"ČRNOMELJ\",\n",
    "              6: \"DOMŽALE\",\n",
    "              7: \"DRAVOGRAD\",\n",
    "              8: \"GORNJA RADGONA\",\n",
    "              9: \"GROSUPLJE\",\n",
    "              10: \"HRASTNIK\",\n",
    "              11: \"IDRIJA\",\n",
    "              12: \"ILIRSKA BISTRICA\",\n",
    "              13: \"IZOLA\",\n",
    "              14: \"JESENICE\",\n",
    "              15: \"KAMNIK\",\n",
    "              16: \"KOČEVJE\",\n",
    "              17: \"KOPER\",\n",
    "              18: \"KRANJ\",\n",
    "              19: \"KRŠKO\",\n",
    "              20: \"LAŠKO\",\n",
    "              21: \"LENART\",\n",
    "              22: \"LENDAVA\",\n",
    "              23: \"LITIJA\",\n",
    "              24: \"LJUBLJANA\",\n",
    "              29: \"LJUTOMER\",\n",
    "              30: \"LOGATEC\",\n",
    "              34: \"METLIKA\",\n",
    "              35: \"MOZIRJE\",\n",
    "              36: \"MURSKA SOBOTA\",\n",
    "              37: \"NOVA GORICA\",\n",
    "              38: \"NOVO MESTO\",\n",
    "              39: \"ORMOŽ\",\n",
    "              40: \"PIRAN\",\n",
    "              41: \"POSTOJNA\",\n",
    "              42: \"PTUJ\",\n",
    "              43: \"RADLJE OB DRAVI\",\n",
    "              44: \"RADOVLJICA\",\n",
    "              45: \"RAVNE NA KOROŠKEM\",\n",
    "              46: \"RIBNICA\",\n",
    "              47: \"SEVNICA\",\n",
    "              48: \"SEŽANA\",\n",
    "              49: \"SLOVENJ GRADEC\",\n",
    "              50: \"SLOVENSKA BISTRICA\",\n",
    "              51: \"SLOVENSKE KONJICE\",\n",
    "              52: \"ŠENTJUR PRI CELJU\",\n",
    "              53: \"ŠKOFJA LOKA\",\n",
    "              54: \"ŠMARJE PRI JELŠAH\",\n",
    "              55: \"TOLMIN\",\n",
    "              56: \"TRBOVLJE\",\n",
    "              57: \"TREBNJE\",\n",
    "              58: \"TRŽIČ\",\n",
    "              59: \"VELENJE\",\n",
    "              60: \"VRHNIKA\",\n",
    "              61: \"ZAGORJE OB SAVI\",\n",
    "              62: \"ŽALEC\",\n",
    "              64: \"MARIBOR\",\n",
    "              65: \"PESNICA\",\n",
    "              68: \"RUŠE\"}"
   ]
  },
  {
   "cell_type": "code",
   "execution_count": null,
   "metadata": {},
   "outputs": [],
   "source": [
    "# Odgovor\n",
    "\n",
    "\n"
   ]
  },
  {
   "cell_type": "code",
   "execution_count": null,
   "metadata": {},
   "outputs": [],
   "source": [
    "# Rešitev\n",
    "df['Upravna_enota'] = df['Upravna_enota_sifra'].map(sifra_to_ime)"
   ]
  },
  {
   "cell_type": "markdown",
   "metadata": {},
   "source": [
    "#### 1.3.6) Sprememba podatkovnih tipov"
   ]
  },
  {
   "cell_type": "markdown",
   "metadata": {},
   "source": [
    "Pretvori stolpec `Prva_registracija` v podatkovni tip `datetime64[ns]`.\n",
    "\n",
    "\n",
    "Nadaljujte delo z novimi podatki.\n",
    "\n",
    "`2 pts`"
   ]
  },
  {
   "cell_type": "code",
   "execution_count": null,
   "metadata": {},
   "outputs": [],
   "source": [
    "# Odgovor\n",
    "\n"
   ]
  },
  {
   "cell_type": "code",
   "execution_count": null,
   "metadata": {},
   "outputs": [],
   "source": [
    "# Rešitev\n",
    "df.loc[:,'Prva_registracija'] = pd.to_datetime(df.loc[:, 'Prva_registracija'])"
   ]
  },
  {
   "cell_type": "markdown",
   "metadata": {},
   "source": [
    "---"
   ]
  },
  {
   "cell_type": "markdown",
   "metadata": {},
   "source": [
    "Pretvori naslednje stolpce v naslednje podatkovne tipe:\n",
    "- `Starost_vozinka` -> `int64`\n",
    "- `Masa_vozila` -> `float64` (pozor na decimalno vejico namesto decimalne pike)\n",
    "- `Moc` -> `float64` (pozor na decimalno vejico namesto decimalne pike)\n",
    "- `Stevilo_sedezev` -> `int64`\n",
    "\n",
    "Na koncu želimo imeti podatke takšne oblike: \n",
    "```\n",
    "Prva_registracija      8298 non-null datetime64[ns]\n",
    "Tablica_kraj           8298 non-null object\n",
    "Starost_vozinka        8298 non-null int64\n",
    "Spol_voznika           8298 non-null object\n",
    "Upravna_enota_sifra    8298 non-null int64\n",
    "Znamka                 8298 non-null object\n",
    "Država_proizvodnje     8298 non-null object\n",
    "Masa_vozila            8298 non-null float64\n",
    "Kategorija_vozila      8298 non-null object\n",
    "Moc                    8298 non-null float64\n",
    "Gorivo                 8298 non-null object\n",
    "Stevilo_sedezev        8298 non-null int64\n",
    "Hitrost_max            8194 non-null float64\n",
    "Poraba_goriva          6812 non-null object\n",
    "Leto_izdelave          8298 non-null int64\n",
    "Upravna_enota          8298 non-null object\n",
    "```\n"
   ]
  },
  {
   "cell_type": "markdown",
   "metadata": {},
   "source": [
    "`4 pts`"
   ]
  },
  {
   "cell_type": "code",
   "execution_count": null,
   "metadata": {},
   "outputs": [],
   "source": [
    "# Odgovor\n",
    "\n"
   ]
  },
  {
   "cell_type": "code",
   "execution_count": null,
   "metadata": {},
   "outputs": [],
   "source": [
    "# Odgovor\n",
    "\n"
   ]
  },
  {
   "cell_type": "code",
   "execution_count": null,
   "metadata": {},
   "outputs": [],
   "source": [
    "# Odgovor\n",
    "\n"
   ]
  },
  {
   "cell_type": "code",
   "execution_count": null,
   "metadata": {},
   "outputs": [],
   "source": [
    "# Odgovor\n",
    "\n"
   ]
  },
  {
   "cell_type": "code",
   "execution_count": null,
   "metadata": {},
   "outputs": [],
   "source": [
    "# Rešitev\n",
    "df.loc[:, 'Starost_vozinka'] = df['Starost_vozinka'].astype('int64')"
   ]
  },
  {
   "cell_type": "code",
   "execution_count": null,
   "metadata": {},
   "outputs": [],
   "source": [
    "df.loc[:, 'Masa_vozila'] = df['Masa_vozila'].apply(lambda val: float(val.replace(',', '.')))"
   ]
  },
  {
   "cell_type": "code",
   "execution_count": null,
   "metadata": {},
   "outputs": [],
   "source": [
    "df.loc[:, 'Moc'] = df['Moc'].apply(lambda val: float(val.replace(',', '.')))"
   ]
  },
  {
   "cell_type": "code",
   "execution_count": null,
   "metadata": {},
   "outputs": [],
   "source": [
    "df.loc[:, 'Stevilo_sedezev'] = df['Stevilo_sedezev'].astype('int64')"
   ]
  },
  {
   "cell_type": "markdown",
   "metadata": {},
   "source": [
    "#### 1.3.7) Sprememba vrednsoti v določenih celicah"
   ]
  },
  {
   "cell_type": "markdown",
   "metadata": {},
   "source": [
    "- V stolpcu `Tablica_kraj` imamo vrednost `KR?KO`. Kot zgleda podatek ni bil pravilno vnešen. Spremenite vse vrednosti `KR?KO` v `KRSKO`.\n",
    "\n",
    "- V stolpcu `Znamka` imamo vrednost `?KODA`. Kot zgleda podatek ni bil pravilno vnešen. Spremenite vse vrednosti `?KODA` v `SKODA`.\n",
    "\n",
    "`2 pts`"
   ]
  },
  {
   "cell_type": "code",
   "execution_count": null,
   "metadata": {},
   "outputs": [],
   "source": [
    "# Odgovor\n",
    "\n",
    "\n"
   ]
  },
  {
   "cell_type": "code",
   "execution_count": null,
   "metadata": {},
   "outputs": [],
   "source": [
    "# Rešitev\n",
    "df.loc[df['Tablica_kraj'] == 'KR?KO', 'Tablica_kraj'] = 'KRSKO'\n",
    "df.loc[df['Znamka'] == '?KODA', 'Znamka'] = 'SKODA'"
   ]
  },
  {
   "cell_type": "markdown",
   "metadata": {},
   "source": [
    "### 1.4) Izvoz urejenih podatkov"
   ]
  },
  {
   "cell_type": "markdown",
   "metadata": {},
   "source": [
    "Pripravljene in urejene podatke izvozite v novo csv datoteko z imenom `DATA_vozila_CLEAN`. Za pot lahko uporabite pripravljano spremenljivko `path`. Za separator uporabite `,`. Indexa **ne** izvozite s podatki.\n",
    "\n",
    "`1 pts`"
   ]
  },
  {
   "cell_type": "code",
   "execution_count": null,
   "metadata": {},
   "outputs": [],
   "source": [
    "path = 'data/DATA_vozila_CLEAN.csv'"
   ]
  },
  {
   "cell_type": "code",
   "execution_count": null,
   "metadata": {},
   "outputs": [],
   "source": [
    "# Odgovor\n",
    "\n",
    "\n"
   ]
  },
  {
   "cell_type": "code",
   "execution_count": null,
   "metadata": {},
   "outputs": [],
   "source": [
    "# Rešitev\n",
    "df.to_csv(path, sep=',', index=False)"
   ]
  },
  {
   "cell_type": "markdown",
   "metadata": {},
   "source": [
    "## DEL 2 - Analiza (40 pts)"
   ]
  },
  {
   "cell_type": "markdown",
   "metadata": {},
   "source": [
    "V tem delu sledi analiza urejenih podatkov."
   ]
  },
  {
   "cell_type": "markdown",
   "metadata": {},
   "source": [
    "V primeru, da vam ni uspelo urediti podatkov v prejšnjem delu, si jih lahko naložite v pomočjo spodnje celice."
   ]
  },
  {
   "cell_type": "code",
   "execution_count": null,
   "metadata": {},
   "outputs": [],
   "source": [
    "# Naložimo urejene podatke\n",
    "df = pd.read_csv('data/DATA_vozila_CLEAN.csv')"
   ]
  },
  {
   "cell_type": "code",
   "execution_count": null,
   "metadata": {
    "scrolled": true
   },
   "outputs": [],
   "source": [
    "df.head()"
   ]
  },
  {
   "cell_type": "markdown",
   "metadata": {},
   "source": [
    "Prikažite glavne statistične lastnosti za numerične stolpce z uporabo ene metode.\n",
    "\n",
    "`1 pts`"
   ]
  },
  {
   "cell_type": "code",
   "execution_count": null,
   "metadata": {},
   "outputs": [],
   "source": [
    "# Odgovor\n",
    "\n"
   ]
  },
  {
   "cell_type": "code",
   "execution_count": null,
   "metadata": {},
   "outputs": [],
   "source": [
    "# Rešitev\n",
    "df.describe()"
   ]
  },
  {
   "cell_type": "markdown",
   "metadata": {},
   "source": [
    "### 2.1) Analiza - Znamke vozil `6 pts`"
   ]
  },
  {
   "cell_type": "markdown",
   "metadata": {},
   "source": [
    "Analizirajte stolpec `Znamka`.\n",
    "\n",
    "Izpišite število registriranih števil po znamkah.\n",
    "\n",
    "`1 pts`"
   ]
  },
  {
   "cell_type": "code",
   "execution_count": null,
   "metadata": {},
   "outputs": [],
   "source": [
    "# Odgovor\n",
    "\n"
   ]
  },
  {
   "cell_type": "code",
   "execution_count": null,
   "metadata": {},
   "outputs": [],
   "source": [
    "# Rešitev\n",
    "df['Znamka'].value_counts()"
   ]
  },
  {
   "cell_type": "markdown",
   "metadata": {},
   "source": [
    "Prvih 10 vrednosti (10 najbolj pogostih znamk in število registaciiji) zgornjega izračuna shranite v spremenljivko `znamke_top_10`.\n",
    "\n",
    "`2 pts`"
   ]
  },
  {
   "cell_type": "code",
   "execution_count": null,
   "metadata": {},
   "outputs": [],
   "source": [
    "# Odgovor\n",
    "\n"
   ]
  },
  {
   "cell_type": "code",
   "execution_count": null,
   "metadata": {},
   "outputs": [],
   "source": [
    "# Rešitev\n",
    "znamke_top_10 = df['Znamka'].value_counts().head(10)"
   ]
  },
  {
   "cell_type": "markdown",
   "metadata": {},
   "source": [
    "Izrišite graf števil registraciji v odvisnosti od znamk (za `znamke_top_10` Series). \n",
    "\n",
    "Uporabite funkcijo plot v knjižnjici pandas. Graf naj bo tipa `bar` z naslovom `Pogostost znamk vozil`\n",
    "\n",
    "`3 pts`"
   ]
  },
  {
   "cell_type": "code",
   "execution_count": null,
   "metadata": {},
   "outputs": [],
   "source": [
    "# Odgovor\n",
    "\n"
   ]
  },
  {
   "cell_type": "code",
   "execution_count": null,
   "metadata": {},
   "outputs": [],
   "source": [
    "# Rešitev\n",
    "znamke_top_10.plot(kind='bar', title='Pogostost znamk vozil')"
   ]
  },
  {
   "cell_type": "markdown",
   "metadata": {},
   "source": [
    "### 2.2) Analiza - Maksimalna hitrost vozila v primerjavi s spoloma `4 pts`"
   ]
  },
  {
   "cell_type": "markdown",
   "metadata": {},
   "source": [
    "Izdelejte nov dataframe z imenom `df_osebna_spol`, v katerem shranite samo vrstice, ki predstavljajo osebna vozila (stolpec `Kategorija_vozila` -> vrednost `osebni avtomobil`).\n",
    "\n",
    "`1 pts`"
   ]
  },
  {
   "cell_type": "code",
   "execution_count": null,
   "metadata": {},
   "outputs": [],
   "source": [
    "# Odgovor\n",
    "\n"
   ]
  },
  {
   "cell_type": "code",
   "execution_count": null,
   "metadata": {},
   "outputs": [],
   "source": [
    "# Rešitev\n",
    "df_osebna_spol = df[(df['Kategorija_vozila'] == 'osebni avtomobil')]"
   ]
  },
  {
   "cell_type": "markdown",
   "metadata": {},
   "source": [
    "V `df_osebna_spol` shranite samo stolpca `Spol_voznika` in `Hitrost_max`. z uporabo `loc metode`.\n",
    "\n",
    "`1 pts`"
   ]
  },
  {
   "cell_type": "code",
   "execution_count": null,
   "metadata": {},
   "outputs": [],
   "source": [
    "# Odgovor\n",
    "\n"
   ]
  },
  {
   "cell_type": "code",
   "execution_count": null,
   "metadata": {},
   "outputs": [],
   "source": [
    "# Rešitev\n",
    "df_osebna_spol = df_osebna_spol.loc[:,['Spol_voznika','Hitrost_max']]"
   ]
  },
  {
   "cell_type": "markdown",
   "metadata": {},
   "source": [
    "Izračunajte povprečno vrednost stolpca `Hitrost_max` za vsakega izmed spolov.\n",
    "\n",
    "`2 pts`"
   ]
  },
  {
   "cell_type": "code",
   "execution_count": null,
   "metadata": {},
   "outputs": [],
   "source": [
    "# Odgovor\n",
    "\n"
   ]
  },
  {
   "cell_type": "code",
   "execution_count": null,
   "metadata": {},
   "outputs": [],
   "source": [
    "# Rešitev\n",
    "df_osebna_spol.groupby('Spol_voznika').mean()"
   ]
  },
  {
   "cell_type": "markdown",
   "metadata": {},
   "source": [
    "### 2.3) Analiza - Primerjava moči vozil po regijah `6 pts`"
   ]
  },
  {
   "cell_type": "markdown",
   "metadata": {},
   "source": [
    "Izdelejte nov dataframe z imenom `df_osebna_2000_naprej`, v katerem shranite samo vrstice, ki predstavljajo osebna vozila (stolpec `Kategorija_vozila` -> vrednost `osebni avtomobil`), ki so bila izdelana po letu 2000 (vključno z letom 2000, stolpec `Leto_izdelave` >= 2000).\n",
    "\n",
    "`2 pts`"
   ]
  },
  {
   "cell_type": "code",
   "execution_count": null,
   "metadata": {},
   "outputs": [],
   "source": [
    "# Odgovor\n",
    "\n",
    "\n"
   ]
  },
  {
   "cell_type": "code",
   "execution_count": null,
   "metadata": {},
   "outputs": [],
   "source": [
    "# Rešitev\n",
    "df_osebna_2000_naprej = df[(df['Kategorija_vozila'] == 'osebni avtomobil') & (df['Leto_izdelave'] >= 2000)]"
   ]
  },
  {
   "cell_type": "markdown",
   "metadata": {},
   "source": [
    "Dobljen dataframe grupirajte po stolpcu `Tablica_kraj` in izračunjte povprečno vrednost za stolpec `Moc`. Dobljen Series poimenujte `moc_povprecna`.\n",
    "\n",
    "`2 pts`"
   ]
  },
  {
   "cell_type": "code",
   "execution_count": null,
   "metadata": {},
   "outputs": [],
   "source": [
    "# Odgovor\n",
    "\n",
    "\n"
   ]
  },
  {
   "cell_type": "code",
   "execution_count": null,
   "metadata": {},
   "outputs": [],
   "source": [
    "# Rešitev\n",
    "moc_povprecna = df_osebna_2000_naprej.groupby([\"Tablica_kraj\"])[\"Moc\"].mean()"
   ]
  },
  {
   "cell_type": "markdown",
   "metadata": {},
   "source": [
    "V grafu prikažite `moc_povprecna` za vsako regijo. Uporabite graf tipa `bar`.\n",
    "\n",
    "`2 pts`"
   ]
  },
  {
   "cell_type": "code",
   "execution_count": null,
   "metadata": {},
   "outputs": [],
   "source": [
    "# Odgovor\n",
    "\n",
    "\n"
   ]
  },
  {
   "cell_type": "code",
   "execution_count": null,
   "metadata": {},
   "outputs": [],
   "source": [
    "# Rešitev\n",
    "moc_povprecna.plot(kind=\"bar\")"
   ]
  },
  {
   "cell_type": "markdown",
   "metadata": {},
   "source": [
    "### 2.4) Analiza - Primerjava dizel/bencin za osebna vozila po letu izdelave `17 pts`"
   ]
  },
  {
   "cell_type": "markdown",
   "metadata": {},
   "source": [
    "Izdelejte nov dataframe z imenom `df_osebna_2009_naprej`, v katerem shranite samo vrstice, ki predstavljajo osebna vozila (stolpec `Kategorija_vozila` -> vrednost `osebni avtomobil`), ki so bila izdelana po letu 2009 (vključno z letom 2009, stolpec `Leto_izdelave` >= 2009).\n",
    "\n",
    "`2 pts`"
   ]
  },
  {
   "cell_type": "code",
   "execution_count": null,
   "metadata": {},
   "outputs": [],
   "source": [
    "# Odgovor\n",
    "\n"
   ]
  },
  {
   "cell_type": "code",
   "execution_count": null,
   "metadata": {},
   "outputs": [],
   "source": [
    "# Rešitev\n",
    "df_osebna_2009_naprej = df[(df['Kategorija_vozila'] == 'osebni avtomobil') & (df['Leto_izdelave'] >= 2009)]"
   ]
  },
  {
   "cell_type": "markdown",
   "metadata": {},
   "source": [
    "Iz stolpca `Gorivo` izberite samo vnose, ki imajo vrednost `Bencin` ali `Dizel` in jih shranite v `df_osebna_2009_naprej`.\n",
    "\n",
    "Namig: metoda `pandas.DataFrame.isin`\n",
    "\n",
    "`2 pts`"
   ]
  },
  {
   "cell_type": "code",
   "execution_count": null,
   "metadata": {},
   "outputs": [],
   "source": [
    "# Odgovor\n",
    "\n"
   ]
  },
  {
   "cell_type": "code",
   "execution_count": null,
   "metadata": {},
   "outputs": [],
   "source": [
    "# Rešitev\n",
    "df_osebna_2009_naprej = df_osebna_2009_naprej[df_osebna_2009_naprej['Gorivo'].isin(['Bencin', 'Dizel'])]"
   ]
  },
  {
   "cell_type": "markdown",
   "metadata": {},
   "source": [
    "Podatke grupirajte glede na `Leto_izdelave` in `Gorivo`.  Pridobite število vrednosti za posamezno kategorijo in podatke preoblikujte nazaj v tabelo (npr. s pomočjo metode `unstack()`).\n",
    "\n",
    "Dobljen dataframe shranite v spremenljivko `count_gorivo`.\n",
    "\n",
    "Želen rezultat:\n",
    "\n",
    "<img width=200 src=\"./data/table_1.PNG\">\n",
    "\n",
    "`3 pts`"
   ]
  },
  {
   "cell_type": "code",
   "execution_count": null,
   "metadata": {},
   "outputs": [],
   "source": [
    "# Odgovor\n",
    "\n"
   ]
  },
  {
   "cell_type": "code",
   "execution_count": null,
   "metadata": {},
   "outputs": [],
   "source": [
    "# Rešitev\n",
    "count_gorivo = df_osebna_2009_naprej.groupby(['Leto_izdelave', 'Gorivo']).size().unstack()"
   ]
  },
  {
   "cell_type": "markdown",
   "metadata": {},
   "source": [
    "Preoblikujte dobljene podatke (`count_gorivo`) v obliko primerno za izrisovanje grafa tipa bar. "
   ]
  },
  {
   "cell_type": "markdown",
   "metadata": {},
   "source": [
    "Prvi korak: Preoblikujte podatke s pomočjo stack metode.\n",
    "\n",
    "`1 pts`"
   ]
  },
  {
   "cell_type": "code",
   "execution_count": null,
   "metadata": {},
   "outputs": [],
   "source": [
    "# Odgovor\n"
   ]
  },
  {
   "cell_type": "code",
   "execution_count": null,
   "metadata": {},
   "outputs": [],
   "source": [
    "# Rešitev\n",
    "count_gorivo = count_gorivo.stack()"
   ]
  },
  {
   "cell_type": "markdown",
   "metadata": {},
   "source": [
    "Drugi korak: Dobljenemu Series objektu dodelite ime `total` s pomočjo name metode.\n",
    "\n",
    "`1 pts`"
   ]
  },
  {
   "cell_type": "code",
   "execution_count": null,
   "metadata": {},
   "outputs": [],
   "source": [
    "# Odgovor\n"
   ]
  },
  {
   "cell_type": "code",
   "execution_count": null,
   "metadata": {},
   "outputs": [],
   "source": [
    "# Rešitev\n",
    "count_gorivo.name = 'total'"
   ]
  },
  {
   "cell_type": "markdown",
   "metadata": {},
   "source": [
    "Tretji korak: Restirajte indexe dobljenemu objektu.\n",
    "    \n",
    "`1 pts`"
   ]
  },
  {
   "cell_type": "code",
   "execution_count": null,
   "metadata": {},
   "outputs": [],
   "source": [
    "# Odgovor\n"
   ]
  },
  {
   "cell_type": "code",
   "execution_count": null,
   "metadata": {},
   "outputs": [],
   "source": [
    "# Rešitev\n",
    "count_gorivo = count_gorivo.reset_index()"
   ]
  },
  {
   "cell_type": "markdown",
   "metadata": {},
   "source": [
    "Pred izrisom podatkov, moramo podatke normalizirati. Možen postopek:\n",
    "- napišete lastno funkcijo, ki normalizira posamezno skupino podatkov\n",
    "- `count_gorivo` razvrstite glede na leto izdelave in nad vsako vrstico zaženete normalizacijsko funkcijo\n",
    "\n",
    "`4 pts`"
   ]
  },
  {
   "cell_type": "code",
   "execution_count": null,
   "metadata": {},
   "outputs": [],
   "source": [
    "# Odgovor\n",
    "\n",
    "\n",
    "\n",
    "\n",
    "\n",
    "\n",
    "\n",
    "\n"
   ]
  },
  {
   "cell_type": "code",
   "execution_count": null,
   "metadata": {},
   "outputs": [],
   "source": [
    "# Rešitev\n",
    "def norm_total(group):\n",
    "    group['normed_total'] = group['total'] / group['total'].sum()\n",
    "    return group\n",
    "\n",
    "results = count_gorivo.groupby('Leto_izdelave').apply(norm_total)"
   ]
  },
  {
   "cell_type": "markdown",
   "metadata": {},
   "source": [
    "Namig (možne so tudi druge rešitve):\n",
    "\n",
    "> S pomočjo funkcije `sns.barplot` izrišite graf za urejene podatke.\n",
    "- na osi x prikažite `Leto_izdelave`\n",
    "- na osi y prikažite `normed_total`\n",
    "- `hue` vrednost naj predstavlja `Gorivo`\n",
    "\n",
    "Želen graf:\n",
    "\n",
    "<img width=300 src=\"./data/slika6.PNG\">\n",
    "\n",
    "`3 pts`"
   ]
  },
  {
   "cell_type": "code",
   "execution_count": null,
   "metadata": {},
   "outputs": [],
   "source": [
    "# Odgovor\n",
    "\n",
    "\n",
    "\n"
   ]
  },
  {
   "cell_type": "code",
   "execution_count": null,
   "metadata": {},
   "outputs": [],
   "source": [
    "# Rešitev\n",
    "sns.barplot(y='normed_total', x='Leto_izdelave', hue='Gorivo', data=results)"
   ]
  },
  {
   "cell_type": "markdown",
   "metadata": {},
   "source": [
    "### 2.5) Analiza - Korelacija moč/maksimalna hitrost `6 pts`"
   ]
  },
  {
   "cell_type": "markdown",
   "metadata": {},
   "source": [
    "Izračunajte koorelacijsko matriko za numerične vrednsoti v naših podatkih.\n",
    "\n",
    "`1 pts`"
   ]
  },
  {
   "cell_type": "code",
   "execution_count": null,
   "metadata": {},
   "outputs": [],
   "source": [
    "# Odgovor\n",
    "\n"
   ]
  },
  {
   "cell_type": "code",
   "execution_count": null,
   "metadata": {},
   "outputs": [],
   "source": [
    "# Rešitev\n",
    "df_corr = df.corr()"
   ]
  },
  {
   "cell_type": "markdown",
   "metadata": {},
   "source": [
    "Katere dve spremenljivki sta najbolj povezani?\n",
    "\n",
    "`1 pts`"
   ]
  },
  {
   "cell_type": "code",
   "execution_count": null,
   "metadata": {},
   "outputs": [],
   "source": [
    "# Odgovor - ni potreben izračun\n"
   ]
  },
  {
   "cell_type": "markdown",
   "metadata": {},
   "source": [
    "S pomočjo `sns.lmplot` funkcije izrišite graf, ki prikazuje linearno regresijo med `Hitrost_max` in `Moc`.\n",
    "\n",
    "`2 pts`"
   ]
  },
  {
   "cell_type": "code",
   "execution_count": null,
   "metadata": {},
   "outputs": [],
   "source": [
    "# Odgovor\n",
    "\n"
   ]
  },
  {
   "cell_type": "code",
   "execution_count": null,
   "metadata": {},
   "outputs": [],
   "source": [
    "# Rešitev\n",
    "sns.lmplot(data=df, x='Hitrost_max', y='Moc')"
   ]
  },
  {
   "cell_type": "markdown",
   "metadata": {},
   "source": [
    "Izpišite vrstico, kjer je vrednost `Moc` maksimalna.\n",
    "\n",
    "`2 pts`"
   ]
  },
  {
   "cell_type": "code",
   "execution_count": null,
   "metadata": {},
   "outputs": [],
   "source": [
    "# Odgovor\n",
    "\n"
   ]
  },
  {
   "cell_type": "code",
   "execution_count": null,
   "metadata": {},
   "outputs": [],
   "source": [
    "# Rešitev\n",
    "df.iloc[df['Moc'].idxmax(), :]"
   ]
  },
  {
   "cell_type": "markdown",
   "metadata": {},
   "source": [
    "## Oddaja\n",
    "\n",
    "Rešeni notebook pošljite na naslednje e-mail naslove:\n",
    "- leon.stefanic@ltfe.org \n",
    "- gregor.balkovec@ltfe.org\n",
    "- anze.glusic@ltfe.org\n",
    "\n",
    "**POMEMBNO!** Pred pošiljanjem notebook preimenujte na naslednji način:\n",
    "\n",
    "`PYTHON_ANALITIKA_POSKUSNI_IZPIT_IME_PRIMEK`"
   ]
  }
 ],
 "metadata": {
  "kernelspec": {
   "display_name": "Python 3 (ipykernel)",
   "language": "python",
   "name": "python3"
  },
  "language_info": {
   "codemirror_mode": {
    "name": "ipython",
    "version": 3
   },
   "file_extension": ".py",
   "mimetype": "text/x-python",
   "name": "python",
   "nbconvert_exporter": "python",
   "pygments_lexer": "ipython3",
   "version": "3.9.4"
  }
 },
 "nbformat": 4,
 "nbformat_minor": 4
}
