{
 "cells": [
  {
   "cell_type": "code",
   "execution_count": 1,
   "metadata": {},
   "outputs": [],
   "source": [
    "import pandas as pd\n",
    "import numpy as np"
   ]
  },
  {
   "cell_type": "markdown",
   "metadata": {},
   "source": [
    "# Categorical Data"
   ]
  },
  {
   "cell_type": "markdown",
   "metadata": {},
   "source": [
    "## Background and Motivation"
   ]
  },
  {
   "cell_type": "code",
   "execution_count": 2,
   "metadata": {},
   "outputs": [],
   "source": [
    "values = pd.Series(['apple', 'orange', 'apple', 'apple'] * 2)"
   ]
  },
  {
   "cell_type": "code",
   "execution_count": 3,
   "metadata": {},
   "outputs": [
    {
     "data": {
      "text/plain": [
       "0     apple\n",
       "1    orange\n",
       "2     apple\n",
       "3     apple\n",
       "4     apple\n",
       "5    orange\n",
       "6     apple\n",
       "7     apple\n",
       "dtype: object"
      ]
     },
     "execution_count": 3,
     "metadata": {},
     "output_type": "execute_result"
    }
   ],
   "source": [
    "values"
   ]
  },
  {
   "cell_type": "code",
   "execution_count": 4,
   "metadata": {},
   "outputs": [
    {
     "data": {
      "text/plain": [
       "array(['apple', 'orange'], dtype=object)"
      ]
     },
     "execution_count": 4,
     "metadata": {},
     "output_type": "execute_result"
    }
   ],
   "source": [
    "values.unique()"
   ]
  },
  {
   "cell_type": "code",
   "execution_count": 5,
   "metadata": {},
   "outputs": [
    {
     "data": {
      "text/plain": [
       "apple     6\n",
       "orange    2\n",
       "dtype: int64"
      ]
     },
     "execution_count": 5,
     "metadata": {},
     "output_type": "execute_result"
    }
   ],
   "source": [
    "values.value_counts()"
   ]
  },
  {
   "cell_type": "code",
   "execution_count": 6,
   "metadata": {},
   "outputs": [],
   "source": [
    "values = pd.Series([0, 1, 0, 0] * 2)"
   ]
  },
  {
   "cell_type": "code",
   "execution_count": 10,
   "metadata": {},
   "outputs": [
    {
     "data": {
      "text/plain": [
       "0    0\n",
       "1    1\n",
       "2    0\n",
       "3    0\n",
       "4    0\n",
       "5    1\n",
       "6    0\n",
       "7    0\n",
       "dtype: int64"
      ]
     },
     "execution_count": 10,
     "metadata": {},
     "output_type": "execute_result"
    }
   ],
   "source": [
    "values"
   ]
  },
  {
   "cell_type": "code",
   "execution_count": 7,
   "metadata": {},
   "outputs": [],
   "source": [
    "dim = pd.Series(['apple', 'orange'])"
   ]
  },
  {
   "cell_type": "code",
   "execution_count": 9,
   "metadata": {
    "scrolled": true
   },
   "outputs": [
    {
     "data": {
      "text/plain": [
       "0     apple\n",
       "1    orange\n",
       "dtype: object"
      ]
     },
     "execution_count": 9,
     "metadata": {},
     "output_type": "execute_result"
    }
   ],
   "source": [
    "dim"
   ]
  },
  {
   "cell_type": "markdown",
   "metadata": {},
   "source": [
    "> [pandas.Series.take](https://pandas.pydata.org/pandas-docs/version/0.25/reference/api/pandas.Series.take.html)"
   ]
  },
  {
   "cell_type": "code",
   "execution_count": 11,
   "metadata": {},
   "outputs": [
    {
     "data": {
      "text/plain": [
       "0     apple\n",
       "1    orange\n",
       "0     apple\n",
       "0     apple\n",
       "0     apple\n",
       "1    orange\n",
       "0     apple\n",
       "0     apple\n",
       "dtype: object"
      ]
     },
     "execution_count": 11,
     "metadata": {},
     "output_type": "execute_result"
    }
   ],
   "source": [
    "dim.take(values)"
   ]
  },
  {
   "cell_type": "markdown",
   "metadata": {},
   "source": [
    "## Categorical Type in pandas"
   ]
  },
  {
   "cell_type": "code",
   "execution_count": 12,
   "metadata": {},
   "outputs": [],
   "source": [
    "fruits = ['apple', 'orange', 'apple', 'apple'] * 2"
   ]
  },
  {
   "cell_type": "code",
   "execution_count": 14,
   "metadata": {},
   "outputs": [
    {
     "data": {
      "text/plain": [
       "8"
      ]
     },
     "execution_count": 14,
     "metadata": {},
     "output_type": "execute_result"
    }
   ],
   "source": [
    "N = len(fruits)\n",
    "N"
   ]
  },
  {
   "cell_type": "code",
   "execution_count": 34,
   "metadata": {},
   "outputs": [],
   "source": [
    "df = pd.DataFrame({'fruit': fruits,\n",
    "    'basket_id': np.arange(N),\n",
    "    'count': np.random.randint(3, 15, size=N),\n",
    "    'weight': np.random.uniform(0, 4, size=N)},\n",
    "    columns=['basket_id', 'fruit', 'count', 'weight'])"
   ]
  },
  {
   "cell_type": "code",
   "execution_count": 35,
   "metadata": {},
   "outputs": [
    {
     "data": {
      "text/html": [
       "<div>\n",
       "<style scoped>\n",
       "    .dataframe tbody tr th:only-of-type {\n",
       "        vertical-align: middle;\n",
       "    }\n",
       "\n",
       "    .dataframe tbody tr th {\n",
       "        vertical-align: top;\n",
       "    }\n",
       "\n",
       "    .dataframe thead th {\n",
       "        text-align: right;\n",
       "    }\n",
       "</style>\n",
       "<table border=\"1\" class=\"dataframe\">\n",
       "  <thead>\n",
       "    <tr style=\"text-align: right;\">\n",
       "      <th></th>\n",
       "      <th>basket_id</th>\n",
       "      <th>fruit</th>\n",
       "      <th>count</th>\n",
       "      <th>weight</th>\n",
       "    </tr>\n",
       "  </thead>\n",
       "  <tbody>\n",
       "    <tr>\n",
       "      <th>0</th>\n",
       "      <td>0</td>\n",
       "      <td>apple</td>\n",
       "      <td>13</td>\n",
       "      <td>3.497052</td>\n",
       "    </tr>\n",
       "    <tr>\n",
       "      <th>1</th>\n",
       "      <td>1</td>\n",
       "      <td>orange</td>\n",
       "      <td>10</td>\n",
       "      <td>0.518632</td>\n",
       "    </tr>\n",
       "    <tr>\n",
       "      <th>2</th>\n",
       "      <td>2</td>\n",
       "      <td>apple</td>\n",
       "      <td>4</td>\n",
       "      <td>1.954672</td>\n",
       "    </tr>\n",
       "    <tr>\n",
       "      <th>3</th>\n",
       "      <td>3</td>\n",
       "      <td>apple</td>\n",
       "      <td>10</td>\n",
       "      <td>2.214954</td>\n",
       "    </tr>\n",
       "    <tr>\n",
       "      <th>4</th>\n",
       "      <td>4</td>\n",
       "      <td>apple</td>\n",
       "      <td>3</td>\n",
       "      <td>2.240879</td>\n",
       "    </tr>\n",
       "    <tr>\n",
       "      <th>5</th>\n",
       "      <td>5</td>\n",
       "      <td>orange</td>\n",
       "      <td>10</td>\n",
       "      <td>3.436351</td>\n",
       "    </tr>\n",
       "    <tr>\n",
       "      <th>6</th>\n",
       "      <td>6</td>\n",
       "      <td>apple</td>\n",
       "      <td>5</td>\n",
       "      <td>0.839761</td>\n",
       "    </tr>\n",
       "    <tr>\n",
       "      <th>7</th>\n",
       "      <td>7</td>\n",
       "      <td>apple</td>\n",
       "      <td>7</td>\n",
       "      <td>3.731763</td>\n",
       "    </tr>\n",
       "  </tbody>\n",
       "</table>\n",
       "</div>"
      ],
      "text/plain": [
       "   basket_id   fruit  count    weight\n",
       "0          0   apple     13  3.497052\n",
       "1          1  orange     10  0.518632\n",
       "2          2   apple      4  1.954672\n",
       "3          3   apple     10  2.214954\n",
       "4          4   apple      3  2.240879\n",
       "5          5  orange     10  3.436351\n",
       "6          6   apple      5  0.839761\n",
       "7          7   apple      7  3.731763"
      ]
     },
     "execution_count": 35,
     "metadata": {},
     "output_type": "execute_result"
    }
   ],
   "source": [
    "df"
   ]
  },
  {
   "cell_type": "code",
   "execution_count": 36,
   "metadata": {},
   "outputs": [
    {
     "data": {
      "text/plain": [
       "str"
      ]
     },
     "execution_count": 36,
     "metadata": {},
     "output_type": "execute_result"
    }
   ],
   "source": [
    "type(df[\"fruit\"].iloc[0])"
   ]
  },
  {
   "cell_type": "code",
   "execution_count": 37,
   "metadata": {},
   "outputs": [
    {
     "data": {
      "text/plain": [
       "0     apple\n",
       "1    orange\n",
       "2     apple\n",
       "3     apple\n",
       "4     apple\n",
       "5    orange\n",
       "6     apple\n",
       "7     apple\n",
       "Name: fruit, dtype: object"
      ]
     },
     "execution_count": 37,
     "metadata": {},
     "output_type": "execute_result"
    }
   ],
   "source": [
    "df[\"fruit\"]"
   ]
  },
  {
   "cell_type": "code",
   "execution_count": 38,
   "metadata": {},
   "outputs": [],
   "source": [
    "fruit_cat = df[\"fruit\"].astype(\"category\")"
   ]
  },
  {
   "cell_type": "code",
   "execution_count": 39,
   "metadata": {},
   "outputs": [
    {
     "data": {
      "text/plain": [
       "0     apple\n",
       "1    orange\n",
       "2     apple\n",
       "3     apple\n",
       "4     apple\n",
       "5    orange\n",
       "6     apple\n",
       "7     apple\n",
       "Name: fruit, dtype: category\n",
       "Categories (2, object): ['apple', 'orange']"
      ]
     },
     "execution_count": 39,
     "metadata": {},
     "output_type": "execute_result"
    }
   ],
   "source": [
    "fruit_cat"
   ]
  },
  {
   "cell_type": "code",
   "execution_count": 40,
   "metadata": {},
   "outputs": [],
   "source": [
    "c = fruit_cat.values"
   ]
  },
  {
   "cell_type": "code",
   "execution_count": 41,
   "metadata": {},
   "outputs": [
    {
     "name": "stdout",
     "output_type": "stream",
     "text": [
      "['apple', 'orange', 'apple', 'apple', 'apple', 'orange', 'apple', 'apple']\n",
      "Categories (2, object): ['apple', 'orange']\n"
     ]
    }
   ],
   "source": [
    "print(c)"
   ]
  },
  {
   "cell_type": "code",
   "execution_count": 42,
   "metadata": {},
   "outputs": [
    {
     "data": {
      "text/plain": [
       "Index(['apple', 'orange'], dtype='object')"
      ]
     },
     "execution_count": 42,
     "metadata": {},
     "output_type": "execute_result"
    }
   ],
   "source": [
    "c.categories"
   ]
  },
  {
   "cell_type": "code",
   "execution_count": 43,
   "metadata": {},
   "outputs": [
    {
     "data": {
      "text/plain": [
       "array([0, 1, 0, 0, 0, 1, 0, 0], dtype=int8)"
      ]
     },
     "execution_count": 43,
     "metadata": {},
     "output_type": "execute_result"
    }
   ],
   "source": [
    "c.codes"
   ]
  },
  {
   "cell_type": "markdown",
   "metadata": {},
   "source": [
    "> Notice that the dtype is NumPy’s int8, an 8-bit signed integer that can take on values from -127 to 128. (Only a single byte is needed to represent a value in memory. 64-bit signed ints would be overkill in terms of memory usage.) Our rough-hewn example resulted in int64 data by default, whereas Pandas is smart enough to downcast categorical data to the smallest numerical dtype possible."
   ]
  },
  {
   "cell_type": "code",
   "execution_count": 44,
   "metadata": {},
   "outputs": [
    {
     "data": {
      "text/html": [
       "<div>\n",
       "<style scoped>\n",
       "    .dataframe tbody tr th:only-of-type {\n",
       "        vertical-align: middle;\n",
       "    }\n",
       "\n",
       "    .dataframe tbody tr th {\n",
       "        vertical-align: top;\n",
       "    }\n",
       "\n",
       "    .dataframe thead th {\n",
       "        text-align: right;\n",
       "    }\n",
       "</style>\n",
       "<table border=\"1\" class=\"dataframe\">\n",
       "  <thead>\n",
       "    <tr style=\"text-align: right;\">\n",
       "      <th></th>\n",
       "      <th>basket_id</th>\n",
       "      <th>fruit</th>\n",
       "      <th>count</th>\n",
       "      <th>weight</th>\n",
       "    </tr>\n",
       "  </thead>\n",
       "  <tbody>\n",
       "    <tr>\n",
       "      <th>0</th>\n",
       "      <td>0</td>\n",
       "      <td>apple</td>\n",
       "      <td>13</td>\n",
       "      <td>3.497052</td>\n",
       "    </tr>\n",
       "    <tr>\n",
       "      <th>1</th>\n",
       "      <td>1</td>\n",
       "      <td>orange</td>\n",
       "      <td>10</td>\n",
       "      <td>0.518632</td>\n",
       "    </tr>\n",
       "    <tr>\n",
       "      <th>2</th>\n",
       "      <td>2</td>\n",
       "      <td>apple</td>\n",
       "      <td>4</td>\n",
       "      <td>1.954672</td>\n",
       "    </tr>\n",
       "    <tr>\n",
       "      <th>3</th>\n",
       "      <td>3</td>\n",
       "      <td>apple</td>\n",
       "      <td>10</td>\n",
       "      <td>2.214954</td>\n",
       "    </tr>\n",
       "    <tr>\n",
       "      <th>4</th>\n",
       "      <td>4</td>\n",
       "      <td>apple</td>\n",
       "      <td>3</td>\n",
       "      <td>2.240879</td>\n",
       "    </tr>\n",
       "    <tr>\n",
       "      <th>5</th>\n",
       "      <td>5</td>\n",
       "      <td>orange</td>\n",
       "      <td>10</td>\n",
       "      <td>3.436351</td>\n",
       "    </tr>\n",
       "    <tr>\n",
       "      <th>6</th>\n",
       "      <td>6</td>\n",
       "      <td>apple</td>\n",
       "      <td>5</td>\n",
       "      <td>0.839761</td>\n",
       "    </tr>\n",
       "    <tr>\n",
       "      <th>7</th>\n",
       "      <td>7</td>\n",
       "      <td>apple</td>\n",
       "      <td>7</td>\n",
       "      <td>3.731763</td>\n",
       "    </tr>\n",
       "  </tbody>\n",
       "</table>\n",
       "</div>"
      ],
      "text/plain": [
       "   basket_id   fruit  count    weight\n",
       "0          0   apple     13  3.497052\n",
       "1          1  orange     10  0.518632\n",
       "2          2   apple      4  1.954672\n",
       "3          3   apple     10  2.214954\n",
       "4          4   apple      3  2.240879\n",
       "5          5  orange     10  3.436351\n",
       "6          6   apple      5  0.839761\n",
       "7          7   apple      7  3.731763"
      ]
     },
     "execution_count": 44,
     "metadata": {},
     "output_type": "execute_result"
    }
   ],
   "source": [
    "df"
   ]
  },
  {
   "cell_type": "code",
   "execution_count": 45,
   "metadata": {},
   "outputs": [
    {
     "name": "stdout",
     "output_type": "stream",
     "text": [
      "<class 'pandas.core.frame.DataFrame'>\n",
      "RangeIndex: 8 entries, 0 to 7\n",
      "Data columns (total 4 columns):\n",
      " #   Column     Non-Null Count  Dtype  \n",
      "---  ------     --------------  -----  \n",
      " 0   basket_id  8 non-null      int32  \n",
      " 1   fruit      8 non-null      object \n",
      " 2   count      8 non-null      int32  \n",
      " 3   weight     8 non-null      float64\n",
      "dtypes: float64(1), int32(2), object(1)\n",
      "memory usage: 320.0+ bytes\n"
     ]
    }
   ],
   "source": [
    "df.info()"
   ]
  },
  {
   "cell_type": "code",
   "execution_count": 30,
   "metadata": {},
   "outputs": [],
   "source": [
    "df[\"fruit\"] = df[\"fruit\"].astype(\"category\")"
   ]
  },
  {
   "cell_type": "code",
   "execution_count": 32,
   "metadata": {},
   "outputs": [
    {
     "data": {
      "text/plain": [
       "0     apple\n",
       "1    orange\n",
       "2     apple\n",
       "3     apple\n",
       "4     apple\n",
       "5    orange\n",
       "6     apple\n",
       "7     apple\n",
       "Name: fruit, dtype: category\n",
       "Categories (2, object): ['apple', 'orange']"
      ]
     },
     "execution_count": 32,
     "metadata": {},
     "output_type": "execute_result"
    }
   ],
   "source": [
    "df[\"fruit\"]"
   ]
  },
  {
   "cell_type": "code",
   "execution_count": 33,
   "metadata": {},
   "outputs": [
    {
     "name": "stdout",
     "output_type": "stream",
     "text": [
      "<class 'pandas.core.frame.DataFrame'>\n",
      "RangeIndex: 8 entries, 0 to 7\n",
      "Data columns (total 4 columns):\n",
      " #   Column     Non-Null Count  Dtype   \n",
      "---  ------     --------------  -----   \n",
      " 0   basket_id  8 non-null      int32   \n",
      " 1   fruit      8 non-null      category\n",
      " 2   count      8 non-null      int32   \n",
      " 3   weight     8 non-null      float64 \n",
      "dtypes: category(1), float64(1), int32(2)\n",
      "memory usage: 388.0 bytes\n"
     ]
    }
   ],
   "source": [
    "df.info()"
   ]
  },
  {
   "cell_type": "code",
   "execution_count": 47,
   "metadata": {},
   "outputs": [],
   "source": [
    "my_categories = pd.Categorical(['foo', 'bar', 'baz', 'foo', 'bar'])"
   ]
  },
  {
   "cell_type": "code",
   "execution_count": 48,
   "metadata": {},
   "outputs": [
    {
     "data": {
      "text/plain": [
       "['foo', 'bar', 'baz', 'foo', 'bar']\n",
       "Categories (3, object): ['bar', 'baz', 'foo']"
      ]
     },
     "execution_count": 48,
     "metadata": {},
     "output_type": "execute_result"
    }
   ],
   "source": [
    "my_categories"
   ]
  },
  {
   "cell_type": "code",
   "execution_count": 49,
   "metadata": {},
   "outputs": [
    {
     "data": {
      "text/plain": [
       "array([2, 0, 1, 2, 0], dtype=int8)"
      ]
     },
     "execution_count": 49,
     "metadata": {},
     "output_type": "execute_result"
    }
   ],
   "source": [
    "my_categories.codes"
   ]
  },
  {
   "cell_type": "markdown",
   "metadata": {},
   "source": [
    "## Better performance with categoricals"
   ]
  },
  {
   "cell_type": "code",
   "execution_count": 51,
   "metadata": {},
   "outputs": [],
   "source": [
    "N = 10000000\n",
    "draws = pd.Series(np.random.randn(N))\n",
    "labels = pd.Series(['foo', 'bar', 'baz', 'qux'] * (N // 4))"
   ]
  },
  {
   "cell_type": "code",
   "execution_count": 55,
   "metadata": {},
   "outputs": [
    {
     "data": {
      "text/plain": [
       "foo    2500000\n",
       "bar    2500000\n",
       "baz    2500000\n",
       "qux    2500000\n",
       "dtype: int64"
      ]
     },
     "execution_count": 55,
     "metadata": {},
     "output_type": "execute_result"
    }
   ],
   "source": [
    "labels.value_counts()"
   ]
  },
  {
   "cell_type": "code",
   "execution_count": 58,
   "metadata": {},
   "outputs": [
    {
     "data": {
      "text/plain": [
       "0    foo\n",
       "1    bar\n",
       "2    baz\n",
       "3    qux\n",
       "4    foo\n",
       "5    bar\n",
       "6    baz\n",
       "7    qux\n",
       "8    foo\n",
       "9    bar\n",
       "dtype: object"
      ]
     },
     "execution_count": 58,
     "metadata": {},
     "output_type": "execute_result"
    }
   ],
   "source": [
    "labels.head(10)"
   ]
  },
  {
   "cell_type": "code",
   "execution_count": 56,
   "metadata": {},
   "outputs": [],
   "source": [
    "categories = labels.astype(\"category\")"
   ]
  },
  {
   "cell_type": "code",
   "execution_count": null,
   "metadata": {},
   "outputs": [],
   "source": [
    "categories.head(10)"
   ]
  },
  {
   "cell_type": "code",
   "execution_count": 60,
   "metadata": {},
   "outputs": [
    {
     "data": {
      "text/plain": [
       "600000128"
      ]
     },
     "execution_count": 60,
     "metadata": {},
     "output_type": "execute_result"
    }
   ],
   "source": [
    "labels.memory_usage(deep=True)"
   ]
  },
  {
   "cell_type": "code",
   "execution_count": 61,
   "metadata": {},
   "outputs": [
    {
     "data": {
      "text/plain": [
       "10000540"
      ]
     },
     "execution_count": 61,
     "metadata": {},
     "output_type": "execute_result"
    }
   ],
   "source": [
    "categories.memory_usage(deep=True)"
   ]
  },
  {
   "cell_type": "code",
   "execution_count": 62,
   "metadata": {},
   "outputs": [
    {
     "data": {
      "text/plain": [
       "59.99677297425939"
      ]
     },
     "execution_count": 62,
     "metadata": {},
     "output_type": "execute_result"
    }
   ],
   "source": [
    "600000128/10000540"
   ]
  },
  {
   "cell_type": "code",
   "execution_count": 63,
   "metadata": {},
   "outputs": [
    {
     "name": "stdout",
     "output_type": "stream",
     "text": [
      "759 ms ± 51.4 ms per loop (mean ± std. dev. of 7 runs, 1 loop each)\n"
     ]
    }
   ],
   "source": [
    "%timeit _ = labels.astype(\"category\")"
   ]
  },
  {
   "cell_type": "code",
   "execution_count": null,
   "metadata": {},
   "outputs": [],
   "source": [
    "# GroupBy je dosti hitrejši"
   ]
  },
  {
   "cell_type": "markdown",
   "metadata": {},
   "source": [
    "## Categorical Methods"
   ]
  },
  {
   "cell_type": "code",
   "execution_count": 64,
   "metadata": {},
   "outputs": [],
   "source": [
    "s = pd.Series(['a', 'b', 'c', 'd'] * 2)"
   ]
  },
  {
   "cell_type": "code",
   "execution_count": 65,
   "metadata": {},
   "outputs": [],
   "source": [
    "cat_s = s.astype(\"category\")"
   ]
  },
  {
   "cell_type": "code",
   "execution_count": 66,
   "metadata": {},
   "outputs": [
    {
     "data": {
      "text/plain": [
       "0    a\n",
       "1    b\n",
       "2    c\n",
       "3    d\n",
       "4    a\n",
       "5    b\n",
       "6    c\n",
       "7    d\n",
       "dtype: category\n",
       "Categories (4, object): ['a', 'b', 'c', 'd']"
      ]
     },
     "execution_count": 66,
     "metadata": {},
     "output_type": "execute_result"
    }
   ],
   "source": [
    "cat_s"
   ]
  },
  {
   "cell_type": "code",
   "execution_count": 67,
   "metadata": {},
   "outputs": [
    {
     "data": {
      "text/plain": [
       "0    0\n",
       "1    1\n",
       "2    2\n",
       "3    3\n",
       "4    0\n",
       "5    1\n",
       "6    2\n",
       "7    3\n",
       "dtype: int8"
      ]
     },
     "execution_count": 67,
     "metadata": {},
     "output_type": "execute_result"
    }
   ],
   "source": [
    "cat_s.cat.codes"
   ]
  },
  {
   "cell_type": "code",
   "execution_count": 68,
   "metadata": {},
   "outputs": [
    {
     "data": {
      "text/plain": [
       "Index(['a', 'b', 'c', 'd'], dtype='object')"
      ]
     },
     "execution_count": 68,
     "metadata": {},
     "output_type": "execute_result"
    }
   ],
   "source": [
    "cat_s.cat.categories"
   ]
  },
  {
   "cell_type": "code",
   "execution_count": 69,
   "metadata": {},
   "outputs": [],
   "source": [
    "cat_s3 = cat_s[cat_s.isin([\"a\",\"b\"])]"
   ]
  },
  {
   "cell_type": "code",
   "execution_count": 70,
   "metadata": {},
   "outputs": [
    {
     "data": {
      "text/plain": [
       "0    a\n",
       "1    b\n",
       "4    a\n",
       "5    b\n",
       "dtype: category\n",
       "Categories (4, object): ['a', 'b', 'c', 'd']"
      ]
     },
     "execution_count": 70,
     "metadata": {},
     "output_type": "execute_result"
    }
   ],
   "source": [
    "cat_s3"
   ]
  },
  {
   "cell_type": "code",
   "execution_count": 71,
   "metadata": {},
   "outputs": [
    {
     "data": {
      "text/plain": [
       "0    a\n",
       "1    b\n",
       "4    a\n",
       "5    b\n",
       "dtype: category\n",
       "Categories (2, object): ['a', 'b']"
      ]
     },
     "execution_count": 71,
     "metadata": {},
     "output_type": "execute_result"
    }
   ],
   "source": [
    "cat_s3.cat.remove_unused_categories()"
   ]
  },
  {
   "cell_type": "code",
   "execution_count": 72,
   "metadata": {},
   "outputs": [],
   "source": [
    "colors = pd.Series(['periwinkle', 'mint green', 'burnt orange',\n",
    "                     'periwinkle', 'burnt orange', 'rose', \n",
    "                     'rose', 'mint green', 'rose', 'navy'])\n",
    "\n",
    "ccolors = colors.astype('category')"
   ]
  },
  {
   "cell_type": "code",
   "execution_count": 73,
   "metadata": {},
   "outputs": [
    {
     "data": {
      "text/plain": [
       "0      periwinkle\n",
       "1      mint green\n",
       "2    burnt orange\n",
       "3      periwinkle\n",
       "4    burnt orange\n",
       "5            rose\n",
       "6            rose\n",
       "7      mint green\n",
       "8            rose\n",
       "9            navy\n",
       "dtype: object"
      ]
     },
     "execution_count": 73,
     "metadata": {},
     "output_type": "execute_result"
    }
   ],
   "source": [
    "colors"
   ]
  },
  {
   "cell_type": "code",
   "execution_count": 74,
   "metadata": {},
   "outputs": [
    {
     "data": {
      "text/plain": [
       "0      periwinkle\n",
       "1      mint green\n",
       "2    burnt orange\n",
       "3      periwinkle\n",
       "4    burnt orange\n",
       "5            rose\n",
       "6            rose\n",
       "7      mint green\n",
       "8            rose\n",
       "9            navy\n",
       "dtype: category\n",
       "Categories (5, object): ['burnt orange', 'mint green', 'navy', 'periwinkle', 'rose']"
      ]
     },
     "execution_count": 74,
     "metadata": {},
     "output_type": "execute_result"
    }
   ],
   "source": [
    "ccolors"
   ]
  },
  {
   "cell_type": "code",
   "execution_count": 75,
   "metadata": {},
   "outputs": [
    {
     "name": "stdout",
     "output_type": "stream",
     "text": [
      "Cannot setitem on a Categorical with a new category, set the categories first\n"
     ]
    }
   ],
   "source": [
    "try:\n",
    "     ccolors.iloc[5] = 'a new color'\n",
    "except ValueError as e:\n",
    "    print(e)"
   ]
  },
  {
   "cell_type": "code",
   "execution_count": 76,
   "metadata": {},
   "outputs": [],
   "source": [
    "ccolors = ccolors.cat.add_categories([\"a new color\"])"
   ]
  },
  {
   "cell_type": "code",
   "execution_count": 78,
   "metadata": {},
   "outputs": [
    {
     "data": {
      "text/plain": [
       "0      periwinkle\n",
       "1      mint green\n",
       "2    burnt orange\n",
       "3      periwinkle\n",
       "4    burnt orange\n",
       "5            rose\n",
       "6            rose\n",
       "7      mint green\n",
       "8            rose\n",
       "9            navy\n",
       "dtype: category\n",
       "Categories (6, object): ['burnt orange', 'mint green', 'navy', 'periwinkle', 'rose', 'a new color']"
      ]
     },
     "execution_count": 78,
     "metadata": {},
     "output_type": "execute_result"
    }
   ],
   "source": [
    "ccolors"
   ]
  },
  {
   "cell_type": "code",
   "execution_count": 80,
   "metadata": {},
   "outputs": [],
   "source": [
    "ccolors.iloc[5] = \"a new color\""
   ]
  },
  {
   "cell_type": "code",
   "execution_count": 81,
   "metadata": {},
   "outputs": [
    {
     "data": {
      "text/plain": [
       "0    3\n",
       "1    1\n",
       "2    0\n",
       "3    3\n",
       "4    0\n",
       "5    5\n",
       "6    4\n",
       "7    1\n",
       "8    4\n",
       "9    2\n",
       "dtype: int8"
      ]
     },
     "execution_count": 81,
     "metadata": {},
     "output_type": "execute_result"
    }
   ],
   "source": [
    "ccolors.cat.codes"
   ]
  },
  {
   "cell_type": "markdown",
   "metadata": {},
   "source": [
    "## Example: Using The Pandas Category Data Type"
   ]
  },
  {
   "cell_type": "markdown",
   "metadata": {},
   "source": [
    "### Data Preparation"
   ]
  },
  {
   "cell_type": "markdown",
   "metadata": {},
   "source": [
    "First, set up imports and read in all the data:"
   ]
  },
  {
   "cell_type": "code",
   "execution_count": 82,
   "metadata": {},
   "outputs": [],
   "source": [
    "df_raw = pd.read_csv('data/category_example_data.csv', low_memory=False)"
   ]
  },
  {
   "cell_type": "code",
   "execution_count": 83,
   "metadata": {},
   "outputs": [
    {
     "name": "stdout",
     "output_type": "stream",
     "text": [
      "<class 'pandas.core.frame.DataFrame'>\n",
      "RangeIndex: 99999 entries, 0 to 99998\n",
      "Columns: 176 entries, Change_Type to Context_of_Research\n",
      "dtypes: float64(43), int64(3), object(130)\n",
      "memory usage: 565.7 MB\n"
     ]
    }
   ],
   "source": [
    "df_raw.info(memory_usage='deep')"
   ]
  },
  {
   "cell_type": "code",
   "execution_count": 84,
   "metadata": {},
   "outputs": [
    {
     "data": {
      "text/html": [
       "<div>\n",
       "<style scoped>\n",
       "    .dataframe tbody tr th:only-of-type {\n",
       "        vertical-align: middle;\n",
       "    }\n",
       "\n",
       "    .dataframe tbody tr th {\n",
       "        vertical-align: top;\n",
       "    }\n",
       "\n",
       "    .dataframe thead th {\n",
       "        text-align: right;\n",
       "    }\n",
       "</style>\n",
       "<table border=\"1\" class=\"dataframe\">\n",
       "  <thead>\n",
       "    <tr style=\"text-align: right;\">\n",
       "      <th></th>\n",
       "      <th>Change_Type</th>\n",
       "      <th>Covered_Recipient_Type</th>\n",
       "      <th>Noncovered_Recipient_Entity_Name</th>\n",
       "      <th>Teaching_Hospital_CCN</th>\n",
       "      <th>Teaching_Hospital_ID</th>\n",
       "      <th>Teaching_Hospital_Name</th>\n",
       "      <th>Physician_Profile_ID</th>\n",
       "      <th>Physician_First_Name</th>\n",
       "      <th>Physician_Middle_Name</th>\n",
       "      <th>Physician_Last_Name</th>\n",
       "      <th>...</th>\n",
       "      <th>Preclinical_Research_Indicator</th>\n",
       "      <th>Delay_in_Publication_Indicator</th>\n",
       "      <th>Name_of_Study</th>\n",
       "      <th>Dispute_Status_for_Publication</th>\n",
       "      <th>Record_ID</th>\n",
       "      <th>Program_Year</th>\n",
       "      <th>Payment_Publication_Date</th>\n",
       "      <th>ClinicalTrials_Gov_Identifier</th>\n",
       "      <th>Research_Information_Link</th>\n",
       "      <th>Context_of_Research</th>\n",
       "    </tr>\n",
       "  </thead>\n",
       "  <tbody>\n",
       "    <tr>\n",
       "      <th>0</th>\n",
       "      <td>UNCHANGED</td>\n",
       "      <td>Covered Recipient Teaching Hospital</td>\n",
       "      <td>NaN</td>\n",
       "      <td>110079.0</td>\n",
       "      <td>5085.0</td>\n",
       "      <td>GRADY MEMORIAL HOSPITAL</td>\n",
       "      <td>NaN</td>\n",
       "      <td>NaN</td>\n",
       "      <td>NaN</td>\n",
       "      <td>NaN</td>\n",
       "      <td>...</td>\n",
       "      <td>No</td>\n",
       "      <td>No</td>\n",
       "      <td>PCYC-1134M-CA</td>\n",
       "      <td>No</td>\n",
       "      <td>493381041</td>\n",
       "      <td>2017</td>\n",
       "      <td>06/28/2019</td>\n",
       "      <td>NaN</td>\n",
       "      <td>NaN</td>\n",
       "      <td>informCLL A Disease Registry for Patients with...</td>\n",
       "    </tr>\n",
       "    <tr>\n",
       "      <th>1</th>\n",
       "      <td>UNCHANGED</td>\n",
       "      <td>Covered Recipient Teaching Hospital</td>\n",
       "      <td>NaN</td>\n",
       "      <td>520078.0</td>\n",
       "      <td>5350.0</td>\n",
       "      <td>ST. FRANCIS HOSPITAL</td>\n",
       "      <td>NaN</td>\n",
       "      <td>NaN</td>\n",
       "      <td>NaN</td>\n",
       "      <td>NaN</td>\n",
       "      <td>...</td>\n",
       "      <td>No</td>\n",
       "      <td>No</td>\n",
       "      <td>Dimethyl Fumarate (DMF) Observational Study</td>\n",
       "      <td>No</td>\n",
       "      <td>455805444</td>\n",
       "      <td>2017</td>\n",
       "      <td>06/28/2019</td>\n",
       "      <td>NaN</td>\n",
       "      <td>NaN</td>\n",
       "      <td>NaN</td>\n",
       "    </tr>\n",
       "    <tr>\n",
       "      <th>2</th>\n",
       "      <td>UNCHANGED</td>\n",
       "      <td>Covered Recipient Physician</td>\n",
       "      <td>NaN</td>\n",
       "      <td>NaN</td>\n",
       "      <td>NaN</td>\n",
       "      <td>NaN</td>\n",
       "      <td>296787.0</td>\n",
       "      <td>BERNARD</td>\n",
       "      <td>N</td>\n",
       "      <td>STULBERG</td>\n",
       "      <td>...</td>\n",
       "      <td>No</td>\n",
       "      <td>No</td>\n",
       "      <td>COC</td>\n",
       "      <td>No</td>\n",
       "      <td>501931627</td>\n",
       "      <td>2017</td>\n",
       "      <td>06/28/2019</td>\n",
       "      <td>NaN</td>\n",
       "      <td>NaN</td>\n",
       "      <td>NaN</td>\n",
       "    </tr>\n",
       "    <tr>\n",
       "      <th>3</th>\n",
       "      <td>UNCHANGED</td>\n",
       "      <td>Covered Recipient Teaching Hospital</td>\n",
       "      <td>NaN</td>\n",
       "      <td>460009.0</td>\n",
       "      <td>5865.0</td>\n",
       "      <td>U OF U HOSPITALS &amp; CLINICS</td>\n",
       "      <td>NaN</td>\n",
       "      <td>NaN</td>\n",
       "      <td>NaN</td>\n",
       "      <td>NaN</td>\n",
       "      <td>...</td>\n",
       "      <td>No</td>\n",
       "      <td>No</td>\n",
       "      <td>PALLASPALBOCICLIB COLLABORATIVE ADJUVANT STUDY...</td>\n",
       "      <td>No</td>\n",
       "      <td>501847091</td>\n",
       "      <td>2017</td>\n",
       "      <td>06/28/2019</td>\n",
       "      <td>NaN</td>\n",
       "      <td>NaN</td>\n",
       "      <td>NaN</td>\n",
       "    </tr>\n",
       "    <tr>\n",
       "      <th>4</th>\n",
       "      <td>UNCHANGED</td>\n",
       "      <td>Covered Recipient Teaching Hospital</td>\n",
       "      <td>NaN</td>\n",
       "      <td>70033.0</td>\n",
       "      <td>4822.0</td>\n",
       "      <td>DANBURY HOSPITAL</td>\n",
       "      <td>NaN</td>\n",
       "      <td>NaN</td>\n",
       "      <td>NaN</td>\n",
       "      <td>NaN</td>\n",
       "      <td>...</td>\n",
       "      <td>No</td>\n",
       "      <td>No</td>\n",
       "      <td>LSS OF 4 SITE</td>\n",
       "      <td>No</td>\n",
       "      <td>446594329</td>\n",
       "      <td>2017</td>\n",
       "      <td>06/28/2019</td>\n",
       "      <td>NCT02097290</td>\n",
       "      <td>NaN</td>\n",
       "      <td>NaN</td>\n",
       "    </tr>\n",
       "  </tbody>\n",
       "</table>\n",
       "<p>5 rows × 176 columns</p>\n",
       "</div>"
      ],
      "text/plain": [
       "  Change_Type               Covered_Recipient_Type  \\\n",
       "0   UNCHANGED  Covered Recipient Teaching Hospital   \n",
       "1   UNCHANGED  Covered Recipient Teaching Hospital   \n",
       "2   UNCHANGED          Covered Recipient Physician   \n",
       "3   UNCHANGED  Covered Recipient Teaching Hospital   \n",
       "4   UNCHANGED  Covered Recipient Teaching Hospital   \n",
       "\n",
       "   Noncovered_Recipient_Entity_Name  Teaching_Hospital_CCN  \\\n",
       "0                               NaN               110079.0   \n",
       "1                               NaN               520078.0   \n",
       "2                               NaN                    NaN   \n",
       "3                               NaN               460009.0   \n",
       "4                               NaN                70033.0   \n",
       "\n",
       "   Teaching_Hospital_ID      Teaching_Hospital_Name  Physician_Profile_ID  \\\n",
       "0                5085.0     GRADY MEMORIAL HOSPITAL                   NaN   \n",
       "1                5350.0        ST. FRANCIS HOSPITAL                   NaN   \n",
       "2                   NaN                         NaN              296787.0   \n",
       "3                5865.0  U OF U HOSPITALS & CLINICS                   NaN   \n",
       "4                4822.0            DANBURY HOSPITAL                   NaN   \n",
       "\n",
       "  Physician_First_Name Physician_Middle_Name Physician_Last_Name  ...  \\\n",
       "0                  NaN                   NaN                 NaN  ...   \n",
       "1                  NaN                   NaN                 NaN  ...   \n",
       "2              BERNARD                     N            STULBERG  ...   \n",
       "3                  NaN                   NaN                 NaN  ...   \n",
       "4                  NaN                   NaN                 NaN  ...   \n",
       "\n",
       "  Preclinical_Research_Indicator Delay_in_Publication_Indicator  \\\n",
       "0                             No                             No   \n",
       "1                             No                             No   \n",
       "2                             No                             No   \n",
       "3                             No                             No   \n",
       "4                             No                             No   \n",
       "\n",
       "                                       Name_of_Study  \\\n",
       "0                                      PCYC-1134M-CA   \n",
       "1        Dimethyl Fumarate (DMF) Observational Study   \n",
       "2                                                COC   \n",
       "3  PALLASPALBOCICLIB COLLABORATIVE ADJUVANT STUDY...   \n",
       "4                                      LSS OF 4 SITE   \n",
       "\n",
       "  Dispute_Status_for_Publication  Record_ID Program_Year  \\\n",
       "0                             No  493381041         2017   \n",
       "1                             No  455805444         2017   \n",
       "2                             No  501931627         2017   \n",
       "3                             No  501847091         2017   \n",
       "4                             No  446594329         2017   \n",
       "\n",
       "  Payment_Publication_Date  ClinicalTrials_Gov_Identifier  \\\n",
       "0               06/28/2019                            NaN   \n",
       "1               06/28/2019                            NaN   \n",
       "2               06/28/2019                            NaN   \n",
       "3               06/28/2019                            NaN   \n",
       "4               06/28/2019                    NCT02097290   \n",
       "\n",
       "   Research_Information_Link  \\\n",
       "0                        NaN   \n",
       "1                        NaN   \n",
       "2                        NaN   \n",
       "3                        NaN   \n",
       "4                        NaN   \n",
       "\n",
       "                                 Context_of_Research  \n",
       "0  informCLL A Disease Registry for Patients with...  \n",
       "1                                                NaN  \n",
       "2                                                NaN  \n",
       "3                                                NaN  \n",
       "4                                                NaN  \n",
       "\n",
       "[5 rows x 176 columns]"
      ]
     },
     "execution_count": 84,
     "metadata": {},
     "output_type": "execute_result"
    }
   ],
   "source": [
    "df_raw.head(5)"
   ]
  },
  {
   "cell_type": "code",
   "execution_count": 86,
   "metadata": {},
   "outputs": [
    {
     "name": "stdout",
     "output_type": "stream",
     "text": [
      "<class 'pandas.core.frame.DataFrame'>\n",
      "RangeIndex: 99999 entries, 0 to 99998\n",
      "Columns: 176 entries, Change_Type to Context_of_Research\n",
      "dtypes: float64(43), int64(3), object(130)\n",
      "memory usage: 134.3+ MB\n"
     ]
    }
   ],
   "source": [
    "df_raw.info()"
   ]
  },
  {
   "cell_type": "code",
   "execution_count": 88,
   "metadata": {},
   "outputs": [],
   "source": [
    "drop_thresh = df_raw.shape[0]*0.9"
   ]
  },
  {
   "cell_type": "code",
   "execution_count": 89,
   "metadata": {},
   "outputs": [
    {
     "data": {
      "text/plain": [
       "89999.1"
      ]
     },
     "execution_count": 89,
     "metadata": {},
     "output_type": "execute_result"
    }
   ],
   "source": [
    "drop_thresh"
   ]
  },
  {
   "cell_type": "code",
   "execution_count": 90,
   "metadata": {},
   "outputs": [],
   "source": [
    "df = df_raw.dropna(thresh=drop_thresh, how=\"all\",axis=\"columns\").copy()"
   ]
  },
  {
   "cell_type": "code",
   "execution_count": 93,
   "metadata": {},
   "outputs": [
    {
     "name": "stdout",
     "output_type": "stream",
     "text": [
      "<class 'pandas.core.frame.DataFrame'>\n",
      "RangeIndex: 99999 entries, 0 to 99998\n",
      "Data columns (total 23 columns):\n",
      " #   Column                                                            Non-Null Count  Dtype  \n",
      "---  ------                                                            --------------  -----  \n",
      " 0   Change_Type                                                       99999 non-null  object \n",
      " 1   Covered_Recipient_Type                                            99999 non-null  object \n",
      " 2   Recipient_Primary_Business_Street_Address_Line1                   99999 non-null  object \n",
      " 3   Recipient_City                                                    99999 non-null  object \n",
      " 4   Recipient_State                                                   99999 non-null  object \n",
      " 5   Recipient_Zip_Code                                                99999 non-null  object \n",
      " 6   Recipient_Country                                                 99999 non-null  object \n",
      " 7   Submitting_Applicable_Manufacturer_or_Applicable_GPO_Name         99999 non-null  object \n",
      " 8   Applicable_Manufacturer_or_Applicable_GPO_Making_Payment_ID       99999 non-null  int64  \n",
      " 9   Applicable_Manufacturer_or_Applicable_GPO_Making_Payment_Name     99999 non-null  object \n",
      " 10  Applicable_Manufacturer_or_Applicable_GPO_Making_Payment_State    95135 non-null  object \n",
      " 11  Applicable_Manufacturer_or_Applicable_GPO_Making_Payment_Country  99999 non-null  object \n",
      " 12  Related_Product_Indicator                                         99999 non-null  object \n",
      " 13  Total_Amount_of_Payment_USDollars                                 99999 non-null  float64\n",
      " 14  Date_of_Payment                                                   99999 non-null  object \n",
      " 15  Form_of_Payment_or_Transfer_of_Value                              99999 non-null  object \n",
      " 16  Preclinical_Research_Indicator                                    99999 non-null  object \n",
      " 17  Delay_in_Publication_Indicator                                    99999 non-null  object \n",
      " 18  Name_of_Study                                                     97572 non-null  object \n",
      " 19  Dispute_Status_for_Publication                                    99999 non-null  object \n",
      " 20  Record_ID                                                         99999 non-null  int64  \n",
      " 21  Program_Year                                                      99999 non-null  int64  \n",
      " 22  Payment_Publication_Date                                          99999 non-null  object \n",
      "dtypes: float64(1), int64(3), object(19)\n",
      "memory usage: 135.4 MB\n"
     ]
    }
   ],
   "source": [
    "df.info(memory_usage=\"deep\")"
   ]
  },
  {
   "cell_type": "code",
   "execution_count": 94,
   "metadata": {},
   "outputs": [],
   "source": [
    "temp = [ (col, df[col].nunique()) for col in df.columns]"
   ]
  },
  {
   "cell_type": "code",
   "execution_count": 95,
   "metadata": {},
   "outputs": [
    {
     "data": {
      "text/plain": [
       "[('Change_Type', 4),\n",
       " ('Covered_Recipient_Type', 2),\n",
       " ('Recipient_Primary_Business_Street_Address_Line1', 6501),\n",
       " ('Recipient_City', 1874),\n",
       " ('Recipient_State', 52),\n",
       " ('Recipient_Zip_Code', 3983),\n",
       " ('Recipient_Country', 1),\n",
       " ('Submitting_Applicable_Manufacturer_or_Applicable_GPO_Name', 465),\n",
       " ('Applicable_Manufacturer_or_Applicable_GPO_Making_Payment_ID', 520),\n",
       " ('Applicable_Manufacturer_or_Applicable_GPO_Making_Payment_Name', 525),\n",
       " ('Applicable_Manufacturer_or_Applicable_GPO_Making_Payment_State', 34),\n",
       " ('Applicable_Manufacturer_or_Applicable_GPO_Making_Payment_Country', 18),\n",
       " ('Related_Product_Indicator', 2),\n",
       " ('Total_Amount_of_Payment_USDollars', 34695),\n",
       " ('Date_of_Payment', 361),\n",
       " ('Form_of_Payment_or_Transfer_of_Value', 3),\n",
       " ('Preclinical_Research_Indicator', 2),\n",
       " ('Delay_in_Publication_Indicator', 1),\n",
       " ('Name_of_Study', 7123),\n",
       " ('Dispute_Status_for_Publication', 2),\n",
       " ('Record_ID', 99999),\n",
       " ('Program_Year', 1),\n",
       " ('Payment_Publication_Date', 1)]"
      ]
     },
     "execution_count": 95,
     "metadata": {},
     "output_type": "execute_result"
    }
   ],
   "source": [
    "temp"
   ]
  },
  {
   "cell_type": "code",
   "execution_count": 96,
   "metadata": {},
   "outputs": [
    {
     "data": {
      "text/plain": [
       "[('Recipient_Country', 1),\n",
       " ('Delay_in_Publication_Indicator', 1),\n",
       " ('Program_Year', 1),\n",
       " ('Payment_Publication_Date', 1),\n",
       " ('Covered_Recipient_Type', 2),\n",
       " ('Related_Product_Indicator', 2),\n",
       " ('Preclinical_Research_Indicator', 2),\n",
       " ('Dispute_Status_for_Publication', 2),\n",
       " ('Form_of_Payment_or_Transfer_of_Value', 3),\n",
       " ('Change_Type', 4),\n",
       " ('Applicable_Manufacturer_or_Applicable_GPO_Making_Payment_Country', 18),\n",
       " ('Applicable_Manufacturer_or_Applicable_GPO_Making_Payment_State', 34),\n",
       " ('Recipient_State', 52),\n",
       " ('Date_of_Payment', 361),\n",
       " ('Submitting_Applicable_Manufacturer_or_Applicable_GPO_Name', 465),\n",
       " ('Applicable_Manufacturer_or_Applicable_GPO_Making_Payment_ID', 520),\n",
       " ('Applicable_Manufacturer_or_Applicable_GPO_Making_Payment_Name', 525),\n",
       " ('Recipient_City', 1874),\n",
       " ('Recipient_Zip_Code', 3983),\n",
       " ('Recipient_Primary_Business_Street_Address_Line1', 6501),\n",
       " ('Name_of_Study', 7123),\n",
       " ('Total_Amount_of_Payment_USDollars', 34695),\n",
       " ('Record_ID', 99999)]"
      ]
     },
     "execution_count": 96,
     "metadata": {},
     "output_type": "execute_result"
    }
   ],
   "source": [
    "sorted(temp,key=lambda x: x[1])"
   ]
  },
  {
   "cell_type": "markdown",
   "metadata": {},
   "source": [
    "> [pandas.DataFrame.from_records](https://pandas.pydata.org/pandas-docs/stable/reference/api/pandas.DataFrame.from_records.html)"
   ]
  },
  {
   "cell_type": "code",
   "execution_count": 101,
   "metadata": {},
   "outputs": [],
   "source": [
    "unique_counts = pd.DataFrame.from_records([(col, df[col].nunique()) for col in df.columns],\n",
    "                                         columns=['Column_Name', 'Num_Unique'])"
   ]
  },
  {
   "cell_type": "code",
   "execution_count": 100,
   "metadata": {},
   "outputs": [
    {
     "data": {
      "text/html": [
       "<div>\n",
       "<style scoped>\n",
       "    .dataframe tbody tr th:only-of-type {\n",
       "        vertical-align: middle;\n",
       "    }\n",
       "\n",
       "    .dataframe tbody tr th {\n",
       "        vertical-align: top;\n",
       "    }\n",
       "\n",
       "    .dataframe thead th {\n",
       "        text-align: right;\n",
       "    }\n",
       "</style>\n",
       "<table border=\"1\" class=\"dataframe\">\n",
       "  <thead>\n",
       "    <tr style=\"text-align: right;\">\n",
       "      <th></th>\n",
       "      <th>Column_Name</th>\n",
       "      <th>Num_Unique</th>\n",
       "    </tr>\n",
       "  </thead>\n",
       "  <tbody>\n",
       "    <tr>\n",
       "      <th>0</th>\n",
       "      <td>Change_Type</td>\n",
       "      <td>4</td>\n",
       "    </tr>\n",
       "    <tr>\n",
       "      <th>1</th>\n",
       "      <td>Covered_Recipient_Type</td>\n",
       "      <td>2</td>\n",
       "    </tr>\n",
       "    <tr>\n",
       "      <th>2</th>\n",
       "      <td>Recipient_Primary_Business_Street_Address_Line1</td>\n",
       "      <td>6501</td>\n",
       "    </tr>\n",
       "    <tr>\n",
       "      <th>3</th>\n",
       "      <td>Recipient_City</td>\n",
       "      <td>1874</td>\n",
       "    </tr>\n",
       "    <tr>\n",
       "      <th>4</th>\n",
       "      <td>Recipient_State</td>\n",
       "      <td>52</td>\n",
       "    </tr>\n",
       "    <tr>\n",
       "      <th>5</th>\n",
       "      <td>Recipient_Zip_Code</td>\n",
       "      <td>3983</td>\n",
       "    </tr>\n",
       "    <tr>\n",
       "      <th>6</th>\n",
       "      <td>Recipient_Country</td>\n",
       "      <td>1</td>\n",
       "    </tr>\n",
       "    <tr>\n",
       "      <th>7</th>\n",
       "      <td>Submitting_Applicable_Manufacturer_or_Applicab...</td>\n",
       "      <td>465</td>\n",
       "    </tr>\n",
       "    <tr>\n",
       "      <th>8</th>\n",
       "      <td>Applicable_Manufacturer_or_Applicable_GPO_Maki...</td>\n",
       "      <td>520</td>\n",
       "    </tr>\n",
       "    <tr>\n",
       "      <th>9</th>\n",
       "      <td>Applicable_Manufacturer_or_Applicable_GPO_Maki...</td>\n",
       "      <td>525</td>\n",
       "    </tr>\n",
       "    <tr>\n",
       "      <th>10</th>\n",
       "      <td>Applicable_Manufacturer_or_Applicable_GPO_Maki...</td>\n",
       "      <td>34</td>\n",
       "    </tr>\n",
       "    <tr>\n",
       "      <th>11</th>\n",
       "      <td>Applicable_Manufacturer_or_Applicable_GPO_Maki...</td>\n",
       "      <td>18</td>\n",
       "    </tr>\n",
       "    <tr>\n",
       "      <th>12</th>\n",
       "      <td>Related_Product_Indicator</td>\n",
       "      <td>2</td>\n",
       "    </tr>\n",
       "    <tr>\n",
       "      <th>13</th>\n",
       "      <td>Total_Amount_of_Payment_USDollars</td>\n",
       "      <td>34695</td>\n",
       "    </tr>\n",
       "    <tr>\n",
       "      <th>14</th>\n",
       "      <td>Date_of_Payment</td>\n",
       "      <td>361</td>\n",
       "    </tr>\n",
       "    <tr>\n",
       "      <th>15</th>\n",
       "      <td>Form_of_Payment_or_Transfer_of_Value</td>\n",
       "      <td>3</td>\n",
       "    </tr>\n",
       "    <tr>\n",
       "      <th>16</th>\n",
       "      <td>Preclinical_Research_Indicator</td>\n",
       "      <td>2</td>\n",
       "    </tr>\n",
       "    <tr>\n",
       "      <th>17</th>\n",
       "      <td>Delay_in_Publication_Indicator</td>\n",
       "      <td>1</td>\n",
       "    </tr>\n",
       "    <tr>\n",
       "      <th>18</th>\n",
       "      <td>Name_of_Study</td>\n",
       "      <td>7123</td>\n",
       "    </tr>\n",
       "    <tr>\n",
       "      <th>19</th>\n",
       "      <td>Dispute_Status_for_Publication</td>\n",
       "      <td>2</td>\n",
       "    </tr>\n",
       "    <tr>\n",
       "      <th>20</th>\n",
       "      <td>Record_ID</td>\n",
       "      <td>99999</td>\n",
       "    </tr>\n",
       "    <tr>\n",
       "      <th>21</th>\n",
       "      <td>Program_Year</td>\n",
       "      <td>1</td>\n",
       "    </tr>\n",
       "    <tr>\n",
       "      <th>22</th>\n",
       "      <td>Payment_Publication_Date</td>\n",
       "      <td>1</td>\n",
       "    </tr>\n",
       "  </tbody>\n",
       "</table>\n",
       "</div>"
      ],
      "text/plain": [
       "                                          Column_Name  Num_Unique\n",
       "0                                         Change_Type           4\n",
       "1                              Covered_Recipient_Type           2\n",
       "2     Recipient_Primary_Business_Street_Address_Line1        6501\n",
       "3                                      Recipient_City        1874\n",
       "4                                     Recipient_State          52\n",
       "5                                  Recipient_Zip_Code        3983\n",
       "6                                   Recipient_Country           1\n",
       "7   Submitting_Applicable_Manufacturer_or_Applicab...         465\n",
       "8   Applicable_Manufacturer_or_Applicable_GPO_Maki...         520\n",
       "9   Applicable_Manufacturer_or_Applicable_GPO_Maki...         525\n",
       "10  Applicable_Manufacturer_or_Applicable_GPO_Maki...          34\n",
       "11  Applicable_Manufacturer_or_Applicable_GPO_Maki...          18\n",
       "12                          Related_Product_Indicator           2\n",
       "13                  Total_Amount_of_Payment_USDollars       34695\n",
       "14                                    Date_of_Payment         361\n",
       "15               Form_of_Payment_or_Transfer_of_Value           3\n",
       "16                     Preclinical_Research_Indicator           2\n",
       "17                     Delay_in_Publication_Indicator           1\n",
       "18                                      Name_of_Study        7123\n",
       "19                     Dispute_Status_for_Publication           2\n",
       "20                                          Record_ID       99999\n",
       "21                                       Program_Year           1\n",
       "22                           Payment_Publication_Date           1"
      ]
     },
     "execution_count": 100,
     "metadata": {},
     "output_type": "execute_result"
    }
   ],
   "source": [
    "unique_counts"
   ]
  },
  {
   "cell_type": "code",
   "execution_count": 102,
   "metadata": {},
   "outputs": [],
   "source": [
    "unique_counts.sort_values(by=[\"Num_Unique\"],inplace=True)"
   ]
  },
  {
   "cell_type": "code",
   "execution_count": 103,
   "metadata": {},
   "outputs": [
    {
     "data": {
      "text/html": [
       "<div>\n",
       "<style scoped>\n",
       "    .dataframe tbody tr th:only-of-type {\n",
       "        vertical-align: middle;\n",
       "    }\n",
       "\n",
       "    .dataframe tbody tr th {\n",
       "        vertical-align: top;\n",
       "    }\n",
       "\n",
       "    .dataframe thead th {\n",
       "        text-align: right;\n",
       "    }\n",
       "</style>\n",
       "<table border=\"1\" class=\"dataframe\">\n",
       "  <thead>\n",
       "    <tr style=\"text-align: right;\">\n",
       "      <th></th>\n",
       "      <th>Column_Name</th>\n",
       "      <th>Num_Unique</th>\n",
       "    </tr>\n",
       "  </thead>\n",
       "  <tbody>\n",
       "    <tr>\n",
       "      <th>22</th>\n",
       "      <td>Payment_Publication_Date</td>\n",
       "      <td>1</td>\n",
       "    </tr>\n",
       "    <tr>\n",
       "      <th>17</th>\n",
       "      <td>Delay_in_Publication_Indicator</td>\n",
       "      <td>1</td>\n",
       "    </tr>\n",
       "    <tr>\n",
       "      <th>6</th>\n",
       "      <td>Recipient_Country</td>\n",
       "      <td>1</td>\n",
       "    </tr>\n",
       "    <tr>\n",
       "      <th>21</th>\n",
       "      <td>Program_Year</td>\n",
       "      <td>1</td>\n",
       "    </tr>\n",
       "    <tr>\n",
       "      <th>1</th>\n",
       "      <td>Covered_Recipient_Type</td>\n",
       "      <td>2</td>\n",
       "    </tr>\n",
       "    <tr>\n",
       "      <th>19</th>\n",
       "      <td>Dispute_Status_for_Publication</td>\n",
       "      <td>2</td>\n",
       "    </tr>\n",
       "    <tr>\n",
       "      <th>16</th>\n",
       "      <td>Preclinical_Research_Indicator</td>\n",
       "      <td>2</td>\n",
       "    </tr>\n",
       "    <tr>\n",
       "      <th>12</th>\n",
       "      <td>Related_Product_Indicator</td>\n",
       "      <td>2</td>\n",
       "    </tr>\n",
       "    <tr>\n",
       "      <th>15</th>\n",
       "      <td>Form_of_Payment_or_Transfer_of_Value</td>\n",
       "      <td>3</td>\n",
       "    </tr>\n",
       "    <tr>\n",
       "      <th>0</th>\n",
       "      <td>Change_Type</td>\n",
       "      <td>4</td>\n",
       "    </tr>\n",
       "    <tr>\n",
       "      <th>11</th>\n",
       "      <td>Applicable_Manufacturer_or_Applicable_GPO_Maki...</td>\n",
       "      <td>18</td>\n",
       "    </tr>\n",
       "    <tr>\n",
       "      <th>10</th>\n",
       "      <td>Applicable_Manufacturer_or_Applicable_GPO_Maki...</td>\n",
       "      <td>34</td>\n",
       "    </tr>\n",
       "    <tr>\n",
       "      <th>4</th>\n",
       "      <td>Recipient_State</td>\n",
       "      <td>52</td>\n",
       "    </tr>\n",
       "    <tr>\n",
       "      <th>14</th>\n",
       "      <td>Date_of_Payment</td>\n",
       "      <td>361</td>\n",
       "    </tr>\n",
       "    <tr>\n",
       "      <th>7</th>\n",
       "      <td>Submitting_Applicable_Manufacturer_or_Applicab...</td>\n",
       "      <td>465</td>\n",
       "    </tr>\n",
       "    <tr>\n",
       "      <th>8</th>\n",
       "      <td>Applicable_Manufacturer_or_Applicable_GPO_Maki...</td>\n",
       "      <td>520</td>\n",
       "    </tr>\n",
       "    <tr>\n",
       "      <th>9</th>\n",
       "      <td>Applicable_Manufacturer_or_Applicable_GPO_Maki...</td>\n",
       "      <td>525</td>\n",
       "    </tr>\n",
       "    <tr>\n",
       "      <th>3</th>\n",
       "      <td>Recipient_City</td>\n",
       "      <td>1874</td>\n",
       "    </tr>\n",
       "    <tr>\n",
       "      <th>5</th>\n",
       "      <td>Recipient_Zip_Code</td>\n",
       "      <td>3983</td>\n",
       "    </tr>\n",
       "    <tr>\n",
       "      <th>2</th>\n",
       "      <td>Recipient_Primary_Business_Street_Address_Line1</td>\n",
       "      <td>6501</td>\n",
       "    </tr>\n",
       "    <tr>\n",
       "      <th>18</th>\n",
       "      <td>Name_of_Study</td>\n",
       "      <td>7123</td>\n",
       "    </tr>\n",
       "    <tr>\n",
       "      <th>13</th>\n",
       "      <td>Total_Amount_of_Payment_USDollars</td>\n",
       "      <td>34695</td>\n",
       "    </tr>\n",
       "    <tr>\n",
       "      <th>20</th>\n",
       "      <td>Record_ID</td>\n",
       "      <td>99999</td>\n",
       "    </tr>\n",
       "  </tbody>\n",
       "</table>\n",
       "</div>"
      ],
      "text/plain": [
       "                                          Column_Name  Num_Unique\n",
       "22                           Payment_Publication_Date           1\n",
       "17                     Delay_in_Publication_Indicator           1\n",
       "6                                   Recipient_Country           1\n",
       "21                                       Program_Year           1\n",
       "1                              Covered_Recipient_Type           2\n",
       "19                     Dispute_Status_for_Publication           2\n",
       "16                     Preclinical_Research_Indicator           2\n",
       "12                          Related_Product_Indicator           2\n",
       "15               Form_of_Payment_or_Transfer_of_Value           3\n",
       "0                                         Change_Type           4\n",
       "11  Applicable_Manufacturer_or_Applicable_GPO_Maki...          18\n",
       "10  Applicable_Manufacturer_or_Applicable_GPO_Maki...          34\n",
       "4                                     Recipient_State          52\n",
       "14                                    Date_of_Payment         361\n",
       "7   Submitting_Applicable_Manufacturer_or_Applicab...         465\n",
       "8   Applicable_Manufacturer_or_Applicable_GPO_Maki...         520\n",
       "9   Applicable_Manufacturer_or_Applicable_GPO_Maki...         525\n",
       "3                                      Recipient_City        1874\n",
       "5                                  Recipient_Zip_Code        3983\n",
       "2     Recipient_Primary_Business_Street_Address_Line1        6501\n",
       "18                                      Name_of_Study        7123\n",
       "13                  Total_Amount_of_Payment_USDollars       34695\n",
       "20                                          Record_ID       99999"
      ]
     },
     "execution_count": 103,
     "metadata": {},
     "output_type": "execute_result"
    }
   ],
   "source": [
    "unique_counts"
   ]
  },
  {
   "cell_type": "code",
   "execution_count": 104,
   "metadata": {},
   "outputs": [],
   "source": [
    "cols_to_exclude = ['Program_Year', 'Payment_Publication_Date', 'Date_of_Payment']"
   ]
  },
  {
   "cell_type": "code",
   "execution_count": 105,
   "metadata": {},
   "outputs": [],
   "source": [
    "for col in df.columns:\n",
    "    if df[col].nunique() < 600 and col not in cols_to_exclude:\n",
    "        df[col] = df[col].astype('category')"
   ]
  },
  {
   "cell_type": "code",
   "execution_count": 106,
   "metadata": {},
   "outputs": [
    {
     "data": {
      "text/plain": [
       "51.826568603515625"
      ]
     },
     "execution_count": 106,
     "metadata": {},
     "output_type": "execute_result"
    }
   ],
   "source": [
    "df.memory_usage(deep=True).sum() / (1024*1024)"
   ]
  },
  {
   "cell_type": "markdown",
   "metadata": {},
   "source": [
    "### Performance"
   ]
  },
  {
   "cell_type": "markdown",
   "metadata": {},
   "source": [
    "Perform the analysis on the original input dataframe."
   ]
  },
  {
   "cell_type": "code",
   "execution_count": 107,
   "metadata": {},
   "outputs": [
    {
     "name": "stdout",
     "output_type": "stream",
     "text": [
      "19.2 ms ± 1.38 ms per loop (mean ± std. dev. of 7 runs, 100 loops each)\n"
     ]
    }
   ],
   "source": [
    "%%timeit\n",
    "df_raw.groupby('Covered_Recipient_Type')['Total_Amount_of_Payment_USDollars'].sum().to_frame()"
   ]
  },
  {
   "cell_type": "markdown",
   "metadata": {},
   "source": [
    "Now, on the dataframe with categorical data:"
   ]
  },
  {
   "cell_type": "code",
   "execution_count": 108,
   "metadata": {},
   "outputs": [
    {
     "name": "stdout",
     "output_type": "stream",
     "text": [
      "2.2 ms ± 119 µs per loop (mean ± std. dev. of 7 runs, 1000 loops each)\n"
     ]
    }
   ],
   "source": [
    "%%timeit\n",
    "df.groupby('Covered_Recipient_Type')['Total_Amount_of_Payment_USDollars'].sum().to_frame()"
   ]
  },
  {
   "cell_type": "code",
   "execution_count": 109,
   "metadata": {},
   "outputs": [
    {
     "data": {
      "text/plain": [
       "8.727272727272727"
      ]
     },
     "execution_count": 109,
     "metadata": {},
     "output_type": "execute_result"
    }
   ],
   "source": [
    "19.2/2.2"
   ]
  },
  {
   "cell_type": "markdown",
   "metadata": {},
   "source": [
    "### Watch Outs"
   ]
  },
  {
   "cell_type": "markdown",
   "metadata": {},
   "source": [
    "> The real problem is that programmers have spent far too much time worrying about efficiency in the wrong places and at the wrong times; premature optimization is the root of all evil (or at least most of it) in programming."
   ]
  },
  {
   "cell_type": "markdown",
   "metadata": {},
   "source": [
    "### General Guidelines"
   ]
  },
  {
   "cell_type": "markdown",
   "metadata": {},
   "source": [
    "\n",
    "1. Do not assume you need to convert all categorical data to the pandas category data type.\n",
    "2. If the data set starts to approach an appreciable percentage of your useable memory, then consider using categorical data types.\n",
    "3. If you have very significant performance concerns with operations that are executed frequently, look at using categorical data.\n",
    "4. If you are using categorical data, add some checks to make sure the data is clean and complete before converting to the pandas category type. Additionally, check for NaN values after combining or converting dataframes.\n"
   ]
  }
 ],
 "metadata": {
  "kernelspec": {
   "display_name": "Python 3 (ipykernel)",
   "language": "python",
   "name": "python3"
  },
  "language_info": {
   "codemirror_mode": {
    "name": "ipython",
    "version": 3
   },
   "file_extension": ".py",
   "mimetype": "text/x-python",
   "name": "python",
   "nbconvert_exporter": "python",
   "pygments_lexer": "ipython3",
   "version": "3.9.4"
  }
 },
 "nbformat": 4,
 "nbformat_minor": 2
}
